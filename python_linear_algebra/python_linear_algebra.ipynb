{
 "cells": [
  {
   "cell_type": "code",
   "execution_count": 1,
   "metadata": {},
   "outputs": [],
   "source": [
    "import numpy as np\n",
    "import sympy as sp"
   ]
  },
  {
   "cell_type": "code",
   "execution_count": 2,
   "metadata": {},
   "outputs": [
    {
     "data": {
      "text/plain": [
       "array([[-4, -6],\n",
       "       [-6,  0]])"
      ]
     },
     "execution_count": 2,
     "metadata": {},
     "output_type": "execute_result"
    }
   ],
   "source": [
    "a = np.array([[1, 2, -1], [3, 1, 0]])\n",
    "b = np.array([[-2, 1], [0, -3], [2, 1]])\n",
    "np.dot(a, b)"
   ]
  },
  {
   "cell_type": "code",
   "execution_count": 3,
   "metadata": {},
   "outputs": [
    {
     "data": {
      "text/plain": [
       "array([[1, 0, 0],\n",
       "       [0, 1, 0],\n",
       "       [0, 0, 1]])"
      ]
     },
     "execution_count": 3,
     "metadata": {},
     "output_type": "execute_result"
    }
   ],
   "source": [
    "a = np.array([[1, 0, 0],\n",
    "[0, 1, 0],\n",
    "[-2, 0, 1]])\n",
    "b = np.array([[1, 0, 0],\n",
    "[0, 1, 0],\n",
    "[2, 0, 1]])\n",
    "np.dot(a, b)"
   ]
  },
  {
   "cell_type": "code",
   "execution_count": 4,
   "metadata": {},
   "outputs": [
    {
     "data": {
      "text/plain": [
       "1.999999999999998"
      ]
     },
     "execution_count": 4,
     "metadata": {},
     "output_type": "execute_result"
    }
   ],
   "source": [
    "a = np.array([[4, 3], [6, 5]])\n",
    "np.linalg.det(a)"
   ]
  },
  {
   "cell_type": "code",
   "execution_count": 5,
   "metadata": {},
   "outputs": [
    {
     "data": {
      "text/plain": [
       "array([[ 4.],\n",
       "       [ 3.],\n",
       "       [-5.],\n",
       "       [ 1.]])"
      ]
     },
     "execution_count": 5,
     "metadata": {},
     "output_type": "execute_result"
    }
   ],
   "source": [
    "a = np.array([[1, 1, 1, 1], [1, 2, 4, 8], [1, 3, 9, 27], [1, 4, 16, 64]])\n",
    "b = np.array([[3, -2, -5, 0]]).reshape(-1, 1)\n",
    "np.dot(np.linalg.inv(a), b)"
   ]
  },
  {
   "cell_type": "code",
   "execution_count": 6,
   "metadata": {},
   "outputs": [
    {
     "data": {
      "text/plain": [
       "57.00000000000001"
      ]
     },
     "execution_count": 6,
     "metadata": {},
     "output_type": "execute_result"
    }
   ],
   "source": [
    "a = np.array([[3, 7, 1], [-2, 1, 1], [5, -2, 1]])\n",
    "np.linalg.det(a)"
   ]
  },
  {
   "cell_type": "code",
   "execution_count": 7,
   "metadata": {},
   "outputs": [
    {
     "data": {
      "text/plain": [
       "-2"
      ]
     },
     "execution_count": 7,
     "metadata": {},
     "output_type": "execute_result"
    }
   ],
   "source": [
    "a = np.array([[-1, 2, 3, -1]]).reshape(-1, 1)\n",
    "b = np.array([[2, 1, 0, 2]]).reshape(-1, 1)\n",
    "inner_product = 0\n",
    "for comp in zip(a, b):\n",
    "    inner_product += comp[0] * comp[1]\n",
    "int(inner_product)"
   ]
  },
  {
   "cell_type": "code",
   "execution_count": 8,
   "metadata": {},
   "outputs": [
    {
     "data": {
      "text/plain": [
       "(array([[1.5],\n",
       "        [3.5]]),\n",
       " array([[ 3.5],\n",
       "        [-0.5]]),\n",
       " array([[5.],\n",
       "        [3.]]))"
      ]
     },
     "execution_count": 8,
     "metadata": {},
     "output_type": "execute_result"
    }
   ],
   "source": [
    "t1 = np.array([1, 1]).reshape(-1, 1)\n",
    "t2 = np.array([1, -1]).reshape(-1, 1)\n",
    "t = np.hstack([t1, t2])\n",
    "x = np.array([5, -2]).reshape(-1, 1)\n",
    "y = np.array([3, 4]).reshape(-1, 1)\n",
    "np.dot(np.linalg.inv(t), x), np.dot(np.linalg.inv(t), y), np.dot(np.linalg.inv(t), x + y)"
   ]
  },
  {
   "cell_type": "code",
   "execution_count": 9,
   "metadata": {},
   "outputs": [
    {
     "data": {
      "text/plain": [
       "array([[ 2.51428571],\n",
       "       [-2.85714286],\n",
       "       [ 5.6       ]])"
      ]
     },
     "execution_count": 9,
     "metadata": {},
     "output_type": "execute_result"
    }
   ],
   "source": [
    "A = np.array([[1, 1, 2], [3, 4, 1], [3, 7, 1], [4, 2, 3]])\n",
    "b = np.array([11, 2, -7, 21]).reshape(-1, 1)\n",
    "np.dot(np.dot(np.linalg.inv(np.dot(A.transpose(), A)), A.transpose()), b)"
   ]
  },
  {
   "cell_type": "code",
   "execution_count": 10,
   "metadata": {},
   "outputs": [
    {
     "data": {
      "text/plain": [
       "-27.0"
      ]
     },
     "execution_count": 10,
     "metadata": {},
     "output_type": "execute_result"
    }
   ],
   "source": [
    "a = np.array([[1, 2, 2], [1, 2, -1], [3, -3, 0]])\n",
    "np.linalg.det(a)"
   ]
  },
  {
   "cell_type": "code",
   "execution_count": 11,
   "metadata": {},
   "outputs": [
    {
     "data": {
      "text/plain": [
       "-0.9999999999999998"
      ]
     },
     "execution_count": 11,
     "metadata": {},
     "output_type": "execute_result"
    }
   ],
   "source": [
    "a = np.array([[4, 1], [5, 1]])\n",
    "np.linalg.det(a)"
   ]
  },
  {
   "cell_type": "code",
   "execution_count": 12,
   "metadata": {},
   "outputs": [],
   "source": [
    "a = np.array([[1, 1, 1, 0], [1, 1, 0, 1], [1, 1, 2, -1]]).transpose()"
   ]
  },
  {
   "cell_type": "code",
   "execution_count": 13,
   "metadata": {},
   "outputs": [
    {
     "data": {
      "text/plain": [
       "array([[ 0.5 ,  0.  ,  0.  ],\n",
       "       [-0.25,  0.5 ,  0.5 ],\n",
       "       [-1.75,  0.5 , -0.5 ]])"
      ]
     },
     "execution_count": 13,
     "metadata": {},
     "output_type": "execute_result"
    }
   ],
   "source": [
    "a = np.array([[2, 0, 0], [4, 1, 1], [-3, 1, -1]])\n",
    "np.linalg.inv(a)"
   ]
  },
  {
   "cell_type": "code",
   "execution_count": 14,
   "metadata": {},
   "outputs": [
    {
     "data": {
      "text/plain": [
       "(Matrix([\n",
       " [1, 0, -4, -28, -37, 13],\n",
       " [0, 1, -2, -12, -16,  5],\n",
       " [0, 0,  0,   0,   0,  0],\n",
       " [0, 0,  0,   0,   0,  0]]),\n",
       " (0, 1))"
      ]
     },
     "execution_count": 14,
     "metadata": {},
     "output_type": "execute_result"
    }
   ],
   "source": [
    "a = sp.Matrix([[-1, 2, 0, 4, 5, -3], [3, -7, 2, 0, 1, 4], [2, -5, 2, 4, 6, 1], [4, -9, 2, -4, -4, 7]])\n",
    "a.rref()"
   ]
  },
  {
   "cell_type": "code",
   "execution_count": 15,
   "metadata": {},
   "outputs": [
    {
     "data": {
      "text/plain": [
       "array([[0.],\n",
       "       [2.],\n",
       "       [1.]])"
      ]
     },
     "execution_count": 15,
     "metadata": {},
     "output_type": "execute_result"
    }
   ],
   "source": [
    "x = np.array([[2, 3, 1]]).reshape(-1, 1)\n",
    "S = np.array([[1, 1, 0], [1, 1, 1], [0, 1, -1]])\n",
    "S_inv = np.linalg.inv(S)\n",
    "np.dot(S_inv, x)"
   ]
  },
  {
   "cell_type": "code",
   "execution_count": 16,
   "metadata": {},
   "outputs": [
    {
     "data": {
      "text/plain": [
       "(Matrix([\n",
       " [1, 0, 0, -1, 2, 1],\n",
       " [0, 1, 0,  1, 1, 1],\n",
       " [0, 0, 1,  2, 1, 2]]),\n",
       " (0, 1, 2))"
      ]
     },
     "execution_count": 16,
     "metadata": {},
     "output_type": "execute_result"
    }
   ],
   "source": [
    "A_and_T = sp.Matrix([[1, 1, 2, 4, 5, 6], [2, 1, 0, -1, 5, 3], [0, 1, 1, 3, 2, 3]])\n",
    "A_and_T.rref()"
   ]
  },
  {
   "cell_type": "code",
   "execution_count": 17,
   "metadata": {},
   "outputs": [
    {
     "data": {
      "text/plain": [
       "9.748646334628575e-12"
      ]
     },
     "execution_count": 17,
     "metadata": {},
     "output_type": "execute_result"
    }
   ],
   "source": [
    "A = np.array([[35, 42, 77], [42, 70, 112], [77, 112, 189]])\n",
    "np.linalg.det(A)"
   ]
  },
  {
   "cell_type": "code",
   "execution_count": 26,
   "metadata": {},
   "outputs": [
    {
     "name": "stdout",
     "output_type": "stream",
     "text": [
      "역행렬이 없음 0.0\n"
     ]
    }
   ],
   "source": [
    "A = np.array([[3, 2], [3, 2]])\n",
    "A_T = A.transpose()\n",
    "b = np.array([[12, 6]]).reshape(-1, 1)\n",
    "try:\n",
    "    np.linalg.inv(np.dot(A_T, A))\n",
    "except:\n",
    "    print('역행렬이 없음', np.linalg.det(np.dot(A_T, A)))\n",
    "#A_T_multiple_A_inv = np.linalg.inv(np.dot(A_T, A))\n",
    "#x = np.dot(A_T_multiple_A_inv, A_T, b)"
   ]
  },
  {
   "cell_type": "code",
   "execution_count": 22,
   "metadata": {},
   "outputs": [
    {
     "data": {
      "text/plain": [
       "(Matrix([\n",
       " [1, 3, 0, 4, 2, 0,   0],\n",
       " [0, 0, 1, 2, 0, 0,   0],\n",
       " [0, 0, 0, 0, 0, 1, 1/3],\n",
       " [0, 0, 0, 0, 0, 0,   0]]),\n",
       " (0, 2, 5))"
      ]
     },
     "execution_count": 22,
     "metadata": {},
     "output_type": "execute_result"
    }
   ],
   "source": [
    "A = sp.Matrix([[1, 3, -2, 0, 2, 0, 0], [2, 6, -5, -2, 4, -3, -1],\n",
    "[0, 0, 5, 10, 0, 15, 5], [2, 6, 0, 8, 4, 18, 6]])\n",
    "A.rref()\n"
   ]
  },
  {
   "cell_type": "code",
   "execution_count": 23,
   "metadata": {},
   "outputs": [
    {
     "data": {
      "text/plain": [
       "((Matrix([\n",
       "  [1, 0, 0],\n",
       "  [0, 1, 0]]),\n",
       "  (0, 1)),\n",
       " (Matrix([\n",
       "  [1, -1/2, 0],\n",
       "  [0,    0, 0]]),\n",
       "  (0,)))"
      ]
     },
     "execution_count": 23,
     "metadata": {},
     "output_type": "execute_result"
    }
   ],
   "source": [
    "A = np.array([[2, -3, 0], [1, 3, 0]])\n",
    "B = np.array([[2, -1, 0], [6, -3, 0]])\n",
    "A = sp.Matrix(A)\n",
    "B = sp.Matrix(B)\n",
    "A.rref(), B.rref()"
   ]
  },
  {
   "cell_type": "code",
   "execution_count": 25,
   "metadata": {},
   "outputs": [
    {
     "data": {
      "text/plain": [
       "(9.000000000000002, 0.0)"
      ]
     },
     "execution_count": 25,
     "metadata": {},
     "output_type": "execute_result"
    }
   ],
   "source": [
    "A = np.array([[2, -3], [1, 3]])\n",
    "B = np.array([[2, -1], [6, -3]])\n",
    "np.linalg.det(A), np.linalg.det(B)"
   ]
  },
  {
   "cell_type": "code",
   "execution_count": 27,
   "metadata": {},
   "outputs": [
    {
     "data": {
      "text/plain": [
       "0.0"
      ]
     },
     "execution_count": 27,
     "metadata": {},
     "output_type": "execute_result"
    }
   ],
   "source": [
    "A = np.array([[-2, 7, 3], [1, 5, 8], [0, 0, 0]])\n",
    "np.linalg.det(A)"
   ]
  },
  {
   "cell_type": "code",
   "execution_count": 28,
   "metadata": {},
   "outputs": [
    {
     "data": {
      "text/plain": [
       "(Matrix([\n",
       " [1, 0, 0, -40, 16,  9],\n",
       " [0, 1, 0,  13, -5, -3],\n",
       " [0, 0, 1,   5, -2, -1]]),\n",
       " (0, 1, 2))"
      ]
     },
     "execution_count": 28,
     "metadata": {},
     "output_type": "execute_result"
    }
   ],
   "source": [
    "A = np.array([[1, 2, 3, 1, 0, 0], [2, 5, 3, 0, 1, 0], [1, 0, 8, 0, 0, 1]])\n",
    "A_sp = sp.Matrix(A)\n",
    "A_sp.rref()"
   ]
  },
  {
   "cell_type": "code",
   "execution_count": 31,
   "metadata": {},
   "outputs": [
    {
     "data": {
      "text/plain": [
       "array([[-1.],\n",
       "       [ 1.],\n",
       "       [-0.]])"
      ]
     },
     "execution_count": 31,
     "metadata": {},
     "output_type": "execute_result"
    }
   ],
   "source": [
    "A = np.array([[1, 2, 3], [2, 5, 3], [1, 0, 8]])\n",
    "b = np.array([[1, 3, -1]]).transpose()\n",
    "np.dot(np.linalg.inv(A), b).round(2)"
   ]
  },
  {
   "cell_type": "code",
   "execution_count": 32,
   "metadata": {},
   "outputs": [
    {
     "data": {
      "text/plain": [
       "(Matrix([\n",
       " [1, 0, 0, 0,  1],\n",
       " [0, 1, 0, 0, -6],\n",
       " [0, 0, 1, 0,  2],\n",
       " [0, 0, 0, 1, 10]]),\n",
       " (0, 1, 2, 3))"
      ]
     },
     "execution_count": 32,
     "metadata": {},
     "output_type": "execute_result"
    }
   ],
   "source": [
    "A = np.array([[0, 0, 0, 1, 10], [1, 1, 1, 1, 7], [27, 9, 3, 1, -11], [64, 16, 4, 1, -14]])\n",
    "A_sp = sp.Matrix(A)\n",
    "A_sp.rref()"
   ]
  },
  {
   "cell_type": "code",
   "execution_count": 35,
   "metadata": {},
   "outputs": [
    {
     "data": {
      "text/plain": [
       "(-4.000000000000001, -108.00000000000003, 108)"
      ]
     },
     "execution_count": 35,
     "metadata": {},
     "output_type": "execute_result"
    }
   ],
   "source": [
    "A = np.array([[1, 2, 1], [1, 1, 0], [2, -1, 1]])\n",
    "A_3 = 3 * A\n",
    "np.linalg.det(A), np.linalg.det(A_3), 27 * 4"
   ]
  },
  {
   "cell_type": "code",
   "execution_count": 46,
   "metadata": {},
   "outputs": [
    {
     "data": {
      "text/plain": [
       "array([[0.100000000000000, 0.150000000000000, 0.200000000000000],\n",
       "       [-0.250000000000000, 0.125000000000000, 0],\n",
       "       [0.0500000000000000, 0.0750000000000000, -0.400000000000000]],\n",
       "      dtype=object)"
      ]
     },
     "execution_count": 46,
     "metadata": {},
     "output_type": "execute_result"
    }
   ],
   "source": [
    "A = np.array([[2, -3, 1], [4, 2, 2], [1, 0, -2]])\n",
    "A_sp = sp.Matrix(A)\n",
    "adj_A = np.array(A_sp.adjugate())\n",
    "np.dot(A, adj_A)\n",
    "np.dot((1 / np.linalg.det(A)), adj_A)"
   ]
  },
  {
   "cell_type": "code",
   "execution_count": 59,
   "metadata": {},
   "outputs": [
    {
     "data": {
      "text/plain": [
       "-0.2"
      ]
     },
     "execution_count": 59,
     "metadata": {},
     "output_type": "execute_result"
    }
   ],
   "source": [
    "A = np.array([[3, 2, 4], [2, -1, 1], [1, 2, 3]])\n",
    "b = np.array([[1, 0, 1]]).transpose()\n",
    "det_A = np.linalg.det(A).round(0)\n",
    "A[:, 0] = b.transpose()\n",
    "det_b1 = np.linalg.det(A)\n",
    "x1 = det_b1 / det_A\n",
    "x1"
   ]
  },
  {
   "cell_type": "code",
   "execution_count": 60,
   "metadata": {},
   "outputs": [
    {
     "data": {
      "text/plain": [
       "array([[ 4.],\n",
       "       [ 3.],\n",
       "       [-5.],\n",
       "       [ 1.]])"
      ]
     },
     "execution_count": 60,
     "metadata": {},
     "output_type": "execute_result"
    }
   ],
   "source": [
    "V = np.array([[1, 1, 1, 1], [1, 2, 4, 8], [1, 3, 9, 27], [1, 4, 16, 64]])\n",
    "p_x = np.array([[3, -2, -5, 0]]).transpose()\n",
    "np.dot(np.linalg.inv(V), p_x)"
   ]
  },
  {
   "cell_type": "code",
   "execution_count": null,
   "metadata": {},
   "outputs": [],
   "source": []
  }
 ],
 "metadata": {
  "kernelspec": {
   "display_name": "base",
   "language": "python",
   "name": "python3"
  },
  "language_info": {
   "codemirror_mode": {
    "name": "ipython",
    "version": 3
   },
   "file_extension": ".py",
   "mimetype": "text/x-python",
   "name": "python",
   "nbconvert_exporter": "python",
   "pygments_lexer": "ipython3",
   "version": "3.9.12"
  },
  "orig_nbformat": 4,
  "vscode": {
   "interpreter": {
    "hash": "610a6f344c2137faf927ea819c63f6cee33a2c04455044b28099f39fe9722347"
   }
  }
 },
 "nbformat": 4,
 "nbformat_minor": 2
}
