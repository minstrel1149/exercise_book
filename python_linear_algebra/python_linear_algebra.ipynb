{
 "cells": [
  {
   "cell_type": "code",
   "execution_count": 47,
   "metadata": {},
   "outputs": [],
   "source": [
    "import numpy as np\n",
    "import sympy as sp"
   ]
  },
  {
   "cell_type": "code",
   "execution_count": 48,
   "metadata": {},
   "outputs": [
    {
     "data": {
      "text/plain": [
       "array([[-4, -6],\n",
       "       [-6,  0]])"
      ]
     },
     "execution_count": 48,
     "metadata": {},
     "output_type": "execute_result"
    }
   ],
   "source": [
    "a = np.array([[1, 2, -1], [3, 1, 0]])\n",
    "b = np.array([[-2, 1], [0, -3], [2, 1]])\n",
    "np.dot(a, b)"
   ]
  },
  {
   "cell_type": "code",
   "execution_count": 49,
   "metadata": {},
   "outputs": [
    {
     "data": {
      "text/plain": [
       "array([[1, 0, 0],\n",
       "       [0, 1, 0],\n",
       "       [0, 0, 1]])"
      ]
     },
     "execution_count": 49,
     "metadata": {},
     "output_type": "execute_result"
    }
   ],
   "source": [
    "a = np.array([[1, 0, 0],\n",
    "[0, 1, 0],\n",
    "[-2, 0, 1]])\n",
    "b = np.array([[1, 0, 0],\n",
    "[0, 1, 0],\n",
    "[2, 0, 1]])\n",
    "np.dot(a, b)"
   ]
  },
  {
   "cell_type": "code",
   "execution_count": 50,
   "metadata": {},
   "outputs": [
    {
     "data": {
      "text/plain": [
       "1.999999999999998"
      ]
     },
     "execution_count": 50,
     "metadata": {},
     "output_type": "execute_result"
    }
   ],
   "source": [
    "a = np.array([[4, 3], [6, 5]])\n",
    "np.linalg.det(a)"
   ]
  },
  {
   "cell_type": "code",
   "execution_count": 51,
   "metadata": {},
   "outputs": [
    {
     "data": {
      "text/plain": [
       "array([[ 4.],\n",
       "       [ 3.],\n",
       "       [-5.],\n",
       "       [ 1.]])"
      ]
     },
     "execution_count": 51,
     "metadata": {},
     "output_type": "execute_result"
    }
   ],
   "source": [
    "a = np.array([[1, 1, 1, 1], [1, 2, 4, 8], [1, 3, 9, 27], [1, 4, 16, 64]])\n",
    "b = np.array([[3, -2, -5, 0]]).reshape(-1, 1)\n",
    "np.dot(np.linalg.inv(a), b)"
   ]
  },
  {
   "cell_type": "code",
   "execution_count": 52,
   "metadata": {},
   "outputs": [
    {
     "data": {
      "text/plain": [
       "57.00000000000001"
      ]
     },
     "execution_count": 52,
     "metadata": {},
     "output_type": "execute_result"
    }
   ],
   "source": [
    "a = np.array([[3, 7, 1], [-2, 1, 1], [5, -2, 1]])\n",
    "np.linalg.det(a)"
   ]
  },
  {
   "cell_type": "code",
   "execution_count": 53,
   "metadata": {},
   "outputs": [
    {
     "data": {
      "text/plain": [
       "-2"
      ]
     },
     "execution_count": 53,
     "metadata": {},
     "output_type": "execute_result"
    }
   ],
   "source": [
    "a = np.array([[-1, 2, 3, -1]]).reshape(-1, 1)\n",
    "b = np.array([[2, 1, 0, 2]]).reshape(-1, 1)\n",
    "inner_product = 0\n",
    "for comp in zip(a, b):\n",
    "    inner_product += comp[0] * comp[1]\n",
    "int(inner_product)"
   ]
  },
  {
   "cell_type": "code",
   "execution_count": 54,
   "metadata": {},
   "outputs": [
    {
     "data": {
      "text/plain": [
       "(array([[1.5],\n",
       "        [3.5]]),\n",
       " array([[ 3.5],\n",
       "        [-0.5]]),\n",
       " array([[5.],\n",
       "        [3.]]))"
      ]
     },
     "execution_count": 54,
     "metadata": {},
     "output_type": "execute_result"
    }
   ],
   "source": [
    "t1 = np.array([1, 1]).reshape(-1, 1)\n",
    "t2 = np.array([1, -1]).reshape(-1, 1)\n",
    "t = np.hstack([t1, t2])\n",
    "x = np.array([5, -2]).reshape(-1, 1)\n",
    "y = np.array([3, 4]).reshape(-1, 1)\n",
    "np.dot(np.linalg.inv(t), x), np.dot(np.linalg.inv(t), y), np.dot(np.linalg.inv(t), x + y)"
   ]
  },
  {
   "cell_type": "code",
   "execution_count": 55,
   "metadata": {},
   "outputs": [
    {
     "data": {
      "text/plain": [
       "array([[ 2.51428571],\n",
       "       [-2.85714286],\n",
       "       [ 5.6       ]])"
      ]
     },
     "execution_count": 55,
     "metadata": {},
     "output_type": "execute_result"
    }
   ],
   "source": [
    "A = np.array([[1, 1, 2], [3, 4, 1], [3, 7, 1], [4, 2, 3]])\n",
    "b = np.array([11, 2, -7, 21]).reshape(-1, 1)\n",
    "np.dot(np.dot(np.linalg.inv(np.dot(A.transpose(), A)), A.transpose()), b)"
   ]
  },
  {
   "cell_type": "code",
   "execution_count": 56,
   "metadata": {},
   "outputs": [
    {
     "data": {
      "text/plain": [
       "-27.0"
      ]
     },
     "execution_count": 56,
     "metadata": {},
     "output_type": "execute_result"
    }
   ],
   "source": [
    "a = np.array([[1, 2, 2], [1, 2, -1], [3, -3, 0]])\n",
    "np.linalg.det(a)"
   ]
  },
  {
   "cell_type": "code",
   "execution_count": 57,
   "metadata": {},
   "outputs": [
    {
     "data": {
      "text/plain": [
       "-0.9999999999999998"
      ]
     },
     "execution_count": 57,
     "metadata": {},
     "output_type": "execute_result"
    }
   ],
   "source": [
    "a = np.array([[4, 1], [5, 1]])\n",
    "np.linalg.det(a)"
   ]
  },
  {
   "cell_type": "code",
   "execution_count": 58,
   "metadata": {},
   "outputs": [],
   "source": [
    "a = np.array([[1, 1, 1, 0], [1, 1, 0, 1], [1, 1, 2, -1]]).transpose()"
   ]
  },
  {
   "cell_type": "code",
   "execution_count": 59,
   "metadata": {},
   "outputs": [
    {
     "data": {
      "text/plain": [
       "array([[ 0.5 ,  0.  ,  0.  ],\n",
       "       [-0.25,  0.5 ,  0.5 ],\n",
       "       [-1.75,  0.5 , -0.5 ]])"
      ]
     },
     "execution_count": 59,
     "metadata": {},
     "output_type": "execute_result"
    }
   ],
   "source": [
    "a = np.array([[2, 0, 0], [4, 1, 1], [-3, 1, -1]])\n",
    "np.linalg.inv(a)"
   ]
  },
  {
   "cell_type": "code",
   "execution_count": 60,
   "metadata": {},
   "outputs": [
    {
     "data": {
      "text/plain": [
       "(Matrix([\n",
       " [1, 0, -4, -28, -37, 13],\n",
       " [0, 1, -2, -12, -16,  5],\n",
       " [0, 0,  0,   0,   0,  0],\n",
       " [0, 0,  0,   0,   0,  0]]),\n",
       " (0, 1))"
      ]
     },
     "execution_count": 60,
     "metadata": {},
     "output_type": "execute_result"
    }
   ],
   "source": [
    "a = sp.Matrix([[-1, 2, 0, 4, 5, -3], [3, -7, 2, 0, 1, 4], [2, -5, 2, 4, 6, 1], [4, -9, 2, -4, -4, 7]])\n",
    "a.rref()"
   ]
  },
  {
   "cell_type": "code",
   "execution_count": 61,
   "metadata": {},
   "outputs": [
    {
     "data": {
      "text/plain": [
       "array([[0.],\n",
       "       [2.],\n",
       "       [1.]])"
      ]
     },
     "execution_count": 61,
     "metadata": {},
     "output_type": "execute_result"
    }
   ],
   "source": [
    "x = np.array([[2, 3, 1]]).reshape(-1, 1)\n",
    "S = np.array([[1, 1, 0], [1, 1, 1], [0, 1, -1]])\n",
    "S_inv = np.linalg.inv(S)\n",
    "np.dot(S_inv, x)"
   ]
  },
  {
   "cell_type": "code",
   "execution_count": 62,
   "metadata": {},
   "outputs": [
    {
     "data": {
      "text/plain": [
       "(Matrix([\n",
       " [1, 0, 0, -1, 2, 1],\n",
       " [0, 1, 0,  1, 1, 1],\n",
       " [0, 0, 1,  2, 1, 2]]),\n",
       " (0, 1, 2))"
      ]
     },
     "execution_count": 62,
     "metadata": {},
     "output_type": "execute_result"
    }
   ],
   "source": [
    "A_and_T = sp.Matrix([[1, 1, 2, 4, 5, 6], [2, 1, 0, -1, 5, 3], [0, 1, 1, 3, 2, 3]])\n",
    "A_and_T.rref()"
   ]
  },
  {
   "cell_type": "code",
   "execution_count": 63,
   "metadata": {},
   "outputs": [
    {
     "data": {
      "text/plain": [
       "9.748646334628575e-12"
      ]
     },
     "execution_count": 63,
     "metadata": {},
     "output_type": "execute_result"
    }
   ],
   "source": [
    "A = np.array([[35, 42, 77], [42, 70, 112], [77, 112, 189]])\n",
    "np.linalg.det(A)"
   ]
  },
  {
   "cell_type": "code",
   "execution_count": 64,
   "metadata": {},
   "outputs": [
    {
     "name": "stdout",
     "output_type": "stream",
     "text": [
      "역행렬이 없음 0.0\n"
     ]
    }
   ],
   "source": [
    "A = np.array([[3, 2], [3, 2]])\n",
    "A_T = A.transpose()\n",
    "b = np.array([[12, 6]]).reshape(-1, 1)\n",
    "try:\n",
    "    np.linalg.inv(np.dot(A_T, A))\n",
    "except:\n",
    "    print('역행렬이 없음', np.linalg.det(np.dot(A_T, A)))\n",
    "#A_T_multiple_A_inv = np.linalg.inv(np.dot(A_T, A))\n",
    "#x = np.dot(A_T_multiple_A_inv, A_T, b)"
   ]
  },
  {
   "cell_type": "code",
   "execution_count": 65,
   "metadata": {},
   "outputs": [
    {
     "data": {
      "text/plain": [
       "(Matrix([\n",
       " [1, 3, 0, 4, 2, 0,   0],\n",
       " [0, 0, 1, 2, 0, 0,   0],\n",
       " [0, 0, 0, 0, 0, 1, 1/3],\n",
       " [0, 0, 0, 0, 0, 0,   0]]),\n",
       " (0, 2, 5))"
      ]
     },
     "execution_count": 65,
     "metadata": {},
     "output_type": "execute_result"
    }
   ],
   "source": [
    "A = sp.Matrix([[1, 3, -2, 0, 2, 0, 0], [2, 6, -5, -2, 4, -3, -1],\n",
    "[0, 0, 5, 10, 0, 15, 5], [2, 6, 0, 8, 4, 18, 6]])\n",
    "A.rref()\n"
   ]
  },
  {
   "cell_type": "code",
   "execution_count": 66,
   "metadata": {},
   "outputs": [
    {
     "data": {
      "text/plain": [
       "((Matrix([\n",
       "  [1, 0, 0],\n",
       "  [0, 1, 0]]),\n",
       "  (0, 1)),\n",
       " (Matrix([\n",
       "  [1, -1/2, 0],\n",
       "  [0,    0, 0]]),\n",
       "  (0,)))"
      ]
     },
     "execution_count": 66,
     "metadata": {},
     "output_type": "execute_result"
    }
   ],
   "source": [
    "A = np.array([[2, -3, 0], [1, 3, 0]])\n",
    "B = np.array([[2, -1, 0], [6, -3, 0]])\n",
    "A = sp.Matrix(A)\n",
    "B = sp.Matrix(B)\n",
    "A.rref(), B.rref()"
   ]
  },
  {
   "cell_type": "code",
   "execution_count": 67,
   "metadata": {},
   "outputs": [
    {
     "data": {
      "text/plain": [
       "(9.000000000000002, 0.0)"
      ]
     },
     "execution_count": 67,
     "metadata": {},
     "output_type": "execute_result"
    }
   ],
   "source": [
    "A = np.array([[2, -3], [1, 3]])\n",
    "B = np.array([[2, -1], [6, -3]])\n",
    "np.linalg.det(A), np.linalg.det(B)"
   ]
  },
  {
   "cell_type": "code",
   "execution_count": 68,
   "metadata": {},
   "outputs": [
    {
     "data": {
      "text/plain": [
       "0.0"
      ]
     },
     "execution_count": 68,
     "metadata": {},
     "output_type": "execute_result"
    }
   ],
   "source": [
    "A = np.array([[-2, 7, 3], [1, 5, 8], [0, 0, 0]])\n",
    "np.linalg.det(A)"
   ]
  },
  {
   "cell_type": "code",
   "execution_count": 69,
   "metadata": {},
   "outputs": [
    {
     "data": {
      "text/plain": [
       "(Matrix([\n",
       " [1, 0, 0, -40, 16,  9],\n",
       " [0, 1, 0,  13, -5, -3],\n",
       " [0, 0, 1,   5, -2, -1]]),\n",
       " (0, 1, 2))"
      ]
     },
     "execution_count": 69,
     "metadata": {},
     "output_type": "execute_result"
    }
   ],
   "source": [
    "A = np.array([[1, 2, 3, 1, 0, 0], [2, 5, 3, 0, 1, 0], [1, 0, 8, 0, 0, 1]])\n",
    "A_sp = sp.Matrix(A)\n",
    "A_sp.rref()"
   ]
  },
  {
   "cell_type": "code",
   "execution_count": 70,
   "metadata": {},
   "outputs": [
    {
     "data": {
      "text/plain": [
       "array([[-1.],\n",
       "       [ 1.],\n",
       "       [-0.]])"
      ]
     },
     "execution_count": 70,
     "metadata": {},
     "output_type": "execute_result"
    }
   ],
   "source": [
    "A = np.array([[1, 2, 3], [2, 5, 3], [1, 0, 8]])\n",
    "b = np.array([[1, 3, -1]]).transpose()\n",
    "np.dot(np.linalg.inv(A), b).round(2)"
   ]
  },
  {
   "cell_type": "code",
   "execution_count": 71,
   "metadata": {},
   "outputs": [
    {
     "data": {
      "text/plain": [
       "(Matrix([\n",
       " [1, 0, 0, 0,  1],\n",
       " [0, 1, 0, 0, -6],\n",
       " [0, 0, 1, 0,  2],\n",
       " [0, 0, 0, 1, 10]]),\n",
       " (0, 1, 2, 3))"
      ]
     },
     "execution_count": 71,
     "metadata": {},
     "output_type": "execute_result"
    }
   ],
   "source": [
    "A = np.array([[0, 0, 0, 1, 10], [1, 1, 1, 1, 7], [27, 9, 3, 1, -11], [64, 16, 4, 1, -14]])\n",
    "A_sp = sp.Matrix(A)\n",
    "A_sp.rref()"
   ]
  },
  {
   "cell_type": "code",
   "execution_count": 72,
   "metadata": {},
   "outputs": [
    {
     "data": {
      "text/plain": [
       "(-4.000000000000001, -108.00000000000003, 108)"
      ]
     },
     "execution_count": 72,
     "metadata": {},
     "output_type": "execute_result"
    }
   ],
   "source": [
    "A = np.array([[1, 2, 1], [1, 1, 0], [2, -1, 1]])\n",
    "A_3 = 3 * A\n",
    "np.linalg.det(A), np.linalg.det(A_3), 27 * 4"
   ]
  },
  {
   "cell_type": "code",
   "execution_count": 73,
   "metadata": {},
   "outputs": [
    {
     "data": {
      "text/plain": [
       "array([[0.100000000000000, 0.150000000000000, 0.200000000000000],\n",
       "       [-0.250000000000000, 0.125000000000000, 0],\n",
       "       [0.0500000000000000, 0.0750000000000000, -0.400000000000000]],\n",
       "      dtype=object)"
      ]
     },
     "execution_count": 73,
     "metadata": {},
     "output_type": "execute_result"
    }
   ],
   "source": [
    "A = np.array([[2, -3, 1], [4, 2, 2], [1, 0, -2]])\n",
    "A_sp = sp.Matrix(A)\n",
    "adj_A = np.array(A_sp.adjugate())\n",
    "np.dot(A, adj_A)\n",
    "np.dot((1 / np.linalg.det(A)), adj_A)"
   ]
  },
  {
   "cell_type": "code",
   "execution_count": 74,
   "metadata": {},
   "outputs": [
    {
     "data": {
      "text/plain": [
       "-0.2"
      ]
     },
     "execution_count": 74,
     "metadata": {},
     "output_type": "execute_result"
    }
   ],
   "source": [
    "A = np.array([[3, 2, 4], [2, -1, 1], [1, 2, 3]])\n",
    "b = np.array([[1, 0, 1]]).transpose()\n",
    "det_A = np.linalg.det(A).round(0)\n",
    "A[:, 0] = b.transpose()\n",
    "det_b1 = np.linalg.det(A)\n",
    "x1 = det_b1 / det_A\n",
    "x1"
   ]
  },
  {
   "cell_type": "code",
   "execution_count": 75,
   "metadata": {},
   "outputs": [
    {
     "data": {
      "text/plain": [
       "array([[ 4.],\n",
       "       [ 3.],\n",
       "       [-5.],\n",
       "       [ 1.]])"
      ]
     },
     "execution_count": 75,
     "metadata": {},
     "output_type": "execute_result"
    }
   ],
   "source": [
    "V = np.array([[1, 1, 1, 1], [1, 2, 4, 8], [1, 3, 9, 27], [1, 4, 16, 64]])\n",
    "p_x = np.array([[3, -2, -5, 0]]).transpose()\n",
    "np.dot(np.linalg.inv(V), p_x)"
   ]
  },
  {
   "cell_type": "code",
   "execution_count": 76,
   "metadata": {},
   "outputs": [
    {
     "data": {
      "text/plain": [
       "array([[10.],\n",
       "       [ 2.],\n",
       "       [-6.],\n",
       "       [ 1.]])"
      ]
     },
     "execution_count": 76,
     "metadata": {},
     "output_type": "execute_result"
    }
   ],
   "source": [
    "V = np.array([[1, 0, 0, 0], [1, 1, 1, 1], [1, 3, 9, 27], [1, 4, 16, 64]])\n",
    "b = np.array([[10, 7, -11, -14]]).transpose()\n",
    "np.dot(np.linalg.inv(V), b)"
   ]
  },
  {
   "cell_type": "code",
   "execution_count": 77,
   "metadata": {},
   "outputs": [
    {
     "data": {
      "text/plain": [
       "7.280109889280518"
      ]
     },
     "execution_count": 77,
     "metadata": {},
     "output_type": "execute_result"
    }
   ],
   "source": [
    "v = np.array([[-2, 7]])\n",
    "np.linalg.norm(v)"
   ]
  },
  {
   "cell_type": "code",
   "execution_count": 78,
   "metadata": {},
   "outputs": [
    {
     "data": {
      "text/plain": [
       "array([[0]])"
      ]
     },
     "execution_count": 78,
     "metadata": {},
     "output_type": "execute_result"
    }
   ],
   "source": [
    "u = np.array([[0, 2, -1]])\n",
    "v = np.array([[-1, 1, 2]])\n",
    "np.dot(u, v.transpose())"
   ]
  },
  {
   "cell_type": "code",
   "execution_count": 79,
   "metadata": {},
   "outputs": [
    {
     "data": {
      "text/plain": [
       "5.477225575051661"
      ]
     },
     "execution_count": 79,
     "metadata": {},
     "output_type": "execute_result"
    }
   ],
   "source": [
    "norm_u = np.linalg.norm(u)\n",
    "norm_v = np.linalg.norm(v)\n",
    "norm_u * norm_v"
   ]
  },
  {
   "cell_type": "code",
   "execution_count": 80,
   "metadata": {},
   "outputs": [
    {
     "data": {
      "text/plain": [
       "15.0"
      ]
     },
     "execution_count": 80,
     "metadata": {},
     "output_type": "execute_result"
    }
   ],
   "source": [
    "x = np.array([[-3, -2, 2]])\n",
    "y = np.array([[-2, 2, 3]])\n",
    "np.cross(x, y)\n",
    "np.linalg.norm(np.cross(x, y))"
   ]
  },
  {
   "cell_type": "code",
   "execution_count": 81,
   "metadata": {},
   "outputs": [
    {
     "data": {
      "text/plain": [
       "5.830951894845301"
      ]
     },
     "execution_count": 81,
     "metadata": {},
     "output_type": "execute_result"
    }
   ],
   "source": [
    "x = np.array([[1, 3, -4, 1, -4]])\n",
    "y = np.array([[2, -1, 2, -2, 0]])\n",
    "np.dot(x, y.transpose())\n",
    "np.linalg.norm(x) * np.linalg.norm(y)\n",
    "np.linalg.norm(x + y)"
   ]
  },
  {
   "cell_type": "code",
   "execution_count": 82,
   "metadata": {},
   "outputs": [
    {
     "data": {
      "text/plain": [
       "0"
      ]
     },
     "execution_count": 82,
     "metadata": {},
     "output_type": "execute_result"
    }
   ],
   "source": [
    "x = np.array([[2, 0, 1, -1]])\n",
    "y = np.array([[-3, 2, 3, -3]])\n",
    "np.dot(x, y.transpose())[0][0]"
   ]
  },
  {
   "cell_type": "code",
   "execution_count": 83,
   "metadata": {},
   "outputs": [
    {
     "data": {
      "text/plain": [
       "array([[-6,  0, -3,  3],\n",
       "       [ 4,  0,  2, -2],\n",
       "       [ 6,  0,  3, -3],\n",
       "       [-6,  0, -3,  3]])"
      ]
     },
     "execution_count": 83,
     "metadata": {},
     "output_type": "execute_result"
    }
   ],
   "source": [
    "np.dot(y.transpose(), x)"
   ]
  },
  {
   "cell_type": "code",
   "execution_count": 84,
   "metadata": {},
   "outputs": [
    {
     "data": {
      "text/plain": [
       "(Matrix([\n",
       " [1, 0, -5, -5,  0],\n",
       " [0, 1,  2,  1, -1],\n",
       " [0, 0,  0,  0,  0],\n",
       " [0, 0,  0,  0,  0]]),\n",
       " (0, 1))"
      ]
     },
     "execution_count": 84,
     "metadata": {},
     "output_type": "execute_result"
    }
   ],
   "source": [
    "S = np.array([[1, 3, 1, -2, -3], [1, 4, 3, -1, -4], [2, 3, -4, -7, -3], [3, 8, 1, -7, -8]])\n",
    "S_sp = sp.Matrix(S)\n",
    "S_sp.rref()"
   ]
  },
  {
   "cell_type": "code",
   "execution_count": 85,
   "metadata": {},
   "outputs": [
    {
     "data": {
      "text/plain": [
       "(Matrix([\n",
       " [1, 0, 1/3],\n",
       " [0, 1,   0]]),\n",
       " (0, 1))"
      ]
     },
     "execution_count": 85,
     "metadata": {},
     "output_type": "execute_result"
    }
   ],
   "source": [
    "S = np.array([[0, 1, 0], [3, 0, 1]])\n",
    "S_sp = sp.Matrix(S)\n",
    "S_sp.rref()"
   ]
  },
  {
   "cell_type": "code",
   "execution_count": 86,
   "metadata": {},
   "outputs": [
    {
     "data": {
      "text/plain": [
       "(Matrix([\n",
       " [1, 0, 0],\n",
       " [0, 1, 0],\n",
       " [0, 0, 1]]),\n",
       " (0, 1, 2))"
      ]
     },
     "execution_count": 86,
     "metadata": {},
     "output_type": "execute_result"
    }
   ],
   "source": [
    "S = np.array([[2, 4, -3], [0, 1, 1], [0, 1, -1]])\n",
    "S_sp = sp.Matrix(S)\n",
    "S_sp.rref()"
   ]
  },
  {
   "cell_type": "code",
   "execution_count": 87,
   "metadata": {},
   "outputs": [
    {
     "data": {
      "text/plain": [
       "(Matrix([\n",
       " [1, 0, 0,  2],\n",
       " [0, 1, 0, -1],\n",
       " [0, 0, 1,  3]]),\n",
       " (0, 1, 2))"
      ]
     },
     "execution_count": 87,
     "metadata": {},
     "output_type": "execute_result"
    }
   ],
   "source": [
    "S = np.array([[1, 2, 3, 9], [2, -1, 1, 8], [3, 0, -1, 3]])\n",
    "S_sp = sp.Matrix(S)\n",
    "S_sp.rref()"
   ]
  },
  {
   "cell_type": "code",
   "execution_count": 88,
   "metadata": {},
   "outputs": [
    {
     "data": {
      "text/plain": [
       "(Matrix([\n",
       " [1, 0, -4, -28, -37, 13],\n",
       " [0, 1, -2, -12, -16,  5],\n",
       " [0, 0,  0,   0,   0,  0],\n",
       " [0, 0,  0,   0,   0,  0]]),\n",
       " (0, 1))"
      ]
     },
     "execution_count": 88,
     "metadata": {},
     "output_type": "execute_result"
    }
   ],
   "source": [
    "S = np.array([[-1, 2, 0, 4, 5, -3], [3, -7, 2, 0, 1, 4], [2, -5, 2, 4, 6, 1], [4, -9, 2, -4, -4, 7]])\n",
    "S_sp = sp.Matrix(S)\n",
    "S_sp.rref()"
   ]
  },
  {
   "cell_type": "code",
   "execution_count": 89,
   "metadata": {},
   "outputs": [
    {
     "data": {
      "text/plain": [
       "array([[0.],\n",
       "       [2.],\n",
       "       [1.]])"
      ]
     },
     "execution_count": 89,
     "metadata": {},
     "output_type": "execute_result"
    }
   ],
   "source": [
    "S = np.array([[1, 1, 0], [1, 1, 1], [0, 1, -1]]).transpose()\n",
    "x = np.array([[2, 3, 1]]).transpose()\n",
    "x_s = np.dot(np.linalg.inv(S), x)\n",
    "x_s"
   ]
  },
  {
   "cell_type": "code",
   "execution_count": 90,
   "metadata": {},
   "outputs": [
    {
     "data": {
      "text/plain": [
       "array([[ 5.],\n",
       "       [-2.]])"
      ]
     },
     "execution_count": 90,
     "metadata": {},
     "output_type": "execute_result"
    }
   ],
   "source": [
    "S = np.array([[1, 0], [0, 1]]).transpose()\n",
    "x = np.array([[5, -2]]).transpose()\n",
    "x_s = np.dot(np.linalg.inv(S), x)\n",
    "x_s"
   ]
  },
  {
   "cell_type": "code",
   "execution_count": 91,
   "metadata": {},
   "outputs": [
    {
     "data": {
      "text/plain": [
       "array([[1.5],\n",
       "       [3.5]])"
      ]
     },
     "execution_count": 91,
     "metadata": {},
     "output_type": "execute_result"
    }
   ],
   "source": [
    "S = np.array([[1, 1], [1, -1]]).transpose()\n",
    "x = np.array([[5, -2]]).transpose()\n",
    "x_s = np.dot(np.linalg.inv(S), x)\n",
    "x_s"
   ]
  },
  {
   "cell_type": "code",
   "execution_count": 92,
   "metadata": {},
   "outputs": [
    {
     "data": {
      "text/plain": [
       "array([[-1.,  2.,  1.],\n",
       "       [ 1.,  1.,  1.],\n",
       "       [ 2.,  1.,  2.]])"
      ]
     },
     "execution_count": 92,
     "metadata": {},
     "output_type": "execute_result"
    }
   ],
   "source": [
    "S = np.array([[1, 1, 2], [2, 1, 0], [0, 1, 1]])\n",
    "y1 = np.array([[4, -1, 3]]).transpose()\n",
    "y2 = np.array([[5, 5, 2]]).transpose()\n",
    "y3 = np.array([[6, 3, 3]]).transpose()\n",
    "y1_s = np.dot(np.linalg.inv(S), y1)\n",
    "y2_s = np.dot(np.linalg.inv(S), y2)\n",
    "y3_s = np.dot(np.linalg.inv(S), y3)\n",
    "P = np.hstack([y1_s, y2_s, y3_s])\n",
    "P"
   ]
  },
  {
   "cell_type": "code",
   "execution_count": 96,
   "metadata": {},
   "outputs": [
    {
     "data": {
      "text/plain": [
       "array([[ 0.24],\n",
       "       [ 1.  ],\n",
       "       [-0.32]])"
      ]
     },
     "execution_count": 96,
     "metadata": {},
     "output_type": "execute_result"
    }
   ],
   "source": [
    "y = np.array([[2, 1, 1]]).transpose()\n",
    "x1 = np.array([[0, 1, 0]]).transpose()\n",
    "x2 = np.array([[0.6, 0, -0.8]]).transpose()\n",
    "np.dot(x1.transpose(), y)[0][0] * x1 + np.dot(x2.transpose(), y)[0][0] * x2"
   ]
  },
  {
   "cell_type": "code",
   "execution_count": 101,
   "metadata": {},
   "outputs": [
    {
     "data": {
      "text/plain": [
       "4.561086358745012"
      ]
     },
     "execution_count": 101,
     "metadata": {},
     "output_type": "execute_result"
    }
   ],
   "source": [
    "A = np.array([[1, -1], [3, 2], [-2, 4]])\n",
    "b = np.array([[4, 1, 3]]).transpose()\n",
    "ATA = np.dot(A.transpose(), A)\n",
    "ATb = np.dot(A.transpose(), b)\n",
    "x = np.dot(np.linalg.inv(ATA), ATb)\n",
    "np.linalg.norm(b - np.dot(A, x))"
   ]
  },
  {
   "cell_type": "code",
   "execution_count": 102,
   "metadata": {},
   "outputs": [
    {
     "data": {
      "text/plain": [
       "(Matrix([\n",
       " [1, 0, -9, 10],\n",
       " [0, 1,  4, -2],\n",
       " [0, 0,  0,  0]]),\n",
       " (0, 1))"
      ]
     },
     "execution_count": 102,
     "metadata": {},
     "output_type": "execute_result"
    }
   ],
   "source": [
    "A = np.array([[1, 3, 3, 4], [1, 4, 7, 2], [2, 7, 10, 6]])\n",
    "A_sp = sp.Matrix(A)\n",
    "A_sp.rref()"
   ]
  },
  {
   "cell_type": "code",
   "execution_count": null,
   "metadata": {},
   "outputs": [],
   "source": []
  }
 ],
 "metadata": {
  "kernelspec": {
   "display_name": "base",
   "language": "python",
   "name": "python3"
  },
  "language_info": {
   "codemirror_mode": {
    "name": "ipython",
    "version": 3
   },
   "file_extension": ".py",
   "mimetype": "text/x-python",
   "name": "python",
   "nbconvert_exporter": "python",
   "pygments_lexer": "ipython3",
   "version": "3.9.12"
  },
  "orig_nbformat": 4,
  "vscode": {
   "interpreter": {
    "hash": "610a6f344c2137faf927ea819c63f6cee33a2c04455044b28099f39fe9722347"
   }
  }
 },
 "nbformat": 4,
 "nbformat_minor": 2
}
