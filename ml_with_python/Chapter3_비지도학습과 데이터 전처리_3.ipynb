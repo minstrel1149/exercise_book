{
 "cells": [
  {
   "cell_type": "code",
   "execution_count": 1,
   "metadata": {},
   "outputs": [],
   "source": [
    "import os\n",
    "import sys\n",
    "import numpy as np\n",
    "from scipy import sparse\n",
    "%matplotlib inline\n",
    "import matplotlib.pyplot as plt\n",
    "import pandas as pd\n",
    "import mglearn\n",
    "plt.rcParams['font.family'] = 'Malgun Gothic'\n",
    "plt.rcParams['axes.unicode_minus'] = False\n",
    "%config InlineBackend.figure_format = 'svg'\n",
    "from mpl_toolkits.mplot3d import Axes3D, axes3d\n",
    "from scipy.cluster import hierarchy\n",
    "import seaborn as sns\n",
    "import spacy\n",
    "import nltk\n",
    "from konlpy.tag import Okt\n",
    "import graphviz"
   ]
  },
  {
   "cell_type": "code",
   "execution_count": 30,
   "metadata": {},
   "outputs": [],
   "source": [
    "from sklearn.linear_model import LogisticRegression\n",
    "from sklearn.linear_model import LinearRegression\n",
    "from sklearn.linear_model import Ridge\n",
    "from sklearn.tree import DecisionTreeRegressor\n",
    "from sklearn.ensemble import RandomForestRegressor\n",
    "from sklearn.ensemble import RandomForestClassifier\n",
    "from sklearn.svm import SVR, SVC\n",
    "from sklearn.feature_selection import SelectPercentile, f_classif, f_regression\n",
    "from sklearn.feature_selection import SelectFromModel\n",
    "from sklearn.feature_selection import RFE\n",
    "from sklearn.model_selection import train_test_split\n",
    "from sklearn.pipeline import make_pipeline\n",
    "from sklearn.preprocessing import OneHotEncoder\n",
    "from sklearn.preprocessing import StandardScaler\n",
    "from sklearn.preprocessing import MinMaxScaler, QuantileTransformer, PowerTransformer\n",
    "from sklearn.preprocessing import KBinsDiscretizer\n",
    "from sklearn.preprocessing import PolynomialFeatures\n",
    "from sklearn.impute import SimpleImputer, KNNImputer\n",
    "from sklearn.compose import ColumnTransformer\n",
    "from sklearn.compose import make_column_transformer"
   ]
  },
  {
   "cell_type": "code",
   "execution_count": 3,
   "metadata": {},
   "outputs": [],
   "source": [
    "from sklearn.datasets import load_breast_cancer\n",
    "from sklearn.datasets import make_blobs\n",
    "from sklearn.datasets import fetch_lfw_people\n",
    "from sklearn.datasets import load_digits\n",
    "from sklearn.datasets import make_moons"
   ]
  },
  {
   "cell_type": "code",
   "execution_count": 4,
   "metadata": {},
   "outputs": [],
   "source": [
    "cancer = load_breast_cancer()\n",
    "X_train, X_test, y_train, y_test = train_test_split(cancer['data'], cancer['target'], random_state=0)"
   ]
  },
  {
   "cell_type": "code",
   "execution_count": 5,
   "metadata": {},
   "outputs": [],
   "source": [
    "scaler = StandardScaler().fit(X_train)\n",
    "X_train_sc = scaler.transform(X_train)\n",
    "X_test_sc = scaler.transform(X_test)"
   ]
  },
  {
   "cell_type": "code",
   "execution_count": 10,
   "metadata": {},
   "outputs": [
    {
     "data": {
      "text/plain": [
       "array([[ True,  True,  True, ...,  True,  True,  True],\n",
       "       [ True,  True,  True, ...,  True,  True,  True],\n",
       "       [ True,  True,  True, ...,  True,  True,  True],\n",
       "       ...,\n",
       "       [ True,  True,  True, ...,  True,  True,  True],\n",
       "       [ True,  True,  True, ...,  True,  True,  True],\n",
       "       [ True,  True,  True, ...,  True,  True,  True]])"
      ]
     },
     "execution_count": 10,
     "metadata": {},
     "output_type": "execute_result"
    }
   ],
   "source": [
    "X_test == scaler.inverse_transform(X_test_sc)"
   ]
  },
  {
   "cell_type": "code",
   "execution_count": 16,
   "metadata": {},
   "outputs": [],
   "source": [
    "X, y = make_blobs(n_samples=50, centers=2, cluster_std=1, random_state=4)\n",
    "X += 3"
   ]
  },
  {
   "cell_type": "code",
   "execution_count": 18,
   "metadata": {},
   "outputs": [
    {
     "data": {
      "text/plain": [
       "(0.0, 16.0)"
      ]
     },
     "execution_count": 18,
     "metadata": {},
     "output_type": "execute_result"
    },
    {
     "data": {
      "image/svg+xml": "<?xml version=\"1.0\" encoding=\"utf-8\" standalone=\"no\"?>\n<!DOCTYPE svg PUBLIC \"-//W3C//DTD SVG 1.1//EN\"\n  \"http://www.w3.org/Graphics/SVG/1.1/DTD/svg11.dtd\">\n<svg xmlns:xlink=\"http://www.w3.org/1999/xlink\" width=\"367.215625pt\" height=\"248.79625pt\" viewBox=\"0 0 367.215625 248.79625\" xmlns=\"http://www.w3.org/2000/svg\" version=\"1.1\">\n <metadata>\n  <rdf:RDF xmlns:dc=\"http://purl.org/dc/elements/1.1/\" xmlns:cc=\"http://creativecommons.org/ns#\" xmlns:rdf=\"http://www.w3.org/1999/02/22-rdf-syntax-ns#\">\n   <cc:Work>\n    <dc:type rdf:resource=\"http://purl.org/dc/dcmitype/StillImage\"/>\n    <dc:date>2022-11-18T22:41:42.179053</dc:date>\n    <dc:format>image/svg+xml</dc:format>\n    <dc:creator>\n     <cc:Agent>\n      <dc:title>Matplotlib v3.5.1, https://matplotlib.org/</dc:title>\n     </cc:Agent>\n    </dc:creator>\n   </cc:Work>\n  </rdf:RDF>\n </metadata>\n <defs>\n  <style type=\"text/css\">*{stroke-linejoin: round; stroke-linecap: butt}</style>\n </defs>\n <g id=\"figure_1\">\n  <g id=\"patch_1\">\n   <path d=\"M 0 248.79625 \nL 367.215625 248.79625 \nL 367.215625 0 \nL 0 0 \nL 0 248.79625 \nz\n\" style=\"fill: none\"/>\n  </g>\n  <g id=\"axes_1\">\n   <g id=\"patch_2\">\n    <path d=\"M 19.707813 224.64 \nL 354.507812 224.64 \nL 354.507812 7.2 \nL 19.707813 7.2 \nz\n\" style=\"fill: #ffffff\"/>\n   </g>\n   <g id=\"matplotlib.axis_1\">\n    <g id=\"xtick_1\">\n     <g id=\"line2d_1\">\n      <defs>\n       <path id=\"m8dcb01a539\" d=\"M 0 0 \nL 0 3.5 \n\" style=\"stroke: #000000; stroke-width: 0.8\"/>\n      </defs>\n      <g>\n       <use xlink:href=\"#m8dcb01a539\" x=\"19.707813\" y=\"224.64\" style=\"stroke: #000000; stroke-width: 0.8\"/>\n      </g>\n     </g>\n     <g id=\"text_1\">\n      <!-- 0 -->\n      <g transform=\"translate(16.953906 239.232188)scale(0.1 -0.1)\">\n       <defs>\n        <path id=\"MalgunGothic-30\" d=\"M 278 2206 \nQ 278 3425 675 4050 \nQ 1072 4675 1819 4675 \nQ 3253 4675 3253 2319 \nQ 3253 1156 2854 539 \nQ 2456 -78 1716 -78 \nQ 1016 -78 647 520 \nQ 278 1119 278 2206 \nz\nM 784 2231 \nQ 784 344 1769 344 \nQ 2747 344 2747 2259 \nQ 2747 4250 1794 4250 \nQ 784 4250 784 2231 \nz\n\" transform=\"scale(0.015625)\"/>\n       </defs>\n       <use xlink:href=\"#MalgunGothic-30\"/>\n      </g>\n     </g>\n    </g>\n    <g id=\"xtick_2\">\n     <g id=\"line2d_2\">\n      <g>\n       <use xlink:href=\"#m8dcb01a539\" x=\"61.557813\" y=\"224.64\" style=\"stroke: #000000; stroke-width: 0.8\"/>\n      </g>\n     </g>\n     <g id=\"text_2\">\n      <!-- 2 -->\n      <g transform=\"translate(58.803906 239.232188)scale(0.1 -0.1)\">\n       <defs>\n        <path id=\"MalgunGothic-32\" d=\"M 2519 3372 \nQ 2519 3784 2275 4018 \nQ 2031 4253 1628 4253 \nQ 1341 4253 1053 4104 \nQ 766 3956 534 3697 \nL 534 4234 \nQ 981 4675 1691 4675 \nQ 2281 4675 2642 4334 \nQ 3003 3994 3003 3416 \nQ 3003 2919 2772 2545 \nQ 2541 2172 1984 1775 \nQ 1459 1406 1254 1215 \nQ 1050 1025 967 854 \nQ 884 684 884 450 \nL 3116 450 \nL 3116 0 \nL 356 0 \nL 356 225 \nQ 356 603 461 870 \nQ 566 1138 811 1392 \nQ 1056 1647 1597 2022 \nQ 2091 2363 2305 2670 \nQ 2519 2978 2519 3372 \nz\n\" transform=\"scale(0.015625)\"/>\n       </defs>\n       <use xlink:href=\"#MalgunGothic-32\"/>\n      </g>\n     </g>\n    </g>\n    <g id=\"xtick_3\">\n     <g id=\"line2d_3\">\n      <g>\n       <use xlink:href=\"#m8dcb01a539\" x=\"103.407813\" y=\"224.64\" style=\"stroke: #000000; stroke-width: 0.8\"/>\n      </g>\n     </g>\n     <g id=\"text_3\">\n      <!-- 4 -->\n      <g transform=\"translate(100.653906 239.232188)scale(0.1 -0.1)\">\n       <defs>\n        <path id=\"MalgunGothic-34\" d=\"M 2703 4600 \nL 2703 1563 \nL 3309 1563 \nL 3309 1113 \nL 2703 1113 \nL 2703 0 \nL 2213 0 \nL 2213 1113 \nL 50 1113 \nL 50 1534 \nQ 728 2297 1295 3109 \nQ 1863 3922 2172 4600 \nL 2703 4600 \nz\nM 625 1563 \nL 2213 1563 \nL 2213 3831 \nQ 1613 2788 959 1981 \nL 625 1563 \nz\n\" transform=\"scale(0.015625)\"/>\n       </defs>\n       <use xlink:href=\"#MalgunGothic-34\"/>\n      </g>\n     </g>\n    </g>\n    <g id=\"xtick_4\">\n     <g id=\"line2d_4\">\n      <g>\n       <use xlink:href=\"#m8dcb01a539\" x=\"145.257812\" y=\"224.64\" style=\"stroke: #000000; stroke-width: 0.8\"/>\n      </g>\n     </g>\n     <g id=\"text_4\">\n      <!-- 6 -->\n      <g transform=\"translate(142.503906 239.232188)scale(0.1 -0.1)\">\n       <defs>\n        <path id=\"MalgunGothic-36\" d=\"M 2981 4069 \nQ 2619 4250 2228 4250 \nQ 1591 4250 1228 3689 \nQ 866 3128 869 2213 \nL 884 2213 \nQ 1203 2872 1938 2872 \nQ 2547 2872 2903 2478 \nQ 3259 2084 3259 1450 \nQ 3259 797 2857 359 \nQ 2456 -78 1825 -78 \nQ 1116 -78 736 478 \nQ 356 1034 356 2019 \nQ 356 3181 847 3928 \nQ 1338 4675 2222 4675 \nQ 2700 4675 2981 4544 \nL 2981 4069 \nz\nM 906 1506 \nQ 906 1022 1165 683 \nQ 1425 344 1844 344 \nQ 2247 344 2498 645 \nQ 2750 947 2750 1388 \nQ 2750 1888 2509 2167 \nQ 2269 2447 1838 2447 \nQ 1444 2447 1175 2173 \nQ 906 1900 906 1506 \nz\n\" transform=\"scale(0.015625)\"/>\n       </defs>\n       <use xlink:href=\"#MalgunGothic-36\"/>\n      </g>\n     </g>\n    </g>\n    <g id=\"xtick_5\">\n     <g id=\"line2d_5\">\n      <g>\n       <use xlink:href=\"#m8dcb01a539\" x=\"187.107813\" y=\"224.64\" style=\"stroke: #000000; stroke-width: 0.8\"/>\n      </g>\n     </g>\n     <g id=\"text_5\">\n      <!-- 8 -->\n      <g transform=\"translate(184.353906 239.232188)scale(0.1 -0.1)\">\n       <defs>\n        <path id=\"MalgunGothic-38\" d=\"M 303 1281 \nQ 303 1669 539 2011 \nQ 775 2353 1153 2494 \nQ 856 2647 675 2915 \nQ 494 3184 494 3500 \nQ 494 3828 659 4098 \nQ 825 4369 1122 4522 \nQ 1419 4675 1778 4675 \nQ 2334 4675 2700 4342 \nQ 3066 4009 3066 3500 \nQ 3066 3181 2881 2914 \nQ 2697 2647 2413 2494 \nQ 2788 2350 3022 2009 \nQ 3256 1669 3256 1281 \nQ 3256 672 2843 297 \nQ 2431 -78 1778 -78 \nQ 1131 -78 717 301 \nQ 303 681 303 1281 \nz\nM 809 1328 \nQ 809 878 1081 611 \nQ 1353 344 1781 344 \nQ 2206 344 2482 619 \nQ 2759 894 2759 1328 \nQ 2759 1731 2482 2011 \nQ 2206 2291 1781 2291 \nQ 1372 2291 1090 2020 \nQ 809 1750 809 1328 \nz\nM 1003 3459 \nQ 1003 3125 1234 2900 \nQ 1466 2675 1781 2675 \nQ 2097 2675 2330 2900 \nQ 2563 3125 2563 3459 \nQ 2563 3803 2341 4026 \nQ 2119 4250 1781 4250 \nQ 1450 4250 1226 4029 \nQ 1003 3809 1003 3459 \nz\n\" transform=\"scale(0.015625)\"/>\n       </defs>\n       <use xlink:href=\"#MalgunGothic-38\"/>\n      </g>\n     </g>\n    </g>\n    <g id=\"xtick_6\">\n     <g id=\"line2d_6\">\n      <g>\n       <use xlink:href=\"#m8dcb01a539\" x=\"228.957812\" y=\"224.64\" style=\"stroke: #000000; stroke-width: 0.8\"/>\n      </g>\n     </g>\n     <g id=\"text_6\">\n      <!-- 10 -->\n      <g transform=\"translate(223.45 239.232188)scale(0.1 -0.1)\">\n       <defs>\n        <path id=\"MalgunGothic-31\" d=\"M 2231 0 \nL 1734 0 \nL 1734 3972 \nQ 1591 3828 1266 3661 \nQ 941 3494 672 3428 \nL 672 3959 \nQ 1016 4056 1409 4275 \nQ 1803 4494 2031 4700 \nL 2231 4700 \nL 2231 0 \nz\n\" transform=\"scale(0.015625)\"/>\n       </defs>\n       <use xlink:href=\"#MalgunGothic-31\"/>\n       <use xlink:href=\"#MalgunGothic-30\" x=\"55.078125\"/>\n      </g>\n     </g>\n    </g>\n    <g id=\"xtick_7\">\n     <g id=\"line2d_7\">\n      <g>\n       <use xlink:href=\"#m8dcb01a539\" x=\"270.807813\" y=\"224.64\" style=\"stroke: #000000; stroke-width: 0.8\"/>\n      </g>\n     </g>\n     <g id=\"text_7\">\n      <!-- 12 -->\n      <g transform=\"translate(265.3 239.232188)scale(0.1 -0.1)\">\n       <use xlink:href=\"#MalgunGothic-31\"/>\n       <use xlink:href=\"#MalgunGothic-32\" x=\"55.078125\"/>\n      </g>\n     </g>\n    </g>\n    <g id=\"xtick_8\">\n     <g id=\"line2d_8\">\n      <g>\n       <use xlink:href=\"#m8dcb01a539\" x=\"312.657812\" y=\"224.64\" style=\"stroke: #000000; stroke-width: 0.8\"/>\n      </g>\n     </g>\n     <g id=\"text_8\">\n      <!-- 14 -->\n      <g transform=\"translate(307.15 239.232188)scale(0.1 -0.1)\">\n       <use xlink:href=\"#MalgunGothic-31\"/>\n       <use xlink:href=\"#MalgunGothic-34\" x=\"55.078125\"/>\n      </g>\n     </g>\n    </g>\n    <g id=\"xtick_9\">\n     <g id=\"line2d_9\">\n      <g>\n       <use xlink:href=\"#m8dcb01a539\" x=\"354.507812\" y=\"224.64\" style=\"stroke: #000000; stroke-width: 0.8\"/>\n      </g>\n     </g>\n     <g id=\"text_9\">\n      <!-- 16 -->\n      <g transform=\"translate(349 239.232188)scale(0.1 -0.1)\">\n       <use xlink:href=\"#MalgunGothic-31\"/>\n       <use xlink:href=\"#MalgunGothic-36\" x=\"55.078125\"/>\n      </g>\n     </g>\n    </g>\n   </g>\n   <g id=\"matplotlib.axis_2\">\n    <g id=\"ytick_1\">\n     <g id=\"line2d_10\">\n      <defs>\n       <path id=\"m03cd0a2d2a\" d=\"M 0 0 \nL -3.5 0 \n\" style=\"stroke: #000000; stroke-width: 0.8\"/>\n      </defs>\n      <g>\n       <use xlink:href=\"#m03cd0a2d2a\" x=\"19.707813\" y=\"204.160597\" style=\"stroke: #000000; stroke-width: 0.8\"/>\n      </g>\n     </g>\n     <g id=\"text_10\">\n      <!-- 2 -->\n      <g transform=\"translate(7.2 207.956691)scale(0.1 -0.1)\">\n       <use xlink:href=\"#MalgunGothic-32\"/>\n      </g>\n     </g>\n    </g>\n    <g id=\"ytick_2\">\n     <g id=\"line2d_11\">\n      <g>\n       <use xlink:href=\"#m03cd0a2d2a\" x=\"19.707813\" y=\"178.60323\" style=\"stroke: #000000; stroke-width: 0.8\"/>\n      </g>\n     </g>\n     <g id=\"text_11\">\n      <!-- 3 -->\n      <g transform=\"translate(7.2 182.399324)scale(0.1 -0.1)\">\n       <defs>\n        <path id=\"MalgunGothic-33\" d=\"M 416 719 \nQ 891 344 1478 344 \nQ 1959 344 2254 587 \nQ 2550 831 2550 1247 \nQ 2550 2169 1253 2169 \nL 872 2169 \nL 872 2591 \nL 1234 2591 \nQ 2388 2591 2388 3453 \nQ 2388 4250 1509 4250 \nQ 1022 4250 594 3916 \nL 594 4413 \nQ 1031 4675 1634 4675 \nQ 2184 4675 2539 4372 \nQ 2894 4069 2894 3581 \nQ 2894 2678 1972 2409 \nL 1972 2400 \nQ 2469 2356 2764 2053 \nQ 3059 1750 3059 1300 \nQ 3059 672 2604 297 \nQ 2150 -78 1450 -78 \nQ 806 -78 416 169 \nL 416 719 \nz\n\" transform=\"scale(0.015625)\"/>\n       </defs>\n       <use xlink:href=\"#MalgunGothic-33\"/>\n      </g>\n     </g>\n    </g>\n    <g id=\"ytick_3\">\n     <g id=\"line2d_12\">\n      <g>\n       <use xlink:href=\"#m03cd0a2d2a\" x=\"19.707813\" y=\"153.045862\" style=\"stroke: #000000; stroke-width: 0.8\"/>\n      </g>\n     </g>\n     <g id=\"text_12\">\n      <!-- 4 -->\n      <g transform=\"translate(7.2 156.841956)scale(0.1 -0.1)\">\n       <use xlink:href=\"#MalgunGothic-34\"/>\n      </g>\n     </g>\n    </g>\n    <g id=\"ytick_4\">\n     <g id=\"line2d_13\">\n      <g>\n       <use xlink:href=\"#m03cd0a2d2a\" x=\"19.707813\" y=\"127.488495\" style=\"stroke: #000000; stroke-width: 0.8\"/>\n      </g>\n     </g>\n     <g id=\"text_13\">\n      <!-- 5 -->\n      <g transform=\"translate(7.2 131.284589)scale(0.1 -0.1)\">\n       <defs>\n        <path id=\"MalgunGothic-35\" d=\"M 3072 1403 \nQ 3072 722 2636 322 \nQ 2200 -78 1469 -78 \nQ 828 -78 516 113 \nL 516 650 \nQ 994 344 1475 344 \nQ 1969 344 2270 630 \nQ 2572 916 2572 1372 \nQ 2572 1838 2265 2092 \nQ 1959 2347 1381 2347 \nQ 994 2347 603 2300 \nL 759 4600 \nL 2869 4600 \nL 2869 4147 \nL 1206 4147 \nL 1106 2763 \nQ 1347 2784 1547 2784 \nQ 2263 2784 2667 2414 \nQ 3072 2044 3072 1403 \nz\n\" transform=\"scale(0.015625)\"/>\n       </defs>\n       <use xlink:href=\"#MalgunGothic-35\"/>\n      </g>\n     </g>\n    </g>\n    <g id=\"ytick_5\">\n     <g id=\"line2d_14\">\n      <g>\n       <use xlink:href=\"#m03cd0a2d2a\" x=\"19.707813\" y=\"101.931128\" style=\"stroke: #000000; stroke-width: 0.8\"/>\n      </g>\n     </g>\n     <g id=\"text_14\">\n      <!-- 6 -->\n      <g transform=\"translate(7.2 105.727221)scale(0.1 -0.1)\">\n       <use xlink:href=\"#MalgunGothic-36\"/>\n      </g>\n     </g>\n    </g>\n    <g id=\"ytick_6\">\n     <g id=\"line2d_15\">\n      <g>\n       <use xlink:href=\"#m03cd0a2d2a\" x=\"19.707813\" y=\"76.37376\" style=\"stroke: #000000; stroke-width: 0.8\"/>\n      </g>\n     </g>\n     <g id=\"text_15\">\n      <!-- 7 -->\n      <g transform=\"translate(7.2 80.169854)scale(0.1 -0.1)\">\n       <defs>\n        <path id=\"MalgunGothic-37\" d=\"M 3213 4297 \nQ 2478 3006 2064 1918 \nQ 1650 831 1550 0 \nL 1009 0 \nQ 1084 531 1290 1176 \nQ 1497 1822 1815 2537 \nQ 2134 3253 2631 4147 \nL 291 4147 \nL 291 4600 \nL 3213 4600 \nL 3213 4297 \nz\n\" transform=\"scale(0.015625)\"/>\n       </defs>\n       <use xlink:href=\"#MalgunGothic-37\"/>\n      </g>\n     </g>\n    </g>\n    <g id=\"ytick_7\">\n     <g id=\"line2d_16\">\n      <g>\n       <use xlink:href=\"#m03cd0a2d2a\" x=\"19.707813\" y=\"50.816393\" style=\"stroke: #000000; stroke-width: 0.8\"/>\n      </g>\n     </g>\n     <g id=\"text_16\">\n      <!-- 8 -->\n      <g transform=\"translate(7.2 54.612486)scale(0.1 -0.1)\">\n       <use xlink:href=\"#MalgunGothic-38\"/>\n      </g>\n     </g>\n    </g>\n    <g id=\"ytick_8\">\n     <g id=\"line2d_17\">\n      <g>\n       <use xlink:href=\"#m03cd0a2d2a\" x=\"19.707813\" y=\"25.259025\" style=\"stroke: #000000; stroke-width: 0.8\"/>\n      </g>\n     </g>\n     <g id=\"text_17\">\n      <!-- 9 -->\n      <g transform=\"translate(7.2 29.055119)scale(0.1 -0.1)\">\n       <defs>\n        <path id=\"MalgunGothic-39\" d=\"M 556 563 \nQ 941 344 1366 344 \nQ 1994 344 2347 855 \nQ 2700 1366 2700 2313 \nQ 2694 2306 2688 2313 \nQ 2388 1713 1653 1713 \nQ 1059 1713 682 2120 \nQ 306 2528 306 3144 \nQ 306 3806 711 4240 \nQ 1116 4675 1772 4675 \nQ 2466 4675 2833 4131 \nQ 3200 3588 3200 2578 \nQ 3200 1319 2717 620 \nQ 2234 -78 1344 -78 \nQ 881 -78 556 78 \nL 556 563 \nz\nM 813 3219 \nQ 813 2741 1063 2450 \nQ 1313 2159 1759 2159 \nQ 2147 2159 2406 2417 \nQ 2666 2675 2666 3047 \nQ 2666 3556 2411 3903 \nQ 2156 4250 1725 4250 \nQ 1322 4250 1067 3948 \nQ 813 3647 813 3219 \nz\n\" transform=\"scale(0.015625)\"/>\n       </defs>\n       <use xlink:href=\"#MalgunGothic-39\"/>\n      </g>\n     </g>\n    </g>\n   </g>\n   <g id=\"line2d_18\">\n    <defs>\n     <path id=\"m9c45241334\" d=\"M 0 5 \nC 1.326016 5 2.597899 4.473168 3.535534 3.535534 \nC 4.473168 2.597899 5 1.326016 5 0 \nC 5 -1.326016 4.473168 -2.597899 3.535534 -3.535534 \nC 2.597899 -4.473168 1.326016 -5 0 -5 \nC -1.326016 -5 -2.597899 -4.473168 -3.535534 -3.535534 \nC -4.473168 -2.597899 -5 -1.326016 -5 0 \nC -5 1.326016 -4.473168 2.597899 -3.535534 3.535534 \nC -2.597899 4.473168 -1.326016 5 0 5 \nz\n\" style=\"stroke: #000000\"/>\n    </defs>\n    <g clip-path=\"url(#pb900b65cd8)\">\n     <use xlink:href=\"#m9c45241334\" x=\"273.817905\" y=\"133.081119\" style=\"fill: #1f77b4; stroke: #000000\"/>\n     <use xlink:href=\"#m9c45241334\" x=\"257.095406\" y=\"136.734039\" style=\"fill: #1f77b4; stroke: #000000\"/>\n     <use xlink:href=\"#m9c45241334\" x=\"269.181841\" y=\"194.958214\" style=\"fill: #1f77b4; stroke: #000000\"/>\n     <use xlink:href=\"#m9c45241334\" x=\"249.739193\" y=\"154.69981\" style=\"fill: #1f77b4; stroke: #000000\"/>\n     <use xlink:href=\"#m9c45241334\" x=\"254.000815\" y=\"141.428384\" style=\"fill: #1f77b4; stroke: #000000\"/>\n     <use xlink:href=\"#m9c45241334\" x=\"324.458613\" y=\"144.383443\" style=\"fill: #1f77b4; stroke: #000000\"/>\n     <use xlink:href=\"#m9c45241334\" x=\"293.070723\" y=\"153.281487\" style=\"fill: #1f77b4; stroke: #000000\"/>\n     <use xlink:href=\"#m9c45241334\" x=\"281.28056\" y=\"185.358123\" style=\"fill: #1f77b4; stroke: #000000\"/>\n     <use xlink:href=\"#m9c45241334\" x=\"286.82944\" y=\"145.969075\" style=\"fill: #1f77b4; stroke: #000000\"/>\n     <use xlink:href=\"#m9c45241334\" x=\"264.3079\" y=\"140.596963\" style=\"fill: #1f77b4; stroke: #000000\"/>\n     <use xlink:href=\"#m9c45241334\" x=\"257.3657\" y=\"153.069433\" style=\"fill: #1f77b4; stroke: #000000\"/>\n     <use xlink:href=\"#m9c45241334\" x=\"294.394453\" y=\"201.508532\" style=\"fill: #1f77b4; stroke: #000000\"/>\n     <use xlink:href=\"#m9c45241334\" x=\"271.595279\" y=\"123.740569\" style=\"fill: #1f77b4; stroke: #000000\"/>\n     <use xlink:href=\"#m9c45241334\" x=\"275.199806\" y=\"133.961369\" style=\"fill: #1f77b4; stroke: #000000\"/>\n     <use xlink:href=\"#m9c45241334\" x=\"264.381536\" y=\"139.162585\" style=\"fill: #1f77b4; stroke: #000000\"/>\n     <use xlink:href=\"#m9c45241334\" x=\"272.155245\" y=\"134.103844\" style=\"fill: #1f77b4; stroke: #000000\"/>\n     <use xlink:href=\"#m9c45241334\" x=\"254.800454\" y=\"133.047699\" style=\"fill: #1f77b4; stroke: #000000\"/>\n     <use xlink:href=\"#m9c45241334\" x=\"321.623498\" y=\"131.079664\" style=\"fill: #1f77b4; stroke: #000000\"/>\n     <use xlink:href=\"#m9c45241334\" x=\"253.72842\" y=\"145.490028\" style=\"fill: #1f77b4; stroke: #000000\"/>\n     <use xlink:href=\"#m9c45241334\" x=\"284.887132\" y=\"183.787073\" style=\"fill: #1f77b4; stroke: #000000\"/>\n     <use xlink:href=\"#m9c45241334\" x=\"290.880463\" y=\"156.709305\" style=\"fill: #1f77b4; stroke: #000000\"/>\n     <use xlink:href=\"#m9c45241334\" x=\"312.162817\" y=\"189.243289\" style=\"fill: #1f77b4; stroke: #000000\"/>\n     <use xlink:href=\"#m9c45241334\" x=\"265.235684\" y=\"114.923872\" style=\"fill: #1f77b4; stroke: #000000\"/>\n     <use xlink:href=\"#m9c45241334\" x=\"278.939331\" y=\"214.726745\" style=\"fill: #1f77b4; stroke: #000000\"/>\n     <use xlink:href=\"#m9c45241334\" x=\"313.347385\" y=\"182.90114\" style=\"fill: #1f77b4; stroke: #000000\"/>\n    </g>\n   </g>\n   <g id=\"line2d_19\">\n    <defs>\n     <path id=\"m8ab7c55af2\" d=\"M 0 -5 \nL -5 5 \nL 5 5 \nz\n\" style=\"stroke: #000000; stroke-linejoin: miter\"/>\n    </defs>\n    <g clip-path=\"url(#pb900b65cd8)\">\n     <use xlink:href=\"#m8ab7c55af2\" x=\"268.481202\" y=\"108.233809\" style=\"fill: #ff7f0e; stroke: #000000; stroke-linejoin: miter\"/>\n     <use xlink:href=\"#m8ab7c55af2\" x=\"281.713048\" y=\"87.515362\" style=\"fill: #ff7f0e; stroke: #000000; stroke-linejoin: miter\"/>\n     <use xlink:href=\"#m8ab7c55af2\" x=\"284.681102\" y=\"78.370431\" style=\"fill: #ff7f0e; stroke: #000000; stroke-linejoin: miter\"/>\n     <use xlink:href=\"#m8ab7c55af2\" x=\"304.661842\" y=\"62.598849\" style=\"fill: #ff7f0e; stroke: #000000; stroke-linejoin: miter\"/>\n     <use xlink:href=\"#m8ab7c55af2\" x=\"283.617192\" y=\"17.939321\" style=\"fill: #ff7f0e; stroke: #000000; stroke-linejoin: miter\"/>\n     <use xlink:href=\"#m8ab7c55af2\" x=\"257.343942\" y=\"82.299905\" style=\"fill: #ff7f0e; stroke: #000000; stroke-linejoin: miter\"/>\n     <use xlink:href=\"#m8ab7c55af2\" x=\"257.800772\" y=\"17.113255\" style=\"fill: #ff7f0e; stroke: #000000; stroke-linejoin: miter\"/>\n     <use xlink:href=\"#m8ab7c55af2\" x=\"296.941488\" y=\"68.312715\" style=\"fill: #ff7f0e; stroke: #000000; stroke-linejoin: miter\"/>\n     <use xlink:href=\"#m8ab7c55af2\" x=\"290.96834\" y=\"61.122007\" style=\"fill: #ff7f0e; stroke: #000000; stroke-linejoin: miter\"/>\n     <use xlink:href=\"#m8ab7c55af2\" x=\"332.123741\" y=\"59.795635\" style=\"fill: #ff7f0e; stroke: #000000; stroke-linejoin: miter\"/>\n     <use xlink:href=\"#m8ab7c55af2\" x=\"281.318235\" y=\"63.979304\" style=\"fill: #ff7f0e; stroke: #000000; stroke-linejoin: miter\"/>\n     <use xlink:href=\"#m8ab7c55af2\" x=\"309.176045\" y=\"70.194981\" style=\"fill: #ff7f0e; stroke: #000000; stroke-linejoin: miter\"/>\n     <use xlink:href=\"#m8ab7c55af2\" x=\"261.354924\" y=\"57.804002\" style=\"fill: #ff7f0e; stroke: #000000; stroke-linejoin: miter\"/>\n     <use xlink:href=\"#m8ab7c55af2\" x=\"286.518897\" y=\"93.381087\" style=\"fill: #ff7f0e; stroke: #000000; stroke-linejoin: miter\"/>\n     <use xlink:href=\"#m8ab7c55af2\" x=\"300.278285\" y=\"55.427771\" style=\"fill: #ff7f0e; stroke: #000000; stroke-linejoin: miter\"/>\n     <use xlink:href=\"#m8ab7c55af2\" x=\"298.523581\" y=\"73.278524\" style=\"fill: #ff7f0e; stroke: #000000; stroke-linejoin: miter\"/>\n     <use xlink:href=\"#m8ab7c55af2\" x=\"306.914022\" y=\"85.352694\" style=\"fill: #ff7f0e; stroke: #000000; stroke-linejoin: miter\"/>\n     <use xlink:href=\"#m8ab7c55af2\" x=\"260.540304\" y=\"61.622442\" style=\"fill: #ff7f0e; stroke: #000000; stroke-linejoin: miter\"/>\n     <use xlink:href=\"#m8ab7c55af2\" x=\"281.086898\" y=\"67.882378\" style=\"fill: #ff7f0e; stroke: #000000; stroke-linejoin: miter\"/>\n     <use xlink:href=\"#m8ab7c55af2\" x=\"269.926215\" y=\"73.182788\" style=\"fill: #ff7f0e; stroke: #000000; stroke-linejoin: miter\"/>\n     <use xlink:href=\"#m8ab7c55af2\" x=\"264.006084\" y=\"64.215339\" style=\"fill: #ff7f0e; stroke: #000000; stroke-linejoin: miter\"/>\n     <use xlink:href=\"#m8ab7c55af2\" x=\"299.85877\" y=\"77.646057\" style=\"fill: #ff7f0e; stroke: #000000; stroke-linejoin: miter\"/>\n     <use xlink:href=\"#m8ab7c55af2\" x=\"230.50442\" y=\"84.3314\" style=\"fill: #ff7f0e; stroke: #000000; stroke-linejoin: miter\"/>\n     <use xlink:href=\"#m8ab7c55af2\" x=\"249.844161\" y=\"54.585974\" style=\"fill: #ff7f0e; stroke: #000000; stroke-linejoin: miter\"/>\n     <use xlink:href=\"#m8ab7c55af2\" x=\"295.749038\" y=\"52.169065\" style=\"fill: #ff7f0e; stroke: #000000; stroke-linejoin: miter\"/>\n    </g>\n   </g>\n   <g id=\"patch_3\">\n    <path d=\"M 19.707813 224.64 \nL 19.707813 7.2 \n\" style=\"fill: none; stroke: #000000; stroke-width: 0.8; stroke-linejoin: miter; stroke-linecap: square\"/>\n   </g>\n   <g id=\"patch_4\">\n    <path d=\"M 354.507812 224.64 \nL 354.507812 7.2 \n\" style=\"fill: none; stroke: #000000; stroke-width: 0.8; stroke-linejoin: miter; stroke-linecap: square\"/>\n   </g>\n   <g id=\"patch_5\">\n    <path d=\"M 19.707813 224.64 \nL 354.507812 224.64 \n\" style=\"fill: none; stroke: #000000; stroke-width: 0.8; stroke-linejoin: miter; stroke-linecap: square\"/>\n   </g>\n   <g id=\"patch_6\">\n    <path d=\"M 19.707813 7.2 \nL 354.507812 7.2 \n\" style=\"fill: none; stroke: #000000; stroke-width: 0.8; stroke-linejoin: miter; stroke-linecap: square\"/>\n   </g>\n  </g>\n </g>\n <defs>\n  <clipPath id=\"pb900b65cd8\">\n   <rect x=\"19.707813\" y=\"7.2\" width=\"334.8\" height=\"217.44\"/>\n  </clipPath>\n </defs>\n</svg>\n",
      "text/plain": [
       "<Figure size 432x288 with 1 Axes>"
      ]
     },
     "metadata": {
      "needs_background": "light"
     },
     "output_type": "display_data"
    }
   ],
   "source": [
    "mglearn.discrete_scatter(X[:, 0], X[:, 1], y)\n",
    "plt.xlim(0, 16)"
   ]
  },
  {
   "cell_type": "code",
   "execution_count": 22,
   "metadata": {},
   "outputs": [],
   "source": [
    "scaler = QuantileTransformer(n_quantiles=50, output_distribution='normal').fit(X)\n",
    "X_sc = scaler.transform(X)"
   ]
  },
  {
   "cell_type": "code",
   "execution_count": 23,
   "metadata": {},
   "outputs": [
    {
     "data": {
      "text/plain": [
       "[<matplotlib.lines.Line2D at 0x1fda3ed1580>,\n",
       " <matplotlib.lines.Line2D at 0x1fda3ed1850>]"
      ]
     },
     "execution_count": 23,
     "metadata": {},
     "output_type": "execute_result"
    },
    {
     "data": {
      "image/svg+xml": "<?xml version=\"1.0\" encoding=\"utf-8\" standalone=\"no\"?>\n<!DOCTYPE svg PUBLIC \"-//W3C//DTD SVG 1.1//EN\"\n  \"http://www.w3.org/Graphics/SVG/1.1/DTD/svg11.dtd\">\n<svg xmlns:xlink=\"http://www.w3.org/1999/xlink\" width=\"365.809375pt\" height=\"248.79625pt\" viewBox=\"0 0 365.809375 248.79625\" xmlns=\"http://www.w3.org/2000/svg\" version=\"1.1\">\n <metadata>\n  <rdf:RDF xmlns:dc=\"http://purl.org/dc/elements/1.1/\" xmlns:cc=\"http://creativecommons.org/ns#\" xmlns:rdf=\"http://www.w3.org/1999/02/22-rdf-syntax-ns#\">\n   <cc:Work>\n    <dc:type rdf:resource=\"http://purl.org/dc/dcmitype/StillImage\"/>\n    <dc:date>2022-11-18T22:44:05.232843</dc:date>\n    <dc:format>image/svg+xml</dc:format>\n    <dc:creator>\n     <cc:Agent>\n      <dc:title>Matplotlib v3.5.1, https://matplotlib.org/</dc:title>\n     </cc:Agent>\n    </dc:creator>\n   </cc:Work>\n  </rdf:RDF>\n </metadata>\n <defs>\n  <style type=\"text/css\">*{stroke-linejoin: round; stroke-linecap: butt}</style>\n </defs>\n <g id=\"figure_1\">\n  <g id=\"patch_1\">\n   <path d=\"M 0 248.79625 \nL 365.809375 248.79625 \nL 365.809375 0 \nL 0 0 \nL 0 248.79625 \nz\n\" style=\"fill: none\"/>\n  </g>\n  <g id=\"axes_1\">\n   <g id=\"patch_2\">\n    <path d=\"M 23.809375 224.64 \nL 358.609375 224.64 \nL 358.609375 7.2 \nL 23.809375 7.2 \nz\n\" style=\"fill: #ffffff\"/>\n   </g>\n   <g id=\"matplotlib.axis_1\">\n    <g id=\"xtick_1\">\n     <g id=\"line2d_1\">\n      <defs>\n       <path id=\"mb057dfb251\" d=\"M 0 0 \nL 0 3.5 \n\" style=\"stroke: #000000; stroke-width: 0.8\"/>\n      </defs>\n      <g>\n       <use xlink:href=\"#mb057dfb251\" x=\"74.131524\" y=\"224.64\" style=\"stroke: #000000; stroke-width: 0.8\"/>\n      </g>\n     </g>\n     <g id=\"text_1\">\n      <!-- -4 -->\n      <g transform=\"translate(69.326836 239.232187)scale(0.1 -0.1)\">\n       <defs>\n        <path id=\"MalgunGothic-2d\" d=\"M 2213 1634 \nL 463 1634 \nL 463 2031 \nL 2213 2031 \nL 2213 1634 \nz\n\" transform=\"scale(0.015625)\"/>\n        <path id=\"MalgunGothic-34\" d=\"M 2703 4600 \nL 2703 1563 \nL 3309 1563 \nL 3309 1113 \nL 2703 1113 \nL 2703 0 \nL 2213 0 \nL 2213 1113 \nL 50 1113 \nL 50 1534 \nQ 728 2297 1295 3109 \nQ 1863 3922 2172 4600 \nL 2703 4600 \nz\nM 625 1563 \nL 2213 1563 \nL 2213 3831 \nQ 1613 2788 959 1981 \nL 625 1563 \nz\n\" transform=\"scale(0.015625)\"/>\n       </defs>\n       <use xlink:href=\"#MalgunGothic-2d\"/>\n       <use xlink:href=\"#MalgunGothic-34\" x=\"41.015625\"/>\n      </g>\n     </g>\n    </g>\n    <g id=\"xtick_2\">\n     <g id=\"line2d_2\">\n      <g>\n       <use xlink:href=\"#mb057dfb251\" x=\"132.670449\" y=\"224.64\" style=\"stroke: #000000; stroke-width: 0.8\"/>\n      </g>\n     </g>\n     <g id=\"text_2\">\n      <!-- -2 -->\n      <g transform=\"translate(127.865762 239.232187)scale(0.1 -0.1)\">\n       <defs>\n        <path id=\"MalgunGothic-32\" d=\"M 2519 3372 \nQ 2519 3784 2275 4018 \nQ 2031 4253 1628 4253 \nQ 1341 4253 1053 4104 \nQ 766 3956 534 3697 \nL 534 4234 \nQ 981 4675 1691 4675 \nQ 2281 4675 2642 4334 \nQ 3003 3994 3003 3416 \nQ 3003 2919 2772 2545 \nQ 2541 2172 1984 1775 \nQ 1459 1406 1254 1215 \nQ 1050 1025 967 854 \nQ 884 684 884 450 \nL 3116 450 \nL 3116 0 \nL 356 0 \nL 356 225 \nQ 356 603 461 870 \nQ 566 1138 811 1392 \nQ 1056 1647 1597 2022 \nQ 2091 2363 2305 2670 \nQ 2519 2978 2519 3372 \nz\n\" transform=\"scale(0.015625)\"/>\n       </defs>\n       <use xlink:href=\"#MalgunGothic-2d\"/>\n       <use xlink:href=\"#MalgunGothic-32\" x=\"41.015625\"/>\n      </g>\n     </g>\n    </g>\n    <g id=\"xtick_3\">\n     <g id=\"line2d_3\">\n      <g>\n       <use xlink:href=\"#mb057dfb251\" x=\"191.209375\" y=\"224.64\" style=\"stroke: #000000; stroke-width: 0.8\"/>\n      </g>\n     </g>\n     <g id=\"text_3\">\n      <!-- 0 -->\n      <g transform=\"translate(188.455469 239.232187)scale(0.1 -0.1)\">\n       <defs>\n        <path id=\"MalgunGothic-30\" d=\"M 278 2206 \nQ 278 3425 675 4050 \nQ 1072 4675 1819 4675 \nQ 3253 4675 3253 2319 \nQ 3253 1156 2854 539 \nQ 2456 -78 1716 -78 \nQ 1016 -78 647 520 \nQ 278 1119 278 2206 \nz\nM 784 2231 \nQ 784 344 1769 344 \nQ 2747 344 2747 2259 \nQ 2747 4250 1794 4250 \nQ 784 4250 784 2231 \nz\n\" transform=\"scale(0.015625)\"/>\n       </defs>\n       <use xlink:href=\"#MalgunGothic-30\"/>\n      </g>\n     </g>\n    </g>\n    <g id=\"xtick_4\">\n     <g id=\"line2d_4\">\n      <g>\n       <use xlink:href=\"#mb057dfb251\" x=\"249.748301\" y=\"224.64\" style=\"stroke: #000000; stroke-width: 0.8\"/>\n      </g>\n     </g>\n     <g id=\"text_4\">\n      <!-- 2 -->\n      <g transform=\"translate(246.994394 239.232187)scale(0.1 -0.1)\">\n       <use xlink:href=\"#MalgunGothic-32\"/>\n      </g>\n     </g>\n    </g>\n    <g id=\"xtick_5\">\n     <g id=\"line2d_5\">\n      <g>\n       <use xlink:href=\"#mb057dfb251\" x=\"308.287226\" y=\"224.64\" style=\"stroke: #000000; stroke-width: 0.8\"/>\n      </g>\n     </g>\n     <g id=\"text_5\">\n      <!-- 4 -->\n      <g transform=\"translate(305.53332 239.232187)scale(0.1 -0.1)\">\n       <use xlink:href=\"#MalgunGothic-34\"/>\n      </g>\n     </g>\n    </g>\n   </g>\n   <g id=\"matplotlib.axis_2\">\n    <g id=\"ytick_1\">\n     <g id=\"line2d_6\">\n      <defs>\n       <path id=\"mf22b8c0654\" d=\"M 0 0 \nL -3.5 0 \n\" style=\"stroke: #000000; stroke-width: 0.8\"/>\n      </defs>\n      <g>\n       <use xlink:href=\"#mf22b8c0654\" x=\"23.809375\" y=\"191.957658\" style=\"stroke: #000000; stroke-width: 0.8\"/>\n      </g>\n     </g>\n     <g id=\"text_6\">\n      <!-- -4 -->\n      <g transform=\"translate(7.2 195.753752)scale(0.1 -0.1)\">\n       <use xlink:href=\"#MalgunGothic-2d\"/>\n       <use xlink:href=\"#MalgunGothic-34\" x=\"41.015625\"/>\n      </g>\n     </g>\n    </g>\n    <g id=\"ytick_2\">\n     <g id=\"line2d_7\">\n      <g>\n       <use xlink:href=\"#mf22b8c0654\" x=\"23.809375\" y=\"153.938829\" style=\"stroke: #000000; stroke-width: 0.8\"/>\n      </g>\n     </g>\n     <g id=\"text_7\">\n      <!-- -2 -->\n      <g transform=\"translate(7.2 157.734923)scale(0.1 -0.1)\">\n       <use xlink:href=\"#MalgunGothic-2d\"/>\n       <use xlink:href=\"#MalgunGothic-32\" x=\"41.015625\"/>\n      </g>\n     </g>\n    </g>\n    <g id=\"ytick_3\">\n     <g id=\"line2d_8\">\n      <g>\n       <use xlink:href=\"#mf22b8c0654\" x=\"23.809375\" y=\"115.92\" style=\"stroke: #000000; stroke-width: 0.8\"/>\n      </g>\n     </g>\n     <g id=\"text_8\">\n      <!-- 0 -->\n      <g transform=\"translate(11.301563 119.716094)scale(0.1 -0.1)\">\n       <use xlink:href=\"#MalgunGothic-30\"/>\n      </g>\n     </g>\n    </g>\n    <g id=\"ytick_4\">\n     <g id=\"line2d_9\">\n      <g>\n       <use xlink:href=\"#mf22b8c0654\" x=\"23.809375\" y=\"77.901171\" style=\"stroke: #000000; stroke-width: 0.8\"/>\n      </g>\n     </g>\n     <g id=\"text_9\">\n      <!-- 2 -->\n      <g transform=\"translate(11.301563 81.697265)scale(0.1 -0.1)\">\n       <use xlink:href=\"#MalgunGothic-32\"/>\n      </g>\n     </g>\n    </g>\n    <g id=\"ytick_5\">\n     <g id=\"line2d_10\">\n      <g>\n       <use xlink:href=\"#mf22b8c0654\" x=\"23.809375\" y=\"39.882342\" style=\"stroke: #000000; stroke-width: 0.8\"/>\n      </g>\n     </g>\n     <g id=\"text_10\">\n      <!-- 4 -->\n      <g transform=\"translate(11.301563 43.678435)scale(0.1 -0.1)\">\n       <use xlink:href=\"#MalgunGothic-34\"/>\n      </g>\n     </g>\n    </g>\n   </g>\n   <g id=\"line2d_11\">\n    <defs>\n     <path id=\"mebd9f1fd3d\" d=\"M 0 5 \nC 1.326016 5 2.597899 4.473168 3.535534 3.535534 \nC 4.473168 2.597899 5 1.326016 5 0 \nC 5 -1.326016 4.473168 -2.597899 3.535534 -3.535534 \nC 2.597899 -4.473168 1.326016 -5 0 -5 \nC -1.326016 -5 -2.597899 -4.473168 -3.535534 -3.535534 \nC -4.473168 -2.597899 -5 -1.326016 -5 0 \nC -5 1.326016 -4.473168 2.597899 -3.535534 3.535534 \nC -2.597899 4.473168 -1.326016 5 0 5 \nz\n\" style=\"stroke: #000000\"/>\n    </defs>\n    <g clip-path=\"url(#p261647e128)\">\n     <use xlink:href=\"#mebd9f1fd3d\" x=\"185.94051\" y=\"120.33536\" style=\"fill: #1f77b4; stroke: #000000\"/>\n     <use xlink:href=\"#mebd9f1fd3d\" x=\"157.173928\" y=\"123.402075\" style=\"fill: #1f77b4; stroke: #000000\"/>\n     <use xlink:href=\"#mebd9f1fd3d\" x=\"179.688961\" y=\"149.020915\" style=\"fill: #1f77b4; stroke: #000000\"/>\n     <use xlink:href=\"#mebd9f1fd3d\" x=\"131.341879\" y=\"134.570631\" style=\"fill: #1f77b4; stroke: #000000\"/>\n     <use xlink:href=\"#mebd9f1fd3d\" x=\"150.402674\" y=\"126.678356\" style=\"fill: #1f77b4; stroke: #000000\"/>\n     <use xlink:href=\"#mebd9f1fd3d\" x=\"251.076871\" y=\"127.840266\" style=\"fill: #1f77b4; stroke: #000000\"/>\n     <use xlink:href=\"#mebd9f1fd3d\" x=\"207.774393\" y=\"133.056114\" style=\"fill: #1f77b4; stroke: #000000\"/>\n     <use xlink:href=\"#mebd9f1fd3d\" x=\"191.958106\" y=\"142.422417\" style=\"fill: #1f77b4; stroke: #000000\"/>\n     <use xlink:href=\"#mebd9f1fd3d\" x=\"202.729789\" y=\"130.312357\" style=\"fill: #1f77b4; stroke: #000000\"/>\n     <use xlink:href=\"#mebd9f1fd3d\" x=\"172.855324\" y=\"125.555333\" style=\"fill: #1f77b4; stroke: #000000\"/>\n     <use xlink:href=\"#mebd9f1fd3d\" x=\"162.492344\" y=\"131.643261\" style=\"fill: #1f77b4; stroke: #000000\"/>\n     <use xlink:href=\"#mebd9f1fd3d\" x=\"209.563426\" y=\"154.801685\" style=\"fill: #1f77b4; stroke: #000000\"/>\n     <use xlink:href=\"#mebd9f1fd3d\" x=\"182.862461\" y=\"117.380094\" style=\"fill: #1f77b4; stroke: #000000\"/>\n     <use xlink:href=\"#mebd9f1fd3d\" x=\"187.455864\" y=\"121.341007\" style=\"fill: #1f77b4; stroke: #000000\"/>\n     <use xlink:href=\"#mebd9f1fd3d\" x=\"174.644357\" y=\"124.46499\" style=\"fill: #1f77b4; stroke: #000000\"/>\n     <use xlink:href=\"#mebd9f1fd3d\" x=\"184.41089\" y=\"122.362068\" style=\"fill: #1f77b4; stroke: #000000\"/>\n     <use xlink:href=\"#mebd9f1fd3d\" x=\"154.036911\" y=\"119.34193\" style=\"fill: #1f77b4; stroke: #000000\"/>\n     <use xlink:href=\"#mebd9f1fd3d\" x=\"242.176016\" y=\"118.357764\" style=\"fill: #1f77b4; stroke: #000000\"/>\n     <use xlink:href=\"#mebd9f1fd3d\" x=\"146.00048\" y=\"129.048538\" style=\"fill: #1f77b4; stroke: #000000\"/>\n     <use xlink:href=\"#mebd9f1fd3d\" x=\"199.556289\" y=\"140.062116\" style=\"fill: #1f77b4; stroke: #000000\"/>\n     <use xlink:href=\"#mebd9f1fd3d\" x=\"204.366396\" y=\"136.213891\" style=\"fill: #1f77b4; stroke: #000000\"/>\n     <use xlink:href=\"#mebd9f1fd3d\" x=\"232.016076\" y=\"145.281476\" style=\"fill: #1f77b4; stroke: #000000\"/>\n     <use xlink:href=\"#mebd9f1fd3d\" x=\"176.373515\" y=\"116.406273\" style=\"fill: #1f77b4; stroke: #000000\"/>\n     <use xlink:href=\"#mebd9f1fd3d\" x=\"188.961218\" y=\"214.756364\" style=\"fill: #1f77b4; stroke: #000000\"/>\n     <use xlink:href=\"#mebd9f1fd3d\" x=\"236.41827\" y=\"138.024742\" style=\"fill: #1f77b4; stroke: #000000\"/>\n    </g>\n   </g>\n   <g id=\"line2d_12\">\n    <defs>\n     <path id=\"m5bb1137738\" d=\"M 0 -5 \nL -5 5 \nL 5 5 \nz\n\" style=\"stroke: #000000; stroke-linejoin: miter\"/>\n    </defs>\n    <g clip-path=\"url(#p261647e128)\">\n     <use xlink:href=\"#m5bb1137738\" x=\"178.052354\" y=\"115.433727\" style=\"fill: #ff7f0e; stroke: #000000; stroke-linejoin: miter\"/>\n     <use xlink:href=\"#m5bb1137738\" x=\"194.962886\" y=\"113.482236\" style=\"fill: #ff7f0e; stroke: #000000; stroke-linejoin: miter\"/>\n     <use xlink:href=\"#m5bb1137738\" x=\"198.00786\" y=\"109.477932\" style=\"fill: #ff7f0e; stroke: #000000; stroke-linejoin: miter\"/>\n     <use xlink:href=\"#m5bb1137738\" x=\"222.456591\" y=\"98.783886\" style=\"fill: #ff7f0e; stroke: #000000; stroke-linejoin: miter\"/>\n     <use xlink:href=\"#m5bb1137738\" x=\"196.47824\" y=\"77.038315\" style=\"fill: #ff7f0e; stroke: #000000; stroke-linejoin: miter\"/>\n     <use xlink:href=\"#m5bb1137738\" x=\"159.962159\" y=\"110.498993\" style=\"fill: #ff7f0e; stroke: #000000; stroke-linejoin: miter\"/>\n     <use xlink:href=\"#m5bb1137738\" x=\"164.824298\" y=\"17.083636\" style=\"fill: #ff7f0e; stroke: #000000; stroke-linejoin: miter\"/>\n     <use xlink:href=\"#m5bb1137738\" x=\"213.369792\" y=\"103.999734\" style=\"fill: #ff7f0e; stroke: #000000; stroke-linejoin: miter\"/>\n     <use xlink:href=\"#m5bb1137738\" x=\"206.045235\" y=\"95.626109\" style=\"fill: #ff7f0e; stroke: #000000; stroke-linejoin: miter\"/>\n     <use xlink:href=\"#m5bb1137738\" x=\"343.391193\" y=\"93.815258\" style=\"fill: #ff7f0e; stroke: #000000; stroke-linejoin: miter\"/>\n     <use xlink:href=\"#m5bb1137738\" x=\"193.457532\" y=\"100.196739\" style=\"fill: #ff7f0e; stroke: #000000; stroke-linejoin: miter\"/>\n     <use xlink:href=\"#m5bb1137738\" x=\"228.381839\" y=\"105.161644\" style=\"fill: #ff7f0e; stroke: #000000; stroke-linejoin: miter\"/>\n     <use xlink:href=\"#m5bb1137738\" x=\"169.048958\" y=\"91.777884\" style=\"fill: #ff7f0e; stroke: #000000; stroke-linejoin: miter\"/>\n     <use xlink:href=\"#m5bb1137738\" x=\"201.128454\" y=\"114.459906\" style=\"fill: #ff7f0e; stroke: #000000; stroke-linejoin: miter\"/>\n     <use xlink:href=\"#m5bb1137738\" x=\"219.926406\" y=\"89.417583\" style=\"fill: #ff7f0e; stroke: #000000; stroke-linejoin: miter\"/>\n     <use xlink:href=\"#m5bb1137738\" x=\"215.419032\" y=\"107.37501\" style=\"fill: #ff7f0e; stroke: #000000; stroke-linejoin: miter\"/>\n     <use xlink:href=\"#m5bb1137738\" x=\"225.244822\" y=\"112.49807\" style=\"fill: #ff7f0e; stroke: #000000; stroke-linejoin: miter\"/>\n     <use xlink:href=\"#m5bb1137738\" x=\"166.999718\" y=\"97.269369\" style=\"fill: #ff7f0e; stroke: #000000; stroke-linejoin: miter\"/>\n     <use xlink:href=\"#m5bb1137738\" x=\"190.460644\" y=\"102.791462\" style=\"fill: #ff7f0e; stroke: #000000; stroke-linejoin: miter\"/>\n     <use xlink:href=\"#m5bb1137738\" x=\"181.290296\" y=\"106.284667\" style=\"fill: #ff7f0e; stroke: #000000; stroke-linejoin: miter\"/>\n     <use xlink:href=\"#m5bb1137738\" x=\"170.994905\" y=\"101.527643\" style=\"fill: #ff7f0e; stroke: #000000; stroke-linejoin: miter\"/>\n     <use xlink:href=\"#m5bb1137738\" x=\"217.594452\" y=\"108.437925\" style=\"fill: #ff7f0e; stroke: #000000; stroke-linejoin: miter\"/>\n     <use xlink:href=\"#m5bb1137738\" x=\"39.027557\" y=\"111.50464\" style=\"fill: #ff7f0e; stroke: #000000; stroke-linejoin: miter\"/>\n     <use xlink:href=\"#m5bb1137738\" x=\"140.242734\" y=\"86.558524\" style=\"fill: #ff7f0e; stroke: #000000; stroke-linejoin: miter\"/>\n     <use xlink:href=\"#m5bb1137738\" x=\"211.423845\" y=\"82.819085\" style=\"fill: #ff7f0e; stroke: #000000; stroke-linejoin: miter\"/>\n    </g>\n   </g>\n   <g id=\"patch_3\">\n    <path d=\"M 23.809375 224.64 \nL 23.809375 7.2 \n\" style=\"fill: none; stroke: #000000; stroke-width: 0.8; stroke-linejoin: miter; stroke-linecap: square\"/>\n   </g>\n   <g id=\"patch_4\">\n    <path d=\"M 358.609375 224.64 \nL 358.609375 7.2 \n\" style=\"fill: none; stroke: #000000; stroke-width: 0.8; stroke-linejoin: miter; stroke-linecap: square\"/>\n   </g>\n   <g id=\"patch_5\">\n    <path d=\"M 23.809375 224.64 \nL 358.609375 224.64 \n\" style=\"fill: none; stroke: #000000; stroke-width: 0.8; stroke-linejoin: miter; stroke-linecap: square\"/>\n   </g>\n   <g id=\"patch_6\">\n    <path d=\"M 23.809375 7.2 \nL 358.609375 7.2 \n\" style=\"fill: none; stroke: #000000; stroke-width: 0.8; stroke-linejoin: miter; stroke-linecap: square\"/>\n   </g>\n  </g>\n </g>\n <defs>\n  <clipPath id=\"p261647e128\">\n   <rect x=\"23.809375\" y=\"7.2\" width=\"334.8\" height=\"217.44\"/>\n  </clipPath>\n </defs>\n</svg>\n",
      "text/plain": [
       "<Figure size 432x288 with 1 Axes>"
      ]
     },
     "metadata": {
      "needs_background": "light"
     },
     "output_type": "display_data"
    }
   ],
   "source": [
    "mglearn.discrete_scatter(X_sc[:, 0], X_sc[:, 1], y)"
   ]
  },
  {
   "cell_type": "code",
   "execution_count": 24,
   "metadata": {},
   "outputs": [],
   "source": [
    "cancer = load_breast_cancer()\n",
    "X_train, X_test, y_train, y_test = train_test_split(cancer['data'], cancer['target'], random_state=0)"
   ]
  },
  {
   "cell_type": "code",
   "execution_count": 26,
   "metadata": {},
   "outputs": [
    {
     "data": {
      "text/plain": [
       "0.6293706293706294"
      ]
     },
     "execution_count": 26,
     "metadata": {},
     "output_type": "execute_result"
    }
   ],
   "source": [
    "svm = SVC(gamma='auto').fit(X_train, y_train)\n",
    "svm.score(X_test, y_test)"
   ]
  },
  {
   "cell_type": "code",
   "execution_count": 28,
   "metadata": {},
   "outputs": [
    {
     "data": {
      "text/plain": [
       "0.951048951048951"
      ]
     },
     "execution_count": 28,
     "metadata": {},
     "output_type": "execute_result"
    }
   ],
   "source": [
    "pipe = make_pipeline(MinMaxScaler(), SVC(gamma='auto')).fit(X_train, y_train)\n",
    "pipe.score(X_test, y_test)"
   ]
  },
  {
   "cell_type": "code",
   "execution_count": 29,
   "metadata": {},
   "outputs": [
    {
     "data": {
      "text/plain": [
       "0.965034965034965"
      ]
     },
     "execution_count": 29,
     "metadata": {},
     "output_type": "execute_result"
    }
   ],
   "source": [
    "pipe = make_pipeline(StandardScaler(), SVC(gamma='auto')).fit(X_train, y_train)\n",
    "pipe.score(X_test, y_test)"
   ]
  },
  {
   "cell_type": "code",
   "execution_count": 32,
   "metadata": {},
   "outputs": [
    {
     "data": {
      "text/plain": [
       "array([[ 7. ,  2. ,  3. ],\n",
       "       [ 4. ,  3.5,  6. ],\n",
       "       [10. ,  5. ,  9. ]])"
      ]
     },
     "execution_count": 32,
     "metadata": {},
     "output_type": "execute_result"
    }
   ],
   "source": [
    "array = np.array([[7, 2, 3], [4, np.nan, 6], [10, 5, 9]])\n",
    "imp_mean = SimpleImputer(missing_values=np.nan, strategy='mean').fit(array)\n",
    "imp_mean.transform(array)"
   ]
  },
  {
   "cell_type": "code",
   "execution_count": null,
   "metadata": {},
   "outputs": [],
   "source": []
  }
 ],
 "metadata": {
  "kernelspec": {
   "display_name": "Python 3.9.12 ('base')",
   "language": "python",
   "name": "python3"
  },
  "language_info": {
   "codemirror_mode": {
    "name": "ipython",
    "version": 3
   },
   "file_extension": ".py",
   "mimetype": "text/x-python",
   "name": "python",
   "nbconvert_exporter": "python",
   "pygments_lexer": "ipython3",
   "version": "3.9.12"
  },
  "orig_nbformat": 4,
  "vscode": {
   "interpreter": {
    "hash": "610a6f344c2137faf927ea819c63f6cee33a2c04455044b28099f39fe9722347"
   }
  }
 },
 "nbformat": 4,
 "nbformat_minor": 2
}
