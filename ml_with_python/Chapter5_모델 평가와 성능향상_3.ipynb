{
 "cells": [
  {
   "cell_type": "code",
   "execution_count": 39,
   "metadata": {},
   "outputs": [],
   "source": [
    "import os\n",
    "import sys\n",
    "import numpy as np\n",
    "from scipy import sparse\n",
    "%matplotlib inline\n",
    "import matplotlib.pyplot as plt\n",
    "import pandas as pd\n",
    "import mglearn\n",
    "plt.rcParams['font.family'] = 'Malgun Gothic'\n",
    "plt.rcParams['axes.unicode_minus'] = False\n",
    "%config InlineBackend.figure_format = 'svg'\n",
    "from mpl_toolkits.mplot3d import Axes3D, axes3d\n",
    "from scipy.cluster import hierarchy\n",
    "import seaborn as sns\n",
    "import spacy\n",
    "import nltk\n",
    "from konlpy.tag import Okt\n",
    "import graphviz\n",
    "from sklearn.utils.fixes import loguniform\n",
    "import scipy.stats as ss"
   ]
  },
  {
   "cell_type": "code",
   "execution_count": 117,
   "metadata": {},
   "outputs": [],
   "source": [
    "from sklearn.model_selection import train_test_split\n",
    "from sklearn.model_selection import cross_val_score, cross_validate\n",
    "from sklearn.model_selection import KFold, StratifiedKFold\n",
    "from sklearn.model_selection import GroupKFold, StratifiedGroupKFold\n",
    "from sklearn.model_selection import RepeatedKFold, RepeatedStratifiedKFold\n",
    "from sklearn.model_selection import LeaveOneOut\n",
    "from sklearn.model_selection import ShuffleSplit, StratifiedShuffleSplit\n",
    "from sklearn.model_selection import GridSearchCV, RandomizedSearchCV\n",
    "from sklearn.linear_model import LogisticRegression\n",
    "from sklearn.ensemble import RandomForestClassifier\n",
    "from sklearn.svm import SVR, SVC\n",
    "from sklearn.dummy import DummyClassifier\n",
    "from sklearn.metrics import confusion_matrix, ConfusionMatrixDisplay\n",
    "from sklearn.metrics import f1_score\n",
    "from sklearn.metrics import classification_report\n",
    "from sklearn.metrics import precision_recall_curve, PrecisionRecallDisplay\n",
    "from sklearn.metrics import roc_curve, roc_auc_score, RocCurveDisplay\n",
    "from sklearn.metrics import average_precision_score, precision_score, recall_score\n",
    "from sklearn.metrics import accuracy_score\n",
    "from sklearn.utils.fixes import loguniform\n",
    "from imblearn.over_sampling import RandomOverSampler, SMOTE\n",
    "from imblearn.under_sampling import RandomUnderSampler"
   ]
  },
  {
   "cell_type": "code",
   "execution_count": 3,
   "metadata": {},
   "outputs": [],
   "source": [
    "from sklearn.datasets import make_blobs\n",
    "from sklearn.datasets import load_iris\n",
    "from sklearn.datasets import load_digits"
   ]
  },
  {
   "cell_type": "code",
   "execution_count": 4,
   "metadata": {},
   "outputs": [],
   "source": [
    "iris = load_iris()\n",
    "logreg = LogisticRegression(max_iter=1000)"
   ]
  },
  {
   "cell_type": "code",
   "execution_count": 7,
   "metadata": {},
   "outputs": [
    {
     "data": {
      "text/plain": [
       "array([1.        , 0.93333333, 1.        , 1.        , 0.93333333,\n",
       "       0.93333333, 0.93333333, 1.        , 1.        , 1.        ])"
      ]
     },
     "execution_count": 7,
     "metadata": {},
     "output_type": "execute_result"
    }
   ],
   "source": [
    "scores = cross_val_score(logreg, iris['data'], iris['target'], cv=10)\n",
    "scores"
   ]
  },
  {
   "cell_type": "code",
   "execution_count": 10,
   "metadata": {},
   "outputs": [
    {
     "data": {
      "text/plain": [
       "{'fit_time': array([0.03471446, 0.02602267, 0.0160141 , 0.01701546, 0.01701498]),\n",
       " 'score_time': array([0., 0., 0., 0., 0.]),\n",
       " 'test_score': array([0.96666667, 1.        , 0.93333333, 0.96666667, 1.        ]),\n",
       " 'train_score': array([0.96666667, 0.96666667, 0.98333333, 0.98333333, 0.975     ])}"
      ]
     },
     "execution_count": 10,
     "metadata": {},
     "output_type": "execute_result"
    }
   ],
   "source": [
    "res = cross_validate(logreg, iris['data'], iris['target'], return_train_score=True, cv=5)\n",
    "res"
   ]
  },
  {
   "cell_type": "code",
   "execution_count": 15,
   "metadata": {},
   "outputs": [
    {
     "data": {
      "text/plain": [
       "array([0.98, 0.96, 0.96])"
      ]
     },
     "execution_count": 15,
     "metadata": {},
     "output_type": "execute_result"
    }
   ],
   "source": [
    "kfold = KFold(n_splits=3, shuffle=True, random_state=0)\n",
    "cross_val_score(logreg, iris['data'], iris['target'], cv=kfold)"
   ]
  },
  {
   "cell_type": "code",
   "execution_count": 23,
   "metadata": {},
   "outputs": [
    {
     "data": {
      "text/plain": [
       "array([0.96666667, 1.        , 0.93333333, 0.96666667, 1.        ])"
      ]
     },
     "execution_count": 23,
     "metadata": {},
     "output_type": "execute_result"
    }
   ],
   "source": [
    "skfold = StratifiedKFold(n_splits=5)\n",
    "cross_val_score(logreg, iris['data'], iris['target'], cv=skfold)"
   ]
  },
  {
   "cell_type": "code",
   "execution_count": 25,
   "metadata": {},
   "outputs": [
    {
     "data": {
      "text/plain": [
       "0.9666666666666667"
      ]
     },
     "execution_count": 25,
     "metadata": {},
     "output_type": "execute_result"
    }
   ],
   "source": [
    "loo = LeaveOneOut()\n",
    "cross_val_score(logreg, iris['data'], iris['target'], cv=loo).mean()"
   ]
  },
  {
   "cell_type": "code",
   "execution_count": 33,
   "metadata": {},
   "outputs": [
    {
     "data": {
      "text/plain": [
       "0.9566666666666667"
      ]
     },
     "execution_count": 33,
     "metadata": {},
     "output_type": "execute_result"
    }
   ],
   "source": [
    "shuffle_split = StratifiedShuffleSplit(train_size=0.6, test_size=0.2, n_splits=10, random_state=0)\n",
    "cross_val_score(logreg, iris['data'], iris['target'], cv=shuffle_split).mean()"
   ]
  },
  {
   "cell_type": "code",
   "execution_count": 34,
   "metadata": {},
   "outputs": [
    {
     "data": {
      "text/plain": [
       "array([0.75      , 0.66666667, 0.8       ])"
      ]
     },
     "execution_count": 34,
     "metadata": {},
     "output_type": "execute_result"
    }
   ],
   "source": [
    "X, y = make_blobs(n_samples=12, random_state=0)\n",
    "groups = [0, 0, 0, 1, 1, 1, 1, 2, 2, 3, 3, 3]\n",
    "cross_val_score(logreg, X, y, cv=StratifiedGroupKFold(n_splits=3), groups=groups)"
   ]
  },
  {
   "cell_type": "code",
   "execution_count": 36,
   "metadata": {},
   "outputs": [
    {
     "data": {
      "text/plain": [
       "0.9626666666666669"
      ]
     },
     "execution_count": 36,
     "metadata": {},
     "output_type": "execute_result"
    }
   ],
   "source": [
    "rskfold = RepeatedStratifiedKFold(n_splits=3, n_repeats=10, random_state=0)\n",
    "cross_val_score(logreg, iris['data'], iris['target'], cv=rskfold).mean()"
   ]
  },
  {
   "cell_type": "code",
   "execution_count": 50,
   "metadata": {},
   "outputs": [
    {
     "data": {
      "text/plain": [
       "array([1.e-03, 1.e-02, 1.e-01, 1.e+00, 1.e+01])"
      ]
     },
     "execution_count": 50,
     "metadata": {},
     "output_type": "execute_result"
    }
   ],
   "source": [
    "np.logspace(-3, 1, 5)"
   ]
  },
  {
   "cell_type": "code",
   "execution_count": 52,
   "metadata": {},
   "outputs": [],
   "source": [
    "X_train, X_test, y_train, y_test = train_test_split(iris['data'], iris['target'], random_state=0)"
   ]
  },
  {
   "cell_type": "code",
   "execution_count": 53,
   "metadata": {},
   "outputs": [
    {
     "data": {
      "text/plain": [
       "({'C': 10.0, 'gamma': 0.1}, 0.9731225296442687, 0.9736842105263158)"
      ]
     },
     "execution_count": 53,
     "metadata": {},
     "output_type": "execute_result"
    }
   ],
   "source": [
    "param_grid = {'C':np.logspace(-3, 1, 5), 'gamma':np.logspace(-3, 1, 5)}\n",
    "grid = GridSearchCV(SVC(), param_grid=param_grid, cv=5, return_train_score=True).fit(X_train, y_train)\n",
    "grid.best_params_, grid.best_score_, grid.score(X_test, y_test)"
   ]
  },
  {
   "cell_type": "code",
   "execution_count": 54,
   "metadata": {},
   "outputs": [
    {
     "data": {
      "text/plain": [
       "SVC(C=10.0, gamma=0.1)"
      ]
     },
     "execution_count": 54,
     "metadata": {},
     "output_type": "execute_result"
    }
   ],
   "source": [
    "grid.best_estimator_"
   ]
  },
  {
   "cell_type": "code",
   "execution_count": 58,
   "metadata": {},
   "outputs": [
    {
     "data": {
      "text/html": [
       "<div>\n",
       "<style scoped>\n",
       "    .dataframe tbody tr th:only-of-type {\n",
       "        vertical-align: middle;\n",
       "    }\n",
       "\n",
       "    .dataframe tbody tr th {\n",
       "        vertical-align: top;\n",
       "    }\n",
       "\n",
       "    .dataframe thead th {\n",
       "        text-align: right;\n",
       "    }\n",
       "</style>\n",
       "<table border=\"1\" class=\"dataframe\">\n",
       "  <thead>\n",
       "    <tr style=\"text-align: right;\">\n",
       "      <th></th>\n",
       "      <th>0</th>\n",
       "      <th>1</th>\n",
       "      <th>2</th>\n",
       "      <th>3</th>\n",
       "      <th>4</th>\n",
       "      <th>5</th>\n",
       "      <th>6</th>\n",
       "      <th>7</th>\n",
       "      <th>8</th>\n",
       "      <th>9</th>\n",
       "      <th>...</th>\n",
       "      <th>15</th>\n",
       "      <th>16</th>\n",
       "      <th>17</th>\n",
       "      <th>18</th>\n",
       "      <th>19</th>\n",
       "      <th>20</th>\n",
       "      <th>21</th>\n",
       "      <th>22</th>\n",
       "      <th>23</th>\n",
       "      <th>24</th>\n",
       "    </tr>\n",
       "  </thead>\n",
       "  <tbody>\n",
       "    <tr>\n",
       "      <th>mean_fit_time</th>\n",
       "      <td>0.000601</td>\n",
       "      <td>0.001001</td>\n",
       "      <td>0.000801</td>\n",
       "      <td>0.000801</td>\n",
       "      <td>0.000801</td>\n",
       "      <td>0.001001</td>\n",
       "      <td>0.000401</td>\n",
       "      <td>0.0006</td>\n",
       "      <td>0.001001</td>\n",
       "      <td>0.000801</td>\n",
       "      <td>...</td>\n",
       "      <td>0.0004</td>\n",
       "      <td>0.000601</td>\n",
       "      <td>0.0004</td>\n",
       "      <td>0.000601</td>\n",
       "      <td>0.000801</td>\n",
       "      <td>0.0006</td>\n",
       "      <td>0.000601</td>\n",
       "      <td>0.0002</td>\n",
       "      <td>0.000601</td>\n",
       "      <td>0.0006</td>\n",
       "    </tr>\n",
       "    <tr>\n",
       "      <th>std_fit_time</th>\n",
       "      <td>0.00049</td>\n",
       "      <td>0.0</td>\n",
       "      <td>0.0004</td>\n",
       "      <td>0.0004</td>\n",
       "      <td>0.0004</td>\n",
       "      <td>0.0</td>\n",
       "      <td>0.000491</td>\n",
       "      <td>0.00049</td>\n",
       "      <td>0.0</td>\n",
       "      <td>0.0004</td>\n",
       "      <td>...</td>\n",
       "      <td>0.000491</td>\n",
       "      <td>0.00049</td>\n",
       "      <td>0.00049</td>\n",
       "      <td>0.00049</td>\n",
       "      <td>0.0004</td>\n",
       "      <td>0.00049</td>\n",
       "      <td>0.000491</td>\n",
       "      <td>0.0004</td>\n",
       "      <td>0.00049</td>\n",
       "      <td>0.00049</td>\n",
       "    </tr>\n",
       "    <tr>\n",
       "      <th>mean_score_time</th>\n",
       "      <td>0.0004</td>\n",
       "      <td>0.0002</td>\n",
       "      <td>0.0004</td>\n",
       "      <td>0.0004</td>\n",
       "      <td>0.000401</td>\n",
       "      <td>0.0</td>\n",
       "      <td>0.0006</td>\n",
       "      <td>0.0004</td>\n",
       "      <td>0.0</td>\n",
       "      <td>0.0002</td>\n",
       "      <td>...</td>\n",
       "      <td>0.000601</td>\n",
       "      <td>0.0002</td>\n",
       "      <td>0.0004</td>\n",
       "      <td>0.0</td>\n",
       "      <td>0.0002</td>\n",
       "      <td>0.0002</td>\n",
       "      <td>0.0002</td>\n",
       "      <td>0.0004</td>\n",
       "      <td>0.0</td>\n",
       "      <td>0.000624</td>\n",
       "    </tr>\n",
       "    <tr>\n",
       "      <th>std_score_time</th>\n",
       "      <td>0.00049</td>\n",
       "      <td>0.0004</td>\n",
       "      <td>0.00049</td>\n",
       "      <td>0.000491</td>\n",
       "      <td>0.000491</td>\n",
       "      <td>0.0</td>\n",
       "      <td>0.00049</td>\n",
       "      <td>0.00049</td>\n",
       "      <td>0.0</td>\n",
       "      <td>0.0004</td>\n",
       "      <td>...</td>\n",
       "      <td>0.00049</td>\n",
       "      <td>0.0004</td>\n",
       "      <td>0.00049</td>\n",
       "      <td>0.0</td>\n",
       "      <td>0.0004</td>\n",
       "      <td>0.0004</td>\n",
       "      <td>0.0004</td>\n",
       "      <td>0.00049</td>\n",
       "      <td>0.0</td>\n",
       "      <td>0.000511</td>\n",
       "    </tr>\n",
       "    <tr>\n",
       "      <th>param_C</th>\n",
       "      <td>0.001</td>\n",
       "      <td>0.001</td>\n",
       "      <td>0.001</td>\n",
       "      <td>0.001</td>\n",
       "      <td>0.001</td>\n",
       "      <td>0.01</td>\n",
       "      <td>0.01</td>\n",
       "      <td>0.01</td>\n",
       "      <td>0.01</td>\n",
       "      <td>0.01</td>\n",
       "      <td>...</td>\n",
       "      <td>1.0</td>\n",
       "      <td>1.0</td>\n",
       "      <td>1.0</td>\n",
       "      <td>1.0</td>\n",
       "      <td>1.0</td>\n",
       "      <td>10.0</td>\n",
       "      <td>10.0</td>\n",
       "      <td>10.0</td>\n",
       "      <td>10.0</td>\n",
       "      <td>10.0</td>\n",
       "    </tr>\n",
       "  </tbody>\n",
       "</table>\n",
       "<p>5 rows × 25 columns</p>\n",
       "</div>"
      ],
      "text/plain": [
       "                       0         1         2         3         4         5   \\\n",
       "mean_fit_time    0.000601  0.001001  0.000801  0.000801  0.000801  0.001001   \n",
       "std_fit_time      0.00049       0.0    0.0004    0.0004    0.0004       0.0   \n",
       "mean_score_time    0.0004    0.0002    0.0004    0.0004  0.000401       0.0   \n",
       "std_score_time    0.00049    0.0004   0.00049  0.000491  0.000491       0.0   \n",
       "param_C             0.001     0.001     0.001     0.001     0.001      0.01   \n",
       "\n",
       "                       6        7         8         9   ...        15  \\\n",
       "mean_fit_time    0.000401   0.0006  0.001001  0.000801  ...    0.0004   \n",
       "std_fit_time     0.000491  0.00049       0.0    0.0004  ...  0.000491   \n",
       "mean_score_time    0.0006   0.0004       0.0    0.0002  ...  0.000601   \n",
       "std_score_time    0.00049  0.00049       0.0    0.0004  ...   0.00049   \n",
       "param_C              0.01     0.01      0.01      0.01  ...       1.0   \n",
       "\n",
       "                       16       17        18        19       20        21  \\\n",
       "mean_fit_time    0.000601   0.0004  0.000601  0.000801   0.0006  0.000601   \n",
       "std_fit_time      0.00049  0.00049   0.00049    0.0004  0.00049  0.000491   \n",
       "mean_score_time    0.0002   0.0004       0.0    0.0002   0.0002    0.0002   \n",
       "std_score_time     0.0004  0.00049       0.0    0.0004   0.0004    0.0004   \n",
       "param_C               1.0      1.0       1.0       1.0     10.0      10.0   \n",
       "\n",
       "                      22        23        24  \n",
       "mean_fit_time     0.0002  0.000601    0.0006  \n",
       "std_fit_time      0.0004   0.00049   0.00049  \n",
       "mean_score_time   0.0004       0.0  0.000624  \n",
       "std_score_time   0.00049       0.0  0.000511  \n",
       "param_C             10.0      10.0      10.0  \n",
       "\n",
       "[5 rows x 25 columns]"
      ]
     },
     "execution_count": 58,
     "metadata": {},
     "output_type": "execute_result"
    }
   ],
   "source": [
    "results = pd.DataFrame(grid.cv_results_)\n",
    "results.T.head()"
   ]
  },
  {
   "cell_type": "code",
   "execution_count": 66,
   "metadata": {},
   "outputs": [
    {
     "data": {
      "text/plain": [
       "array([[0.36640316, 0.36640316, 0.36640316, 0.36640316, 0.36640316],\n",
       "       [0.36640316, 0.36640316, 0.36640316, 0.36640316, 0.36640316],\n",
       "       [0.36640316, 0.69644269, 0.90158103, 0.95533597, 0.36640316],\n",
       "       [0.69644269, 0.93794466, 0.96403162, 0.94664032, 0.9284585 ],\n",
       "       [0.93794466, 0.96403162, 0.97312253, 0.94624506, 0.91106719]])"
      ]
     },
     "execution_count": 66,
     "metadata": {},
     "output_type": "execute_result"
    }
   ],
   "source": [
    "scores = results['mean_test_score'].astype('float64').values.reshape(5, 5)\n",
    "scores"
   ]
  },
  {
   "cell_type": "code",
   "execution_count": 70,
   "metadata": {},
   "outputs": [
    {
     "data": {
      "text/plain": [
       "Text(34.0, 0.5, 'C')"
      ]
     },
     "execution_count": 70,
     "metadata": {},
     "output_type": "execute_result"
    },
    {
     "data": {
      "image/svg+xml": "<?xml version=\"1.0\" encoding=\"utf-8\" standalone=\"no\"?>\n<!DOCTYPE svg PUBLIC \"-//W3C//DTD SVG 1.1//EN\"\n  \"http://www.w3.org/Graphics/SVG/1.1/DTD/svg11.dtd\">\n<svg xmlns:xlink=\"http://www.w3.org/1999/xlink\" width=\"360.967625pt\" height=\"262.7525pt\" viewBox=\"0 0 360.967625 262.7525\" xmlns=\"http://www.w3.org/2000/svg\" version=\"1.1\">\n <metadata>\n  <rdf:RDF xmlns:dc=\"http://purl.org/dc/elements/1.1/\" xmlns:cc=\"http://creativecommons.org/ns#\" xmlns:rdf=\"http://www.w3.org/1999/02/22-rdf-syntax-ns#\">\n   <cc:Work>\n    <dc:type rdf:resource=\"http://purl.org/dc/dcmitype/StillImage\"/>\n    <dc:date>2022-11-20T17:07:48.752025</dc:date>\n    <dc:format>image/svg+xml</dc:format>\n    <dc:creator>\n     <cc:Agent>\n      <dc:title>Matplotlib v3.5.1, https://matplotlib.org/</dc:title>\n     </cc:Agent>\n    </dc:creator>\n   </cc:Work>\n  </rdf:RDF>\n </metadata>\n <defs>\n  <style type=\"text/css\">*{stroke-linejoin: round; stroke-linecap: butt}</style>\n </defs>\n <g id=\"figure_1\">\n  <g id=\"patch_1\">\n   <path d=\"M 0 262.7525 \nL 360.967625 262.7525 \nL 360.967625 0 \nL 0 0 \nL 0 262.7525 \nz\n\" style=\"fill: none\"/>\n  </g>\n  <g id=\"axes_1\">\n   <g id=\"patch_2\">\n    <path d=\"M 38.1125 224.64 \nL 305.9525 224.64 \nL 305.9525 7.2 \nL 38.1125 7.2 \nz\n\" style=\"fill: #ffffff\"/>\n   </g>\n   <g id=\"QuadMesh_1\">\n    <path d=\"M 38.1125 7.2 \nL 91.6805 7.2 \nL 91.6805 50.688 \nL 38.1125 50.688 \nL 38.1125 7.2 \n\" clip-path=\"url(#p00b716b820)\" style=\"fill: #03051a\"/>\n    <path d=\"M 91.6805 7.2 \nL 145.2485 7.2 \nL 145.2485 50.688 \nL 91.6805 50.688 \nL 91.6805 7.2 \n\" clip-path=\"url(#p00b716b820)\" style=\"fill: #03051a\"/>\n    <path d=\"M 145.2485 7.2 \nL 198.8165 7.2 \nL 198.8165 50.688 \nL 145.2485 50.688 \nL 145.2485 7.2 \n\" clip-path=\"url(#p00b716b820)\" style=\"fill: #03051a\"/>\n    <path d=\"M 198.8165 7.2 \nL 252.3845 7.2 \nL 252.3845 50.688 \nL 198.8165 50.688 \nL 198.8165 7.2 \n\" clip-path=\"url(#p00b716b820)\" style=\"fill: #03051a\"/>\n    <path d=\"M 252.3845 7.2 \nL 305.9525 7.2 \nL 305.9525 50.688 \nL 252.3845 50.688 \nL 252.3845 7.2 \n\" clip-path=\"url(#p00b716b820)\" style=\"fill: #03051a\"/>\n    <path d=\"M 38.1125 50.688 \nL 91.6805 50.688 \nL 91.6805 94.176 \nL 38.1125 94.176 \nL 38.1125 50.688 \n\" clip-path=\"url(#p00b716b820)\" style=\"fill: #03051a\"/>\n    <path d=\"M 91.6805 50.688 \nL 145.2485 50.688 \nL 145.2485 94.176 \nL 91.6805 94.176 \nL 91.6805 50.688 \n\" clip-path=\"url(#p00b716b820)\" style=\"fill: #03051a\"/>\n    <path d=\"M 145.2485 50.688 \nL 198.8165 50.688 \nL 198.8165 94.176 \nL 145.2485 94.176 \nL 145.2485 50.688 \n\" clip-path=\"url(#p00b716b820)\" style=\"fill: #03051a\"/>\n    <path d=\"M 198.8165 50.688 \nL 252.3845 50.688 \nL 252.3845 94.176 \nL 198.8165 94.176 \nL 198.8165 50.688 \n\" clip-path=\"url(#p00b716b820)\" style=\"fill: #03051a\"/>\n    <path d=\"M 252.3845 50.688 \nL 305.9525 50.688 \nL 305.9525 94.176 \nL 252.3845 94.176 \nL 252.3845 50.688 \n\" clip-path=\"url(#p00b716b820)\" style=\"fill: #03051a\"/>\n    <path d=\"M 38.1125 94.176 \nL 91.6805 94.176 \nL 91.6805 137.664 \nL 38.1125 137.664 \nL 38.1125 94.176 \n\" clip-path=\"url(#p00b716b820)\" style=\"fill: #03051a\"/>\n    <path d=\"M 91.6805 94.176 \nL 145.2485 94.176 \nL 145.2485 137.664 \nL 91.6805 137.664 \nL 91.6805 94.176 \n\" clip-path=\"url(#p00b716b820)\" style=\"fill: #d92847\"/>\n    <path d=\"M 145.2485 94.176 \nL 198.8165 94.176 \nL 198.8165 137.664 \nL 145.2485 137.664 \nL 145.2485 94.176 \n\" clip-path=\"url(#p00b716b820)\" style=\"fill: #f6be9b\"/>\n    <path d=\"M 198.8165 94.176 \nL 252.3845 94.176 \nL 252.3845 137.664 \nL 198.8165 137.664 \nL 198.8165 94.176 \n\" clip-path=\"url(#p00b716b820)\" style=\"fill: #f9e0cd\"/>\n    <path d=\"M 252.3845 94.176 \nL 305.9525 94.176 \nL 305.9525 137.664 \nL 252.3845 137.664 \nL 252.3845 94.176 \n\" clip-path=\"url(#p00b716b820)\" style=\"fill: #03051a\"/>\n    <path d=\"M 38.1125 137.664 \nL 91.6805 137.664 \nL 91.6805 181.152 \nL 38.1125 181.152 \nL 38.1125 137.664 \n\" clip-path=\"url(#p00b716b820)\" style=\"fill: #d92847\"/>\n    <path d=\"M 91.6805 137.664 \nL 145.2485 137.664 \nL 145.2485 181.152 \nL 91.6805 181.152 \nL 91.6805 137.664 \n\" clip-path=\"url(#p00b716b820)\" style=\"fill: #f8d6be\"/>\n    <path d=\"M 145.2485 137.664 \nL 198.8165 137.664 \nL 198.8165 181.152 \nL 145.2485 181.152 \nL 145.2485 137.664 \n\" clip-path=\"url(#p00b716b820)\" style=\"fill: #fae6d6\"/>\n    <path d=\"M 198.8165 137.664 \nL 252.3845 137.664 \nL 252.3845 181.152 \nL 198.8165 181.152 \nL 198.8165 137.664 \n\" clip-path=\"url(#p00b716b820)\" style=\"fill: #f8dac5\"/>\n    <path d=\"M 252.3845 137.664 \nL 305.9525 137.664 \nL 305.9525 181.152 \nL 252.3845 181.152 \nL 252.3845 137.664 \n\" clip-path=\"url(#p00b716b820)\" style=\"fill: #f7d0b5\"/>\n    <path d=\"M 38.1125 181.152 \nL 91.6805 181.152 \nL 91.6805 224.64 \nL 38.1125 224.64 \nL 38.1125 181.152 \n\" clip-path=\"url(#p00b716b820)\" style=\"fill: #f8d6be\"/>\n    <path d=\"M 91.6805 181.152 \nL 145.2485 181.152 \nL 145.2485 224.64 \nL 91.6805 224.64 \nL 91.6805 181.152 \n\" clip-path=\"url(#p00b716b820)\" style=\"fill: #fae6d6\"/>\n    <path d=\"M 145.2485 181.152 \nL 198.8165 181.152 \nL 198.8165 224.64 \nL 145.2485 224.64 \nL 145.2485 181.152 \n\" clip-path=\"url(#p00b716b820)\" style=\"fill: #faebdd\"/>\n    <path d=\"M 198.8165 181.152 \nL 252.3845 181.152 \nL 252.3845 224.64 \nL 198.8165 224.64 \nL 198.8165 181.152 \n\" clip-path=\"url(#p00b716b820)\" style=\"fill: #f8dac5\"/>\n    <path d=\"M 252.3845 181.152 \nL 305.9525 181.152 \nL 305.9525 224.64 \nL 252.3845 224.64 \nL 252.3845 181.152 \n\" clip-path=\"url(#p00b716b820)\" style=\"fill: #f7c4a4\"/>\n   </g>\n   <g id=\"matplotlib.axis_1\">\n    <g id=\"xtick_1\">\n     <g id=\"line2d_1\">\n      <defs>\n       <path id=\"ma411fb4484\" d=\"M 0 0 \nL 0 3.5 \n\" style=\"stroke: #000000; stroke-width: 0.8\"/>\n      </defs>\n      <g>\n       <use xlink:href=\"#ma411fb4484\" x=\"64.8965\" y=\"224.64\" style=\"stroke: #000000; stroke-width: 0.8\"/>\n      </g>\n     </g>\n     <g id=\"text_1\">\n      <!-- 0.001 -->\n      <g transform=\"translate(52.787125 239.232187)scale(0.1 -0.1)\">\n       <defs>\n        <path id=\"MalgunGothic-30\" d=\"M 278 2206 \nQ 278 3425 675 4050 \nQ 1072 4675 1819 4675 \nQ 3253 4675 3253 2319 \nQ 3253 1156 2854 539 \nQ 2456 -78 1716 -78 \nQ 1016 -78 647 520 \nQ 278 1119 278 2206 \nz\nM 784 2231 \nQ 784 344 1769 344 \nQ 2747 344 2747 2259 \nQ 2747 4250 1794 4250 \nQ 784 4250 784 2231 \nz\n\" transform=\"scale(0.015625)\"/>\n        <path id=\"MalgunGothic-2e\" d=\"M 356 275 \nQ 356 422 459 523 \nQ 563 625 700 625 \nQ 838 625 941 523 \nQ 1044 422 1044 275 \nQ 1044 138 942 33 \nQ 841 -72 700 -72 \nQ 559 -72 457 29 \nQ 356 131 356 275 \nz\n\" transform=\"scale(0.015625)\"/>\n        <path id=\"MalgunGothic-31\" d=\"M 2231 0 \nL 1734 0 \nL 1734 3972 \nQ 1591 3828 1266 3661 \nQ 941 3494 672 3428 \nL 672 3959 \nQ 1016 4056 1409 4275 \nQ 1803 4494 2031 4700 \nL 2231 4700 \nL 2231 0 \nz\n\" transform=\"scale(0.015625)\"/>\n       </defs>\n       <use xlink:href=\"#MalgunGothic-30\"/>\n       <use xlink:href=\"#MalgunGothic-2e\" x=\"55.078125\"/>\n       <use xlink:href=\"#MalgunGothic-30\" x=\"76.953125\"/>\n       <use xlink:href=\"#MalgunGothic-30\" x=\"132.03125\"/>\n       <use xlink:href=\"#MalgunGothic-31\" x=\"187.109375\"/>\n      </g>\n     </g>\n    </g>\n    <g id=\"xtick_2\">\n     <g id=\"line2d_2\">\n      <g>\n       <use xlink:href=\"#ma411fb4484\" x=\"118.4645\" y=\"224.64\" style=\"stroke: #000000; stroke-width: 0.8\"/>\n      </g>\n     </g>\n     <g id=\"text_2\">\n      <!-- 0.01 -->\n      <g transform=\"translate(109.109031 239.232187)scale(0.1 -0.1)\">\n       <use xlink:href=\"#MalgunGothic-30\"/>\n       <use xlink:href=\"#MalgunGothic-2e\" x=\"55.078125\"/>\n       <use xlink:href=\"#MalgunGothic-30\" x=\"76.953125\"/>\n       <use xlink:href=\"#MalgunGothic-31\" x=\"132.03125\"/>\n      </g>\n     </g>\n    </g>\n    <g id=\"xtick_3\">\n     <g id=\"line2d_3\">\n      <g>\n       <use xlink:href=\"#ma411fb4484\" x=\"172.0325\" y=\"224.64\" style=\"stroke: #000000; stroke-width: 0.8\"/>\n      </g>\n     </g>\n     <g id=\"text_3\">\n      <!-- 0.1 -->\n      <g transform=\"translate(165.430938 239.232187)scale(0.1 -0.1)\">\n       <use xlink:href=\"#MalgunGothic-30\"/>\n       <use xlink:href=\"#MalgunGothic-2e\" x=\"55.078125\"/>\n       <use xlink:href=\"#MalgunGothic-31\" x=\"76.953125\"/>\n      </g>\n     </g>\n    </g>\n    <g id=\"xtick_4\">\n     <g id=\"line2d_4\">\n      <g>\n       <use xlink:href=\"#ma411fb4484\" x=\"225.6005\" y=\"224.64\" style=\"stroke: #000000; stroke-width: 0.8\"/>\n      </g>\n     </g>\n     <g id=\"text_4\">\n      <!-- 1.0 -->\n      <g transform=\"translate(218.998938 239.232187)scale(0.1 -0.1)\">\n       <use xlink:href=\"#MalgunGothic-31\"/>\n       <use xlink:href=\"#MalgunGothic-2e\" x=\"55.078125\"/>\n       <use xlink:href=\"#MalgunGothic-30\" x=\"76.953125\"/>\n      </g>\n     </g>\n    </g>\n    <g id=\"xtick_5\">\n     <g id=\"line2d_5\">\n      <g>\n       <use xlink:href=\"#ma411fb4484\" x=\"279.1685\" y=\"224.64\" style=\"stroke: #000000; stroke-width: 0.8\"/>\n      </g>\n     </g>\n     <g id=\"text_5\">\n      <!-- 10.0 -->\n      <g transform=\"translate(269.813031 239.232187)scale(0.1 -0.1)\">\n       <use xlink:href=\"#MalgunGothic-31\"/>\n       <use xlink:href=\"#MalgunGothic-30\" x=\"55.078125\"/>\n       <use xlink:href=\"#MalgunGothic-2e\" x=\"110.15625\"/>\n       <use xlink:href=\"#MalgunGothic-30\" x=\"132.03125\"/>\n      </g>\n     </g>\n    </g>\n    <g id=\"text_6\">\n     <!-- gamma -->\n     <g transform=\"translate(155.023906 253.135312)scale(0.1 -0.1)\">\n      <defs>\n       <path id=\"MalgunGothic-67\" d=\"M 3313 259 \nQ 3313 -1547 1603 -1547 \nQ 1003 -1547 538 -1313 \nL 538 -806 \nQ 1088 -1116 1600 -1116 \nQ 2822 -1116 2822 194 \nL 2822 559 \nL 2809 559 \nQ 2422 -78 1675 -78 \nQ 1066 -78 691 362 \nQ 316 803 316 1534 \nQ 316 2375 722 2867 \nQ 1128 3359 1816 3359 \nQ 2484 3359 2809 2822 \nL 2822 2822 \nL 2822 3284 \nL 3313 3284 \nL 3313 259 \nz\nM 2822 1978 \nQ 2822 2378 2547 2659 \nQ 2272 2941 1878 2941 \nQ 1384 2941 1101 2577 \nQ 819 2213 819 1572 \nQ 819 1016 1092 680 \nQ 1366 344 1803 344 \nQ 2247 344 2534 666 \nQ 2822 988 2822 1478 \nL 2822 1978 \nz\n\" transform=\"scale(0.015625)\"/>\n       <path id=\"MalgunGothic-61\" d=\"M 616 3050 \nQ 1097 3359 1722 3359 \nQ 2866 3359 2866 2147 \nL 2866 0 \nL 2369 0 \nL 2369 516 \nL 2350 516 \nQ 2009 -78 1341 -78 \nQ 859 -78 576 180 \nQ 294 438 294 869 \nQ 294 1784 1375 1934 \nL 2366 2078 \nQ 2366 2934 1684 2934 \nQ 1084 2934 616 2525 \nL 616 3050 \nz\nM 1563 1559 \nQ 1178 1509 993 1371 \nQ 809 1234 809 903 \nQ 809 653 986 500 \nQ 1163 347 1450 347 \nQ 1847 347 2106 628 \nQ 2366 909 2366 1334 \nL 2366 1666 \nL 1563 1559 \nz\n\" transform=\"scale(0.015625)\"/>\n       <path id=\"MalgunGothic-6d\" d=\"M 5166 0 \nL 4669 0 \nL 4669 1884 \nQ 4669 2463 4495 2702 \nQ 4322 2941 3922 2941 \nQ 3584 2941 3342 2623 \nQ 3100 2306 3100 1875 \nL 3100 0 \nL 2606 0 \nL 2606 1953 \nQ 2606 2941 1844 2941 \nQ 1497 2941 1265 2642 \nQ 1034 2344 1034 1875 \nL 1034 0 \nL 538 0 \nL 538 3284 \nL 1034 3284 \nL 1034 2763 \nL 1047 2763 \nQ 1391 3359 2063 3359 \nQ 2381 3359 2636 3176 \nQ 2891 2994 2991 2675 \nQ 3356 3359 4081 3359 \nQ 5166 3359 5166 2022 \nL 5166 0 \nz\n\" transform=\"scale(0.015625)\"/>\n      </defs>\n      <use xlink:href=\"#MalgunGothic-67\"/>\n      <use xlink:href=\"#MalgunGothic-61\" x=\"60.205078\"/>\n      <use xlink:href=\"#MalgunGothic-6d\" x=\"112.207031\"/>\n      <use xlink:href=\"#MalgunGothic-6d\" x=\"200.195312\"/>\n      <use xlink:href=\"#MalgunGothic-61\" x=\"288.183594\"/>\n     </g>\n    </g>\n   </g>\n   <g id=\"matplotlib.axis_2\">\n    <g id=\"ytick_1\">\n     <g id=\"line2d_6\">\n      <defs>\n       <path id=\"m118725c082\" d=\"M 0 0 \nL -3.5 0 \n\" style=\"stroke: #000000; stroke-width: 0.8\"/>\n      </defs>\n      <g>\n       <use xlink:href=\"#m118725c082\" x=\"38.1125\" y=\"28.944\" style=\"stroke: #000000; stroke-width: 0.8\"/>\n      </g>\n     </g>\n     <g id=\"text_7\">\n      <!-- 0.001 -->\n      <g transform=\"translate(28.748438 41.053375)rotate(-90)scale(0.1 -0.1)\">\n       <use xlink:href=\"#MalgunGothic-30\"/>\n       <use xlink:href=\"#MalgunGothic-2e\" x=\"55.078125\"/>\n       <use xlink:href=\"#MalgunGothic-30\" x=\"76.953125\"/>\n       <use xlink:href=\"#MalgunGothic-30\" x=\"132.03125\"/>\n       <use xlink:href=\"#MalgunGothic-31\" x=\"187.109375\"/>\n      </g>\n     </g>\n    </g>\n    <g id=\"ytick_2\">\n     <g id=\"line2d_7\">\n      <g>\n       <use xlink:href=\"#m118725c082\" x=\"38.1125\" y=\"72.432\" style=\"stroke: #000000; stroke-width: 0.8\"/>\n      </g>\n     </g>\n     <g id=\"text_8\">\n      <!-- 0.01 -->\n      <g transform=\"translate(28.748438 81.787469)rotate(-90)scale(0.1 -0.1)\">\n       <use xlink:href=\"#MalgunGothic-30\"/>\n       <use xlink:href=\"#MalgunGothic-2e\" x=\"55.078125\"/>\n       <use xlink:href=\"#MalgunGothic-30\" x=\"76.953125\"/>\n       <use xlink:href=\"#MalgunGothic-31\" x=\"132.03125\"/>\n      </g>\n     </g>\n    </g>\n    <g id=\"ytick_3\">\n     <g id=\"line2d_8\">\n      <g>\n       <use xlink:href=\"#m118725c082\" x=\"38.1125\" y=\"115.92\" style=\"stroke: #000000; stroke-width: 0.8\"/>\n      </g>\n     </g>\n     <g id=\"text_9\">\n      <!-- 0.1 -->\n      <g transform=\"translate(28.748438 122.521562)rotate(-90)scale(0.1 -0.1)\">\n       <use xlink:href=\"#MalgunGothic-30\"/>\n       <use xlink:href=\"#MalgunGothic-2e\" x=\"55.078125\"/>\n       <use xlink:href=\"#MalgunGothic-31\" x=\"76.953125\"/>\n      </g>\n     </g>\n    </g>\n    <g id=\"ytick_4\">\n     <g id=\"line2d_9\">\n      <g>\n       <use xlink:href=\"#m118725c082\" x=\"38.1125\" y=\"159.408\" style=\"stroke: #000000; stroke-width: 0.8\"/>\n      </g>\n     </g>\n     <g id=\"text_10\">\n      <!-- 1.0 -->\n      <g transform=\"translate(28.748438 166.009562)rotate(-90)scale(0.1 -0.1)\">\n       <use xlink:href=\"#MalgunGothic-31\"/>\n       <use xlink:href=\"#MalgunGothic-2e\" x=\"55.078125\"/>\n       <use xlink:href=\"#MalgunGothic-30\" x=\"76.953125\"/>\n      </g>\n     </g>\n    </g>\n    <g id=\"ytick_5\">\n     <g id=\"line2d_10\">\n      <g>\n       <use xlink:href=\"#m118725c082\" x=\"38.1125\" y=\"202.896\" style=\"stroke: #000000; stroke-width: 0.8\"/>\n      </g>\n     </g>\n     <g id=\"text_11\">\n      <!-- 10.0 -->\n      <g transform=\"translate(28.748438 212.251469)rotate(-90)scale(0.1 -0.1)\">\n       <use xlink:href=\"#MalgunGothic-31\"/>\n       <use xlink:href=\"#MalgunGothic-30\" x=\"55.078125\"/>\n       <use xlink:href=\"#MalgunGothic-2e\" x=\"110.15625\"/>\n       <use xlink:href=\"#MalgunGothic-30\" x=\"132.03125\"/>\n      </g>\n     </g>\n    </g>\n    <g id=\"text_12\">\n     <!-- C -->\n     <g transform=\"translate(14.792188 119.094219)rotate(-90)scale(0.1 -0.1)\">\n      <defs>\n       <path id=\"MalgunGothic-43\" d=\"M 3725 197 \nQ 3216 -78 2459 -78 \nQ 1488 -78 897 561 \nQ 306 1200 306 2213 \nQ 306 3281 959 3978 \nQ 1613 4675 2644 4675 \nQ 3297 4675 3725 4484 \nL 3725 3941 \nQ 3234 4213 2634 4213 \nQ 1813 4213 1325 3659 \nQ 838 3106 838 2241 \nQ 838 1413 1297 897 \nQ 1756 381 2522 381 \nQ 3216 381 3725 688 \nL 3725 197 \nz\n\" transform=\"scale(0.015625)\"/>\n      </defs>\n      <use xlink:href=\"#MalgunGothic-43\"/>\n     </g>\n    </g>\n   </g>\n   <g id=\"text_13\">\n    <!-- 0.37 -->\n    <g style=\"fill: #ffffff\" transform=\"translate(55.541031 31.558062)scale(0.1 -0.1)\">\n     <defs>\n      <path id=\"MalgunGothic-33\" d=\"M 416 719 \nQ 891 344 1478 344 \nQ 1959 344 2254 587 \nQ 2550 831 2550 1247 \nQ 2550 2169 1253 2169 \nL 872 2169 \nL 872 2591 \nL 1234 2591 \nQ 2388 2591 2388 3453 \nQ 2388 4250 1509 4250 \nQ 1022 4250 594 3916 \nL 594 4413 \nQ 1031 4675 1634 4675 \nQ 2184 4675 2539 4372 \nQ 2894 4069 2894 3581 \nQ 2894 2678 1972 2409 \nL 1972 2400 \nQ 2469 2356 2764 2053 \nQ 3059 1750 3059 1300 \nQ 3059 672 2604 297 \nQ 2150 -78 1450 -78 \nQ 806 -78 416 169 \nL 416 719 \nz\n\" transform=\"scale(0.015625)\"/>\n      <path id=\"MalgunGothic-37\" d=\"M 3213 4297 \nQ 2478 3006 2064 1918 \nQ 1650 831 1550 0 \nL 1009 0 \nQ 1084 531 1290 1176 \nQ 1497 1822 1815 2537 \nQ 2134 3253 2631 4147 \nL 291 4147 \nL 291 4600 \nL 3213 4600 \nL 3213 4297 \nz\n\" transform=\"scale(0.015625)\"/>\n     </defs>\n     <use xlink:href=\"#MalgunGothic-30\"/>\n     <use xlink:href=\"#MalgunGothic-2e\" x=\"55.078125\"/>\n     <use xlink:href=\"#MalgunGothic-33\" x=\"76.953125\"/>\n     <use xlink:href=\"#MalgunGothic-37\" x=\"132.03125\"/>\n    </g>\n   </g>\n   <g id=\"text_14\">\n    <!-- 0.37 -->\n    <g style=\"fill: #ffffff\" transform=\"translate(109.109031 31.558062)scale(0.1 -0.1)\">\n     <use xlink:href=\"#MalgunGothic-30\"/>\n     <use xlink:href=\"#MalgunGothic-2e\" x=\"55.078125\"/>\n     <use xlink:href=\"#MalgunGothic-33\" x=\"76.953125\"/>\n     <use xlink:href=\"#MalgunGothic-37\" x=\"132.03125\"/>\n    </g>\n   </g>\n   <g id=\"text_15\">\n    <!-- 0.37 -->\n    <g style=\"fill: #ffffff\" transform=\"translate(162.677031 31.558062)scale(0.1 -0.1)\">\n     <use xlink:href=\"#MalgunGothic-30\"/>\n     <use xlink:href=\"#MalgunGothic-2e\" x=\"55.078125\"/>\n     <use xlink:href=\"#MalgunGothic-33\" x=\"76.953125\"/>\n     <use xlink:href=\"#MalgunGothic-37\" x=\"132.03125\"/>\n    </g>\n   </g>\n   <g id=\"text_16\">\n    <!-- 0.37 -->\n    <g style=\"fill: #ffffff\" transform=\"translate(216.245031 31.558062)scale(0.1 -0.1)\">\n     <use xlink:href=\"#MalgunGothic-30\"/>\n     <use xlink:href=\"#MalgunGothic-2e\" x=\"55.078125\"/>\n     <use xlink:href=\"#MalgunGothic-33\" x=\"76.953125\"/>\n     <use xlink:href=\"#MalgunGothic-37\" x=\"132.03125\"/>\n    </g>\n   </g>\n   <g id=\"text_17\">\n    <!-- 0.37 -->\n    <g style=\"fill: #ffffff\" transform=\"translate(269.813031 31.558062)scale(0.1 -0.1)\">\n     <use xlink:href=\"#MalgunGothic-30\"/>\n     <use xlink:href=\"#MalgunGothic-2e\" x=\"55.078125\"/>\n     <use xlink:href=\"#MalgunGothic-33\" x=\"76.953125\"/>\n     <use xlink:href=\"#MalgunGothic-37\" x=\"132.03125\"/>\n    </g>\n   </g>\n   <g id=\"text_18\">\n    <!-- 0.37 -->\n    <g style=\"fill: #ffffff\" transform=\"translate(55.541031 75.046062)scale(0.1 -0.1)\">\n     <use xlink:href=\"#MalgunGothic-30\"/>\n     <use xlink:href=\"#MalgunGothic-2e\" x=\"55.078125\"/>\n     <use xlink:href=\"#MalgunGothic-33\" x=\"76.953125\"/>\n     <use xlink:href=\"#MalgunGothic-37\" x=\"132.03125\"/>\n    </g>\n   </g>\n   <g id=\"text_19\">\n    <!-- 0.37 -->\n    <g style=\"fill: #ffffff\" transform=\"translate(109.109031 75.046062)scale(0.1 -0.1)\">\n     <use xlink:href=\"#MalgunGothic-30\"/>\n     <use xlink:href=\"#MalgunGothic-2e\" x=\"55.078125\"/>\n     <use xlink:href=\"#MalgunGothic-33\" x=\"76.953125\"/>\n     <use xlink:href=\"#MalgunGothic-37\" x=\"132.03125\"/>\n    </g>\n   </g>\n   <g id=\"text_20\">\n    <!-- 0.37 -->\n    <g style=\"fill: #ffffff\" transform=\"translate(162.677031 75.046062)scale(0.1 -0.1)\">\n     <use xlink:href=\"#MalgunGothic-30\"/>\n     <use xlink:href=\"#MalgunGothic-2e\" x=\"55.078125\"/>\n     <use xlink:href=\"#MalgunGothic-33\" x=\"76.953125\"/>\n     <use xlink:href=\"#MalgunGothic-37\" x=\"132.03125\"/>\n    </g>\n   </g>\n   <g id=\"text_21\">\n    <!-- 0.37 -->\n    <g style=\"fill: #ffffff\" transform=\"translate(216.245031 75.046062)scale(0.1 -0.1)\">\n     <use xlink:href=\"#MalgunGothic-30\"/>\n     <use xlink:href=\"#MalgunGothic-2e\" x=\"55.078125\"/>\n     <use xlink:href=\"#MalgunGothic-33\" x=\"76.953125\"/>\n     <use xlink:href=\"#MalgunGothic-37\" x=\"132.03125\"/>\n    </g>\n   </g>\n   <g id=\"text_22\">\n    <!-- 0.37 -->\n    <g style=\"fill: #ffffff\" transform=\"translate(269.813031 75.046062)scale(0.1 -0.1)\">\n     <use xlink:href=\"#MalgunGothic-30\"/>\n     <use xlink:href=\"#MalgunGothic-2e\" x=\"55.078125\"/>\n     <use xlink:href=\"#MalgunGothic-33\" x=\"76.953125\"/>\n     <use xlink:href=\"#MalgunGothic-37\" x=\"132.03125\"/>\n    </g>\n   </g>\n   <g id=\"text_23\">\n    <!-- 0.37 -->\n    <g style=\"fill: #ffffff\" transform=\"translate(55.541031 118.534062)scale(0.1 -0.1)\">\n     <use xlink:href=\"#MalgunGothic-30\"/>\n     <use xlink:href=\"#MalgunGothic-2e\" x=\"55.078125\"/>\n     <use xlink:href=\"#MalgunGothic-33\" x=\"76.953125\"/>\n     <use xlink:href=\"#MalgunGothic-37\" x=\"132.03125\"/>\n    </g>\n   </g>\n   <g id=\"text_24\">\n    <!-- 0.7 -->\n    <g style=\"fill: #ffffff\" transform=\"translate(111.862938 118.534062)scale(0.1 -0.1)\">\n     <use xlink:href=\"#MalgunGothic-30\"/>\n     <use xlink:href=\"#MalgunGothic-2e\" x=\"55.078125\"/>\n     <use xlink:href=\"#MalgunGothic-37\" x=\"76.953125\"/>\n    </g>\n   </g>\n   <g id=\"text_25\">\n    <!-- 0.9 -->\n    <g style=\"fill: #262626\" transform=\"translate(165.430938 118.534062)scale(0.1 -0.1)\">\n     <defs>\n      <path id=\"MalgunGothic-39\" d=\"M 556 563 \nQ 941 344 1366 344 \nQ 1994 344 2347 855 \nQ 2700 1366 2700 2313 \nQ 2694 2306 2688 2313 \nQ 2388 1713 1653 1713 \nQ 1059 1713 682 2120 \nQ 306 2528 306 3144 \nQ 306 3806 711 4240 \nQ 1116 4675 1772 4675 \nQ 2466 4675 2833 4131 \nQ 3200 3588 3200 2578 \nQ 3200 1319 2717 620 \nQ 2234 -78 1344 -78 \nQ 881 -78 556 78 \nL 556 563 \nz\nM 813 3219 \nQ 813 2741 1063 2450 \nQ 1313 2159 1759 2159 \nQ 2147 2159 2406 2417 \nQ 2666 2675 2666 3047 \nQ 2666 3556 2411 3903 \nQ 2156 4250 1725 4250 \nQ 1322 4250 1067 3948 \nQ 813 3647 813 3219 \nz\n\" transform=\"scale(0.015625)\"/>\n     </defs>\n     <use xlink:href=\"#MalgunGothic-30\"/>\n     <use xlink:href=\"#MalgunGothic-2e\" x=\"55.078125\"/>\n     <use xlink:href=\"#MalgunGothic-39\" x=\"76.953125\"/>\n    </g>\n   </g>\n   <g id=\"text_26\">\n    <!-- 0.96 -->\n    <g style=\"fill: #262626\" transform=\"translate(216.245031 118.534062)scale(0.1 -0.1)\">\n     <defs>\n      <path id=\"MalgunGothic-36\" d=\"M 2981 4069 \nQ 2619 4250 2228 4250 \nQ 1591 4250 1228 3689 \nQ 866 3128 869 2213 \nL 884 2213 \nQ 1203 2872 1938 2872 \nQ 2547 2872 2903 2478 \nQ 3259 2084 3259 1450 \nQ 3259 797 2857 359 \nQ 2456 -78 1825 -78 \nQ 1116 -78 736 478 \nQ 356 1034 356 2019 \nQ 356 3181 847 3928 \nQ 1338 4675 2222 4675 \nQ 2700 4675 2981 4544 \nL 2981 4069 \nz\nM 906 1506 \nQ 906 1022 1165 683 \nQ 1425 344 1844 344 \nQ 2247 344 2498 645 \nQ 2750 947 2750 1388 \nQ 2750 1888 2509 2167 \nQ 2269 2447 1838 2447 \nQ 1444 2447 1175 2173 \nQ 906 1900 906 1506 \nz\n\" transform=\"scale(0.015625)\"/>\n     </defs>\n     <use xlink:href=\"#MalgunGothic-30\"/>\n     <use xlink:href=\"#MalgunGothic-2e\" x=\"55.078125\"/>\n     <use xlink:href=\"#MalgunGothic-39\" x=\"76.953125\"/>\n     <use xlink:href=\"#MalgunGothic-36\" x=\"132.03125\"/>\n    </g>\n   </g>\n   <g id=\"text_27\">\n    <!-- 0.37 -->\n    <g style=\"fill: #ffffff\" transform=\"translate(269.813031 118.534062)scale(0.1 -0.1)\">\n     <use xlink:href=\"#MalgunGothic-30\"/>\n     <use xlink:href=\"#MalgunGothic-2e\" x=\"55.078125\"/>\n     <use xlink:href=\"#MalgunGothic-33\" x=\"76.953125\"/>\n     <use xlink:href=\"#MalgunGothic-37\" x=\"132.03125\"/>\n    </g>\n   </g>\n   <g id=\"text_28\">\n    <!-- 0.7 -->\n    <g style=\"fill: #ffffff\" transform=\"translate(58.294938 162.022062)scale(0.1 -0.1)\">\n     <use xlink:href=\"#MalgunGothic-30\"/>\n     <use xlink:href=\"#MalgunGothic-2e\" x=\"55.078125\"/>\n     <use xlink:href=\"#MalgunGothic-37\" x=\"76.953125\"/>\n    </g>\n   </g>\n   <g id=\"text_29\">\n    <!-- 0.94 -->\n    <g style=\"fill: #262626\" transform=\"translate(109.109031 162.022062)scale(0.1 -0.1)\">\n     <defs>\n      <path id=\"MalgunGothic-34\" d=\"M 2703 4600 \nL 2703 1563 \nL 3309 1563 \nL 3309 1113 \nL 2703 1113 \nL 2703 0 \nL 2213 0 \nL 2213 1113 \nL 50 1113 \nL 50 1534 \nQ 728 2297 1295 3109 \nQ 1863 3922 2172 4600 \nL 2703 4600 \nz\nM 625 1563 \nL 2213 1563 \nL 2213 3831 \nQ 1613 2788 959 1981 \nL 625 1563 \nz\n\" transform=\"scale(0.015625)\"/>\n     </defs>\n     <use xlink:href=\"#MalgunGothic-30\"/>\n     <use xlink:href=\"#MalgunGothic-2e\" x=\"55.078125\"/>\n     <use xlink:href=\"#MalgunGothic-39\" x=\"76.953125\"/>\n     <use xlink:href=\"#MalgunGothic-34\" x=\"132.03125\"/>\n    </g>\n   </g>\n   <g id=\"text_30\">\n    <!-- 0.96 -->\n    <g style=\"fill: #262626\" transform=\"translate(162.677031 162.022062)scale(0.1 -0.1)\">\n     <use xlink:href=\"#MalgunGothic-30\"/>\n     <use xlink:href=\"#MalgunGothic-2e\" x=\"55.078125\"/>\n     <use xlink:href=\"#MalgunGothic-39\" x=\"76.953125\"/>\n     <use xlink:href=\"#MalgunGothic-36\" x=\"132.03125\"/>\n    </g>\n   </g>\n   <g id=\"text_31\">\n    <!-- 0.95 -->\n    <g style=\"fill: #262626\" transform=\"translate(216.245031 162.022062)scale(0.1 -0.1)\">\n     <defs>\n      <path id=\"MalgunGothic-35\" d=\"M 3072 1403 \nQ 3072 722 2636 322 \nQ 2200 -78 1469 -78 \nQ 828 -78 516 113 \nL 516 650 \nQ 994 344 1475 344 \nQ 1969 344 2270 630 \nQ 2572 916 2572 1372 \nQ 2572 1838 2265 2092 \nQ 1959 2347 1381 2347 \nQ 994 2347 603 2300 \nL 759 4600 \nL 2869 4600 \nL 2869 4147 \nL 1206 4147 \nL 1106 2763 \nQ 1347 2784 1547 2784 \nQ 2263 2784 2667 2414 \nQ 3072 2044 3072 1403 \nz\n\" transform=\"scale(0.015625)\"/>\n     </defs>\n     <use xlink:href=\"#MalgunGothic-30\"/>\n     <use xlink:href=\"#MalgunGothic-2e\" x=\"55.078125\"/>\n     <use xlink:href=\"#MalgunGothic-39\" x=\"76.953125\"/>\n     <use xlink:href=\"#MalgunGothic-35\" x=\"132.03125\"/>\n    </g>\n   </g>\n   <g id=\"text_32\">\n    <!-- 0.93 -->\n    <g style=\"fill: #262626\" transform=\"translate(269.813031 162.022062)scale(0.1 -0.1)\">\n     <use xlink:href=\"#MalgunGothic-30\"/>\n     <use xlink:href=\"#MalgunGothic-2e\" x=\"55.078125\"/>\n     <use xlink:href=\"#MalgunGothic-39\" x=\"76.953125\"/>\n     <use xlink:href=\"#MalgunGothic-33\" x=\"132.03125\"/>\n    </g>\n   </g>\n   <g id=\"text_33\">\n    <!-- 0.94 -->\n    <g style=\"fill: #262626\" transform=\"translate(55.541031 205.510062)scale(0.1 -0.1)\">\n     <use xlink:href=\"#MalgunGothic-30\"/>\n     <use xlink:href=\"#MalgunGothic-2e\" x=\"55.078125\"/>\n     <use xlink:href=\"#MalgunGothic-39\" x=\"76.953125\"/>\n     <use xlink:href=\"#MalgunGothic-34\" x=\"132.03125\"/>\n    </g>\n   </g>\n   <g id=\"text_34\">\n    <!-- 0.96 -->\n    <g style=\"fill: #262626\" transform=\"translate(109.109031 205.510062)scale(0.1 -0.1)\">\n     <use xlink:href=\"#MalgunGothic-30\"/>\n     <use xlink:href=\"#MalgunGothic-2e\" x=\"55.078125\"/>\n     <use xlink:href=\"#MalgunGothic-39\" x=\"76.953125\"/>\n     <use xlink:href=\"#MalgunGothic-36\" x=\"132.03125\"/>\n    </g>\n   </g>\n   <g id=\"text_35\">\n    <!-- 0.97 -->\n    <g style=\"fill: #262626\" transform=\"translate(162.677031 205.510062)scale(0.1 -0.1)\">\n     <use xlink:href=\"#MalgunGothic-30\"/>\n     <use xlink:href=\"#MalgunGothic-2e\" x=\"55.078125\"/>\n     <use xlink:href=\"#MalgunGothic-39\" x=\"76.953125\"/>\n     <use xlink:href=\"#MalgunGothic-37\" x=\"132.03125\"/>\n    </g>\n   </g>\n   <g id=\"text_36\">\n    <!-- 0.95 -->\n    <g style=\"fill: #262626\" transform=\"translate(216.245031 205.510062)scale(0.1 -0.1)\">\n     <use xlink:href=\"#MalgunGothic-30\"/>\n     <use xlink:href=\"#MalgunGothic-2e\" x=\"55.078125\"/>\n     <use xlink:href=\"#MalgunGothic-39\" x=\"76.953125\"/>\n     <use xlink:href=\"#MalgunGothic-35\" x=\"132.03125\"/>\n    </g>\n   </g>\n   <g id=\"text_37\">\n    <!-- 0.91 -->\n    <g style=\"fill: #262626\" transform=\"translate(269.813031 205.510062)scale(0.1 -0.1)\">\n     <use xlink:href=\"#MalgunGothic-30\"/>\n     <use xlink:href=\"#MalgunGothic-2e\" x=\"55.078125\"/>\n     <use xlink:href=\"#MalgunGothic-39\" x=\"76.953125\"/>\n     <use xlink:href=\"#MalgunGothic-31\" x=\"132.03125\"/>\n    </g>\n   </g>\n  </g>\n  <g id=\"axes_2\">\n   <g id=\"patch_3\">\n    <path d=\"M 322.6925 224.64 \nL 333.5645 224.64 \nL 333.5645 7.2 \nL 322.6925 7.2 \nz\n\" style=\"fill: #ffffff\"/>\n   </g>\n   <g id=\"patch_4\">\n    <path clip-path=\"url(#p5b75a88f22)\" style=\"fill: #ffffff; stroke: #ffffff; stroke-width: 0.01; stroke-linejoin: miter\"/>\n   </g>\n   <image xlink:href=\"data:image/png;base64,\niVBORw0KGgoAAAANSUhEUgAAAAsAAADaCAYAAABwzrisAAABZklEQVR4nO3aQW7DMAxEUdJSLtH73zNdFt3xLQZggHg9ID6HI8lW0uf1867hc3uqrKrbPZeb+OlHxIJRhJFq8OQaJJ/FDRu3VD6PuBFjxsrATOMORnRHZQv/lnF/nhvW4Fiq2Tgl4c9N0KybP7jzixuEkVwpgEE+3+AEl4R/hc/BIEnl5LgBw8Ydw0hmA8TW4PhbouoewyBxbHWTeIkbghF0Q8RHmD/RDWxwrrYGg/vGG5gx/Ck3mirPC9c9scrILGKYt2GcJgwQ46uaVI4xP5BRZR5row3CZndb3Mgxw2e3YuTcMOvGWsaAykk3AKNi2XiuYFDqqMEllWGHvg0nkGGUVM5hNBz1xmwNypWFYcCbXXQoIpYbV2OOuZFjLvnxpU5u3LEGc9aZG4SxxA25ul/ihu11FP75Sb+G2TCWuJFbKV83/sTdsmCvNJiboFWWBmPjNp93ZAPdeIUw6F8W3wb/iVMr5Rdtti0nCZ1qXwAAAABJRU5ErkJggg==\" id=\"imagebd4ac6ff6c\" transform=\"scale(1 -1)translate(0 -218)\" x=\"323\" y=\"-6\" width=\"11\" height=\"218\"/>\n   <g id=\"matplotlib.axis_3\">\n    <g id=\"ytick_6\">\n     <g id=\"line2d_11\">\n      <defs>\n       <path id=\"m673302734e\" d=\"M 0 0 \nL 3.5 0 \n\" style=\"stroke: #000000; stroke-width: 0.8\"/>\n      </defs>\n      <g>\n       <use xlink:href=\"#m673302734e\" x=\"333.5645\" y=\"212.599349\" style=\"stroke: #000000; stroke-width: 0.8\"/>\n      </g>\n     </g>\n     <g id=\"text_38\">\n      <!-- 0.4 -->\n      <g transform=\"translate(340.5645 216.395442)scale(0.1 -0.1)\">\n       <use xlink:href=\"#MalgunGothic-30\"/>\n       <use xlink:href=\"#MalgunGothic-2e\" x=\"55.078125\"/>\n       <use xlink:href=\"#MalgunGothic-34\" x=\"76.953125\"/>\n      </g>\n     </g>\n    </g>\n    <g id=\"ytick_7\">\n     <g id=\"line2d_12\">\n      <g>\n       <use xlink:href=\"#m673302734e\" x=\"333.5645\" y=\"176.760704\" style=\"stroke: #000000; stroke-width: 0.8\"/>\n      </g>\n     </g>\n     <g id=\"text_39\">\n      <!-- 0.5 -->\n      <g transform=\"translate(340.5645 180.556797)scale(0.1 -0.1)\">\n       <use xlink:href=\"#MalgunGothic-30\"/>\n       <use xlink:href=\"#MalgunGothic-2e\" x=\"55.078125\"/>\n       <use xlink:href=\"#MalgunGothic-35\" x=\"76.953125\"/>\n      </g>\n     </g>\n    </g>\n    <g id=\"ytick_8\">\n     <g id=\"line2d_13\">\n      <g>\n       <use xlink:href=\"#m673302734e\" x=\"333.5645\" y=\"140.922059\" style=\"stroke: #000000; stroke-width: 0.8\"/>\n      </g>\n     </g>\n     <g id=\"text_40\">\n      <!-- 0.6 -->\n      <g transform=\"translate(340.5645 144.718152)scale(0.1 -0.1)\">\n       <use xlink:href=\"#MalgunGothic-30\"/>\n       <use xlink:href=\"#MalgunGothic-2e\" x=\"55.078125\"/>\n       <use xlink:href=\"#MalgunGothic-36\" x=\"76.953125\"/>\n      </g>\n     </g>\n    </g>\n    <g id=\"ytick_9\">\n     <g id=\"line2d_14\">\n      <g>\n       <use xlink:href=\"#m673302734e\" x=\"333.5645\" y=\"105.083414\" style=\"stroke: #000000; stroke-width: 0.8\"/>\n      </g>\n     </g>\n     <g id=\"text_41\">\n      <!-- 0.7 -->\n      <g transform=\"translate(340.5645 108.879507)scale(0.1 -0.1)\">\n       <use xlink:href=\"#MalgunGothic-30\"/>\n       <use xlink:href=\"#MalgunGothic-2e\" x=\"55.078125\"/>\n       <use xlink:href=\"#MalgunGothic-37\" x=\"76.953125\"/>\n      </g>\n     </g>\n    </g>\n    <g id=\"ytick_10\">\n     <g id=\"line2d_15\">\n      <g>\n       <use xlink:href=\"#m673302734e\" x=\"333.5645\" y=\"69.244769\" style=\"stroke: #000000; stroke-width: 0.8\"/>\n      </g>\n     </g>\n     <g id=\"text_42\">\n      <!-- 0.8 -->\n      <g transform=\"translate(340.5645 73.040862)scale(0.1 -0.1)\">\n       <defs>\n        <path id=\"MalgunGothic-38\" d=\"M 303 1281 \nQ 303 1669 539 2011 \nQ 775 2353 1153 2494 \nQ 856 2647 675 2915 \nQ 494 3184 494 3500 \nQ 494 3828 659 4098 \nQ 825 4369 1122 4522 \nQ 1419 4675 1778 4675 \nQ 2334 4675 2700 4342 \nQ 3066 4009 3066 3500 \nQ 3066 3181 2881 2914 \nQ 2697 2647 2413 2494 \nQ 2788 2350 3022 2009 \nQ 3256 1669 3256 1281 \nQ 3256 672 2843 297 \nQ 2431 -78 1778 -78 \nQ 1131 -78 717 301 \nQ 303 681 303 1281 \nz\nM 809 1328 \nQ 809 878 1081 611 \nQ 1353 344 1781 344 \nQ 2206 344 2482 619 \nQ 2759 894 2759 1328 \nQ 2759 1731 2482 2011 \nQ 2206 2291 1781 2291 \nQ 1372 2291 1090 2020 \nQ 809 1750 809 1328 \nz\nM 1003 3459 \nQ 1003 3125 1234 2900 \nQ 1466 2675 1781 2675 \nQ 2097 2675 2330 2900 \nQ 2563 3125 2563 3459 \nQ 2563 3803 2341 4026 \nQ 2119 4250 1781 4250 \nQ 1450 4250 1226 4029 \nQ 1003 3809 1003 3459 \nz\n\" transform=\"scale(0.015625)\"/>\n       </defs>\n       <use xlink:href=\"#MalgunGothic-30\"/>\n       <use xlink:href=\"#MalgunGothic-2e\" x=\"55.078125\"/>\n       <use xlink:href=\"#MalgunGothic-38\" x=\"76.953125\"/>\n      </g>\n     </g>\n    </g>\n    <g id=\"ytick_11\">\n     <g id=\"line2d_16\">\n      <g>\n       <use xlink:href=\"#m673302734e\" x=\"333.5645\" y=\"33.406124\" style=\"stroke: #000000; stroke-width: 0.8\"/>\n      </g>\n     </g>\n     <g id=\"text_43\">\n      <!-- 0.9 -->\n      <g transform=\"translate(340.5645 37.202218)scale(0.1 -0.1)\">\n       <use xlink:href=\"#MalgunGothic-30\"/>\n       <use xlink:href=\"#MalgunGothic-2e\" x=\"55.078125\"/>\n       <use xlink:href=\"#MalgunGothic-39\" x=\"76.953125\"/>\n      </g>\n     </g>\n    </g>\n   </g>\n   <g id=\"LineCollection_1\"/>\n   <g id=\"patch_5\">\n    <path d=\"M 322.6925 224.64 \nL 328.1285 224.64 \nL 333.5645 224.64 \nL 333.5645 7.2 \nL 328.1285 7.2 \nL 322.6925 7.2 \nL 322.6925 224.64 \nz\n\" style=\"fill: none\"/>\n   </g>\n  </g>\n </g>\n <defs>\n  <clipPath id=\"p00b716b820\">\n   <rect x=\"38.1125\" y=\"7.2\" width=\"267.84\" height=\"217.44\"/>\n  </clipPath>\n  <clipPath id=\"p5b75a88f22\">\n   <rect x=\"322.6925\" y=\"7.2\" width=\"10.872\" height=\"217.44\"/>\n  </clipPath>\n </defs>\n</svg>\n",
      "text/plain": [
       "<Figure size 432x288 with 2 Axes>"
      ]
     },
     "metadata": {
      "needs_background": "light"
     },
     "output_type": "display_data"
    }
   ],
   "source": [
    "sns.heatmap(scores, annot=True, xticklabels=param_grid['gamma'], yticklabels=param_grid['C'])\n",
    "plt.xlabel('gamma')\n",
    "plt.ylabel('C')"
   ]
  },
  {
   "cell_type": "code",
   "execution_count": 71,
   "metadata": {},
   "outputs": [],
   "source": [
    "param_grid = [{'kernel':['rbf'], 'C':np.logspace(-3, 1, 5), 'gamma':np.logspace(-3, 1, 5)}, {'kernel':['linear'], 'C':np.logspace(-3, 1, 5)}]"
   ]
  },
  {
   "cell_type": "code",
   "execution_count": 72,
   "metadata": {},
   "outputs": [
    {
     "data": {
      "text/plain": [
       "({'C': 10.0, 'gamma': 0.1, 'kernel': 'rbf'},\n",
       " 0.9731225296442687,\n",
       " 0.9736842105263158)"
      ]
     },
     "execution_count": 72,
     "metadata": {},
     "output_type": "execute_result"
    }
   ],
   "source": [
    "grid = GridSearchCV(SVC(), param_grid=param_grid, cv=5, return_train_score=True).fit(X_train, y_train)\n",
    "grid.best_params_, grid.best_score_, grid.score(X_test, y_test)"
   ]
  },
  {
   "cell_type": "code",
   "execution_count": 75,
   "metadata": {},
   "outputs": [],
   "source": [
    "param_dist = {'kernel':['rbf'], 'C':ss.loguniform(1, 10), 'gamma':ss.loguniform(0.01, 0.1)}"
   ]
  },
  {
   "cell_type": "code",
   "execution_count": 76,
   "metadata": {},
   "outputs": [
    {
     "data": {
      "text/plain": [
       "({'C': 3.912339767015907, 'gamma': 0.09981408412461906, 'kernel': 'rbf'},\n",
       " 0.9727272727272727,\n",
       " 0.9736842105263158)"
      ]
     },
     "execution_count": 76,
     "metadata": {},
     "output_type": "execute_result"
    }
   ],
   "source": [
    "rand = RandomizedSearchCV(SVC(), param_distributions=param_dist, cv=5, n_iter=20, n_jobs=-1).fit(X_train, y_train)\n",
    "rand.best_params_, rand.best_score_, rand.score(X_test, y_test)"
   ]
  },
  {
   "cell_type": "code",
   "execution_count": 86,
   "metadata": {},
   "outputs": [],
   "source": [
    "digits = load_digits()\n",
    "y = digits['target'] == 9\n",
    "X = digits['data']"
   ]
  },
  {
   "cell_type": "code",
   "execution_count": 87,
   "metadata": {},
   "outputs": [],
   "source": [
    "X_train, X_test, y_train, y_test = train_test_split(X, y, random_state=0)"
   ]
  },
  {
   "cell_type": "code",
   "execution_count": 88,
   "metadata": {},
   "outputs": [
    {
     "data": {
      "text/plain": [
       "0.8955555555555555"
      ]
     },
     "execution_count": 88,
     "metadata": {},
     "output_type": "execute_result"
    }
   ],
   "source": [
    "dummy = DummyClassifier(strategy='most_frequent').fit(X_train, y_train)\n",
    "dummy.score(X_test, y_test)"
   ]
  },
  {
   "cell_type": "code",
   "execution_count": 105,
   "metadata": {},
   "outputs": [],
   "source": [
    "X_resampled, y_resampled = SMOTE(sampling_strategy='minority', k_neighbors=3, random_state=0).fit_resample(X, y)"
   ]
  },
  {
   "cell_type": "code",
   "execution_count": 106,
   "metadata": {},
   "outputs": [
    {
     "data": {
      "text/plain": [
       "(3234, 1797)"
      ]
     },
     "execution_count": 106,
     "metadata": {},
     "output_type": "execute_result"
    }
   ],
   "source": [
    "len(y_resampled), len(y)"
   ]
  },
  {
   "cell_type": "code",
   "execution_count": 107,
   "metadata": {},
   "outputs": [],
   "source": [
    "X_train, X_test, y_train, y_test = train_test_split(X_resampled, y_resampled, random_state=0)"
   ]
  },
  {
   "cell_type": "code",
   "execution_count": 108,
   "metadata": {},
   "outputs": [
    {
     "data": {
      "text/plain": [
       "0.4919653893695921"
      ]
     },
     "execution_count": 108,
     "metadata": {},
     "output_type": "execute_result"
    }
   ],
   "source": [
    "dummy = DummyClassifier(strategy='most_frequent').fit(X_train, y_train)\n",
    "dummy.score(X_test, y_test)"
   ]
  },
  {
   "cell_type": "code",
   "execution_count": 109,
   "metadata": {},
   "outputs": [
    {
     "data": {
      "text/plain": [
       "0.9913473423980222"
      ]
     },
     "execution_count": 109,
     "metadata": {},
     "output_type": "execute_result"
    }
   ],
   "source": [
    "rf_clf = RandomForestClassifier(n_estimators=100, random_state=0).fit(X_train, y_train)\n",
    "rf_clf.score(X_test, y_test)"
   ]
  },
  {
   "cell_type": "code",
   "execution_count": 110,
   "metadata": {},
   "outputs": [
    {
     "data": {
      "text/plain": [
       "(array([1617,  180], dtype=int64), array([1617, 1617], dtype=int64))"
      ]
     },
     "execution_count": 110,
     "metadata": {},
     "output_type": "execute_result"
    }
   ],
   "source": [
    "np.bincount(y), np.bincount(y_resampled)"
   ]
  },
  {
   "cell_type": "code",
   "execution_count": 112,
   "metadata": {},
   "outputs": [],
   "source": [
    "digits = load_digits()\n",
    "y = digits['target'] == 9\n",
    "X = digits['data']\n",
    "X_train, X_test, y_train, y_test = train_test_split(X, y, random_state=0)"
   ]
  },
  {
   "cell_type": "code",
   "execution_count": 113,
   "metadata": {},
   "outputs": [],
   "source": [
    "rf_clf = RandomForestClassifier(n_estimators=100, random_state=0).fit(X_train, y_train)\n",
    "y_pred = rf_clf.predict(X_test)"
   ]
  },
  {
   "cell_type": "code",
   "execution_count": 114,
   "metadata": {},
   "outputs": [
    {
     "data": {
      "text/plain": [
       "array([[403,   0],\n",
       "       [ 13,  34]], dtype=int64)"
      ]
     },
     "execution_count": 114,
     "metadata": {},
     "output_type": "execute_result"
    }
   ],
   "source": [
    "confusion_matrix(y_test, y_pred)"
   ]
  },
  {
   "cell_type": "code",
   "execution_count": 116,
   "metadata": {},
   "outputs": [
    {
     "data": {
      "text/plain": [
       "<sklearn.metrics._plot.confusion_matrix.ConfusionMatrixDisplay at 0x2433d830460>"
      ]
     },
     "execution_count": 116,
     "metadata": {},
     "output_type": "execute_result"
    },
    {
     "data": {
      "image/svg+xml": "<?xml version=\"1.0\" encoding=\"utf-8\" standalone=\"no\"?>\n<!DOCTYPE svg PUBLIC \"-//W3C//DTD SVG 1.1//EN\"\n  \"http://www.w3.org/Graphics/SVG/1.1/DTD/svg11.dtd\">\n<svg xmlns:xlink=\"http://www.w3.org/1999/xlink\" width=\"332.955125pt\" height=\"264.929934pt\" viewBox=\"0 0 332.955125 264.929934\" xmlns=\"http://www.w3.org/2000/svg\" version=\"1.1\">\n <metadata>\n  <rdf:RDF xmlns:dc=\"http://purl.org/dc/elements/1.1/\" xmlns:cc=\"http://creativecommons.org/ns#\" xmlns:rdf=\"http://www.w3.org/1999/02/22-rdf-syntax-ns#\">\n   <cc:Work>\n    <dc:type rdf:resource=\"http://purl.org/dc/dcmitype/StillImage\"/>\n    <dc:date>2022-11-20T18:24:07.826427</dc:date>\n    <dc:format>image/svg+xml</dc:format>\n    <dc:creator>\n     <cc:Agent>\n      <dc:title>Matplotlib v3.5.1, https://matplotlib.org/</dc:title>\n     </cc:Agent>\n    </dc:creator>\n   </cc:Work>\n  </rdf:RDF>\n </metadata>\n <defs>\n  <style type=\"text/css\">*{stroke-linejoin: round; stroke-linecap: butt}</style>\n </defs>\n <g id=\"figure_1\">\n  <g id=\"patch_1\">\n   <path d=\"M 0 264.929934 \nL 332.955125 264.929934 \nL 332.955125 0 \nL 0 0 \nL 0 264.929934 \nz\n\" style=\"fill: none\"/>\n  </g>\n  <g id=\"axes_1\">\n   <g id=\"patch_2\">\n    <path d=\"M 57.179688 226.817434 \nL 274.619687 226.817434 \nL 274.619687 9.377434 \nL 57.179688 9.377434 \nz\n\" style=\"fill: #ffffff\"/>\n   </g>\n   <g clip-path=\"url(#p04480e2949)\">\n    <image xlink:href=\"data:image/png;base64,\niVBORw0KGgoAAAANSUhEUgAAANoAAADaCAYAAADAHVzbAAACl0lEQVR4nO3VsQ3CQAAEQezYCYTEFEAVpgzKpwpk1/DJvhAzFVyyumXf3seFn7LerrMnMGidPQD+gdAgIDQICA0CQoOA0CAgNAgIDQJCg4DQICA0CAgNAkKDgNAgIDQICA0CQoOA0CAgNAgIDQJCg4DQICA0CAgNAkKDgNAgIDQICA0CQoOA0CAgNAgIDQJCg4DQICA0CAgNAkKDgNAgIDQICA0CQoOA0CAgNAgIDQJCg4DQICA0CAgNAkKDgNAgIDQICA0CQoOA0CAgNAgIDQJCg4DQICA0CAgNAkKDgNAgIDQICA0CQoOA0CAgNAgIDQJCg4DQICA0CAgNAkKDgNAgIDQICA0CQoOA0CAgNAgIDQJCg4DQICA0CAgNAkKDgNAgIDQICA0CQoOA0CAgNAgIDQJCg4DQICA0CAgNAkKDgNAgIDQICA0CQoOA0CAgNAgIDQJCg4DQICA0CAgNAsv38zhmj2DM6/6cPYFBHg0CQoOA0CAgNAgIDQJCg4DQICA0CAgNAkKDgNAgIDQICA0CQoOA0CAgNAgIDQJCg4DQICA0CAgNAkKDgNAgIDQICA0CQoOA0CAgNAgIDQJCg4DQICA0CAgNAkKDgNAgIDQICA0CQoOA0CAgNAgIDQJCg4DQICA0CAgNAkKDgNAgIDQICA0CQoOA0CAgNAgIDQJCg4DQICA0CAgNAkKDgNAgIDQICA0CQoOA0CAgNAgIDQJCg4DQICA0CAgNAkKDgNAgIDQICA0CQoOA0CAgNAgIDQJCg4DQICA0CAgNAkKDgNAgIDQICA0CQoOA0CAgNAgIDQJCg4DQICA0CAgNAkKDgNAgIDQICA0CQoOA0CAgNAgIDQJCg4DQICA0CAgNAkKDgNAgIDQInMrKByDKBwIcAAAAAElFTkSuQmCC\" id=\"image0e87a83828\" transform=\"scale(1 -1)translate(0 -218)\" x=\"57.179688\" y=\"-8.817434\" width=\"218\" height=\"218\"/>\n   </g>\n   <g id=\"matplotlib.axis_1\">\n    <g id=\"xtick_1\">\n     <g id=\"line2d_1\">\n      <defs>\n       <path id=\"m46e4ae383f\" d=\"M 0 0 \nL 0 3.5 \n\" style=\"stroke: #000000; stroke-width: 0.8\"/>\n      </defs>\n      <g>\n       <use xlink:href=\"#m46e4ae383f\" x=\"111.539688\" y=\"226.817434\" style=\"stroke: #000000; stroke-width: 0.8\"/>\n      </g>\n     </g>\n     <g id=\"text_1\">\n      <!-- 9 아님 -->\n      <g transform=\"translate(97.027969 241.409621)scale(0.1 -0.1)\">\n       <defs>\n        <path id=\"MalgunGothic-39\" d=\"M 556 563 \nQ 941 344 1366 344 \nQ 1994 344 2347 855 \nQ 2700 1366 2700 2313 \nQ 2694 2306 2688 2313 \nQ 2388 1713 1653 1713 \nQ 1059 1713 682 2120 \nQ 306 2528 306 3144 \nQ 306 3806 711 4240 \nQ 1116 4675 1772 4675 \nQ 2466 4675 2833 4131 \nQ 3200 3588 3200 2578 \nQ 3200 1319 2717 620 \nQ 2234 -78 1344 -78 \nQ 881 -78 556 78 \nL 556 563 \nz\nM 813 3219 \nQ 813 2741 1063 2450 \nQ 1313 2159 1759 2159 \nQ 2147 2159 2406 2417 \nQ 2666 2675 2666 3047 \nQ 2666 3556 2411 3903 \nQ 2156 4250 1725 4250 \nQ 1322 4250 1067 3948 \nQ 813 3647 813 3219 \nz\n\" transform=\"scale(0.015625)\"/>\n        <path id=\"MalgunGothic-20\" transform=\"scale(0.015625)\"/>\n        <path id=\"MalgunGothic-c544\" d=\"M 5094 2600 \nL 5094 -563 \nL 4628 -563 \nL 4628 5466 \nL 5094 5466 \nL 5094 3022 \nL 6113 3022 \nL 6113 2600 \nL 5094 2600 \nz\nM 2194 966 \nQ 1509 966 1087 1512 \nQ 666 2059 666 3016 \nQ 666 3981 1083 4522 \nQ 1500 5063 2194 5063 \nQ 2891 5063 3308 4514 \nQ 3725 3966 3725 3016 \nQ 3725 2063 3306 1514 \nQ 2888 966 2194 966 \nz\nM 2194 4647 \nQ 1716 4647 1420 4208 \nQ 1125 3769 1125 3016 \nQ 1125 2275 1423 1828 \nQ 1722 1381 2194 1381 \nQ 2663 1381 2963 1831 \nQ 3263 2281 3263 3016 \nQ 3263 3766 2969 4206 \nQ 2675 4647 2194 4647 \nz\n\" transform=\"scale(0.015625)\"/>\n        <path id=\"MalgunGothic-b2d8\" d=\"M 4953 2088 \nL 4953 5466 \nL 5428 5466 \nL 5428 2088 \nL 4953 2088 \nz\nM 4469 2803 \nQ 3950 2663 1131 2663 \nL 1131 5222 \nL 1600 5222 \nL 1600 3078 \nL 2006 3078 \nQ 3756 3078 4409 3206 \nL 4469 2803 \nz\nM 1684 -422 \nL 1684 1753 \nL 5428 1753 \nL 5428 -422 \nL 1684 -422 \nz\nM 4966 1338 \nL 2144 1338 \nL 2144 -6 \nL 4966 -6 \nL 4966 1338 \nz\n\" transform=\"scale(0.015625)\"/>\n       </defs>\n       <use xlink:href=\"#MalgunGothic-39\"/>\n       <use xlink:href=\"#MalgunGothic-20\" x=\"55.078125\"/>\n       <use xlink:href=\"#MalgunGothic-c544\" x=\"90.234375\"/>\n       <use xlink:href=\"#MalgunGothic-b2d8\" x=\"190.234375\"/>\n      </g>\n     </g>\n    </g>\n    <g id=\"xtick_2\">\n     <g id=\"line2d_2\">\n      <g>\n       <use xlink:href=\"#m46e4ae383f\" x=\"220.259688\" y=\"226.817434\" style=\"stroke: #000000; stroke-width: 0.8\"/>\n      </g>\n     </g>\n     <g id=\"text_2\">\n      <!-- 9 -->\n      <g transform=\"translate(217.505781 241.409621)scale(0.1 -0.1)\">\n       <use xlink:href=\"#MalgunGothic-39\"/>\n      </g>\n     </g>\n    </g>\n    <g id=\"text_3\">\n     <!-- Predicted label -->\n     <g transform=\"translate(132.203594 255.365871)scale(0.1 -0.1)\">\n      <defs>\n       <path id=\"MalgunGothic-50\" d=\"M 1113 1747 \nL 1113 0 \nL 609 0 \nL 609 4600 \nL 1850 4600 \nQ 2575 4600 2979 4240 \nQ 3384 3881 3384 3231 \nQ 3384 2559 2909 2140 \nQ 2434 1722 1728 1747 \nL 1113 1747 \nz\nM 1113 4131 \nL 1113 2219 \nL 1691 2219 \nQ 2256 2219 2554 2475 \nQ 2853 2731 2853 3206 \nQ 2853 4131 1759 4131 \nL 1113 4131 \nz\n\" transform=\"scale(0.015625)\"/>\n       <path id=\"MalgunGothic-72\" d=\"M 2225 2775 \nQ 2084 2881 1828 2881 \nQ 1491 2881 1262 2553 \nQ 1034 2225 1034 1681 \nL 1034 0 \nL 538 0 \nL 538 3284 \nL 1034 3284 \nL 1034 2603 \nL 1047 2603 \nQ 1159 2950 1389 3145 \nQ 1619 3341 1903 3341 \nQ 2109 3341 2225 3297 \nL 2225 2775 \nz\n\" transform=\"scale(0.015625)\"/>\n       <path id=\"MalgunGothic-65\" d=\"M 3156 1519 \nL 828 1519 \nQ 844 950 1133 648 \nQ 1422 347 1909 347 \nQ 2472 347 2934 719 \nL 2934 244 \nQ 2494 -78 1794 -78 \nQ 1100 -78 708 376 \nQ 316 831 316 1634 \nQ 316 2381 747 2870 \nQ 1178 3359 1816 3359 \nQ 2453 3359 2804 2942 \nQ 3156 2525 3156 1788 \nL 3156 1519 \nz\nM 2644 1956 \nQ 2644 2416 2423 2675 \nQ 2203 2934 1809 2934 \nQ 1438 2934 1169 2667 \nQ 900 2400 834 1956 \nL 2644 1956 \nz\n\" transform=\"scale(0.015625)\"/>\n       <path id=\"MalgunGothic-64\" d=\"M 3313 0 \nL 2822 0 \nL 2822 566 \nL 2809 566 \nQ 2444 -78 1675 -78 \nQ 1056 -78 686 364 \nQ 316 806 316 1566 \nQ 316 2375 728 2867 \nQ 1141 3359 1816 3359 \nQ 2494 3359 2809 2822 \nL 2822 2822 \nL 2822 4859 \nL 3313 4859 \nL 3313 0 \nz\nM 2822 1978 \nQ 2822 2378 2550 2659 \nQ 2278 2941 1872 2941 \nQ 1384 2941 1101 2577 \nQ 819 2213 819 1591 \nQ 819 1025 1086 684 \nQ 1353 344 1813 344 \nQ 2250 344 2536 666 \nQ 2822 988 2822 1478 \nL 2822 1978 \nz\n\" transform=\"scale(0.015625)\"/>\n       <path id=\"MalgunGothic-69\" d=\"M 472 4466 \nQ 472 4606 565 4701 \nQ 659 4797 794 4797 \nQ 934 4797 1029 4700 \nQ 1125 4603 1125 4466 \nQ 1125 4325 1029 4231 \nQ 934 4138 794 4138 \nQ 659 4138 565 4230 \nQ 472 4322 472 4466 \nz\nM 541 0 \nL 541 3284 \nL 1034 3284 \nL 1034 0 \nL 541 0 \nz\n\" transform=\"scale(0.015625)\"/>\n       <path id=\"MalgunGothic-63\" d=\"M 2763 153 \nQ 2375 -78 1872 -78 \nQ 1184 -78 750 372 \nQ 316 822 316 1566 \nQ 316 2381 777 2870 \nQ 1238 3359 2009 3359 \nQ 2434 3359 2766 3200 \nL 2766 2681 \nQ 2397 2941 1981 2941 \nQ 1478 2941 1148 2577 \nQ 819 2213 819 1609 \nQ 819 1034 1120 689 \nQ 1422 344 1947 344 \nQ 2381 344 2763 631 \nL 2763 153 \nz\n\" transform=\"scale(0.015625)\"/>\n       <path id=\"MalgunGothic-74\" d=\"M 2031 31 \nQ 1844 -72 1553 -72 \nQ 706 -72 706 881 \nL 706 2856 \nL 138 2856 \nL 138 3284 \nL 706 3284 \nL 706 4091 \nL 1200 4250 \nL 1200 3284 \nL 2031 3284 \nL 2031 2856 \nL 1200 2856 \nL 1200 972 \nQ 1200 625 1315 487 \nQ 1431 350 1691 350 \nQ 1888 350 2031 459 \nL 2031 31 \nz\n\" transform=\"scale(0.015625)\"/>\n       <path id=\"MalgunGothic-6c\" d=\"M 541 0 \nL 541 4859 \nL 1034 4859 \nL 1034 0 \nL 541 0 \nz\n\" transform=\"scale(0.015625)\"/>\n       <path id=\"MalgunGothic-61\" d=\"M 616 3050 \nQ 1097 3359 1722 3359 \nQ 2866 3359 2866 2147 \nL 2866 0 \nL 2369 0 \nL 2369 516 \nL 2350 516 \nQ 2009 -78 1341 -78 \nQ 859 -78 576 180 \nQ 294 438 294 869 \nQ 294 1784 1375 1934 \nL 2366 2078 \nQ 2366 2934 1684 2934 \nQ 1084 2934 616 2525 \nL 616 3050 \nz\nM 1563 1559 \nQ 1178 1509 993 1371 \nQ 809 1234 809 903 \nQ 809 653 986 500 \nQ 1163 347 1450 347 \nQ 1847 347 2106 628 \nQ 2366 909 2366 1334 \nL 2366 1666 \nL 1563 1559 \nz\n\" transform=\"scale(0.015625)\"/>\n       <path id=\"MalgunGothic-62\" d=\"M 1034 481 \nL 1034 0 \nL 538 0 \nL 538 4859 \nL 1034 4859 \nL 1034 2703 \nL 1047 2703 \nQ 1438 3359 2184 3359 \nQ 2813 3359 3173 2917 \nQ 3534 2475 3534 1738 \nQ 3534 906 3126 414 \nQ 2719 -78 2034 -78 \nQ 1384 -78 1047 481 \nL 1034 481 \nz\nM 1034 1334 \nQ 1034 922 1307 633 \nQ 1581 344 1991 344 \nQ 2475 344 2751 716 \nQ 3028 1088 3028 1753 \nQ 3028 2303 2767 2622 \nQ 2506 2941 2072 2941 \nQ 1616 2941 1325 2616 \nQ 1034 2291 1034 1803 \nL 1034 1334 \nz\n\" transform=\"scale(0.015625)\"/>\n      </defs>\n      <use xlink:href=\"#MalgunGothic-50\"/>\n      <use xlink:href=\"#MalgunGothic-72\" x=\"57.080078\"/>\n      <use xlink:href=\"#MalgunGothic-65\" x=\"91.056641\"/>\n      <use xlink:href=\"#MalgunGothic-64\" x=\"144.572266\"/>\n      <use xlink:href=\"#MalgunGothic-69\" x=\"204.777344\"/>\n      <use xlink:href=\"#MalgunGothic-63\" x=\"229.386719\"/>\n      <use xlink:href=\"#MalgunGothic-74\" x=\"276.652344\"/>\n      <use xlink:href=\"#MalgunGothic-65\" x=\"310.25\"/>\n      <use xlink:href=\"#MalgunGothic-64\" x=\"363.765625\"/>\n      <use xlink:href=\"#MalgunGothic-20\" x=\"423.970703\"/>\n      <use xlink:href=\"#MalgunGothic-6c\" x=\"459.126953\"/>\n      <use xlink:href=\"#MalgunGothic-61\" x=\"483.736328\"/>\n      <use xlink:href=\"#MalgunGothic-62\" x=\"535.738281\"/>\n      <use xlink:href=\"#MalgunGothic-65\" x=\"595.796875\"/>\n      <use xlink:href=\"#MalgunGothic-6c\" x=\"649.3125\"/>\n     </g>\n    </g>\n   </g>\n   <g id=\"matplotlib.axis_2\">\n    <g id=\"ytick_1\">\n     <g id=\"line2d_3\">\n      <defs>\n       <path id=\"m8abab7279b\" d=\"M 0 0 \nL -3.5 0 \n\" style=\"stroke: #000000; stroke-width: 0.8\"/>\n      </defs>\n      <g>\n       <use xlink:href=\"#m8abab7279b\" x=\"57.179688\" y=\"63.737434\" style=\"stroke: #000000; stroke-width: 0.8\"/>\n      </g>\n     </g>\n     <g id=\"text_4\">\n      <!-- 9 아님 -->\n      <g transform=\"translate(21.15625 67.533527)scale(0.1 -0.1)\">\n       <use xlink:href=\"#MalgunGothic-39\"/>\n       <use xlink:href=\"#MalgunGothic-20\" x=\"55.078125\"/>\n       <use xlink:href=\"#MalgunGothic-c544\" x=\"90.234375\"/>\n       <use xlink:href=\"#MalgunGothic-b2d8\" x=\"190.234375\"/>\n      </g>\n     </g>\n    </g>\n    <g id=\"ytick_2\">\n     <g id=\"line2d_4\">\n      <g>\n       <use xlink:href=\"#m8abab7279b\" x=\"57.179688\" y=\"172.457434\" style=\"stroke: #000000; stroke-width: 0.8\"/>\n      </g>\n     </g>\n     <g id=\"text_5\">\n      <!-- 9 -->\n      <g transform=\"translate(44.671875 176.253527)scale(0.1 -0.1)\">\n       <use xlink:href=\"#MalgunGothic-39\"/>\n      </g>\n     </g>\n    </g>\n    <g id=\"text_6\">\n     <!-- True label -->\n     <g transform=\"translate(14.792188 140.129465)rotate(-90)scale(0.1 -0.1)\">\n      <defs>\n       <path id=\"MalgunGothic-54\" d=\"M 3294 4134 \nL 1966 4134 \nL 1966 0 \nL 1456 0 \nL 1456 4134 \nL 134 4134 \nL 134 4600 \nL 3294 4600 \nL 3294 4134 \nz\n\" transform=\"scale(0.015625)\"/>\n       <path id=\"MalgunGothic-75\" d=\"M 3166 0 \nL 2669 0 \nL 2669 519 \nL 2656 519 \nQ 2331 -78 1644 -78 \nQ 469 -78 469 1322 \nL 469 3284 \nL 959 3284 \nL 959 1403 \nQ 959 344 1766 344 \nQ 2159 344 2414 636 \nQ 2669 928 2669 1394 \nL 2669 3284 \nL 3166 3284 \nL 3166 0 \nz\n\" transform=\"scale(0.015625)\"/>\n      </defs>\n      <use xlink:href=\"#MalgunGothic-54\"/>\n      <use xlink:href=\"#MalgunGothic-72\" x=\"43.994141\"/>\n      <use xlink:href=\"#MalgunGothic-75\" x=\"79.345703\"/>\n      <use xlink:href=\"#MalgunGothic-65\" x=\"137.158203\"/>\n      <use xlink:href=\"#MalgunGothic-20\" x=\"190.673828\"/>\n      <use xlink:href=\"#MalgunGothic-6c\" x=\"225.830078\"/>\n      <use xlink:href=\"#MalgunGothic-61\" x=\"250.439453\"/>\n      <use xlink:href=\"#MalgunGothic-62\" x=\"302.441406\"/>\n      <use xlink:href=\"#MalgunGothic-65\" x=\"362.5\"/>\n      <use xlink:href=\"#MalgunGothic-6c\" x=\"416.015625\"/>\n     </g>\n    </g>\n   </g>\n   <g id=\"patch_3\">\n    <path d=\"M 57.179688 226.817434 \nL 57.179688 9.377434 \n\" style=\"fill: none; stroke: #000000; stroke-width: 0.8; stroke-linejoin: miter; stroke-linecap: square\"/>\n   </g>\n   <g id=\"patch_4\">\n    <path d=\"M 274.619687 226.817434 \nL 274.619687 9.377434 \n\" style=\"fill: none; stroke: #000000; stroke-width: 0.8; stroke-linejoin: miter; stroke-linecap: square\"/>\n   </g>\n   <g id=\"patch_5\">\n    <path d=\"M 57.179688 226.817434 \nL 274.619687 226.817434 \n\" style=\"fill: none; stroke: #000000; stroke-width: 0.8; stroke-linejoin: miter; stroke-linecap: square\"/>\n   </g>\n   <g id=\"patch_6\">\n    <path d=\"M 57.179688 9.377434 \nL 274.619687 9.377434 \n\" style=\"fill: none; stroke: #000000; stroke-width: 0.8; stroke-linejoin: miter; stroke-linecap: square\"/>\n   </g>\n   <g id=\"text_7\">\n    <!-- 403 -->\n    <g style=\"fill: #440154\" transform=\"translate(103.277969 66.351496)scale(0.1 -0.1)\">\n     <defs>\n      <path id=\"MalgunGothic-34\" d=\"M 2703 4600 \nL 2703 1563 \nL 3309 1563 \nL 3309 1113 \nL 2703 1113 \nL 2703 0 \nL 2213 0 \nL 2213 1113 \nL 50 1113 \nL 50 1534 \nQ 728 2297 1295 3109 \nQ 1863 3922 2172 4600 \nL 2703 4600 \nz\nM 625 1563 \nL 2213 1563 \nL 2213 3831 \nQ 1613 2788 959 1981 \nL 625 1563 \nz\n\" transform=\"scale(0.015625)\"/>\n      <path id=\"MalgunGothic-30\" d=\"M 278 2206 \nQ 278 3425 675 4050 \nQ 1072 4675 1819 4675 \nQ 3253 4675 3253 2319 \nQ 3253 1156 2854 539 \nQ 2456 -78 1716 -78 \nQ 1016 -78 647 520 \nQ 278 1119 278 2206 \nz\nM 784 2231 \nQ 784 344 1769 344 \nQ 2747 344 2747 2259 \nQ 2747 4250 1794 4250 \nQ 784 4250 784 2231 \nz\n\" transform=\"scale(0.015625)\"/>\n      <path id=\"MalgunGothic-33\" d=\"M 416 719 \nQ 891 344 1478 344 \nQ 1959 344 2254 587 \nQ 2550 831 2550 1247 \nQ 2550 2169 1253 2169 \nL 872 2169 \nL 872 2591 \nL 1234 2591 \nQ 2388 2591 2388 3453 \nQ 2388 4250 1509 4250 \nQ 1022 4250 594 3916 \nL 594 4413 \nQ 1031 4675 1634 4675 \nQ 2184 4675 2539 4372 \nQ 2894 4069 2894 3581 \nQ 2894 2678 1972 2409 \nL 1972 2400 \nQ 2469 2356 2764 2053 \nQ 3059 1750 3059 1300 \nQ 3059 672 2604 297 \nQ 2150 -78 1450 -78 \nQ 806 -78 416 169 \nL 416 719 \nz\n\" transform=\"scale(0.015625)\"/>\n     </defs>\n     <use xlink:href=\"#MalgunGothic-34\"/>\n     <use xlink:href=\"#MalgunGothic-30\" x=\"55.078125\"/>\n     <use xlink:href=\"#MalgunGothic-33\" x=\"110.15625\"/>\n    </g>\n   </g>\n   <g id=\"text_8\">\n    <!-- 0 -->\n    <g style=\"fill: #fde725\" transform=\"translate(217.505781 66.351496)scale(0.1 -0.1)\">\n     <use xlink:href=\"#MalgunGothic-30\"/>\n    </g>\n   </g>\n   <g id=\"text_9\">\n    <!-- 13 -->\n    <g style=\"fill: #fde725\" transform=\"translate(106.031875 175.071496)scale(0.1 -0.1)\">\n     <defs>\n      <path id=\"MalgunGothic-31\" d=\"M 2231 0 \nL 1734 0 \nL 1734 3972 \nQ 1591 3828 1266 3661 \nQ 941 3494 672 3428 \nL 672 3959 \nQ 1016 4056 1409 4275 \nQ 1803 4494 2031 4700 \nL 2231 4700 \nL 2231 0 \nz\n\" transform=\"scale(0.015625)\"/>\n     </defs>\n     <use xlink:href=\"#MalgunGothic-31\"/>\n     <use xlink:href=\"#MalgunGothic-33\" x=\"55.078125\"/>\n    </g>\n   </g>\n   <g id=\"text_10\">\n    <!-- 34 -->\n    <g style=\"fill: #fde725\" transform=\"translate(214.751875 175.071496)scale(0.1 -0.1)\">\n     <use xlink:href=\"#MalgunGothic-33\"/>\n     <use xlink:href=\"#MalgunGothic-34\" x=\"55.078125\"/>\n    </g>\n   </g>\n  </g>\n  <g id=\"axes_2\">\n   <g id=\"patch_7\">\n    <path d=\"M 291.359688 226.817434 \nL 302.231688 226.817434 \nL 302.231688 9.377434 \nL 291.359688 9.377434 \nz\n\" style=\"fill: #ffffff\"/>\n   </g>\n   <g id=\"patch_8\">\n    <path clip-path=\"url(#pe44c70493a)\" style=\"fill: #ffffff; stroke: #ffffff; stroke-width: 0.01; stroke-linejoin: miter\"/>\n   </g>\n   <image xlink:href=\"data:image/png;base64,\niVBORw0KGgoAAAANSUhEUgAAAAsAAADaCAYAAABwzrisAAABXklEQVR4nOXa0Y0CMRCD4SSTpTJKoP9K7o5rId+DpVngeWTZ/zhZtDCf8/Ueh5895jqdHXuueT5sylWgbDZgeC7wTMojFnAK5xy6II2cjRyNJgF70HhXj4Dk2dAdz4495JIJ2gjSEOWg55TyEGUqv3EmGzEapmw0RLkJDelzl6UQOgrY5XTDcBd0wYCxS8bWLcqfvu4uns9nv4DGxwe8YflB954Bo30+P99oo8ejrQuN4LrBcxDdStloQgO+IiVpjJELGFMWGsZZPFNAsoEBZfjcBQdM0aj118HGitFYcgYr1o1gQBmuCesm5S7Dsu4t5W/imZT3+u1gY0nrKrhuoFFGI1UkpAE2rindyF0ydD+LMgaUisa6UbJBWspj/oBybClUUSo/obuERu4MEjoMGLvrggFTD6DHiN11dFIs4PEsKl+mDD83yNu9XfJDxhIbF7zPUhugTJ5L/ggkNv4BhseBbPAtGr0AAAAASUVORK5CYII=\" id=\"image95d9a1d529\" transform=\"scale(1 -1)translate(0 -218)\" x=\"291\" y=\"-8\" width=\"11\" height=\"218\"/>\n   <g id=\"matplotlib.axis_3\">\n    <g id=\"ytick_3\">\n     <g id=\"line2d_5\">\n      <defs>\n       <path id=\"mc0901fbd16\" d=\"M 0 0 \nL 3.5 0 \n\" style=\"stroke: #000000; stroke-width: 0.8\"/>\n      </defs>\n      <g>\n       <use xlink:href=\"#mc0901fbd16\" x=\"302.231688\" y=\"226.817434\" style=\"stroke: #000000; stroke-width: 0.8\"/>\n      </g>\n     </g>\n     <g id=\"text_11\">\n      <!-- 0 -->\n      <g transform=\"translate(309.231688 230.613527)scale(0.1 -0.1)\">\n       <use xlink:href=\"#MalgunGothic-30\"/>\n      </g>\n     </g>\n    </g>\n    <g id=\"ytick_4\">\n     <g id=\"line2d_6\">\n      <g>\n       <use xlink:href=\"#mc0901fbd16\" x=\"302.231688\" y=\"199.839766\" style=\"stroke: #000000; stroke-width: 0.8\"/>\n      </g>\n     </g>\n     <g id=\"text_12\">\n      <!-- 50 -->\n      <g transform=\"translate(309.231688 203.63586)scale(0.1 -0.1)\">\n       <defs>\n        <path id=\"MalgunGothic-35\" d=\"M 3072 1403 \nQ 3072 722 2636 322 \nQ 2200 -78 1469 -78 \nQ 828 -78 516 113 \nL 516 650 \nQ 994 344 1475 344 \nQ 1969 344 2270 630 \nQ 2572 916 2572 1372 \nQ 2572 1838 2265 2092 \nQ 1959 2347 1381 2347 \nQ 994 2347 603 2300 \nL 759 4600 \nL 2869 4600 \nL 2869 4147 \nL 1206 4147 \nL 1106 2763 \nQ 1347 2784 1547 2784 \nQ 2263 2784 2667 2414 \nQ 3072 2044 3072 1403 \nz\n\" transform=\"scale(0.015625)\"/>\n       </defs>\n       <use xlink:href=\"#MalgunGothic-35\"/>\n       <use xlink:href=\"#MalgunGothic-30\" x=\"55.078125\"/>\n      </g>\n     </g>\n    </g>\n    <g id=\"ytick_5\">\n     <g id=\"line2d_7\">\n      <g>\n       <use xlink:href=\"#mc0901fbd16\" x=\"302.231688\" y=\"172.862099\" style=\"stroke: #000000; stroke-width: 0.8\"/>\n      </g>\n     </g>\n     <g id=\"text_13\">\n      <!-- 100 -->\n      <g transform=\"translate(309.231688 176.658192)scale(0.1 -0.1)\">\n       <use xlink:href=\"#MalgunGothic-31\"/>\n       <use xlink:href=\"#MalgunGothic-30\" x=\"55.078125\"/>\n       <use xlink:href=\"#MalgunGothic-30\" x=\"110.15625\"/>\n      </g>\n     </g>\n    </g>\n    <g id=\"ytick_6\">\n     <g id=\"line2d_8\">\n      <g>\n       <use xlink:href=\"#mc0901fbd16\" x=\"302.231688\" y=\"145.884431\" style=\"stroke: #000000; stroke-width: 0.8\"/>\n      </g>\n     </g>\n     <g id=\"text_14\">\n      <!-- 150 -->\n      <g transform=\"translate(309.231688 149.680525)scale(0.1 -0.1)\">\n       <use xlink:href=\"#MalgunGothic-31\"/>\n       <use xlink:href=\"#MalgunGothic-35\" x=\"55.078125\"/>\n       <use xlink:href=\"#MalgunGothic-30\" x=\"110.15625\"/>\n      </g>\n     </g>\n    </g>\n    <g id=\"ytick_7\">\n     <g id=\"line2d_9\">\n      <g>\n       <use xlink:href=\"#mc0901fbd16\" x=\"302.231688\" y=\"118.906764\" style=\"stroke: #000000; stroke-width: 0.8\"/>\n      </g>\n     </g>\n     <g id=\"text_15\">\n      <!-- 200 -->\n      <g transform=\"translate(309.231688 122.702857)scale(0.1 -0.1)\">\n       <defs>\n        <path id=\"MalgunGothic-32\" d=\"M 2519 3372 \nQ 2519 3784 2275 4018 \nQ 2031 4253 1628 4253 \nQ 1341 4253 1053 4104 \nQ 766 3956 534 3697 \nL 534 4234 \nQ 981 4675 1691 4675 \nQ 2281 4675 2642 4334 \nQ 3003 3994 3003 3416 \nQ 3003 2919 2772 2545 \nQ 2541 2172 1984 1775 \nQ 1459 1406 1254 1215 \nQ 1050 1025 967 854 \nQ 884 684 884 450 \nL 3116 450 \nL 3116 0 \nL 356 0 \nL 356 225 \nQ 356 603 461 870 \nQ 566 1138 811 1392 \nQ 1056 1647 1597 2022 \nQ 2091 2363 2305 2670 \nQ 2519 2978 2519 3372 \nz\n\" transform=\"scale(0.015625)\"/>\n       </defs>\n       <use xlink:href=\"#MalgunGothic-32\"/>\n       <use xlink:href=\"#MalgunGothic-30\" x=\"55.078125\"/>\n       <use xlink:href=\"#MalgunGothic-30\" x=\"110.15625\"/>\n      </g>\n     </g>\n    </g>\n    <g id=\"ytick_8\">\n     <g id=\"line2d_10\">\n      <g>\n       <use xlink:href=\"#mc0901fbd16\" x=\"302.231688\" y=\"91.929096\" style=\"stroke: #000000; stroke-width: 0.8\"/>\n      </g>\n     </g>\n     <g id=\"text_16\">\n      <!-- 250 -->\n      <g transform=\"translate(309.231688 95.72519)scale(0.1 -0.1)\">\n       <use xlink:href=\"#MalgunGothic-32\"/>\n       <use xlink:href=\"#MalgunGothic-35\" x=\"55.078125\"/>\n       <use xlink:href=\"#MalgunGothic-30\" x=\"110.15625\"/>\n      </g>\n     </g>\n    </g>\n    <g id=\"ytick_9\">\n     <g id=\"line2d_11\">\n      <g>\n       <use xlink:href=\"#mc0901fbd16\" x=\"302.231688\" y=\"64.951429\" style=\"stroke: #000000; stroke-width: 0.8\"/>\n      </g>\n     </g>\n     <g id=\"text_17\">\n      <!-- 300 -->\n      <g transform=\"translate(309.231688 68.747522)scale(0.1 -0.1)\">\n       <use xlink:href=\"#MalgunGothic-33\"/>\n       <use xlink:href=\"#MalgunGothic-30\" x=\"55.078125\"/>\n       <use xlink:href=\"#MalgunGothic-30\" x=\"110.15625\"/>\n      </g>\n     </g>\n    </g>\n    <g id=\"ytick_10\">\n     <g id=\"line2d_12\">\n      <g>\n       <use xlink:href=\"#mc0901fbd16\" x=\"302.231688\" y=\"37.973761\" style=\"stroke: #000000; stroke-width: 0.8\"/>\n      </g>\n     </g>\n     <g id=\"text_18\">\n      <!-- 350 -->\n      <g transform=\"translate(309.231688 41.769855)scale(0.1 -0.1)\">\n       <use xlink:href=\"#MalgunGothic-33\"/>\n       <use xlink:href=\"#MalgunGothic-35\" x=\"55.078125\"/>\n       <use xlink:href=\"#MalgunGothic-30\" x=\"110.15625\"/>\n      </g>\n     </g>\n    </g>\n    <g id=\"ytick_11\">\n     <g id=\"line2d_13\">\n      <g>\n       <use xlink:href=\"#mc0901fbd16\" x=\"302.231688\" y=\"10.996094\" style=\"stroke: #000000; stroke-width: 0.8\"/>\n      </g>\n     </g>\n     <g id=\"text_19\">\n      <!-- 400 -->\n      <g transform=\"translate(309.231688 14.792188)scale(0.1 -0.1)\">\n       <use xlink:href=\"#MalgunGothic-34\"/>\n       <use xlink:href=\"#MalgunGothic-30\" x=\"55.078125\"/>\n       <use xlink:href=\"#MalgunGothic-30\" x=\"110.15625\"/>\n      </g>\n     </g>\n    </g>\n   </g>\n   <g id=\"LineCollection_1\"/>\n   <g id=\"patch_9\">\n    <path d=\"M 291.359688 226.817434 \nL 296.795688 226.817434 \nL 302.231688 226.817434 \nL 302.231688 9.377434 \nL 296.795688 9.377434 \nL 291.359688 9.377434 \nL 291.359688 226.817434 \nz\n\" style=\"fill: none; stroke: #000000; stroke-width: 0.8; stroke-linejoin: miter; stroke-linecap: square\"/>\n   </g>\n  </g>\n </g>\n <defs>\n  <clipPath id=\"p04480e2949\">\n   <rect x=\"57.179688\" y=\"9.377434\" width=\"217.44\" height=\"217.44\"/>\n  </clipPath>\n  <clipPath id=\"pe44c70493a\">\n   <rect x=\"291.359688\" y=\"9.377434\" width=\"10.872\" height=\"217.44\"/>\n  </clipPath>\n </defs>\n</svg>\n",
      "text/plain": [
       "<Figure size 432x288 with 2 Axes>"
      ]
     },
     "metadata": {
      "needs_background": "light"
     },
     "output_type": "display_data"
    }
   ],
   "source": [
    "ConfusionMatrixDisplay.from_predictions(y_test, y_pred, display_labels=['9 아님', '9'])"
   ]
  },
  {
   "cell_type": "code",
   "execution_count": 118,
   "metadata": {},
   "outputs": [
    {
     "data": {
      "text/plain": [
       "0.8395061728395062"
      ]
     },
     "execution_count": 118,
     "metadata": {},
     "output_type": "execute_result"
    }
   ],
   "source": [
    "f1_score(y_test, y_pred)"
   ]
  },
  {
   "cell_type": "code",
   "execution_count": 120,
   "metadata": {},
   "outputs": [
    {
     "name": "stdout",
     "output_type": "stream",
     "text": [
      "              precision    recall  f1-score   support\n",
      "\n",
      "       False       0.97      1.00      0.98       403\n",
      "        True       1.00      0.72      0.84        47\n",
      "\n",
      "    accuracy                           0.97       450\n",
      "   macro avg       0.98      0.86      0.91       450\n",
      "weighted avg       0.97      0.97      0.97       450\n",
      "\n"
     ]
    }
   ],
   "source": [
    "print(classification_report(y_test, y_pred, zero_division=0))"
   ]
  },
  {
   "cell_type": "code",
   "execution_count": 129,
   "metadata": {},
   "outputs": [],
   "source": [
    "X, y = make_blobs(n_samples=(400, 50), cluster_std=[7.0, 2], random_state=22)\n",
    "X_train, X_test, y_train, y_test = train_test_split(X, y, random_state=0)"
   ]
  },
  {
   "cell_type": "code",
   "execution_count": 133,
   "metadata": {},
   "outputs": [],
   "source": [
    "svc = SVC(gamma=0.05, probability=True).fit(X_train, y_train)"
   ]
  },
  {
   "cell_type": "code",
   "execution_count": 134,
   "metadata": {},
   "outputs": [
    {
     "name": "stdout",
     "output_type": "stream",
     "text": [
      "              precision    recall  f1-score   support\n",
      "\n",
      "           0       0.97      0.89      0.93       104\n",
      "           1       0.35      0.67      0.46         9\n",
      "\n",
      "    accuracy                           0.88       113\n",
      "   macro avg       0.66      0.78      0.70       113\n",
      "weighted avg       0.92      0.88      0.89       113\n",
      "\n"
     ]
    }
   ],
   "source": [
    "print(classification_report(y_test, svc.predict(X_test)))"
   ]
  },
  {
   "cell_type": "code",
   "execution_count": 150,
   "metadata": {},
   "outputs": [
    {
     "name": "stdout",
     "output_type": "stream",
     "text": [
      "              precision    recall  f1-score   support\n",
      "\n",
      "           0       0.99      0.82      0.89       104\n",
      "           1       0.30      0.89      0.44         9\n",
      "\n",
      "    accuracy                           0.82       113\n",
      "   macro avg       0.64      0.85      0.67       113\n",
      "weighted avg       0.93      0.82      0.86       113\n",
      "\n"
     ]
    }
   ],
   "source": [
    "print(classification_report(y_test, svc.predict_proba(X_test)[:, 1] > 0.1))"
   ]
  },
  {
   "cell_type": "code",
   "execution_count": 151,
   "metadata": {},
   "outputs": [],
   "source": [
    "precision, recall, thresholds = precision_recall_curve(y_test, svc.predict_proba(X_test)[:, 1])"
   ]
  },
  {
   "cell_type": "code",
   "execution_count": 152,
   "metadata": {},
   "outputs": [],
   "source": [
    "X, y = make_blobs(n_samples=(4000, 500), cluster_std=[7.0, 2], random_state=22)\n",
    "X_train, X_test, y_train, y_test = train_test_split(X, y, random_state=0)"
   ]
  },
  {
   "cell_type": "code",
   "execution_count": 154,
   "metadata": {},
   "outputs": [],
   "source": [
    "svc = SVC(gamma=0.05, probability=True).fit(X_train, y_train)"
   ]
  },
  {
   "cell_type": "code",
   "execution_count": 155,
   "metadata": {},
   "outputs": [],
   "source": [
    "precision, recall, thresholds = precision_recall_curve(y_test, svc.predict_proba(X_test)[:, 1])"
   ]
  },
  {
   "cell_type": "code",
   "execution_count": 169,
   "metadata": {},
   "outputs": [
    {
     "data": {
      "text/plain": [
       "<matplotlib.legend.Legend at 0x2433d358520>"
      ]
     },
     "execution_count": 169,
     "metadata": {},
     "output_type": "execute_result"
    },
    {
     "data": {
      "image/svg+xml": "<?xml version=\"1.0\" encoding=\"utf-8\" standalone=\"no\"?>\n<!DOCTYPE svg PUBLIC \"-//W3C//DTD SVG 1.1//EN\"\n  \"http://www.w3.org/Graphics/SVG/1.1/DTD/svg11.dtd\">\n<svg xmlns:xlink=\"http://www.w3.org/1999/xlink\" width=\"369.403125pt\" height=\"248.79625pt\" viewBox=\"0 0 369.403125 248.79625\" xmlns=\"http://www.w3.org/2000/svg\" version=\"1.1\">\n <metadata>\n  <rdf:RDF xmlns:dc=\"http://purl.org/dc/elements/1.1/\" xmlns:cc=\"http://creativecommons.org/ns#\" xmlns:rdf=\"http://www.w3.org/1999/02/22-rdf-syntax-ns#\">\n   <cc:Work>\n    <dc:type rdf:resource=\"http://purl.org/dc/dcmitype/StillImage\"/>\n    <dc:date>2022-11-20T18:46:14.021672</dc:date>\n    <dc:format>image/svg+xml</dc:format>\n    <dc:creator>\n     <cc:Agent>\n      <dc:title>Matplotlib v3.5.1, https://matplotlib.org/</dc:title>\n     </cc:Agent>\n    </dc:creator>\n   </cc:Work>\n  </rdf:RDF>\n </metadata>\n <defs>\n  <style type=\"text/css\">*{stroke-linejoin: round; stroke-linecap: butt}</style>\n </defs>\n <g id=\"figure_1\">\n  <g id=\"patch_1\">\n   <path d=\"M 0 248.79625 \nL 369.403125 248.79625 \nL 369.403125 0 \nL 0 0 \nL 0 248.79625 \nz\n\" style=\"fill: none\"/>\n  </g>\n  <g id=\"axes_1\">\n   <g id=\"patch_2\">\n    <path d=\"M 27.403125 224.64 \nL 362.203125 224.64 \nL 362.203125 7.2 \nL 27.403125 7.2 \nz\n\" style=\"fill: #ffffff\"/>\n   </g>\n   <g id=\"matplotlib.axis_1\">\n    <g id=\"xtick_1\">\n     <g id=\"line2d_1\">\n      <defs>\n       <path id=\"me8e259ed74\" d=\"M 0 0 \nL 0 3.5 \n\" style=\"stroke: #000000; stroke-width: 0.8\"/>\n      </defs>\n      <g>\n       <use xlink:href=\"#me8e259ed74\" x=\"73.340361\" y=\"224.64\" style=\"stroke: #000000; stroke-width: 0.8\"/>\n      </g>\n     </g>\n     <g id=\"text_1\">\n      <!-- 0.2 -->\n      <g transform=\"translate(66.738799 239.232187)scale(0.1 -0.1)\">\n       <defs>\n        <path id=\"MalgunGothic-30\" d=\"M 278 2206 \nQ 278 3425 675 4050 \nQ 1072 4675 1819 4675 \nQ 3253 4675 3253 2319 \nQ 3253 1156 2854 539 \nQ 2456 -78 1716 -78 \nQ 1016 -78 647 520 \nQ 278 1119 278 2206 \nz\nM 784 2231 \nQ 784 344 1769 344 \nQ 2747 344 2747 2259 \nQ 2747 4250 1794 4250 \nQ 784 4250 784 2231 \nz\n\" transform=\"scale(0.015625)\"/>\n        <path id=\"MalgunGothic-2e\" d=\"M 356 275 \nQ 356 422 459 523 \nQ 563 625 700 625 \nQ 838 625 941 523 \nQ 1044 422 1044 275 \nQ 1044 138 942 33 \nQ 841 -72 700 -72 \nQ 559 -72 457 29 \nQ 356 131 356 275 \nz\n\" transform=\"scale(0.015625)\"/>\n        <path id=\"MalgunGothic-32\" d=\"M 2519 3372 \nQ 2519 3784 2275 4018 \nQ 2031 4253 1628 4253 \nQ 1341 4253 1053 4104 \nQ 766 3956 534 3697 \nL 534 4234 \nQ 981 4675 1691 4675 \nQ 2281 4675 2642 4334 \nQ 3003 3994 3003 3416 \nQ 3003 2919 2772 2545 \nQ 2541 2172 1984 1775 \nQ 1459 1406 1254 1215 \nQ 1050 1025 967 854 \nQ 884 684 884 450 \nL 3116 450 \nL 3116 0 \nL 356 0 \nL 356 225 \nQ 356 603 461 870 \nQ 566 1138 811 1392 \nQ 1056 1647 1597 2022 \nQ 2091 2363 2305 2670 \nQ 2519 2978 2519 3372 \nz\n\" transform=\"scale(0.015625)\"/>\n       </defs>\n       <use xlink:href=\"#MalgunGothic-30\"/>\n       <use xlink:href=\"#MalgunGothic-2e\" x=\"55.078125\"/>\n       <use xlink:href=\"#MalgunGothic-32\" x=\"76.953125\"/>\n      </g>\n     </g>\n    </g>\n    <g id=\"xtick_2\">\n     <g id=\"line2d_2\">\n      <g>\n       <use xlink:href=\"#me8e259ed74\" x=\"141.751507\" y=\"224.64\" style=\"stroke: #000000; stroke-width: 0.8\"/>\n      </g>\n     </g>\n     <g id=\"text_2\">\n      <!-- 0.4 -->\n      <g transform=\"translate(135.149944 239.232187)scale(0.1 -0.1)\">\n       <defs>\n        <path id=\"MalgunGothic-34\" d=\"M 2703 4600 \nL 2703 1563 \nL 3309 1563 \nL 3309 1113 \nL 2703 1113 \nL 2703 0 \nL 2213 0 \nL 2213 1113 \nL 50 1113 \nL 50 1534 \nQ 728 2297 1295 3109 \nQ 1863 3922 2172 4600 \nL 2703 4600 \nz\nM 625 1563 \nL 2213 1563 \nL 2213 3831 \nQ 1613 2788 959 1981 \nL 625 1563 \nz\n\" transform=\"scale(0.015625)\"/>\n       </defs>\n       <use xlink:href=\"#MalgunGothic-30\"/>\n       <use xlink:href=\"#MalgunGothic-2e\" x=\"55.078125\"/>\n       <use xlink:href=\"#MalgunGothic-34\" x=\"76.953125\"/>\n      </g>\n     </g>\n    </g>\n    <g id=\"xtick_3\">\n     <g id=\"line2d_3\">\n      <g>\n       <use xlink:href=\"#me8e259ed74\" x=\"210.162652\" y=\"224.64\" style=\"stroke: #000000; stroke-width: 0.8\"/>\n      </g>\n     </g>\n     <g id=\"text_3\">\n      <!-- 0.6 -->\n      <g transform=\"translate(203.56109 239.232187)scale(0.1 -0.1)\">\n       <defs>\n        <path id=\"MalgunGothic-36\" d=\"M 2981 4069 \nQ 2619 4250 2228 4250 \nQ 1591 4250 1228 3689 \nQ 866 3128 869 2213 \nL 884 2213 \nQ 1203 2872 1938 2872 \nQ 2547 2872 2903 2478 \nQ 3259 2084 3259 1450 \nQ 3259 797 2857 359 \nQ 2456 -78 1825 -78 \nQ 1116 -78 736 478 \nQ 356 1034 356 2019 \nQ 356 3181 847 3928 \nQ 1338 4675 2222 4675 \nQ 2700 4675 2981 4544 \nL 2981 4069 \nz\nM 906 1506 \nQ 906 1022 1165 683 \nQ 1425 344 1844 344 \nQ 2247 344 2498 645 \nQ 2750 947 2750 1388 \nQ 2750 1888 2509 2167 \nQ 2269 2447 1838 2447 \nQ 1444 2447 1175 2173 \nQ 906 1900 906 1506 \nz\n\" transform=\"scale(0.015625)\"/>\n       </defs>\n       <use xlink:href=\"#MalgunGothic-30\"/>\n       <use xlink:href=\"#MalgunGothic-2e\" x=\"55.078125\"/>\n       <use xlink:href=\"#MalgunGothic-36\" x=\"76.953125\"/>\n      </g>\n     </g>\n    </g>\n    <g id=\"xtick_4\">\n     <g id=\"line2d_4\">\n      <g>\n       <use xlink:href=\"#me8e259ed74\" x=\"278.573798\" y=\"224.64\" style=\"stroke: #000000; stroke-width: 0.8\"/>\n      </g>\n     </g>\n     <g id=\"text_4\">\n      <!-- 0.8 -->\n      <g transform=\"translate(271.972235 239.232187)scale(0.1 -0.1)\">\n       <defs>\n        <path id=\"MalgunGothic-38\" d=\"M 303 1281 \nQ 303 1669 539 2011 \nQ 775 2353 1153 2494 \nQ 856 2647 675 2915 \nQ 494 3184 494 3500 \nQ 494 3828 659 4098 \nQ 825 4369 1122 4522 \nQ 1419 4675 1778 4675 \nQ 2334 4675 2700 4342 \nQ 3066 4009 3066 3500 \nQ 3066 3181 2881 2914 \nQ 2697 2647 2413 2494 \nQ 2788 2350 3022 2009 \nQ 3256 1669 3256 1281 \nQ 3256 672 2843 297 \nQ 2431 -78 1778 -78 \nQ 1131 -78 717 301 \nQ 303 681 303 1281 \nz\nM 809 1328 \nQ 809 878 1081 611 \nQ 1353 344 1781 344 \nQ 2206 344 2482 619 \nQ 2759 894 2759 1328 \nQ 2759 1731 2482 2011 \nQ 2206 2291 1781 2291 \nQ 1372 2291 1090 2020 \nQ 809 1750 809 1328 \nz\nM 1003 3459 \nQ 1003 3125 1234 2900 \nQ 1466 2675 1781 2675 \nQ 2097 2675 2330 2900 \nQ 2563 3125 2563 3459 \nQ 2563 3803 2341 4026 \nQ 2119 4250 1781 4250 \nQ 1450 4250 1226 4029 \nQ 1003 3809 1003 3459 \nz\n\" transform=\"scale(0.015625)\"/>\n       </defs>\n       <use xlink:href=\"#MalgunGothic-30\"/>\n       <use xlink:href=\"#MalgunGothic-2e\" x=\"55.078125\"/>\n       <use xlink:href=\"#MalgunGothic-38\" x=\"76.953125\"/>\n      </g>\n     </g>\n    </g>\n    <g id=\"xtick_5\">\n     <g id=\"line2d_5\">\n      <g>\n       <use xlink:href=\"#me8e259ed74\" x=\"346.984943\" y=\"224.64\" style=\"stroke: #000000; stroke-width: 0.8\"/>\n      </g>\n     </g>\n     <g id=\"text_5\">\n      <!-- 1.0 -->\n      <g transform=\"translate(340.383381 239.232187)scale(0.1 -0.1)\">\n       <defs>\n        <path id=\"MalgunGothic-31\" d=\"M 2231 0 \nL 1734 0 \nL 1734 3972 \nQ 1591 3828 1266 3661 \nQ 941 3494 672 3428 \nL 672 3959 \nQ 1016 4056 1409 4275 \nQ 1803 4494 2031 4700 \nL 2231 4700 \nL 2231 0 \nz\n\" transform=\"scale(0.015625)\"/>\n       </defs>\n       <use xlink:href=\"#MalgunGothic-31\"/>\n       <use xlink:href=\"#MalgunGothic-2e\" x=\"55.078125\"/>\n       <use xlink:href=\"#MalgunGothic-30\" x=\"76.953125\"/>\n      </g>\n     </g>\n    </g>\n   </g>\n   <g id=\"matplotlib.axis_2\">\n    <g id=\"ytick_1\">\n     <g id=\"line2d_6\">\n      <defs>\n       <path id=\"mc60af6980e\" d=\"M 0 0 \nL -3.5 0 \n\" style=\"stroke: #000000; stroke-width: 0.8\"/>\n      </defs>\n      <g>\n       <use xlink:href=\"#mc60af6980e\" x=\"27.403125\" y=\"214.756364\" style=\"stroke: #000000; stroke-width: 0.8\"/>\n      </g>\n     </g>\n     <g id=\"text_6\">\n      <!-- 0.0 -->\n      <g transform=\"translate(7.2 218.552457)scale(0.1 -0.1)\">\n       <use xlink:href=\"#MalgunGothic-30\"/>\n       <use xlink:href=\"#MalgunGothic-2e\" x=\"55.078125\"/>\n       <use xlink:href=\"#MalgunGothic-30\" x=\"76.953125\"/>\n      </g>\n     </g>\n    </g>\n    <g id=\"ytick_2\">\n     <g id=\"line2d_7\">\n      <g>\n       <use xlink:href=\"#mc60af6980e\" x=\"27.403125\" y=\"175.221818\" style=\"stroke: #000000; stroke-width: 0.8\"/>\n      </g>\n     </g>\n     <g id=\"text_7\">\n      <!-- 0.2 -->\n      <g transform=\"translate(7.2 179.017912)scale(0.1 -0.1)\">\n       <use xlink:href=\"#MalgunGothic-30\"/>\n       <use xlink:href=\"#MalgunGothic-2e\" x=\"55.078125\"/>\n       <use xlink:href=\"#MalgunGothic-32\" x=\"76.953125\"/>\n      </g>\n     </g>\n    </g>\n    <g id=\"ytick_3\">\n     <g id=\"line2d_8\">\n      <g>\n       <use xlink:href=\"#mc60af6980e\" x=\"27.403125\" y=\"135.687273\" style=\"stroke: #000000; stroke-width: 0.8\"/>\n      </g>\n     </g>\n     <g id=\"text_8\">\n      <!-- 0.4 -->\n      <g transform=\"translate(7.2 139.483366)scale(0.1 -0.1)\">\n       <use xlink:href=\"#MalgunGothic-30\"/>\n       <use xlink:href=\"#MalgunGothic-2e\" x=\"55.078125\"/>\n       <use xlink:href=\"#MalgunGothic-34\" x=\"76.953125\"/>\n      </g>\n     </g>\n    </g>\n    <g id=\"ytick_4\">\n     <g id=\"line2d_9\">\n      <g>\n       <use xlink:href=\"#mc60af6980e\" x=\"27.403125\" y=\"96.152727\" style=\"stroke: #000000; stroke-width: 0.8\"/>\n      </g>\n     </g>\n     <g id=\"text_9\">\n      <!-- 0.6 -->\n      <g transform=\"translate(7.2 99.948821)scale(0.1 -0.1)\">\n       <use xlink:href=\"#MalgunGothic-30\"/>\n       <use xlink:href=\"#MalgunGothic-2e\" x=\"55.078125\"/>\n       <use xlink:href=\"#MalgunGothic-36\" x=\"76.953125\"/>\n      </g>\n     </g>\n    </g>\n    <g id=\"ytick_5\">\n     <g id=\"line2d_10\">\n      <g>\n       <use xlink:href=\"#mc60af6980e\" x=\"27.403125\" y=\"56.618182\" style=\"stroke: #000000; stroke-width: 0.8\"/>\n      </g>\n     </g>\n     <g id=\"text_10\">\n      <!-- 0.8 -->\n      <g transform=\"translate(7.2 60.414276)scale(0.1 -0.1)\">\n       <use xlink:href=\"#MalgunGothic-30\"/>\n       <use xlink:href=\"#MalgunGothic-2e\" x=\"55.078125\"/>\n       <use xlink:href=\"#MalgunGothic-38\" x=\"76.953125\"/>\n      </g>\n     </g>\n    </g>\n    <g id=\"ytick_6\">\n     <g id=\"line2d_11\">\n      <g>\n       <use xlink:href=\"#mc60af6980e\" x=\"27.403125\" y=\"17.083636\" style=\"stroke: #000000; stroke-width: 0.8\"/>\n      </g>\n     </g>\n     <g id=\"text_11\">\n      <!-- 1.0 -->\n      <g transform=\"translate(7.2 20.87973)scale(0.1 -0.1)\">\n       <use xlink:href=\"#MalgunGothic-31\"/>\n       <use xlink:href=\"#MalgunGothic-2e\" x=\"55.078125\"/>\n       <use xlink:href=\"#MalgunGothic-30\" x=\"76.953125\"/>\n      </g>\n     </g>\n    </g>\n   </g>\n   <g id=\"line2d_12\">\n    <path d=\"M 42.90054 17.083636 \nL 42.621307 18.717295 \nL 42.725429 18.717295 \nL 43.799185 18.717295 \nL 43.511805 20.350954 \nL 43.621831 20.350954 \nL 47.066515 20.350954 \nL 46.755719 21.984613 \nL 46.842586 21.984613 \nL 50.743717 21.984613 \nL 50.407079 23.618272 \nL 50.510674 23.618272 \nL 52.290778 23.618272 \nL 51.941614 25.251931 \nL 52.053283 25.251931 \nL 52.619678 25.251931 \nL 52.265447 26.88559 \nL 52.322479 26.88559 \nL 60.963986 26.88559 \nL 60.555967 28.519249 \nL 60.635434 28.519249 \nL 65.857892 28.519249 \nL 65.417944 30.152908 \nL 65.512754 30.152908 \nL 97.620576 30.152908 \nL 97.021142 31.786566 \nL 103.666951 31.786566 \nL 103.038223 33.420225 \nL 123.951742 33.420225 \nL 123.250379 35.053884 \nL 128.293576 35.053884 \nL 127.574197 36.687543 \nL 188.594606 36.687543 \nL 187.018583 39.954861 \nL 187.92903 39.954861 \nL 187.129754 41.58852 \nL 189.918538 41.58852 \nL 189.113069 43.222179 \nL 191.02171 43.222179 \nL 190.209401 44.855838 \nL 197.220003 44.855838 \nL 196.406063 46.489497 \nL 198.510204 46.489497 \nL 197.689902 48.123156 \nL 202.046076 48.123156 \nL 201.222559 49.756814 \nL 209.353053 49.756814 \nL 208.533815 51.390473 \nL 210.986883 51.390473 \nL 210.162652 53.024132 \nL 211.414076 53.024132 \nL 210.582352 54.657791 \nL 213.13705 54.657791 \nL 212.3005 56.29145 \nL 214.925453 56.29145 \nL 214.08431 57.925109 \nL 215.425048 57.925109 \nL 214.576274 59.558768 \nL 215.937619 59.558768 \nL 215.081101 61.192427 \nL 216.463679 61.192427 \nL 212.02418 69.360721 \nL 217.817046 69.360721 \nL 215.984877 72.628039 \nL 219.021649 72.628039 \nL 217.153572 75.895357 \nL 220.297637 75.895357 \nL 218.392564 79.162675 \nL 220.009711 79.162675 \nL 219.040434 80.796334 \nL 224.058666 80.796334 \nL 223.090743 82.429992 \nL 228.368844 82.429992 \nL 227.404486 84.063651 \nL 229.228053 84.063651 \nL 226.259392 88.964628 \nL 230.042814 88.964628 \nL 228.009038 92.231946 \nL 231.957353 92.231946 \nL 228.820237 97.132923 \nL 230.874283 97.132923 \nL 228.703991 100.40024 \nL 230.815073 100.40024 \nL 228.581037 103.667558 \nL 230.752414 103.667558 \nL 229.61288 105.301217 \nL 231.837471 105.301217 \nL 229.511259 108.568535 \nL 234.141817 108.568535 \nL 230.54044 113.469512 \nL 229.288349 115.103171 \nL 250.404502 115.103171 \nL 249.254735 116.736829 \nL 255.213894 116.736829 \nL 251.728918 121.637806 \nL 261.471011 121.637806 \nL 257.95674 126.538783 \nL 268.800777 126.538783 \nL 266.501243 129.806101 \nL 270.405303 129.806101 \nL 266.815632 134.707077 \nL 265.543103 136.340736 \nL 269.746553 136.340736 \nL 268.48035 137.974395 \nL 272.872869 137.974395 \nL 268.972233 142.875372 \nL 266.135408 146.14269 \nL 270.972559 146.14269 \nL 268.049006 149.410008 \nL 278.573798 149.410008 \nL 275.723333 152.677325 \nL 272.625002 155.944643 \nL 278.573798 155.944643 \nL 275.391884 159.211961 \nL 271.89954 162.479279 \nL 270.022404 164.112938 \nL 276.819666 164.112938 \nL 273.026948 167.380255 \nL 270.972559 169.013914 \nL 278.573798 169.013914 \nL 274.427668 172.281232 \nL 282.849494 172.281232 \nL 280.780609 173.914891 \nL 289.975655 173.914891 \nL 285.903563 177.182209 \nL 281.204996 180.449527 \nL 278.573798 182.083186 \nL 289.975655 182.083186 \nL 287.496991 183.716844 \nL 284.792993 185.350503 \nL 298.119839 185.350503 \nL 295.676584 186.984162 \nL 292.976144 188.617821 \nL 289.975655 190.25148 \nL 286.622168 191.885139 \nL 282.849494 193.518798 \nL 278.573798 195.152457 \nL 273.687287 196.786116 \nL 294.360985 196.786116 \nL 289.975655 198.419775 \nL 284.792993 200.053434 \nL 278.573798 201.687092 \nL 270.972559 203.320751 \nL 261.471011 204.95441 \nL 249.254735 206.588069 \nL 289.975655 206.588069 \nL 278.573798 208.221728 \nL 261.471011 209.855387 \nL 232.966367 211.489046 \nL 175.957079 213.122705 \nL 346.984943 213.122705 \nL 346.984943 214.756364 \nL 346.984943 214.756364 \n\" clip-path=\"url(#p68cc530ed0)\" style=\"fill: none; stroke: #1f77b4; stroke-width: 1.5; stroke-linecap: square\"/>\n   </g>\n   <g id=\"line2d_13\">\n    <path d=\"M 228.820237 97.132923 \n\" clip-path=\"url(#p68cc530ed0)\" style=\"fill: none; stroke: #ff7f0e; stroke-width: 1.5; stroke-linecap: square\"/>\n    <defs>\n     <path id=\"md2076137ce\" d=\"M 0 5 \nC 1.326016 5 2.597899 4.473168 3.535534 3.535534 \nC 4.473168 2.597899 5 1.326016 5 0 \nC 5 -1.326016 4.473168 -2.597899 3.535534 -3.535534 \nC 2.597899 -4.473168 1.326016 -5 0 -5 \nC -1.326016 -5 -2.597899 -4.473168 -3.535534 -3.535534 \nC -4.473168 -2.597899 -5 -1.326016 -5 0 \nC -5 1.326016 -4.473168 2.597899 -3.535534 3.535534 \nC -2.597899 4.473168 -1.326016 5 0 5 \nz\n\" style=\"stroke: #ff7f0e\"/>\n    </defs>\n    <g clip-path=\"url(#p68cc530ed0)\">\n     <use xlink:href=\"#md2076137ce\" x=\"228.820237\" y=\"97.132923\" style=\"fill: #ff7f0e; stroke: #ff7f0e\"/>\n    </g>\n   </g>\n   <g id=\"patch_3\">\n    <path d=\"M 27.403125 224.64 \nL 27.403125 7.2 \n\" style=\"fill: none; stroke: #000000; stroke-width: 0.8; stroke-linejoin: miter; stroke-linecap: square\"/>\n   </g>\n   <g id=\"patch_4\">\n    <path d=\"M 362.203125 224.64 \nL 362.203125 7.2 \n\" style=\"fill: none; stroke: #000000; stroke-width: 0.8; stroke-linejoin: miter; stroke-linecap: square\"/>\n   </g>\n   <g id=\"patch_5\">\n    <path d=\"M 27.403125 224.64 \nL 362.203125 224.64 \n\" style=\"fill: none; stroke: #000000; stroke-width: 0.8; stroke-linejoin: miter; stroke-linecap: square\"/>\n   </g>\n   <g id=\"patch_6\">\n    <path d=\"M 27.403125 7.2 \nL 362.203125 7.2 \n\" style=\"fill: none; stroke: #000000; stroke-width: 0.8; stroke-linejoin: miter; stroke-linecap: square\"/>\n   </g>\n   <g id=\"legend_1\">\n    <g id=\"patch_7\">\n     <path d=\"M 235.585938 45.1125 \nL 355.203125 45.1125 \nQ 357.203125 45.1125 357.203125 43.1125 \nL 357.203125 14.2 \nQ 357.203125 12.2 355.203125 12.2 \nL 235.585938 12.2 \nQ 233.585938 12.2 233.585938 14.2 \nL 233.585938 43.1125 \nQ 233.585938 45.1125 235.585938 45.1125 \nz\n\" style=\"fill: #ffffff; opacity: 0.8; stroke: #cccccc; stroke-linejoin: miter\"/>\n    </g>\n    <g id=\"line2d_14\">\n     <path d=\"M 237.585938 20.292187 \nL 247.585938 20.292187 \nL 257.585938 20.292187 \n\" style=\"fill: none; stroke: #1f77b4; stroke-width: 1.5; stroke-linecap: square\"/>\n    </g>\n    <g id=\"text_12\">\n     <!-- 정밀도-재현율 곡선 -->\n     <g transform=\"translate(265.585938 23.792187)scale(0.1 -0.1)\">\n      <defs>\n       <path id=\"MalgunGothic-c815\" d=\"M 4947 1984 \nL 4947 3694 \nL 3541 3694 \nL 3541 4109 \nL 4947 4109 \nL 4947 5466 \nL 5416 5466 \nL 5416 1984 \nL 4947 1984 \nz\nM 3653 2328 \nQ 3244 2550 2831 2950 \nQ 2419 3350 2253 3700 \nQ 2075 3303 1659 2858 \nQ 1244 2413 819 2175 \nL 488 2497 \nQ 1134 2806 1571 3393 \nQ 2009 3981 2009 4628 \nL 2009 4781 \nL 684 4781 \nL 684 5197 \nL 3788 5197 \nL 3788 4781 \nL 2463 4781 \nL 2463 4628 \nQ 2463 4025 2916 3472 \nQ 3369 2919 3969 2669 \nL 3653 2328 \nz\nM 3566 -475 \nQ 2622 -475 2108 -148 \nQ 1594 178 1594 697 \nQ 1594 1216 2106 1539 \nQ 2619 1863 3566 1863 \nQ 4513 1863 5025 1539 \nQ 5538 1216 5538 697 \nQ 5538 178 5023 -148 \nQ 4509 -475 3566 -475 \nz\nM 3566 1466 \nQ 2850 1466 2472 1248 \nQ 2094 1031 2094 697 \nQ 2094 359 2473 143 \nQ 2853 -72 3566 -72 \nQ 4275 -72 4656 142 \nQ 5038 356 5038 697 \nQ 5038 1034 4659 1250 \nQ 4281 1466 3566 1466 \nz\n\" transform=\"scale(0.015625)\"/>\n       <path id=\"MalgunGothic-bc00\" d=\"M 4947 2419 \nL 4947 5466 \nL 5416 5466 \nL 5416 2419 \nL 4947 2419 \nz\nM 1038 2734 \nL 1038 5241 \nL 3828 5241 \nL 3828 2734 \nL 1038 2734 \nz\nM 3366 4825 \nL 1497 4825 \nL 1497 3150 \nL 3366 3150 \nL 3366 4825 \nz\nM 1703 -422 \nL 1703 1069 \nL 4953 1069 \nL 4953 1678 \nL 1703 1678 \nL 1703 2094 \nL 5416 2094 \nL 5416 666 \nL 2163 666 \nL 2163 -6 \nL 5581 -6 \nL 5581 -422 \nL 1703 -422 \nz\n\" transform=\"scale(0.015625)\"/>\n       <path id=\"MalgunGothic-b3c4\" d=\"M 403 372 \nL 403 788 \nL 2963 788 \nL 2963 2181 \nL 1350 2181 \nL 1350 4897 \nL 5050 4897 \nL 5050 4481 \nL 1819 4481 \nL 1819 2600 \nL 5147 2600 \nL 5147 2181 \nL 3438 2181 \nL 3438 788 \nL 5997 788 \nL 5997 372 \nL 403 372 \nz\n\" transform=\"scale(0.015625)\"/>\n       <path id=\"MalgunGothic-2d\" d=\"M 2213 1634 \nL 463 1634 \nL 463 2031 \nL 2213 2031 \nL 2213 1634 \nz\n\" transform=\"scale(0.015625)\"/>\n       <path id=\"MalgunGothic-c7ac\" d=\"M 5069 -563 \nL 5069 2375 \nL 4353 2375 \nL 4353 -378 \nL 3891 -378 \nL 3891 5344 \nL 4353 5344 \nL 4353 2791 \nL 5069 2791 \nL 5069 5466 \nL 5538 5466 \nL 5538 -563 \nL 5069 -563 \nz\nM 3181 884 \nQ 2791 1266 2461 1781 \nQ 2131 2297 2041 2681 \nQ 1959 2263 1606 1722 \nQ 1253 1181 838 800 \nL 475 1088 \nQ 1016 1478 1420 2233 \nQ 1825 2988 1825 3750 \nL 1825 4525 \nL 691 4525 \nL 691 4941 \nL 3425 4941 \nL 3425 4525 \nL 2284 4525 \nL 2284 3756 \nQ 2284 3006 2648 2281 \nQ 3013 1556 3531 1184 \nL 3181 884 \nz\n\" transform=\"scale(0.015625)\"/>\n       <path id=\"MalgunGothic-d604\" d=\"M 3950 1984 \nL 3950 2388 \nL 4947 2388 \nL 4947 3284 \nL 3950 3284 \nL 3950 3694 \nL 4947 3694 \nL 4947 5466 \nL 5416 5466 \nL 5416 953 \nL 4947 953 \nL 4947 1984 \nL 3950 1984 \nz\nM 494 4213 \nL 494 4628 \nL 2028 4628 \nL 2028 5422 \nL 2491 5422 \nL 2491 4628 \nL 4025 4628 \nL 4025 4213 \nL 494 4213 \nz\nM 2253 1734 \nQ 1578 1734 1189 2051 \nQ 800 2369 800 2822 \nQ 800 3275 1192 3589 \nQ 1584 3903 2259 3903 \nQ 2928 3903 3320 3589 \nQ 3713 3275 3713 2822 \nQ 3713 2369 3323 2051 \nQ 2934 1734 2253 1734 \nz\nM 2259 3506 \nQ 1803 3506 1536 3311 \nQ 1269 3116 1269 2822 \nQ 1269 2525 1539 2328 \nQ 1809 2131 2259 2131 \nQ 2713 2131 2978 2329 \nQ 3244 2528 3244 2822 \nQ 3244 3113 2980 3309 \nQ 2716 3506 2259 3506 \nz\nM 1581 -397 \nL 1581 1253 \nL 2041 1253 \nL 2041 13 \nL 5575 13 \nL 5575 -397 \nL 1581 -397 \nz\n\" transform=\"scale(0.015625)\"/>\n       <path id=\"MalgunGothic-c728\" d=\"M 3200 3316 \nQ 2269 3316 1769 3605 \nQ 1269 3894 1269 4378 \nQ 1269 4859 1770 5150 \nQ 2272 5441 3200 5441 \nQ 4138 5441 4634 5155 \nQ 5131 4869 5131 4378 \nQ 5131 3891 4632 3603 \nQ 4134 3316 3200 3316 \nz\nM 3200 5069 \nQ 2503 5069 2128 4878 \nQ 1753 4688 1753 4378 \nQ 1753 4063 2131 3872 \nQ 2509 3681 3200 3681 \nQ 3884 3681 4265 3875 \nQ 4647 4069 4647 4378 \nQ 4647 4681 4267 4875 \nQ 3888 5069 3200 5069 \nz\nM 1306 -500 \nL 1306 844 \nL 4628 844 \nL 4628 1403 \nL 1306 1403 \nL 1306 1784 \nL 2009 1784 \nL 2009 2425 \nL 403 2425 \nL 403 2816 \nL 5997 2816 \nL 5997 2425 \nL 4391 2425 \nL 4391 1784 \nL 5088 1784 \nL 5088 475 \nL 1766 475 \nL 1766 -109 \nL 5247 -109 \nL 5247 -500 \nL 1306 -500 \nz\nM 3928 1784 \nL 3928 2425 \nL 2472 2425 \nL 2472 1784 \nL 3928 1784 \nz\n\" transform=\"scale(0.015625)\"/>\n       <path id=\"MalgunGothic-20\" transform=\"scale(0.015625)\"/>\n       <path id=\"MalgunGothic-ace1\" d=\"M 5178 5247 \nQ 5178 3900 5100 3206 \nL 4653 3231 \nQ 4709 3903 4709 4825 \nL 1375 4825 \nL 1375 5247 \nL 5178 5247 \nz\nM 403 2350 \nL 403 2772 \nL 2772 2772 \nL 2772 4019 \nL 3238 4019 \nL 3238 2772 \nL 5997 2772 \nL 5997 2350 \nL 403 2350 \nz\nM 4569 -563 \nL 4569 1234 \nL 1259 1234 \nL 1259 1650 \nL 5038 1650 \nL 5038 -563 \nL 4569 -563 \nz\n\" transform=\"scale(0.015625)\"/>\n       <path id=\"MalgunGothic-c120\" d=\"M 4878 1063 \nL 4878 3653 \nL 3469 3653 \nL 3469 4072 \nL 4878 4072 \nL 4878 5466 \nL 5344 5466 \nL 5344 1063 \nL 4878 1063 \nz\nM 3675 2069 \nQ 3228 2344 2829 2776 \nQ 2431 3209 2266 3566 \nQ 2091 3150 1662 2648 \nQ 1234 2147 819 1913 \nL 481 2234 \nQ 1125 2559 1573 3198 \nQ 2022 3838 2022 4494 \nL 2022 5269 \nL 2478 5269 \nL 2478 4494 \nQ 2478 3894 2943 3286 \nQ 3409 2678 3988 2406 \nL 3675 2069 \nz\nM 1631 -366 \nL 1631 1550 \nL 2100 1550 \nL 2100 44 \nL 5503 44 \nL 5503 -366 \nL 1631 -366 \nz\n\" transform=\"scale(0.015625)\"/>\n      </defs>\n      <use xlink:href=\"#MalgunGothic-c815\"/>\n      <use xlink:href=\"#MalgunGothic-bc00\" x=\"100\"/>\n      <use xlink:href=\"#MalgunGothic-b3c4\" x=\"200\"/>\n      <use xlink:href=\"#MalgunGothic-2d\" x=\"300\"/>\n      <use xlink:href=\"#MalgunGothic-c7ac\" x=\"341.015625\"/>\n      <use xlink:href=\"#MalgunGothic-d604\" x=\"441.015625\"/>\n      <use xlink:href=\"#MalgunGothic-c728\" x=\"541.015625\"/>\n      <use xlink:href=\"#MalgunGothic-20\" x=\"641.015625\"/>\n      <use xlink:href=\"#MalgunGothic-ace1\" x=\"676.171875\"/>\n      <use xlink:href=\"#MalgunGothic-c120\" x=\"776.171875\"/>\n     </g>\n    </g>\n    <g id=\"line2d_15\">\n     <path d=\"M 237.585938 35.248437 \nL 247.585938 35.248437 \nL 257.585938 35.248437 \n\" style=\"fill: none; stroke: #ff7f0e; stroke-width: 1.5; stroke-linecap: square\"/>\n     <g>\n      <use xlink:href=\"#md2076137ce\" x=\"247.585938\" y=\"35.248437\" style=\"fill: #ff7f0e; stroke: #ff7f0e\"/>\n     </g>\n    </g>\n    <g id=\"text_13\">\n     <!-- 임계값 0.5 -->\n     <g transform=\"translate(265.585938 38.748437)scale(0.1 -0.1)\">\n      <defs>\n       <path id=\"MalgunGothic-c784\" d=\"M 4947 2138 \nL 4947 5466 \nL 5416 5466 \nL 5416 2138 \nL 4947 2138 \nz\nM 2406 2419 \nQ 1731 2419 1304 2825 \nQ 878 3231 878 3853 \nQ 878 4472 1304 4876 \nQ 1731 5281 2406 5281 \nQ 3081 5281 3512 4879 \nQ 3944 4478 3944 3853 \nQ 3944 3228 3514 2823 \nQ 3084 2419 2406 2419 \nz\nM 2406 4878 \nQ 1928 4878 1636 4593 \nQ 1344 4309 1344 3853 \nQ 1344 3391 1636 3106 \nQ 1928 2822 2406 2822 \nQ 2891 2822 3183 3109 \nQ 3475 3397 3475 3853 \nQ 3475 4303 3183 4590 \nQ 2891 4878 2406 4878 \nz\nM 1703 -397 \nL 1703 1806 \nL 5416 1806 \nL 5416 -397 \nL 1703 -397 \nz\nM 4953 1394 \nL 2163 1394 \nL 2163 13 \nL 4953 13 \nL 4953 1394 \nz\n\" transform=\"scale(0.015625)\"/>\n       <path id=\"MalgunGothic-acc4\" d=\"M 5044 -563 \nL 5044 5466 \nL 5509 5466 \nL 5509 -563 \nL 5044 -563 \nz\nM 3938 -366 \nL 3938 1925 \nL 2700 1925 \nL 2700 2344 \nL 3938 2344 \nL 3938 3616 \nL 2869 3616 \nQ 2366 1953 813 878 \nL 441 1197 \nQ 1263 1634 1891 2575 \nQ 2519 3516 2584 4531 \nL 800 4531 \nL 800 4941 \nL 3078 4941 \nQ 3056 4409 2969 4031 \nL 3938 4031 \nL 3938 5344 \nL 4397 5344 \nL 4397 -366 \nL 3938 -366 \nz\n\" transform=\"scale(0.015625)\"/>\n       <path id=\"MalgunGothic-ac12\" d=\"M 5119 3584 \nL 5119 2375 \nL 4653 2375 \nL 4653 5466 \nL 5119 5466 \nL 5119 4000 \nL 6028 4000 \nL 6028 3584 \nL 5119 3584 \nz\nM 3488 5203 \nQ 3488 4372 2816 3540 \nQ 2144 2709 781 2181 \nL 459 2572 \nQ 1553 2903 2193 3515 \nQ 2834 4128 2963 4794 \nL 831 4794 \nL 831 5203 \nL 3488 5203 \nz\nM 5575 -447 \nQ 5266 -256 4970 84 \nQ 4675 425 4575 709 \nQ 4456 397 4148 50 \nQ 3841 -297 3541 -447 \nL 3250 -134 \nQ 3756 109 4061 581 \nQ 4366 1053 4366 1606 \nL 4366 2022 \nL 4788 2022 \nL 4788 1606 \nQ 4788 1066 5089 586 \nQ 5391 106 5881 -134 \nL 5575 -447 \nz\nM 1216 -441 \nL 1216 1984 \nL 1656 1984 \nL 1656 1088 \nL 2700 1088 \nL 2700 1984 \nL 3144 1984 \nL 3144 -441 \nL 1216 -441 \nz\nM 2700 703 \nL 1656 703 \nL 1656 -50 \nL 2700 -50 \nL 2700 703 \nz\n\" transform=\"scale(0.015625)\"/>\n       <path id=\"MalgunGothic-35\" d=\"M 3072 1403 \nQ 3072 722 2636 322 \nQ 2200 -78 1469 -78 \nQ 828 -78 516 113 \nL 516 650 \nQ 994 344 1475 344 \nQ 1969 344 2270 630 \nQ 2572 916 2572 1372 \nQ 2572 1838 2265 2092 \nQ 1959 2347 1381 2347 \nQ 994 2347 603 2300 \nL 759 4600 \nL 2869 4600 \nL 2869 4147 \nL 1206 4147 \nL 1106 2763 \nQ 1347 2784 1547 2784 \nQ 2263 2784 2667 2414 \nQ 3072 2044 3072 1403 \nz\n\" transform=\"scale(0.015625)\"/>\n      </defs>\n      <use xlink:href=\"#MalgunGothic-c784\"/>\n      <use xlink:href=\"#MalgunGothic-acc4\" x=\"100\"/>\n      <use xlink:href=\"#MalgunGothic-ac12\" x=\"200\"/>\n      <use xlink:href=\"#MalgunGothic-20\" x=\"300\"/>\n      <use xlink:href=\"#MalgunGothic-30\" x=\"335.15625\"/>\n      <use xlink:href=\"#MalgunGothic-2e\" x=\"390.234375\"/>\n      <use xlink:href=\"#MalgunGothic-35\" x=\"412.109375\"/>\n     </g>\n    </g>\n   </g>\n  </g>\n </g>\n <defs>\n  <clipPath id=\"p68cc530ed0\">\n   <rect x=\"27.403125\" y=\"7.2\" width=\"334.8\" height=\"217.44\"/>\n  </clipPath>\n </defs>\n</svg>\n",
      "text/plain": [
       "<Figure size 432x288 with 1 Axes>"
      ]
     },
     "metadata": {
      "needs_background": "light"
     },
     "output_type": "display_data"
    }
   ],
   "source": [
    "close_zero = np.argmin(np.abs(thresholds - 0.5))\n",
    "plt.plot(precision, recall, label='정밀도-재현율 곡선')\n",
    "plt.plot(precision[close_zero], recall[close_zero], marker='o', markersize=10, label='임계값 0.5')\n",
    "plt.legend()"
   ]
  },
  {
   "cell_type": "code",
   "execution_count": 166,
   "metadata": {},
   "outputs": [],
   "source": [
    "rf_clf = RandomForestClassifier(n_estimators=100, random_state=0).fit(X_train, y_train)\n",
    "precision_rf, recall_rf, thresholds_rf = precision_recall_curve(y_test, rf_clf.predict_proba(X_test)[:, 1])"
   ]
  },
  {
   "cell_type": "code",
   "execution_count": 170,
   "metadata": {},
   "outputs": [
    {
     "data": {
      "text/plain": [
       "<matplotlib.legend.Legend at 0x2433f7dd190>"
      ]
     },
     "execution_count": 170,
     "metadata": {},
     "output_type": "execute_result"
    },
    {
     "data": {
      "image/svg+xml": "<?xml version=\"1.0\" encoding=\"utf-8\" standalone=\"no\"?>\n<!DOCTYPE svg PUBLIC \"-//W3C//DTD SVG 1.1//EN\"\n  \"http://www.w3.org/Graphics/SVG/1.1/DTD/svg11.dtd\">\n<svg xmlns:xlink=\"http://www.w3.org/1999/xlink\" width=\"383.359375pt\" height=\"262.7525pt\" viewBox=\"0 0 383.359375 262.7525\" xmlns=\"http://www.w3.org/2000/svg\" version=\"1.1\">\n <metadata>\n  <rdf:RDF xmlns:dc=\"http://purl.org/dc/elements/1.1/\" xmlns:cc=\"http://creativecommons.org/ns#\" xmlns:rdf=\"http://www.w3.org/1999/02/22-rdf-syntax-ns#\">\n   <cc:Work>\n    <dc:type rdf:resource=\"http://purl.org/dc/dcmitype/StillImage\"/>\n    <dc:date>2022-11-20T18:46:21.414889</dc:date>\n    <dc:format>image/svg+xml</dc:format>\n    <dc:creator>\n     <cc:Agent>\n      <dc:title>Matplotlib v3.5.1, https://matplotlib.org/</dc:title>\n     </cc:Agent>\n    </dc:creator>\n   </cc:Work>\n  </rdf:RDF>\n </metadata>\n <defs>\n  <style type=\"text/css\">*{stroke-linejoin: round; stroke-linecap: butt}</style>\n </defs>\n <g id=\"figure_1\">\n  <g id=\"patch_1\">\n   <path d=\"M 0 262.7525 \nL 383.359375 262.7525 \nL 383.359375 0 \nL 0 0 \nL 0 262.7525 \nz\n\" style=\"fill: none\"/>\n  </g>\n  <g id=\"axes_1\">\n   <g id=\"patch_2\">\n    <path d=\"M 41.359375 224.64 \nL 376.159375 224.64 \nL 376.159375 7.2 \nL 41.359375 7.2 \nz\n\" style=\"fill: #ffffff\"/>\n   </g>\n   <g id=\"matplotlib.axis_1\">\n    <g id=\"xtick_1\">\n     <g id=\"line2d_1\">\n      <defs>\n       <path id=\"m9a48ce1ed7\" d=\"M 0 0 \nL 0 3.5 \n\" style=\"stroke: #000000; stroke-width: 0.8\"/>\n      </defs>\n      <g>\n       <use xlink:href=\"#m9a48ce1ed7\" x=\"88.105264\" y=\"224.64\" style=\"stroke: #000000; stroke-width: 0.8\"/>\n      </g>\n     </g>\n     <g id=\"text_1\">\n      <!-- 0.2 -->\n      <g transform=\"translate(81.503702 239.232187)scale(0.1 -0.1)\">\n       <defs>\n        <path id=\"MalgunGothic-30\" d=\"M 278 2206 \nQ 278 3425 675 4050 \nQ 1072 4675 1819 4675 \nQ 3253 4675 3253 2319 \nQ 3253 1156 2854 539 \nQ 2456 -78 1716 -78 \nQ 1016 -78 647 520 \nQ 278 1119 278 2206 \nz\nM 784 2231 \nQ 784 344 1769 344 \nQ 2747 344 2747 2259 \nQ 2747 4250 1794 4250 \nQ 784 4250 784 2231 \nz\n\" transform=\"scale(0.015625)\"/>\n        <path id=\"MalgunGothic-2e\" d=\"M 356 275 \nQ 356 422 459 523 \nQ 563 625 700 625 \nQ 838 625 941 523 \nQ 1044 422 1044 275 \nQ 1044 138 942 33 \nQ 841 -72 700 -72 \nQ 559 -72 457 29 \nQ 356 131 356 275 \nz\n\" transform=\"scale(0.015625)\"/>\n        <path id=\"MalgunGothic-32\" d=\"M 2519 3372 \nQ 2519 3784 2275 4018 \nQ 2031 4253 1628 4253 \nQ 1341 4253 1053 4104 \nQ 766 3956 534 3697 \nL 534 4234 \nQ 981 4675 1691 4675 \nQ 2281 4675 2642 4334 \nQ 3003 3994 3003 3416 \nQ 3003 2919 2772 2545 \nQ 2541 2172 1984 1775 \nQ 1459 1406 1254 1215 \nQ 1050 1025 967 854 \nQ 884 684 884 450 \nL 3116 450 \nL 3116 0 \nL 356 0 \nL 356 225 \nQ 356 603 461 870 \nQ 566 1138 811 1392 \nQ 1056 1647 1597 2022 \nQ 2091 2363 2305 2670 \nQ 2519 2978 2519 3372 \nz\n\" transform=\"scale(0.015625)\"/>\n       </defs>\n       <use xlink:href=\"#MalgunGothic-30\"/>\n       <use xlink:href=\"#MalgunGothic-2e\" x=\"55.078125\"/>\n       <use xlink:href=\"#MalgunGothic-32\" x=\"76.953125\"/>\n      </g>\n     </g>\n    </g>\n    <g id=\"xtick_2\">\n     <g id=\"line2d_2\">\n      <g>\n       <use xlink:href=\"#m9a48ce1ed7\" x=\"156.314246\" y=\"224.64\" style=\"stroke: #000000; stroke-width: 0.8\"/>\n      </g>\n     </g>\n     <g id=\"text_2\">\n      <!-- 0.4 -->\n      <g transform=\"translate(149.712684 239.232187)scale(0.1 -0.1)\">\n       <defs>\n        <path id=\"MalgunGothic-34\" d=\"M 2703 4600 \nL 2703 1563 \nL 3309 1563 \nL 3309 1113 \nL 2703 1113 \nL 2703 0 \nL 2213 0 \nL 2213 1113 \nL 50 1113 \nL 50 1534 \nQ 728 2297 1295 3109 \nQ 1863 3922 2172 4600 \nL 2703 4600 \nz\nM 625 1563 \nL 2213 1563 \nL 2213 3831 \nQ 1613 2788 959 1981 \nL 625 1563 \nz\n\" transform=\"scale(0.015625)\"/>\n       </defs>\n       <use xlink:href=\"#MalgunGothic-30\"/>\n       <use xlink:href=\"#MalgunGothic-2e\" x=\"55.078125\"/>\n       <use xlink:href=\"#MalgunGothic-34\" x=\"76.953125\"/>\n      </g>\n     </g>\n    </g>\n    <g id=\"xtick_3\">\n     <g id=\"line2d_3\">\n      <g>\n       <use xlink:href=\"#m9a48ce1ed7\" x=\"224.523229\" y=\"224.64\" style=\"stroke: #000000; stroke-width: 0.8\"/>\n      </g>\n     </g>\n     <g id=\"text_3\">\n      <!-- 0.6 -->\n      <g transform=\"translate(217.921666 239.232187)scale(0.1 -0.1)\">\n       <defs>\n        <path id=\"MalgunGothic-36\" d=\"M 2981 4069 \nQ 2619 4250 2228 4250 \nQ 1591 4250 1228 3689 \nQ 866 3128 869 2213 \nL 884 2213 \nQ 1203 2872 1938 2872 \nQ 2547 2872 2903 2478 \nQ 3259 2084 3259 1450 \nQ 3259 797 2857 359 \nQ 2456 -78 1825 -78 \nQ 1116 -78 736 478 \nQ 356 1034 356 2019 \nQ 356 3181 847 3928 \nQ 1338 4675 2222 4675 \nQ 2700 4675 2981 4544 \nL 2981 4069 \nz\nM 906 1506 \nQ 906 1022 1165 683 \nQ 1425 344 1844 344 \nQ 2247 344 2498 645 \nQ 2750 947 2750 1388 \nQ 2750 1888 2509 2167 \nQ 2269 2447 1838 2447 \nQ 1444 2447 1175 2173 \nQ 906 1900 906 1506 \nz\n\" transform=\"scale(0.015625)\"/>\n       </defs>\n       <use xlink:href=\"#MalgunGothic-30\"/>\n       <use xlink:href=\"#MalgunGothic-2e\" x=\"55.078125\"/>\n       <use xlink:href=\"#MalgunGothic-36\" x=\"76.953125\"/>\n      </g>\n     </g>\n    </g>\n    <g id=\"xtick_4\">\n     <g id=\"line2d_4\">\n      <g>\n       <use xlink:href=\"#m9a48ce1ed7\" x=\"292.732211\" y=\"224.64\" style=\"stroke: #000000; stroke-width: 0.8\"/>\n      </g>\n     </g>\n     <g id=\"text_4\">\n      <!-- 0.8 -->\n      <g transform=\"translate(286.130648 239.232187)scale(0.1 -0.1)\">\n       <defs>\n        <path id=\"MalgunGothic-38\" d=\"M 303 1281 \nQ 303 1669 539 2011 \nQ 775 2353 1153 2494 \nQ 856 2647 675 2915 \nQ 494 3184 494 3500 \nQ 494 3828 659 4098 \nQ 825 4369 1122 4522 \nQ 1419 4675 1778 4675 \nQ 2334 4675 2700 4342 \nQ 3066 4009 3066 3500 \nQ 3066 3181 2881 2914 \nQ 2697 2647 2413 2494 \nQ 2788 2350 3022 2009 \nQ 3256 1669 3256 1281 \nQ 3256 672 2843 297 \nQ 2431 -78 1778 -78 \nQ 1131 -78 717 301 \nQ 303 681 303 1281 \nz\nM 809 1328 \nQ 809 878 1081 611 \nQ 1353 344 1781 344 \nQ 2206 344 2482 619 \nQ 2759 894 2759 1328 \nQ 2759 1731 2482 2011 \nQ 2206 2291 1781 2291 \nQ 1372 2291 1090 2020 \nQ 809 1750 809 1328 \nz\nM 1003 3459 \nQ 1003 3125 1234 2900 \nQ 1466 2675 1781 2675 \nQ 2097 2675 2330 2900 \nQ 2563 3125 2563 3459 \nQ 2563 3803 2341 4026 \nQ 2119 4250 1781 4250 \nQ 1450 4250 1226 4029 \nQ 1003 3809 1003 3459 \nz\n\" transform=\"scale(0.015625)\"/>\n       </defs>\n       <use xlink:href=\"#MalgunGothic-30\"/>\n       <use xlink:href=\"#MalgunGothic-2e\" x=\"55.078125\"/>\n       <use xlink:href=\"#MalgunGothic-38\" x=\"76.953125\"/>\n      </g>\n     </g>\n    </g>\n    <g id=\"xtick_5\">\n     <g id=\"line2d_5\">\n      <g>\n       <use xlink:href=\"#m9a48ce1ed7\" x=\"360.941193\" y=\"224.64\" style=\"stroke: #000000; stroke-width: 0.8\"/>\n      </g>\n     </g>\n     <g id=\"text_5\">\n      <!-- 1.0 -->\n      <g transform=\"translate(354.339631 239.232187)scale(0.1 -0.1)\">\n       <defs>\n        <path id=\"MalgunGothic-31\" d=\"M 2231 0 \nL 1734 0 \nL 1734 3972 \nQ 1591 3828 1266 3661 \nQ 941 3494 672 3428 \nL 672 3959 \nQ 1016 4056 1409 4275 \nQ 1803 4494 2031 4700 \nL 2231 4700 \nL 2231 0 \nz\n\" transform=\"scale(0.015625)\"/>\n       </defs>\n       <use xlink:href=\"#MalgunGothic-31\"/>\n       <use xlink:href=\"#MalgunGothic-2e\" x=\"55.078125\"/>\n       <use xlink:href=\"#MalgunGothic-30\" x=\"76.953125\"/>\n      </g>\n     </g>\n    </g>\n    <g id=\"text_6\">\n     <!-- 정밀도 -->\n     <g transform=\"translate(193.759375 253.188437)scale(0.1 -0.1)\">\n      <defs>\n       <path id=\"MalgunGothic-c815\" d=\"M 4947 1984 \nL 4947 3694 \nL 3541 3694 \nL 3541 4109 \nL 4947 4109 \nL 4947 5466 \nL 5416 5466 \nL 5416 1984 \nL 4947 1984 \nz\nM 3653 2328 \nQ 3244 2550 2831 2950 \nQ 2419 3350 2253 3700 \nQ 2075 3303 1659 2858 \nQ 1244 2413 819 2175 \nL 488 2497 \nQ 1134 2806 1571 3393 \nQ 2009 3981 2009 4628 \nL 2009 4781 \nL 684 4781 \nL 684 5197 \nL 3788 5197 \nL 3788 4781 \nL 2463 4781 \nL 2463 4628 \nQ 2463 4025 2916 3472 \nQ 3369 2919 3969 2669 \nL 3653 2328 \nz\nM 3566 -475 \nQ 2622 -475 2108 -148 \nQ 1594 178 1594 697 \nQ 1594 1216 2106 1539 \nQ 2619 1863 3566 1863 \nQ 4513 1863 5025 1539 \nQ 5538 1216 5538 697 \nQ 5538 178 5023 -148 \nQ 4509 -475 3566 -475 \nz\nM 3566 1466 \nQ 2850 1466 2472 1248 \nQ 2094 1031 2094 697 \nQ 2094 359 2473 143 \nQ 2853 -72 3566 -72 \nQ 4275 -72 4656 142 \nQ 5038 356 5038 697 \nQ 5038 1034 4659 1250 \nQ 4281 1466 3566 1466 \nz\n\" transform=\"scale(0.015625)\"/>\n       <path id=\"MalgunGothic-bc00\" d=\"M 4947 2419 \nL 4947 5466 \nL 5416 5466 \nL 5416 2419 \nL 4947 2419 \nz\nM 1038 2734 \nL 1038 5241 \nL 3828 5241 \nL 3828 2734 \nL 1038 2734 \nz\nM 3366 4825 \nL 1497 4825 \nL 1497 3150 \nL 3366 3150 \nL 3366 4825 \nz\nM 1703 -422 \nL 1703 1069 \nL 4953 1069 \nL 4953 1678 \nL 1703 1678 \nL 1703 2094 \nL 5416 2094 \nL 5416 666 \nL 2163 666 \nL 2163 -6 \nL 5581 -6 \nL 5581 -422 \nL 1703 -422 \nz\n\" transform=\"scale(0.015625)\"/>\n       <path id=\"MalgunGothic-b3c4\" d=\"M 403 372 \nL 403 788 \nL 2963 788 \nL 2963 2181 \nL 1350 2181 \nL 1350 4897 \nL 5050 4897 \nL 5050 4481 \nL 1819 4481 \nL 1819 2600 \nL 5147 2600 \nL 5147 2181 \nL 3438 2181 \nL 3438 788 \nL 5997 788 \nL 5997 372 \nL 403 372 \nz\n\" transform=\"scale(0.015625)\"/>\n      </defs>\n      <use xlink:href=\"#MalgunGothic-c815\"/>\n      <use xlink:href=\"#MalgunGothic-bc00\" x=\"100\"/>\n      <use xlink:href=\"#MalgunGothic-b3c4\" x=\"200\"/>\n     </g>\n    </g>\n   </g>\n   <g id=\"matplotlib.axis_2\">\n    <g id=\"ytick_1\">\n     <g id=\"line2d_6\">\n      <defs>\n       <path id=\"me668a75514\" d=\"M 0 0 \nL -3.5 0 \n\" style=\"stroke: #000000; stroke-width: 0.8\"/>\n      </defs>\n      <g>\n       <use xlink:href=\"#me668a75514\" x=\"41.359375\" y=\"214.756364\" style=\"stroke: #000000; stroke-width: 0.8\"/>\n      </g>\n     </g>\n     <g id=\"text_7\">\n      <!-- 0.0 -->\n      <g transform=\"translate(21.15625 218.552457)scale(0.1 -0.1)\">\n       <use xlink:href=\"#MalgunGothic-30\"/>\n       <use xlink:href=\"#MalgunGothic-2e\" x=\"55.078125\"/>\n       <use xlink:href=\"#MalgunGothic-30\" x=\"76.953125\"/>\n      </g>\n     </g>\n    </g>\n    <g id=\"ytick_2\">\n     <g id=\"line2d_7\">\n      <g>\n       <use xlink:href=\"#me668a75514\" x=\"41.359375\" y=\"175.221818\" style=\"stroke: #000000; stroke-width: 0.8\"/>\n      </g>\n     </g>\n     <g id=\"text_8\">\n      <!-- 0.2 -->\n      <g transform=\"translate(21.15625 179.017912)scale(0.1 -0.1)\">\n       <use xlink:href=\"#MalgunGothic-30\"/>\n       <use xlink:href=\"#MalgunGothic-2e\" x=\"55.078125\"/>\n       <use xlink:href=\"#MalgunGothic-32\" x=\"76.953125\"/>\n      </g>\n     </g>\n    </g>\n    <g id=\"ytick_3\">\n     <g id=\"line2d_8\">\n      <g>\n       <use xlink:href=\"#me668a75514\" x=\"41.359375\" y=\"135.687273\" style=\"stroke: #000000; stroke-width: 0.8\"/>\n      </g>\n     </g>\n     <g id=\"text_9\">\n      <!-- 0.4 -->\n      <g transform=\"translate(21.15625 139.483366)scale(0.1 -0.1)\">\n       <use xlink:href=\"#MalgunGothic-30\"/>\n       <use xlink:href=\"#MalgunGothic-2e\" x=\"55.078125\"/>\n       <use xlink:href=\"#MalgunGothic-34\" x=\"76.953125\"/>\n      </g>\n     </g>\n    </g>\n    <g id=\"ytick_4\">\n     <g id=\"line2d_9\">\n      <g>\n       <use xlink:href=\"#me668a75514\" x=\"41.359375\" y=\"96.152727\" style=\"stroke: #000000; stroke-width: 0.8\"/>\n      </g>\n     </g>\n     <g id=\"text_10\">\n      <!-- 0.6 -->\n      <g transform=\"translate(21.15625 99.948821)scale(0.1 -0.1)\">\n       <use xlink:href=\"#MalgunGothic-30\"/>\n       <use xlink:href=\"#MalgunGothic-2e\" x=\"55.078125\"/>\n       <use xlink:href=\"#MalgunGothic-36\" x=\"76.953125\"/>\n      </g>\n     </g>\n    </g>\n    <g id=\"ytick_5\">\n     <g id=\"line2d_10\">\n      <g>\n       <use xlink:href=\"#me668a75514\" x=\"41.359375\" y=\"56.618182\" style=\"stroke: #000000; stroke-width: 0.8\"/>\n      </g>\n     </g>\n     <g id=\"text_11\">\n      <!-- 0.8 -->\n      <g transform=\"translate(21.15625 60.414276)scale(0.1 -0.1)\">\n       <use xlink:href=\"#MalgunGothic-30\"/>\n       <use xlink:href=\"#MalgunGothic-2e\" x=\"55.078125\"/>\n       <use xlink:href=\"#MalgunGothic-38\" x=\"76.953125\"/>\n      </g>\n     </g>\n    </g>\n    <g id=\"ytick_6\">\n     <g id=\"line2d_11\">\n      <g>\n       <use xlink:href=\"#me668a75514\" x=\"41.359375\" y=\"17.083636\" style=\"stroke: #000000; stroke-width: 0.8\"/>\n      </g>\n     </g>\n     <g id=\"text_12\">\n      <!-- 1.0 -->\n      <g transform=\"translate(21.15625 20.87973)scale(0.1 -0.1)\">\n       <use xlink:href=\"#MalgunGothic-31\"/>\n       <use xlink:href=\"#MalgunGothic-2e\" x=\"55.078125\"/>\n       <use xlink:href=\"#MalgunGothic-30\" x=\"76.953125\"/>\n      </g>\n     </g>\n    </g>\n    <g id=\"text_13\">\n     <!-- 재현율 -->\n     <g transform=\"translate(14.792188 130.92)rotate(-90)scale(0.1 -0.1)\">\n      <defs>\n       <path id=\"MalgunGothic-c7ac\" d=\"M 5069 -563 \nL 5069 2375 \nL 4353 2375 \nL 4353 -378 \nL 3891 -378 \nL 3891 5344 \nL 4353 5344 \nL 4353 2791 \nL 5069 2791 \nL 5069 5466 \nL 5538 5466 \nL 5538 -563 \nL 5069 -563 \nz\nM 3181 884 \nQ 2791 1266 2461 1781 \nQ 2131 2297 2041 2681 \nQ 1959 2263 1606 1722 \nQ 1253 1181 838 800 \nL 475 1088 \nQ 1016 1478 1420 2233 \nQ 1825 2988 1825 3750 \nL 1825 4525 \nL 691 4525 \nL 691 4941 \nL 3425 4941 \nL 3425 4525 \nL 2284 4525 \nL 2284 3756 \nQ 2284 3006 2648 2281 \nQ 3013 1556 3531 1184 \nL 3181 884 \nz\n\" transform=\"scale(0.015625)\"/>\n       <path id=\"MalgunGothic-d604\" d=\"M 3950 1984 \nL 3950 2388 \nL 4947 2388 \nL 4947 3284 \nL 3950 3284 \nL 3950 3694 \nL 4947 3694 \nL 4947 5466 \nL 5416 5466 \nL 5416 953 \nL 4947 953 \nL 4947 1984 \nL 3950 1984 \nz\nM 494 4213 \nL 494 4628 \nL 2028 4628 \nL 2028 5422 \nL 2491 5422 \nL 2491 4628 \nL 4025 4628 \nL 4025 4213 \nL 494 4213 \nz\nM 2253 1734 \nQ 1578 1734 1189 2051 \nQ 800 2369 800 2822 \nQ 800 3275 1192 3589 \nQ 1584 3903 2259 3903 \nQ 2928 3903 3320 3589 \nQ 3713 3275 3713 2822 \nQ 3713 2369 3323 2051 \nQ 2934 1734 2253 1734 \nz\nM 2259 3506 \nQ 1803 3506 1536 3311 \nQ 1269 3116 1269 2822 \nQ 1269 2525 1539 2328 \nQ 1809 2131 2259 2131 \nQ 2713 2131 2978 2329 \nQ 3244 2528 3244 2822 \nQ 3244 3113 2980 3309 \nQ 2716 3506 2259 3506 \nz\nM 1581 -397 \nL 1581 1253 \nL 2041 1253 \nL 2041 13 \nL 5575 13 \nL 5575 -397 \nL 1581 -397 \nz\n\" transform=\"scale(0.015625)\"/>\n       <path id=\"MalgunGothic-c728\" d=\"M 3200 3316 \nQ 2269 3316 1769 3605 \nQ 1269 3894 1269 4378 \nQ 1269 4859 1770 5150 \nQ 2272 5441 3200 5441 \nQ 4138 5441 4634 5155 \nQ 5131 4869 5131 4378 \nQ 5131 3891 4632 3603 \nQ 4134 3316 3200 3316 \nz\nM 3200 5069 \nQ 2503 5069 2128 4878 \nQ 1753 4688 1753 4378 \nQ 1753 4063 2131 3872 \nQ 2509 3681 3200 3681 \nQ 3884 3681 4265 3875 \nQ 4647 4069 4647 4378 \nQ 4647 4681 4267 4875 \nQ 3888 5069 3200 5069 \nz\nM 1306 -500 \nL 1306 844 \nL 4628 844 \nL 4628 1403 \nL 1306 1403 \nL 1306 1784 \nL 2009 1784 \nL 2009 2425 \nL 403 2425 \nL 403 2816 \nL 5997 2816 \nL 5997 2425 \nL 4391 2425 \nL 4391 1784 \nL 5088 1784 \nL 5088 475 \nL 1766 475 \nL 1766 -109 \nL 5247 -109 \nL 5247 -500 \nL 1306 -500 \nz\nM 3928 1784 \nL 3928 2425 \nL 2472 2425 \nL 2472 1784 \nL 3928 1784 \nz\n\" transform=\"scale(0.015625)\"/>\n      </defs>\n      <use xlink:href=\"#MalgunGothic-c7ac\"/>\n      <use xlink:href=\"#MalgunGothic-d604\" x=\"100\"/>\n      <use xlink:href=\"#MalgunGothic-c728\" x=\"200\"/>\n     </g>\n    </g>\n   </g>\n   <g id=\"line2d_12\">\n    <path d=\"M 57.755396 17.083636 \nL 57.476988 18.717295 \nL 57.580802 18.717295 \nL 58.651385 18.717295 \nL 58.364855 20.350954 \nL 58.474556 20.350954 \nL 61.909061 20.350954 \nL 61.599183 21.984613 \nL 61.685793 21.984613 \nL 65.575396 21.984613 \nL 65.239753 23.618272 \nL 65.343041 23.618272 \nL 67.117885 23.618272 \nL 66.769753 25.251931 \nL 66.881092 25.251931 \nL 67.445813 25.251931 \nL 67.092629 26.88559 \nL 67.149493 26.88559 \nL 75.765463 26.88559 \nL 75.35865 28.519249 \nL 75.437882 28.519249 \nL 80.644907 28.519249 \nL 80.206258 30.152908 \nL 80.300788 30.152908 \nL 112.313728 30.152908 \nL 111.716066 31.786566 \nL 118.342236 31.786566 \nL 117.715365 33.420225 \nL 138.567082 33.420225 \nL 137.867792 35.053884 \nL 142.896086 35.053884 \nL 142.178832 36.687543 \nL 203.018919 36.687543 \nL 201.447553 39.954861 \nL 202.355309 39.954861 \nL 201.558395 41.58852 \nL 204.338938 41.58852 \nL 203.53585 43.222179 \nL 205.43885 43.222179 \nL 204.628942 44.855838 \nL 211.618827 44.855838 \nL 210.807292 46.489497 \nL 212.905215 46.489497 \nL 212.087337 48.123156 \nL 216.430638 48.123156 \nL 215.609555 49.756814 \nL 223.716022 49.756814 \nL 222.899205 51.390473 \nL 225.345024 51.390473 \nL 224.523229 53.024132 \nL 225.770954 53.024132 \nL 224.941689 54.657791 \nL 227.488837 54.657791 \nL 226.654759 56.29145 \nL 229.271955 56.29145 \nL 228.433298 57.925109 \nL 229.770073 57.925109 \nL 228.923808 59.558768 \nL 230.28113 59.558768 \nL 229.427142 61.192427 \nL 230.805635 61.192427 \nL 226.379255 69.360721 \nL 232.155003 69.360721 \nL 230.328248 72.628039 \nL 233.356047 72.628039 \nL 231.49349 75.895357 \nL 234.628263 75.895357 \nL 232.728821 79.162675 \nL 234.341188 79.162675 \nL 233.374776 80.796334 \nL 238.378178 80.796334 \nL 237.413115 82.429992 \nL 242.675619 82.429992 \nL 241.71411 84.063651 \nL 243.532289 84.063651 \nL 240.572401 88.964628 \nL 244.344642 88.964628 \nL 242.316876 92.231946 \nL 246.253524 92.231946 \nL 243.125678 97.132923 \nL 245.173654 97.132923 \nL 243.009775 100.40024 \nL 245.11462 100.40024 \nL 242.887185 103.667558 \nL 245.052146 103.667558 \nL 243.915979 105.301217 \nL 246.133995 105.301217 \nL 243.814658 108.568535 \nL 248.431532 108.568535 \nL 244.840798 113.469512 \nL 243.592407 115.103171 \nL 264.646159 115.103171 \nL 263.49979 116.736829 \nL 269.441339 116.736829 \nL 265.966661 121.637806 \nL 275.679965 121.637806 \nL 272.176079 126.538783 \nL 282.988071 126.538783 \nL 280.695332 129.806101 \nL 284.587855 129.806101 \nL 281.008792 134.707077 \nL 279.740024 136.340736 \nL 283.931052 136.340736 \nL 282.668591 137.974395 \nL 287.048129 137.974395 \nL 283.15902 142.875372 \nL 280.330578 146.14269 \nL 285.153435 146.14269 \nL 282.238521 149.410008 \nL 292.732211 149.410008 \nL 289.89017 152.677325 \nL 286.800995 155.944643 \nL 292.732211 155.944643 \nL 289.5597 159.211961 \nL 286.077676 162.479279 \nL 284.206088 164.112938 \nL 290.983263 164.112938 \nL 287.201753 167.380255 \nL 285.153435 169.013914 \nL 292.732211 169.013914 \nL 288.598333 172.281232 \nL 296.995272 172.281232 \nL 294.932501 173.914891 \nL 304.100375 173.914891 \nL 300.040316 177.182209 \nL 295.355633 180.449527 \nL 292.732211 182.083186 \nL 304.100375 182.083186 \nL 301.629035 183.716844 \nL 298.933027 185.350503 \nL 312.220492 185.350503 \nL 309.784456 186.984162 \nL 307.091997 188.617821 \nL 304.100375 190.25148 \nL 300.756797 191.885139 \nL 296.995272 193.518798 \nL 292.732211 195.152457 \nL 287.860141 196.786116 \nL 308.472745 196.786116 \nL 304.100375 198.419775 \nL 298.933027 200.053434 \nL 292.732211 201.687092 \nL 285.153435 203.320751 \nL 275.679965 204.95441 \nL 263.49979 206.588069 \nL 304.100375 206.588069 \nL 292.732211 208.221728 \nL 275.679965 209.855387 \nL 247.259556 211.489046 \nL 190.418738 213.122705 \nL 360.941193 213.122705 \nL 360.941193 214.756364 \nL 360.941193 214.756364 \n\" clip-path=\"url(#pdff6dcf7fd)\" style=\"fill: none; stroke: #1f77b4; stroke-width: 1.5; stroke-linecap: square\"/>\n   </g>\n   <g id=\"line2d_13\">\n    <path d=\"M 243.125678 97.132923 \n\" clip-path=\"url(#pdff6dcf7fd)\" style=\"fill: none; stroke: #0000ff; stroke-width: 1.5; stroke-linecap: square\"/>\n    <defs>\n     <path id=\"m36f1b0ba93\" d=\"M 0 5 \nC 1.326016 5 2.597899 4.473168 3.535534 3.535534 \nC 4.473168 2.597899 5 1.326016 5 0 \nC 5 -1.326016 4.473168 -2.597899 3.535534 -3.535534 \nC 2.597899 -4.473168 1.326016 -5 0 -5 \nC -1.326016 -5 -2.597899 -4.473168 -3.535534 -3.535534 \nC -4.473168 -2.597899 -5 -1.326016 -5 0 \nC -5 1.326016 -4.473168 2.597899 -3.535534 3.535534 \nC -2.597899 4.473168 -1.326016 5 0 5 \nz\n\" style=\"stroke: #0000ff\"/>\n    </defs>\n    <g clip-path=\"url(#pdff6dcf7fd)\">\n     <use xlink:href=\"#m36f1b0ba93\" x=\"243.125678\" y=\"97.132923\" style=\"fill: #0000ff; stroke: #0000ff\"/>\n    </g>\n   </g>\n   <g id=\"line2d_14\">\n    <path d=\"M 56.577557 17.083636 \nL 132.296999 23.618272 \nL 148.613232 23.618272 \nL 157.966367 23.618272 \nL 168.622634 25.251931 \nL 178.042108 26.88559 \nL 182.570424 28.519249 \nL 185.25139 31.786566 \nL 186.69554 31.786566 \nL 188.103953 36.687543 \nL 190.418738 36.687543 \nL 191.211865 38.321202 \nL 192.012405 38.321202 \nL 192.820462 38.321202 \nL 193.666784 39.954861 \nL 195.337655 39.954861 \nL 198.777681 39.954861 \nL 198.860443 41.58852 \nL 199.750812 41.58852 \nL 199.844602 43.222179 \nL 201.786901 44.855838 \nL 201.904706 46.489497 \nL 202.024978 48.123156 \nL 204.097009 49.756814 \nL 206.259621 51.390473 \nL 208.318885 51.390473 \nL 211.494547 51.390473 \nL 210.650215 53.024132 \nL 216.195388 53.024132 \nL 215.348921 54.657791 \nL 215.643953 56.29145 \nL 215.946051 57.925109 \nL 216.255473 59.558768 \nL 222.391698 59.558768 \nL 222.796419 61.192427 \nL 228.561918 62.826086 \nL 226.796861 66.093403 \nL 226.379255 69.360721 \nL 229.227296 69.360721 \nL 229.770073 70.99438 \nL 227.90949 74.261698 \nL 225.995365 77.529016 \nL 224.025353 80.796334 \nL 223.018619 82.429992 \nL 221.99697 84.063651 \nL 222.471831 85.69731 \nL 224.006494 85.69731 \nL 225.564587 85.69731 \nL 224.523229 87.330969 \nL 227.251588 90.598287 \nL 227.991482 97.132923 \nL 229.770073 97.132923 \nL 228.144945 102.033899 \nL 224.523229 106.934876 \nL 226.40054 106.934876 \nL 221.275182 113.469512 \nL 220.510936 116.736829 \nL 222.497219 116.736829 \nL 229.4968 118.370488 \nL 225.256659 123.271465 \nL 229.770073 123.271465 \nL 235.079381 128.172442 \nL 236.168665 129.806101 \nL 233.049351 133.073418 \nL 232.495707 136.340736 \nL 231.897173 139.608054 \nL 244.011509 139.608054 \nL 250.603134 139.608054 \nL 261.251142 139.608054 \nL 268.913201 139.608054 \nL 265.89589 142.875372 \nL 268.454438 144.509031 \nL 272.522142 149.410008 \nL 275.679965 151.043666 \nL 281.122171 155.944643 \nL 279.386975 157.578302 \nL 277.759508 164.112938 \nL 277.984323 169.013914 \nL 290.726064 170.647573 \nL 286.337619 173.914891 \nL 290.380177 177.182209 \nL 292.732211 182.083186 \nL 298.933027 185.350503 \nL 312.220492 185.350503 \nL 307.091997 188.617821 \nL 323.047314 188.617821 \nL 340.879728 188.617821 \nL 339.625886 190.25148 \nL 338.204866 191.885139 \nL 332.520784 196.786116 \nL 360.941193 204.95441 \nL 360.941193 209.855387 \nL 360.941193 213.122705 \nL 360.941193 214.756364 \n\" clip-path=\"url(#pdff6dcf7fd)\" style=\"fill: none; stroke: #ff0000; stroke-width: 1.5; stroke-linecap: square\"/>\n   </g>\n   <g id=\"line2d_15\">\n    <path d=\"M 227.251588 90.598287 \n\" clip-path=\"url(#pdff6dcf7fd)\" style=\"fill: none; stroke: #ff0000; stroke-width: 1.5; stroke-linecap: square\"/>\n    <defs>\n     <path id=\"m0e07953c03\" d=\"M 0 5 \nC 1.326016 5 2.597899 4.473168 3.535534 3.535534 \nC 4.473168 2.597899 5 1.326016 5 0 \nC 5 -1.326016 4.473168 -2.597899 3.535534 -3.535534 \nC 2.597899 -4.473168 1.326016 -5 0 -5 \nC -1.326016 -5 -2.597899 -4.473168 -3.535534 -3.535534 \nC -4.473168 -2.597899 -5 -1.326016 -5 0 \nC -5 1.326016 -4.473168 2.597899 -3.535534 3.535534 \nC -2.597899 4.473168 -1.326016 5 0 5 \nz\n\" style=\"stroke: #ff0000\"/>\n    </defs>\n    <g clip-path=\"url(#pdff6dcf7fd)\">\n     <use xlink:href=\"#m0e07953c03\" x=\"227.251588\" y=\"90.598287\" style=\"fill: #ff0000; stroke: #ff0000\"/>\n    </g>\n   </g>\n   <g id=\"patch_3\">\n    <path d=\"M 41.359375 224.64 \nL 41.359375 7.2 \n\" style=\"fill: none; stroke: #000000; stroke-width: 0.8; stroke-linejoin: miter; stroke-linecap: square\"/>\n   </g>\n   <g id=\"patch_4\">\n    <path d=\"M 376.159375 224.64 \nL 376.159375 7.2 \n\" style=\"fill: none; stroke: #000000; stroke-width: 0.8; stroke-linejoin: miter; stroke-linecap: square\"/>\n   </g>\n   <g id=\"patch_5\">\n    <path d=\"M 41.359375 224.64 \nL 376.159375 224.64 \n\" style=\"fill: none; stroke: #000000; stroke-width: 0.8; stroke-linejoin: miter; stroke-linecap: square\"/>\n   </g>\n   <g id=\"patch_6\">\n    <path d=\"M 41.359375 7.2 \nL 376.159375 7.2 \n\" style=\"fill: none; stroke: #000000; stroke-width: 0.8; stroke-linejoin: miter; stroke-linecap: square\"/>\n   </g>\n   <g id=\"legend_1\">\n    <g id=\"patch_7\">\n     <path d=\"M 249.542188 75.025 \nL 369.159375 75.025 \nQ 371.159375 75.025 371.159375 73.025 \nL 371.159375 14.2 \nQ 371.159375 12.2 369.159375 12.2 \nL 249.542188 12.2 \nQ 247.542188 12.2 247.542188 14.2 \nL 247.542188 73.025 \nQ 247.542188 75.025 249.542188 75.025 \nz\n\" style=\"fill: #ffffff; opacity: 0.8; stroke: #cccccc; stroke-linejoin: miter\"/>\n    </g>\n    <g id=\"line2d_16\">\n     <path d=\"M 251.542188 20.292187 \nL 261.542188 20.292187 \nL 271.542188 20.292187 \n\" style=\"fill: none; stroke: #1f77b4; stroke-width: 1.5; stroke-linecap: square\"/>\n    </g>\n    <g id=\"text_14\">\n     <!-- 정밀도-재현율 곡선 -->\n     <g transform=\"translate(279.542188 23.792187)scale(0.1 -0.1)\">\n      <defs>\n       <path id=\"MalgunGothic-2d\" d=\"M 2213 1634 \nL 463 1634 \nL 463 2031 \nL 2213 2031 \nL 2213 1634 \nz\n\" transform=\"scale(0.015625)\"/>\n       <path id=\"MalgunGothic-20\" transform=\"scale(0.015625)\"/>\n       <path id=\"MalgunGothic-ace1\" d=\"M 5178 5247 \nQ 5178 3900 5100 3206 \nL 4653 3231 \nQ 4709 3903 4709 4825 \nL 1375 4825 \nL 1375 5247 \nL 5178 5247 \nz\nM 403 2350 \nL 403 2772 \nL 2772 2772 \nL 2772 4019 \nL 3238 4019 \nL 3238 2772 \nL 5997 2772 \nL 5997 2350 \nL 403 2350 \nz\nM 4569 -563 \nL 4569 1234 \nL 1259 1234 \nL 1259 1650 \nL 5038 1650 \nL 5038 -563 \nL 4569 -563 \nz\n\" transform=\"scale(0.015625)\"/>\n       <path id=\"MalgunGothic-c120\" d=\"M 4878 1063 \nL 4878 3653 \nL 3469 3653 \nL 3469 4072 \nL 4878 4072 \nL 4878 5466 \nL 5344 5466 \nL 5344 1063 \nL 4878 1063 \nz\nM 3675 2069 \nQ 3228 2344 2829 2776 \nQ 2431 3209 2266 3566 \nQ 2091 3150 1662 2648 \nQ 1234 2147 819 1913 \nL 481 2234 \nQ 1125 2559 1573 3198 \nQ 2022 3838 2022 4494 \nL 2022 5269 \nL 2478 5269 \nL 2478 4494 \nQ 2478 3894 2943 3286 \nQ 3409 2678 3988 2406 \nL 3675 2069 \nz\nM 1631 -366 \nL 1631 1550 \nL 2100 1550 \nL 2100 44 \nL 5503 44 \nL 5503 -366 \nL 1631 -366 \nz\n\" transform=\"scale(0.015625)\"/>\n      </defs>\n      <use xlink:href=\"#MalgunGothic-c815\"/>\n      <use xlink:href=\"#MalgunGothic-bc00\" x=\"100\"/>\n      <use xlink:href=\"#MalgunGothic-b3c4\" x=\"200\"/>\n      <use xlink:href=\"#MalgunGothic-2d\" x=\"300\"/>\n      <use xlink:href=\"#MalgunGothic-c7ac\" x=\"341.015625\"/>\n      <use xlink:href=\"#MalgunGothic-d604\" x=\"441.015625\"/>\n      <use xlink:href=\"#MalgunGothic-c728\" x=\"541.015625\"/>\n      <use xlink:href=\"#MalgunGothic-20\" x=\"641.015625\"/>\n      <use xlink:href=\"#MalgunGothic-ace1\" x=\"676.171875\"/>\n      <use xlink:href=\"#MalgunGothic-c120\" x=\"776.171875\"/>\n     </g>\n    </g>\n    <g id=\"line2d_17\">\n     <path d=\"M 251.542188 35.248437 \nL 261.542188 35.248437 \nL 271.542188 35.248437 \n\" style=\"fill: none; stroke: #0000ff; stroke-width: 1.5; stroke-linecap: square\"/>\n     <g>\n      <use xlink:href=\"#m36f1b0ba93\" x=\"261.542188\" y=\"35.248437\" style=\"fill: #0000ff; stroke: #0000ff\"/>\n     </g>\n    </g>\n    <g id=\"text_15\">\n     <!-- 임계값 0.5 -->\n     <g transform=\"translate(279.542188 38.748437)scale(0.1 -0.1)\">\n      <defs>\n       <path id=\"MalgunGothic-c784\" d=\"M 4947 2138 \nL 4947 5466 \nL 5416 5466 \nL 5416 2138 \nL 4947 2138 \nz\nM 2406 2419 \nQ 1731 2419 1304 2825 \nQ 878 3231 878 3853 \nQ 878 4472 1304 4876 \nQ 1731 5281 2406 5281 \nQ 3081 5281 3512 4879 \nQ 3944 4478 3944 3853 \nQ 3944 3228 3514 2823 \nQ 3084 2419 2406 2419 \nz\nM 2406 4878 \nQ 1928 4878 1636 4593 \nQ 1344 4309 1344 3853 \nQ 1344 3391 1636 3106 \nQ 1928 2822 2406 2822 \nQ 2891 2822 3183 3109 \nQ 3475 3397 3475 3853 \nQ 3475 4303 3183 4590 \nQ 2891 4878 2406 4878 \nz\nM 1703 -397 \nL 1703 1806 \nL 5416 1806 \nL 5416 -397 \nL 1703 -397 \nz\nM 4953 1394 \nL 2163 1394 \nL 2163 13 \nL 4953 13 \nL 4953 1394 \nz\n\" transform=\"scale(0.015625)\"/>\n       <path id=\"MalgunGothic-acc4\" d=\"M 5044 -563 \nL 5044 5466 \nL 5509 5466 \nL 5509 -563 \nL 5044 -563 \nz\nM 3938 -366 \nL 3938 1925 \nL 2700 1925 \nL 2700 2344 \nL 3938 2344 \nL 3938 3616 \nL 2869 3616 \nQ 2366 1953 813 878 \nL 441 1197 \nQ 1263 1634 1891 2575 \nQ 2519 3516 2584 4531 \nL 800 4531 \nL 800 4941 \nL 3078 4941 \nQ 3056 4409 2969 4031 \nL 3938 4031 \nL 3938 5344 \nL 4397 5344 \nL 4397 -366 \nL 3938 -366 \nz\n\" transform=\"scale(0.015625)\"/>\n       <path id=\"MalgunGothic-ac12\" d=\"M 5119 3584 \nL 5119 2375 \nL 4653 2375 \nL 4653 5466 \nL 5119 5466 \nL 5119 4000 \nL 6028 4000 \nL 6028 3584 \nL 5119 3584 \nz\nM 3488 5203 \nQ 3488 4372 2816 3540 \nQ 2144 2709 781 2181 \nL 459 2572 \nQ 1553 2903 2193 3515 \nQ 2834 4128 2963 4794 \nL 831 4794 \nL 831 5203 \nL 3488 5203 \nz\nM 5575 -447 \nQ 5266 -256 4970 84 \nQ 4675 425 4575 709 \nQ 4456 397 4148 50 \nQ 3841 -297 3541 -447 \nL 3250 -134 \nQ 3756 109 4061 581 \nQ 4366 1053 4366 1606 \nL 4366 2022 \nL 4788 2022 \nL 4788 1606 \nQ 4788 1066 5089 586 \nQ 5391 106 5881 -134 \nL 5575 -447 \nz\nM 1216 -441 \nL 1216 1984 \nL 1656 1984 \nL 1656 1088 \nL 2700 1088 \nL 2700 1984 \nL 3144 1984 \nL 3144 -441 \nL 1216 -441 \nz\nM 2700 703 \nL 1656 703 \nL 1656 -50 \nL 2700 -50 \nL 2700 703 \nz\n\" transform=\"scale(0.015625)\"/>\n       <path id=\"MalgunGothic-35\" d=\"M 3072 1403 \nQ 3072 722 2636 322 \nQ 2200 -78 1469 -78 \nQ 828 -78 516 113 \nL 516 650 \nQ 994 344 1475 344 \nQ 1969 344 2270 630 \nQ 2572 916 2572 1372 \nQ 2572 1838 2265 2092 \nQ 1959 2347 1381 2347 \nQ 994 2347 603 2300 \nL 759 4600 \nL 2869 4600 \nL 2869 4147 \nL 1206 4147 \nL 1106 2763 \nQ 1347 2784 1547 2784 \nQ 2263 2784 2667 2414 \nQ 3072 2044 3072 1403 \nz\n\" transform=\"scale(0.015625)\"/>\n      </defs>\n      <use xlink:href=\"#MalgunGothic-c784\"/>\n      <use xlink:href=\"#MalgunGothic-acc4\" x=\"100\"/>\n      <use xlink:href=\"#MalgunGothic-ac12\" x=\"200\"/>\n      <use xlink:href=\"#MalgunGothic-20\" x=\"300\"/>\n      <use xlink:href=\"#MalgunGothic-30\" x=\"335.15625\"/>\n      <use xlink:href=\"#MalgunGothic-2e\" x=\"390.234375\"/>\n      <use xlink:href=\"#MalgunGothic-35\" x=\"412.109375\"/>\n     </g>\n    </g>\n    <g id=\"line2d_18\">\n     <path d=\"M 251.542188 50.204687 \nL 261.542188 50.204687 \nL 271.542188 50.204687 \n\" style=\"fill: none; stroke: #ff0000; stroke-width: 1.5; stroke-linecap: square\"/>\n    </g>\n    <g id=\"text_16\">\n     <!-- 정밀도-재현율 곡선 -->\n     <g transform=\"translate(279.542188 53.704687)scale(0.1 -0.1)\">\n      <use xlink:href=\"#MalgunGothic-c815\"/>\n      <use xlink:href=\"#MalgunGothic-bc00\" x=\"100\"/>\n      <use xlink:href=\"#MalgunGothic-b3c4\" x=\"200\"/>\n      <use xlink:href=\"#MalgunGothic-2d\" x=\"300\"/>\n      <use xlink:href=\"#MalgunGothic-c7ac\" x=\"341.015625\"/>\n      <use xlink:href=\"#MalgunGothic-d604\" x=\"441.015625\"/>\n      <use xlink:href=\"#MalgunGothic-c728\" x=\"541.015625\"/>\n      <use xlink:href=\"#MalgunGothic-20\" x=\"641.015625\"/>\n      <use xlink:href=\"#MalgunGothic-ace1\" x=\"676.171875\"/>\n      <use xlink:href=\"#MalgunGothic-c120\" x=\"776.171875\"/>\n     </g>\n    </g>\n    <g id=\"line2d_19\">\n     <path d=\"M 251.542188 65.160937 \nL 261.542188 65.160937 \nL 271.542188 65.160937 \n\" style=\"fill: none; stroke: #ff0000; stroke-width: 1.5; stroke-linecap: square\"/>\n     <g>\n      <use xlink:href=\"#m0e07953c03\" x=\"261.542188\" y=\"65.160937\" style=\"fill: #ff0000; stroke: #ff0000\"/>\n     </g>\n    </g>\n    <g id=\"text_17\">\n     <!-- 임계값 0.5 -->\n     <g transform=\"translate(279.542188 68.660937)scale(0.1 -0.1)\">\n      <use xlink:href=\"#MalgunGothic-c784\"/>\n      <use xlink:href=\"#MalgunGothic-acc4\" x=\"100\"/>\n      <use xlink:href=\"#MalgunGothic-ac12\" x=\"200\"/>\n      <use xlink:href=\"#MalgunGothic-20\" x=\"300\"/>\n      <use xlink:href=\"#MalgunGothic-30\" x=\"335.15625\"/>\n      <use xlink:href=\"#MalgunGothic-2e\" x=\"390.234375\"/>\n      <use xlink:href=\"#MalgunGothic-35\" x=\"412.109375\"/>\n     </g>\n    </g>\n   </g>\n  </g>\n </g>\n <defs>\n  <clipPath id=\"pdff6dcf7fd\">\n   <rect x=\"41.359375\" y=\"7.2\" width=\"334.8\" height=\"217.44\"/>\n  </clipPath>\n </defs>\n</svg>\n",
      "text/plain": [
       "<Figure size 432x288 with 1 Axes>"
      ]
     },
     "metadata": {
      "needs_background": "light"
     },
     "output_type": "display_data"
    }
   ],
   "source": [
    "close_zero = np.argmin(np.abs(thresholds - 0.5))\n",
    "close_zero_rf = np.argmin(np.abs(thresholds_rf - 0.5))\n",
    "plt.plot(precision, recall, label='정밀도-재현율 곡선')\n",
    "plt.plot(precision[close_zero], recall[close_zero], marker='o', color='blue', markersize=10, label='임계값 0.5')\n",
    "plt.plot(precision_rf, recall_rf, color='red', label='정밀도-재현율 곡선')\n",
    "plt.plot(precision_rf[close_zero_rf], recall_rf[close_zero_rf], marker='o', color='red', markersize=10, label='임계값 0.5')\n",
    "plt.xlabel('정밀도')\n",
    "plt.ylabel('재현율')\n",
    "plt.legend()"
   ]
  },
  {
   "cell_type": "code",
   "execution_count": 172,
   "metadata": {},
   "outputs": [
    {
     "data": {
      "text/plain": [
       "(0.6605305860917092, 0.6663140319391998)"
      ]
     },
     "execution_count": 172,
     "metadata": {},
     "output_type": "execute_result"
    }
   ],
   "source": [
    "rf_aps = average_precision_score(y_test, rf_clf.predict_proba(X_test)[:, 1])\n",
    "svc_aps = average_precision_score(y_test, svc.predict_proba(X_test)[:, 1])\n",
    "rf_aps, svc_aps"
   ]
  },
  {
   "cell_type": "code",
   "execution_count": null,
   "metadata": {},
   "outputs": [],
   "source": []
  }
 ],
 "metadata": {
  "kernelspec": {
   "display_name": "Python 3.9.12 ('base')",
   "language": "python",
   "name": "python3"
  },
  "language_info": {
   "codemirror_mode": {
    "name": "ipython",
    "version": 3
   },
   "file_extension": ".py",
   "mimetype": "text/x-python",
   "name": "python",
   "nbconvert_exporter": "python",
   "pygments_lexer": "ipython3",
   "version": "3.9.12"
  },
  "orig_nbformat": 4,
  "vscode": {
   "interpreter": {
    "hash": "610a6f344c2137faf927ea819c63f6cee33a2c04455044b28099f39fe9722347"
   }
  }
 },
 "nbformat": 4,
 "nbformat_minor": 2
}
