{
 "cells": [
  {
   "cell_type": "code",
   "execution_count": 39,
   "metadata": {},
   "outputs": [],
   "source": [
    "import os\n",
    "import sys\n",
    "import numpy as np\n",
    "from scipy import sparse\n",
    "%matplotlib inline\n",
    "import matplotlib.pyplot as plt\n",
    "import pandas as pd\n",
    "import mglearn\n",
    "plt.rcParams['font.family'] = 'Malgun Gothic'\n",
    "plt.rcParams['axes.unicode_minus'] = False\n",
    "%config InlineBackend.figure_format = 'svg'\n",
    "from mpl_toolkits.mplot3d import Axes3D, axes3d\n",
    "from scipy.cluster import hierarchy\n",
    "import seaborn as sns\n",
    "import spacy\n",
    "import nltk\n",
    "from konlpy.tag import Okt\n",
    "import graphviz\n",
    "from sklearn.utils.fixes import loguniform\n",
    "import scipy.stats as ss"
   ]
  },
  {
   "cell_type": "code",
   "execution_count": 77,
   "metadata": {},
   "outputs": [],
   "source": [
    "from sklearn.model_selection import train_test_split\n",
    "from sklearn.model_selection import cross_val_score, cross_validate\n",
    "from sklearn.model_selection import KFold, StratifiedKFold\n",
    "from sklearn.model_selection import GroupKFold, StratifiedGroupKFold\n",
    "from sklearn.model_selection import RepeatedKFold, RepeatedStratifiedKFold\n",
    "from sklearn.model_selection import LeaveOneOut\n",
    "from sklearn.model_selection import ShuffleSplit, StratifiedShuffleSplit\n",
    "from sklearn.model_selection import GridSearchCV, RandomizedSearchCV\n",
    "from sklearn.linear_model import LogisticRegression\n",
    "from sklearn.ensemble import RandomForestClassifier\n",
    "from sklearn.svm import SVR, SVC\n",
    "from sklearn.dummy import DummyClassifier\n",
    "from sklearn.metrics import confusion_matrix, ConfusionMatrixDisplay\n",
    "from sklearn.metrics import f1_score\n",
    "from sklearn.metrics import classification_report\n",
    "from sklearn.metrics import precision_recall_curve, PrecisionRecallDisplay\n",
    "from sklearn.metrics import roc_curve, roc_auc_score, RocCurveDisplay\n",
    "from sklearn.metrics import average_precision_score\n",
    "from sklearn.metrics import accuracy_score\n",
    "from sklearn.utils.fixes import loguniform\n",
    "from imblearn.over_sampling import RandomOverSampler, SMOTE\n",
    "from imblearn.under_sampling import RandomUnderSampler"
   ]
  },
  {
   "cell_type": "code",
   "execution_count": 3,
   "metadata": {},
   "outputs": [],
   "source": [
    "from sklearn.datasets import make_blobs\n",
    "from sklearn.datasets import load_iris\n",
    "from sklearn.datasets import load_digits"
   ]
  },
  {
   "cell_type": "code",
   "execution_count": 4,
   "metadata": {},
   "outputs": [],
   "source": [
    "iris = load_iris()\n",
    "logreg = LogisticRegression(max_iter=1000)"
   ]
  },
  {
   "cell_type": "code",
   "execution_count": 7,
   "metadata": {},
   "outputs": [
    {
     "data": {
      "text/plain": [
       "array([1.        , 0.93333333, 1.        , 1.        , 0.93333333,\n",
       "       0.93333333, 0.93333333, 1.        , 1.        , 1.        ])"
      ]
     },
     "execution_count": 7,
     "metadata": {},
     "output_type": "execute_result"
    }
   ],
   "source": [
    "scores = cross_val_score(logreg, iris['data'], iris['target'], cv=10)\n",
    "scores"
   ]
  },
  {
   "cell_type": "code",
   "execution_count": 10,
   "metadata": {},
   "outputs": [
    {
     "data": {
      "text/plain": [
       "{'fit_time': array([0.03471446, 0.02602267, 0.0160141 , 0.01701546, 0.01701498]),\n",
       " 'score_time': array([0., 0., 0., 0., 0.]),\n",
       " 'test_score': array([0.96666667, 1.        , 0.93333333, 0.96666667, 1.        ]),\n",
       " 'train_score': array([0.96666667, 0.96666667, 0.98333333, 0.98333333, 0.975     ])}"
      ]
     },
     "execution_count": 10,
     "metadata": {},
     "output_type": "execute_result"
    }
   ],
   "source": [
    "res = cross_validate(logreg, iris['data'], iris['target'], return_train_score=True, cv=5)\n",
    "res"
   ]
  },
  {
   "cell_type": "code",
   "execution_count": 15,
   "metadata": {},
   "outputs": [
    {
     "data": {
      "text/plain": [
       "array([0.98, 0.96, 0.96])"
      ]
     },
     "execution_count": 15,
     "metadata": {},
     "output_type": "execute_result"
    }
   ],
   "source": [
    "kfold = KFold(n_splits=3, shuffle=True, random_state=0)\n",
    "cross_val_score(logreg, iris['data'], iris['target'], cv=kfold)"
   ]
  },
  {
   "cell_type": "code",
   "execution_count": 23,
   "metadata": {},
   "outputs": [
    {
     "data": {
      "text/plain": [
       "array([0.96666667, 1.        , 0.93333333, 0.96666667, 1.        ])"
      ]
     },
     "execution_count": 23,
     "metadata": {},
     "output_type": "execute_result"
    }
   ],
   "source": [
    "skfold = StratifiedKFold(n_splits=5)\n",
    "cross_val_score(logreg, iris['data'], iris['target'], cv=skfold)"
   ]
  },
  {
   "cell_type": "code",
   "execution_count": 25,
   "metadata": {},
   "outputs": [
    {
     "data": {
      "text/plain": [
       "0.9666666666666667"
      ]
     },
     "execution_count": 25,
     "metadata": {},
     "output_type": "execute_result"
    }
   ],
   "source": [
    "loo = LeaveOneOut()\n",
    "cross_val_score(logreg, iris['data'], iris['target'], cv=loo).mean()"
   ]
  },
  {
   "cell_type": "code",
   "execution_count": 33,
   "metadata": {},
   "outputs": [
    {
     "data": {
      "text/plain": [
       "0.9566666666666667"
      ]
     },
     "execution_count": 33,
     "metadata": {},
     "output_type": "execute_result"
    }
   ],
   "source": [
    "shuffle_split = StratifiedShuffleSplit(train_size=0.6, test_size=0.2, n_splits=10, random_state=0)\n",
    "cross_val_score(logreg, iris['data'], iris['target'], cv=shuffle_split).mean()"
   ]
  },
  {
   "cell_type": "code",
   "execution_count": 34,
   "metadata": {},
   "outputs": [
    {
     "data": {
      "text/plain": [
       "array([0.75      , 0.66666667, 0.8       ])"
      ]
     },
     "execution_count": 34,
     "metadata": {},
     "output_type": "execute_result"
    }
   ],
   "source": [
    "X, y = make_blobs(n_samples=12, random_state=0)\n",
    "groups = [0, 0, 0, 1, 1, 1, 1, 2, 2, 3, 3, 3]\n",
    "cross_val_score(logreg, X, y, cv=StratifiedGroupKFold(n_splits=3), groups=groups)"
   ]
  },
  {
   "cell_type": "code",
   "execution_count": 36,
   "metadata": {},
   "outputs": [
    {
     "data": {
      "text/plain": [
       "0.9626666666666669"
      ]
     },
     "execution_count": 36,
     "metadata": {},
     "output_type": "execute_result"
    }
   ],
   "source": [
    "rskfold = RepeatedStratifiedKFold(n_splits=3, n_repeats=10, random_state=0)\n",
    "cross_val_score(logreg, iris['data'], iris['target'], cv=rskfold).mean()"
   ]
  },
  {
   "cell_type": "code",
   "execution_count": 50,
   "metadata": {},
   "outputs": [
    {
     "data": {
      "text/plain": [
       "array([1.e-03, 1.e-02, 1.e-01, 1.e+00, 1.e+01])"
      ]
     },
     "execution_count": 50,
     "metadata": {},
     "output_type": "execute_result"
    }
   ],
   "source": [
    "np.logspace(-3, 1, 5)"
   ]
  },
  {
   "cell_type": "code",
   "execution_count": 52,
   "metadata": {},
   "outputs": [],
   "source": [
    "X_train, X_test, y_train, y_test = train_test_split(iris['data'], iris['target'], random_state=0)"
   ]
  },
  {
   "cell_type": "code",
   "execution_count": 53,
   "metadata": {},
   "outputs": [
    {
     "data": {
      "text/plain": [
       "({'C': 10.0, 'gamma': 0.1}, 0.9731225296442687, 0.9736842105263158)"
      ]
     },
     "execution_count": 53,
     "metadata": {},
     "output_type": "execute_result"
    }
   ],
   "source": [
    "param_grid = {'C':np.logspace(-3, 1, 5), 'gamma':np.logspace(-3, 1, 5)}\n",
    "grid = GridSearchCV(SVC(), param_grid=param_grid, cv=5, return_train_score=True).fit(X_train, y_train)\n",
    "grid.best_params_, grid.best_score_, grid.score(X_test, y_test)"
   ]
  },
  {
   "cell_type": "code",
   "execution_count": 54,
   "metadata": {},
   "outputs": [
    {
     "data": {
      "text/plain": [
       "SVC(C=10.0, gamma=0.1)"
      ]
     },
     "execution_count": 54,
     "metadata": {},
     "output_type": "execute_result"
    }
   ],
   "source": [
    "grid.best_estimator_"
   ]
  },
  {
   "cell_type": "code",
   "execution_count": 58,
   "metadata": {},
   "outputs": [
    {
     "data": {
      "text/html": [
       "<div>\n",
       "<style scoped>\n",
       "    .dataframe tbody tr th:only-of-type {\n",
       "        vertical-align: middle;\n",
       "    }\n",
       "\n",
       "    .dataframe tbody tr th {\n",
       "        vertical-align: top;\n",
       "    }\n",
       "\n",
       "    .dataframe thead th {\n",
       "        text-align: right;\n",
       "    }\n",
       "</style>\n",
       "<table border=\"1\" class=\"dataframe\">\n",
       "  <thead>\n",
       "    <tr style=\"text-align: right;\">\n",
       "      <th></th>\n",
       "      <th>0</th>\n",
       "      <th>1</th>\n",
       "      <th>2</th>\n",
       "      <th>3</th>\n",
       "      <th>4</th>\n",
       "      <th>5</th>\n",
       "      <th>6</th>\n",
       "      <th>7</th>\n",
       "      <th>8</th>\n",
       "      <th>9</th>\n",
       "      <th>...</th>\n",
       "      <th>15</th>\n",
       "      <th>16</th>\n",
       "      <th>17</th>\n",
       "      <th>18</th>\n",
       "      <th>19</th>\n",
       "      <th>20</th>\n",
       "      <th>21</th>\n",
       "      <th>22</th>\n",
       "      <th>23</th>\n",
       "      <th>24</th>\n",
       "    </tr>\n",
       "  </thead>\n",
       "  <tbody>\n",
       "    <tr>\n",
       "      <th>mean_fit_time</th>\n",
       "      <td>0.000601</td>\n",
       "      <td>0.001001</td>\n",
       "      <td>0.000801</td>\n",
       "      <td>0.000801</td>\n",
       "      <td>0.000801</td>\n",
       "      <td>0.001001</td>\n",
       "      <td>0.000401</td>\n",
       "      <td>0.0006</td>\n",
       "      <td>0.001001</td>\n",
       "      <td>0.000801</td>\n",
       "      <td>...</td>\n",
       "      <td>0.0004</td>\n",
       "      <td>0.000601</td>\n",
       "      <td>0.0004</td>\n",
       "      <td>0.000601</td>\n",
       "      <td>0.000801</td>\n",
       "      <td>0.0006</td>\n",
       "      <td>0.000601</td>\n",
       "      <td>0.0002</td>\n",
       "      <td>0.000601</td>\n",
       "      <td>0.0006</td>\n",
       "    </tr>\n",
       "    <tr>\n",
       "      <th>std_fit_time</th>\n",
       "      <td>0.00049</td>\n",
       "      <td>0.0</td>\n",
       "      <td>0.0004</td>\n",
       "      <td>0.0004</td>\n",
       "      <td>0.0004</td>\n",
       "      <td>0.0</td>\n",
       "      <td>0.000491</td>\n",
       "      <td>0.00049</td>\n",
       "      <td>0.0</td>\n",
       "      <td>0.0004</td>\n",
       "      <td>...</td>\n",
       "      <td>0.000491</td>\n",
       "      <td>0.00049</td>\n",
       "      <td>0.00049</td>\n",
       "      <td>0.00049</td>\n",
       "      <td>0.0004</td>\n",
       "      <td>0.00049</td>\n",
       "      <td>0.000491</td>\n",
       "      <td>0.0004</td>\n",
       "      <td>0.00049</td>\n",
       "      <td>0.00049</td>\n",
       "    </tr>\n",
       "    <tr>\n",
       "      <th>mean_score_time</th>\n",
       "      <td>0.0004</td>\n",
       "      <td>0.0002</td>\n",
       "      <td>0.0004</td>\n",
       "      <td>0.0004</td>\n",
       "      <td>0.000401</td>\n",
       "      <td>0.0</td>\n",
       "      <td>0.0006</td>\n",
       "      <td>0.0004</td>\n",
       "      <td>0.0</td>\n",
       "      <td>0.0002</td>\n",
       "      <td>...</td>\n",
       "      <td>0.000601</td>\n",
       "      <td>0.0002</td>\n",
       "      <td>0.0004</td>\n",
       "      <td>0.0</td>\n",
       "      <td>0.0002</td>\n",
       "      <td>0.0002</td>\n",
       "      <td>0.0002</td>\n",
       "      <td>0.0004</td>\n",
       "      <td>0.0</td>\n",
       "      <td>0.000624</td>\n",
       "    </tr>\n",
       "    <tr>\n",
       "      <th>std_score_time</th>\n",
       "      <td>0.00049</td>\n",
       "      <td>0.0004</td>\n",
       "      <td>0.00049</td>\n",
       "      <td>0.000491</td>\n",
       "      <td>0.000491</td>\n",
       "      <td>0.0</td>\n",
       "      <td>0.00049</td>\n",
       "      <td>0.00049</td>\n",
       "      <td>0.0</td>\n",
       "      <td>0.0004</td>\n",
       "      <td>...</td>\n",
       "      <td>0.00049</td>\n",
       "      <td>0.0004</td>\n",
       "      <td>0.00049</td>\n",
       "      <td>0.0</td>\n",
       "      <td>0.0004</td>\n",
       "      <td>0.0004</td>\n",
       "      <td>0.0004</td>\n",
       "      <td>0.00049</td>\n",
       "      <td>0.0</td>\n",
       "      <td>0.000511</td>\n",
       "    </tr>\n",
       "    <tr>\n",
       "      <th>param_C</th>\n",
       "      <td>0.001</td>\n",
       "      <td>0.001</td>\n",
       "      <td>0.001</td>\n",
       "      <td>0.001</td>\n",
       "      <td>0.001</td>\n",
       "      <td>0.01</td>\n",
       "      <td>0.01</td>\n",
       "      <td>0.01</td>\n",
       "      <td>0.01</td>\n",
       "      <td>0.01</td>\n",
       "      <td>...</td>\n",
       "      <td>1.0</td>\n",
       "      <td>1.0</td>\n",
       "      <td>1.0</td>\n",
       "      <td>1.0</td>\n",
       "      <td>1.0</td>\n",
       "      <td>10.0</td>\n",
       "      <td>10.0</td>\n",
       "      <td>10.0</td>\n",
       "      <td>10.0</td>\n",
       "      <td>10.0</td>\n",
       "    </tr>\n",
       "  </tbody>\n",
       "</table>\n",
       "<p>5 rows × 25 columns</p>\n",
       "</div>"
      ],
      "text/plain": [
       "                       0         1         2         3         4         5   \\\n",
       "mean_fit_time    0.000601  0.001001  0.000801  0.000801  0.000801  0.001001   \n",
       "std_fit_time      0.00049       0.0    0.0004    0.0004    0.0004       0.0   \n",
       "mean_score_time    0.0004    0.0002    0.0004    0.0004  0.000401       0.0   \n",
       "std_score_time    0.00049    0.0004   0.00049  0.000491  0.000491       0.0   \n",
       "param_C             0.001     0.001     0.001     0.001     0.001      0.01   \n",
       "\n",
       "                       6        7         8         9   ...        15  \\\n",
       "mean_fit_time    0.000401   0.0006  0.001001  0.000801  ...    0.0004   \n",
       "std_fit_time     0.000491  0.00049       0.0    0.0004  ...  0.000491   \n",
       "mean_score_time    0.0006   0.0004       0.0    0.0002  ...  0.000601   \n",
       "std_score_time    0.00049  0.00049       0.0    0.0004  ...   0.00049   \n",
       "param_C              0.01     0.01      0.01      0.01  ...       1.0   \n",
       "\n",
       "                       16       17        18        19       20        21  \\\n",
       "mean_fit_time    0.000601   0.0004  0.000601  0.000801   0.0006  0.000601   \n",
       "std_fit_time      0.00049  0.00049   0.00049    0.0004  0.00049  0.000491   \n",
       "mean_score_time    0.0002   0.0004       0.0    0.0002   0.0002    0.0002   \n",
       "std_score_time     0.0004  0.00049       0.0    0.0004   0.0004    0.0004   \n",
       "param_C               1.0      1.0       1.0       1.0     10.0      10.0   \n",
       "\n",
       "                      22        23        24  \n",
       "mean_fit_time     0.0002  0.000601    0.0006  \n",
       "std_fit_time      0.0004   0.00049   0.00049  \n",
       "mean_score_time   0.0004       0.0  0.000624  \n",
       "std_score_time   0.00049       0.0  0.000511  \n",
       "param_C             10.0      10.0      10.0  \n",
       "\n",
       "[5 rows x 25 columns]"
      ]
     },
     "execution_count": 58,
     "metadata": {},
     "output_type": "execute_result"
    }
   ],
   "source": [
    "results = pd.DataFrame(grid.cv_results_)\n",
    "results.T.head()"
   ]
  },
  {
   "cell_type": "code",
   "execution_count": 66,
   "metadata": {},
   "outputs": [
    {
     "data": {
      "text/plain": [
       "array([[0.36640316, 0.36640316, 0.36640316, 0.36640316, 0.36640316],\n",
       "       [0.36640316, 0.36640316, 0.36640316, 0.36640316, 0.36640316],\n",
       "       [0.36640316, 0.69644269, 0.90158103, 0.95533597, 0.36640316],\n",
       "       [0.69644269, 0.93794466, 0.96403162, 0.94664032, 0.9284585 ],\n",
       "       [0.93794466, 0.96403162, 0.97312253, 0.94624506, 0.91106719]])"
      ]
     },
     "execution_count": 66,
     "metadata": {},
     "output_type": "execute_result"
    }
   ],
   "source": [
    "scores = results['mean_test_score'].astype('float64').values.reshape(5, 5)\n",
    "scores"
   ]
  },
  {
   "cell_type": "code",
   "execution_count": 70,
   "metadata": {},
   "outputs": [
    {
     "data": {
      "text/plain": [
       "Text(34.0, 0.5, 'C')"
      ]
     },
     "execution_count": 70,
     "metadata": {},
     "output_type": "execute_result"
    },
    {
     "data": {
      "image/svg+xml": "<?xml version=\"1.0\" encoding=\"utf-8\" standalone=\"no\"?>\n<!DOCTYPE svg PUBLIC \"-//W3C//DTD SVG 1.1//EN\"\n  \"http://www.w3.org/Graphics/SVG/1.1/DTD/svg11.dtd\">\n<svg xmlns:xlink=\"http://www.w3.org/1999/xlink\" width=\"360.967625pt\" height=\"262.7525pt\" viewBox=\"0 0 360.967625 262.7525\" xmlns=\"http://www.w3.org/2000/svg\" version=\"1.1\">\n <metadata>\n  <rdf:RDF xmlns:dc=\"http://purl.org/dc/elements/1.1/\" xmlns:cc=\"http://creativecommons.org/ns#\" xmlns:rdf=\"http://www.w3.org/1999/02/22-rdf-syntax-ns#\">\n   <cc:Work>\n    <dc:type rdf:resource=\"http://purl.org/dc/dcmitype/StillImage\"/>\n    <dc:date>2022-11-20T17:07:48.752025</dc:date>\n    <dc:format>image/svg+xml</dc:format>\n    <dc:creator>\n     <cc:Agent>\n      <dc:title>Matplotlib v3.5.1, https://matplotlib.org/</dc:title>\n     </cc:Agent>\n    </dc:creator>\n   </cc:Work>\n  </rdf:RDF>\n </metadata>\n <defs>\n  <style type=\"text/css\">*{stroke-linejoin: round; stroke-linecap: butt}</style>\n </defs>\n <g id=\"figure_1\">\n  <g id=\"patch_1\">\n   <path d=\"M 0 262.7525 \nL 360.967625 262.7525 \nL 360.967625 0 \nL 0 0 \nL 0 262.7525 \nz\n\" style=\"fill: none\"/>\n  </g>\n  <g id=\"axes_1\">\n   <g id=\"patch_2\">\n    <path d=\"M 38.1125 224.64 \nL 305.9525 224.64 \nL 305.9525 7.2 \nL 38.1125 7.2 \nz\n\" style=\"fill: #ffffff\"/>\n   </g>\n   <g id=\"QuadMesh_1\">\n    <path d=\"M 38.1125 7.2 \nL 91.6805 7.2 \nL 91.6805 50.688 \nL 38.1125 50.688 \nL 38.1125 7.2 \n\" clip-path=\"url(#p00b716b820)\" style=\"fill: #03051a\"/>\n    <path d=\"M 91.6805 7.2 \nL 145.2485 7.2 \nL 145.2485 50.688 \nL 91.6805 50.688 \nL 91.6805 7.2 \n\" clip-path=\"url(#p00b716b820)\" style=\"fill: #03051a\"/>\n    <path d=\"M 145.2485 7.2 \nL 198.8165 7.2 \nL 198.8165 50.688 \nL 145.2485 50.688 \nL 145.2485 7.2 \n\" clip-path=\"url(#p00b716b820)\" style=\"fill: #03051a\"/>\n    <path d=\"M 198.8165 7.2 \nL 252.3845 7.2 \nL 252.3845 50.688 \nL 198.8165 50.688 \nL 198.8165 7.2 \n\" clip-path=\"url(#p00b716b820)\" style=\"fill: #03051a\"/>\n    <path d=\"M 252.3845 7.2 \nL 305.9525 7.2 \nL 305.9525 50.688 \nL 252.3845 50.688 \nL 252.3845 7.2 \n\" clip-path=\"url(#p00b716b820)\" style=\"fill: #03051a\"/>\n    <path d=\"M 38.1125 50.688 \nL 91.6805 50.688 \nL 91.6805 94.176 \nL 38.1125 94.176 \nL 38.1125 50.688 \n\" clip-path=\"url(#p00b716b820)\" style=\"fill: #03051a\"/>\n    <path d=\"M 91.6805 50.688 \nL 145.2485 50.688 \nL 145.2485 94.176 \nL 91.6805 94.176 \nL 91.6805 50.688 \n\" clip-path=\"url(#p00b716b820)\" style=\"fill: #03051a\"/>\n    <path d=\"M 145.2485 50.688 \nL 198.8165 50.688 \nL 198.8165 94.176 \nL 145.2485 94.176 \nL 145.2485 50.688 \n\" clip-path=\"url(#p00b716b820)\" style=\"fill: #03051a\"/>\n    <path d=\"M 198.8165 50.688 \nL 252.3845 50.688 \nL 252.3845 94.176 \nL 198.8165 94.176 \nL 198.8165 50.688 \n\" clip-path=\"url(#p00b716b820)\" style=\"fill: #03051a\"/>\n    <path d=\"M 252.3845 50.688 \nL 305.9525 50.688 \nL 305.9525 94.176 \nL 252.3845 94.176 \nL 252.3845 50.688 \n\" clip-path=\"url(#p00b716b820)\" style=\"fill: #03051a\"/>\n    <path d=\"M 38.1125 94.176 \nL 91.6805 94.176 \nL 91.6805 137.664 \nL 38.1125 137.664 \nL 38.1125 94.176 \n\" clip-path=\"url(#p00b716b820)\" style=\"fill: #03051a\"/>\n    <path d=\"M 91.6805 94.176 \nL 145.2485 94.176 \nL 145.2485 137.664 \nL 91.6805 137.664 \nL 91.6805 94.176 \n\" clip-path=\"url(#p00b716b820)\" style=\"fill: #d92847\"/>\n    <path d=\"M 145.2485 94.176 \nL 198.8165 94.176 \nL 198.8165 137.664 \nL 145.2485 137.664 \nL 145.2485 94.176 \n\" clip-path=\"url(#p00b716b820)\" style=\"fill: #f6be9b\"/>\n    <path d=\"M 198.8165 94.176 \nL 252.3845 94.176 \nL 252.3845 137.664 \nL 198.8165 137.664 \nL 198.8165 94.176 \n\" clip-path=\"url(#p00b716b820)\" style=\"fill: #f9e0cd\"/>\n    <path d=\"M 252.3845 94.176 \nL 305.9525 94.176 \nL 305.9525 137.664 \nL 252.3845 137.664 \nL 252.3845 94.176 \n\" clip-path=\"url(#p00b716b820)\" style=\"fill: #03051a\"/>\n    <path d=\"M 38.1125 137.664 \nL 91.6805 137.664 \nL 91.6805 181.152 \nL 38.1125 181.152 \nL 38.1125 137.664 \n\" clip-path=\"url(#p00b716b820)\" style=\"fill: #d92847\"/>\n    <path d=\"M 91.6805 137.664 \nL 145.2485 137.664 \nL 145.2485 181.152 \nL 91.6805 181.152 \nL 91.6805 137.664 \n\" clip-path=\"url(#p00b716b820)\" style=\"fill: #f8d6be\"/>\n    <path d=\"M 145.2485 137.664 \nL 198.8165 137.664 \nL 198.8165 181.152 \nL 145.2485 181.152 \nL 145.2485 137.664 \n\" clip-path=\"url(#p00b716b820)\" style=\"fill: #fae6d6\"/>\n    <path d=\"M 198.8165 137.664 \nL 252.3845 137.664 \nL 252.3845 181.152 \nL 198.8165 181.152 \nL 198.8165 137.664 \n\" clip-path=\"url(#p00b716b820)\" style=\"fill: #f8dac5\"/>\n    <path d=\"M 252.3845 137.664 \nL 305.9525 137.664 \nL 305.9525 181.152 \nL 252.3845 181.152 \nL 252.3845 137.664 \n\" clip-path=\"url(#p00b716b820)\" style=\"fill: #f7d0b5\"/>\n    <path d=\"M 38.1125 181.152 \nL 91.6805 181.152 \nL 91.6805 224.64 \nL 38.1125 224.64 \nL 38.1125 181.152 \n\" clip-path=\"url(#p00b716b820)\" style=\"fill: #f8d6be\"/>\n    <path d=\"M 91.6805 181.152 \nL 145.2485 181.152 \nL 145.2485 224.64 \nL 91.6805 224.64 \nL 91.6805 181.152 \n\" clip-path=\"url(#p00b716b820)\" style=\"fill: #fae6d6\"/>\n    <path d=\"M 145.2485 181.152 \nL 198.8165 181.152 \nL 198.8165 224.64 \nL 145.2485 224.64 \nL 145.2485 181.152 \n\" clip-path=\"url(#p00b716b820)\" style=\"fill: #faebdd\"/>\n    <path d=\"M 198.8165 181.152 \nL 252.3845 181.152 \nL 252.3845 224.64 \nL 198.8165 224.64 \nL 198.8165 181.152 \n\" clip-path=\"url(#p00b716b820)\" style=\"fill: #f8dac5\"/>\n    <path d=\"M 252.3845 181.152 \nL 305.9525 181.152 \nL 305.9525 224.64 \nL 252.3845 224.64 \nL 252.3845 181.152 \n\" clip-path=\"url(#p00b716b820)\" style=\"fill: #f7c4a4\"/>\n   </g>\n   <g id=\"matplotlib.axis_1\">\n    <g id=\"xtick_1\">\n     <g id=\"line2d_1\">\n      <defs>\n       <path id=\"ma411fb4484\" d=\"M 0 0 \nL 0 3.5 \n\" style=\"stroke: #000000; stroke-width: 0.8\"/>\n      </defs>\n      <g>\n       <use xlink:href=\"#ma411fb4484\" x=\"64.8965\" y=\"224.64\" style=\"stroke: #000000; stroke-width: 0.8\"/>\n      </g>\n     </g>\n     <g id=\"text_1\">\n      <!-- 0.001 -->\n      <g transform=\"translate(52.787125 239.232187)scale(0.1 -0.1)\">\n       <defs>\n        <path id=\"MalgunGothic-30\" d=\"M 278 2206 \nQ 278 3425 675 4050 \nQ 1072 4675 1819 4675 \nQ 3253 4675 3253 2319 \nQ 3253 1156 2854 539 \nQ 2456 -78 1716 -78 \nQ 1016 -78 647 520 \nQ 278 1119 278 2206 \nz\nM 784 2231 \nQ 784 344 1769 344 \nQ 2747 344 2747 2259 \nQ 2747 4250 1794 4250 \nQ 784 4250 784 2231 \nz\n\" transform=\"scale(0.015625)\"/>\n        <path id=\"MalgunGothic-2e\" d=\"M 356 275 \nQ 356 422 459 523 \nQ 563 625 700 625 \nQ 838 625 941 523 \nQ 1044 422 1044 275 \nQ 1044 138 942 33 \nQ 841 -72 700 -72 \nQ 559 -72 457 29 \nQ 356 131 356 275 \nz\n\" transform=\"scale(0.015625)\"/>\n        <path id=\"MalgunGothic-31\" d=\"M 2231 0 \nL 1734 0 \nL 1734 3972 \nQ 1591 3828 1266 3661 \nQ 941 3494 672 3428 \nL 672 3959 \nQ 1016 4056 1409 4275 \nQ 1803 4494 2031 4700 \nL 2231 4700 \nL 2231 0 \nz\n\" transform=\"scale(0.015625)\"/>\n       </defs>\n       <use xlink:href=\"#MalgunGothic-30\"/>\n       <use xlink:href=\"#MalgunGothic-2e\" x=\"55.078125\"/>\n       <use xlink:href=\"#MalgunGothic-30\" x=\"76.953125\"/>\n       <use xlink:href=\"#MalgunGothic-30\" x=\"132.03125\"/>\n       <use xlink:href=\"#MalgunGothic-31\" x=\"187.109375\"/>\n      </g>\n     </g>\n    </g>\n    <g id=\"xtick_2\">\n     <g id=\"line2d_2\">\n      <g>\n       <use xlink:href=\"#ma411fb4484\" x=\"118.4645\" y=\"224.64\" style=\"stroke: #000000; stroke-width: 0.8\"/>\n      </g>\n     </g>\n     <g id=\"text_2\">\n      <!-- 0.01 -->\n      <g transform=\"translate(109.109031 239.232187)scale(0.1 -0.1)\">\n       <use xlink:href=\"#MalgunGothic-30\"/>\n       <use xlink:href=\"#MalgunGothic-2e\" x=\"55.078125\"/>\n       <use xlink:href=\"#MalgunGothic-30\" x=\"76.953125\"/>\n       <use xlink:href=\"#MalgunGothic-31\" x=\"132.03125\"/>\n      </g>\n     </g>\n    </g>\n    <g id=\"xtick_3\">\n     <g id=\"line2d_3\">\n      <g>\n       <use xlink:href=\"#ma411fb4484\" x=\"172.0325\" y=\"224.64\" style=\"stroke: #000000; stroke-width: 0.8\"/>\n      </g>\n     </g>\n     <g id=\"text_3\">\n      <!-- 0.1 -->\n      <g transform=\"translate(165.430938 239.232187)scale(0.1 -0.1)\">\n       <use xlink:href=\"#MalgunGothic-30\"/>\n       <use xlink:href=\"#MalgunGothic-2e\" x=\"55.078125\"/>\n       <use xlink:href=\"#MalgunGothic-31\" x=\"76.953125\"/>\n      </g>\n     </g>\n    </g>\n    <g id=\"xtick_4\">\n     <g id=\"line2d_4\">\n      <g>\n       <use xlink:href=\"#ma411fb4484\" x=\"225.6005\" y=\"224.64\" style=\"stroke: #000000; stroke-width: 0.8\"/>\n      </g>\n     </g>\n     <g id=\"text_4\">\n      <!-- 1.0 -->\n      <g transform=\"translate(218.998938 239.232187)scale(0.1 -0.1)\">\n       <use xlink:href=\"#MalgunGothic-31\"/>\n       <use xlink:href=\"#MalgunGothic-2e\" x=\"55.078125\"/>\n       <use xlink:href=\"#MalgunGothic-30\" x=\"76.953125\"/>\n      </g>\n     </g>\n    </g>\n    <g id=\"xtick_5\">\n     <g id=\"line2d_5\">\n      <g>\n       <use xlink:href=\"#ma411fb4484\" x=\"279.1685\" y=\"224.64\" style=\"stroke: #000000; stroke-width: 0.8\"/>\n      </g>\n     </g>\n     <g id=\"text_5\">\n      <!-- 10.0 -->\n      <g transform=\"translate(269.813031 239.232187)scale(0.1 -0.1)\">\n       <use xlink:href=\"#MalgunGothic-31\"/>\n       <use xlink:href=\"#MalgunGothic-30\" x=\"55.078125\"/>\n       <use xlink:href=\"#MalgunGothic-2e\" x=\"110.15625\"/>\n       <use xlink:href=\"#MalgunGothic-30\" x=\"132.03125\"/>\n      </g>\n     </g>\n    </g>\n    <g id=\"text_6\">\n     <!-- gamma -->\n     <g transform=\"translate(155.023906 253.135312)scale(0.1 -0.1)\">\n      <defs>\n       <path id=\"MalgunGothic-67\" d=\"M 3313 259 \nQ 3313 -1547 1603 -1547 \nQ 1003 -1547 538 -1313 \nL 538 -806 \nQ 1088 -1116 1600 -1116 \nQ 2822 -1116 2822 194 \nL 2822 559 \nL 2809 559 \nQ 2422 -78 1675 -78 \nQ 1066 -78 691 362 \nQ 316 803 316 1534 \nQ 316 2375 722 2867 \nQ 1128 3359 1816 3359 \nQ 2484 3359 2809 2822 \nL 2822 2822 \nL 2822 3284 \nL 3313 3284 \nL 3313 259 \nz\nM 2822 1978 \nQ 2822 2378 2547 2659 \nQ 2272 2941 1878 2941 \nQ 1384 2941 1101 2577 \nQ 819 2213 819 1572 \nQ 819 1016 1092 680 \nQ 1366 344 1803 344 \nQ 2247 344 2534 666 \nQ 2822 988 2822 1478 \nL 2822 1978 \nz\n\" transform=\"scale(0.015625)\"/>\n       <path id=\"MalgunGothic-61\" d=\"M 616 3050 \nQ 1097 3359 1722 3359 \nQ 2866 3359 2866 2147 \nL 2866 0 \nL 2369 0 \nL 2369 516 \nL 2350 516 \nQ 2009 -78 1341 -78 \nQ 859 -78 576 180 \nQ 294 438 294 869 \nQ 294 1784 1375 1934 \nL 2366 2078 \nQ 2366 2934 1684 2934 \nQ 1084 2934 616 2525 \nL 616 3050 \nz\nM 1563 1559 \nQ 1178 1509 993 1371 \nQ 809 1234 809 903 \nQ 809 653 986 500 \nQ 1163 347 1450 347 \nQ 1847 347 2106 628 \nQ 2366 909 2366 1334 \nL 2366 1666 \nL 1563 1559 \nz\n\" transform=\"scale(0.015625)\"/>\n       <path id=\"MalgunGothic-6d\" d=\"M 5166 0 \nL 4669 0 \nL 4669 1884 \nQ 4669 2463 4495 2702 \nQ 4322 2941 3922 2941 \nQ 3584 2941 3342 2623 \nQ 3100 2306 3100 1875 \nL 3100 0 \nL 2606 0 \nL 2606 1953 \nQ 2606 2941 1844 2941 \nQ 1497 2941 1265 2642 \nQ 1034 2344 1034 1875 \nL 1034 0 \nL 538 0 \nL 538 3284 \nL 1034 3284 \nL 1034 2763 \nL 1047 2763 \nQ 1391 3359 2063 3359 \nQ 2381 3359 2636 3176 \nQ 2891 2994 2991 2675 \nQ 3356 3359 4081 3359 \nQ 5166 3359 5166 2022 \nL 5166 0 \nz\n\" transform=\"scale(0.015625)\"/>\n      </defs>\n      <use xlink:href=\"#MalgunGothic-67\"/>\n      <use xlink:href=\"#MalgunGothic-61\" x=\"60.205078\"/>\n      <use xlink:href=\"#MalgunGothic-6d\" x=\"112.207031\"/>\n      <use xlink:href=\"#MalgunGothic-6d\" x=\"200.195312\"/>\n      <use xlink:href=\"#MalgunGothic-61\" x=\"288.183594\"/>\n     </g>\n    </g>\n   </g>\n   <g id=\"matplotlib.axis_2\">\n    <g id=\"ytick_1\">\n     <g id=\"line2d_6\">\n      <defs>\n       <path id=\"m118725c082\" d=\"M 0 0 \nL -3.5 0 \n\" style=\"stroke: #000000; stroke-width: 0.8\"/>\n      </defs>\n      <g>\n       <use xlink:href=\"#m118725c082\" x=\"38.1125\" y=\"28.944\" style=\"stroke: #000000; stroke-width: 0.8\"/>\n      </g>\n     </g>\n     <g id=\"text_7\">\n      <!-- 0.001 -->\n      <g transform=\"translate(28.748438 41.053375)rotate(-90)scale(0.1 -0.1)\">\n       <use xlink:href=\"#MalgunGothic-30\"/>\n       <use xlink:href=\"#MalgunGothic-2e\" x=\"55.078125\"/>\n       <use xlink:href=\"#MalgunGothic-30\" x=\"76.953125\"/>\n       <use xlink:href=\"#MalgunGothic-30\" x=\"132.03125\"/>\n       <use xlink:href=\"#MalgunGothic-31\" x=\"187.109375\"/>\n      </g>\n     </g>\n    </g>\n    <g id=\"ytick_2\">\n     <g id=\"line2d_7\">\n      <g>\n       <use xlink:href=\"#m118725c082\" x=\"38.1125\" y=\"72.432\" style=\"stroke: #000000; stroke-width: 0.8\"/>\n      </g>\n     </g>\n     <g id=\"text_8\">\n      <!-- 0.01 -->\n      <g transform=\"translate(28.748438 81.787469)rotate(-90)scale(0.1 -0.1)\">\n       <use xlink:href=\"#MalgunGothic-30\"/>\n       <use xlink:href=\"#MalgunGothic-2e\" x=\"55.078125\"/>\n       <use xlink:href=\"#MalgunGothic-30\" x=\"76.953125\"/>\n       <use xlink:href=\"#MalgunGothic-31\" x=\"132.03125\"/>\n      </g>\n     </g>\n    </g>\n    <g id=\"ytick_3\">\n     <g id=\"line2d_8\">\n      <g>\n       <use xlink:href=\"#m118725c082\" x=\"38.1125\" y=\"115.92\" style=\"stroke: #000000; stroke-width: 0.8\"/>\n      </g>\n     </g>\n     <g id=\"text_9\">\n      <!-- 0.1 -->\n      <g transform=\"translate(28.748438 122.521562)rotate(-90)scale(0.1 -0.1)\">\n       <use xlink:href=\"#MalgunGothic-30\"/>\n       <use xlink:href=\"#MalgunGothic-2e\" x=\"55.078125\"/>\n       <use xlink:href=\"#MalgunGothic-31\" x=\"76.953125\"/>\n      </g>\n     </g>\n    </g>\n    <g id=\"ytick_4\">\n     <g id=\"line2d_9\">\n      <g>\n       <use xlink:href=\"#m118725c082\" x=\"38.1125\" y=\"159.408\" style=\"stroke: #000000; stroke-width: 0.8\"/>\n      </g>\n     </g>\n     <g id=\"text_10\">\n      <!-- 1.0 -->\n      <g transform=\"translate(28.748438 166.009562)rotate(-90)scale(0.1 -0.1)\">\n       <use xlink:href=\"#MalgunGothic-31\"/>\n       <use xlink:href=\"#MalgunGothic-2e\" x=\"55.078125\"/>\n       <use xlink:href=\"#MalgunGothic-30\" x=\"76.953125\"/>\n      </g>\n     </g>\n    </g>\n    <g id=\"ytick_5\">\n     <g id=\"line2d_10\">\n      <g>\n       <use xlink:href=\"#m118725c082\" x=\"38.1125\" y=\"202.896\" style=\"stroke: #000000; stroke-width: 0.8\"/>\n      </g>\n     </g>\n     <g id=\"text_11\">\n      <!-- 10.0 -->\n      <g transform=\"translate(28.748438 212.251469)rotate(-90)scale(0.1 -0.1)\">\n       <use xlink:href=\"#MalgunGothic-31\"/>\n       <use xlink:href=\"#MalgunGothic-30\" x=\"55.078125\"/>\n       <use xlink:href=\"#MalgunGothic-2e\" x=\"110.15625\"/>\n       <use xlink:href=\"#MalgunGothic-30\" x=\"132.03125\"/>\n      </g>\n     </g>\n    </g>\n    <g id=\"text_12\">\n     <!-- C -->\n     <g transform=\"translate(14.792188 119.094219)rotate(-90)scale(0.1 -0.1)\">\n      <defs>\n       <path id=\"MalgunGothic-43\" d=\"M 3725 197 \nQ 3216 -78 2459 -78 \nQ 1488 -78 897 561 \nQ 306 1200 306 2213 \nQ 306 3281 959 3978 \nQ 1613 4675 2644 4675 \nQ 3297 4675 3725 4484 \nL 3725 3941 \nQ 3234 4213 2634 4213 \nQ 1813 4213 1325 3659 \nQ 838 3106 838 2241 \nQ 838 1413 1297 897 \nQ 1756 381 2522 381 \nQ 3216 381 3725 688 \nL 3725 197 \nz\n\" transform=\"scale(0.015625)\"/>\n      </defs>\n      <use xlink:href=\"#MalgunGothic-43\"/>\n     </g>\n    </g>\n   </g>\n   <g id=\"text_13\">\n    <!-- 0.37 -->\n    <g style=\"fill: #ffffff\" transform=\"translate(55.541031 31.558062)scale(0.1 -0.1)\">\n     <defs>\n      <path id=\"MalgunGothic-33\" d=\"M 416 719 \nQ 891 344 1478 344 \nQ 1959 344 2254 587 \nQ 2550 831 2550 1247 \nQ 2550 2169 1253 2169 \nL 872 2169 \nL 872 2591 \nL 1234 2591 \nQ 2388 2591 2388 3453 \nQ 2388 4250 1509 4250 \nQ 1022 4250 594 3916 \nL 594 4413 \nQ 1031 4675 1634 4675 \nQ 2184 4675 2539 4372 \nQ 2894 4069 2894 3581 \nQ 2894 2678 1972 2409 \nL 1972 2400 \nQ 2469 2356 2764 2053 \nQ 3059 1750 3059 1300 \nQ 3059 672 2604 297 \nQ 2150 -78 1450 -78 \nQ 806 -78 416 169 \nL 416 719 \nz\n\" transform=\"scale(0.015625)\"/>\n      <path id=\"MalgunGothic-37\" d=\"M 3213 4297 \nQ 2478 3006 2064 1918 \nQ 1650 831 1550 0 \nL 1009 0 \nQ 1084 531 1290 1176 \nQ 1497 1822 1815 2537 \nQ 2134 3253 2631 4147 \nL 291 4147 \nL 291 4600 \nL 3213 4600 \nL 3213 4297 \nz\n\" transform=\"scale(0.015625)\"/>\n     </defs>\n     <use xlink:href=\"#MalgunGothic-30\"/>\n     <use xlink:href=\"#MalgunGothic-2e\" x=\"55.078125\"/>\n     <use xlink:href=\"#MalgunGothic-33\" x=\"76.953125\"/>\n     <use xlink:href=\"#MalgunGothic-37\" x=\"132.03125\"/>\n    </g>\n   </g>\n   <g id=\"text_14\">\n    <!-- 0.37 -->\n    <g style=\"fill: #ffffff\" transform=\"translate(109.109031 31.558062)scale(0.1 -0.1)\">\n     <use xlink:href=\"#MalgunGothic-30\"/>\n     <use xlink:href=\"#MalgunGothic-2e\" x=\"55.078125\"/>\n     <use xlink:href=\"#MalgunGothic-33\" x=\"76.953125\"/>\n     <use xlink:href=\"#MalgunGothic-37\" x=\"132.03125\"/>\n    </g>\n   </g>\n   <g id=\"text_15\">\n    <!-- 0.37 -->\n    <g style=\"fill: #ffffff\" transform=\"translate(162.677031 31.558062)scale(0.1 -0.1)\">\n     <use xlink:href=\"#MalgunGothic-30\"/>\n     <use xlink:href=\"#MalgunGothic-2e\" x=\"55.078125\"/>\n     <use xlink:href=\"#MalgunGothic-33\" x=\"76.953125\"/>\n     <use xlink:href=\"#MalgunGothic-37\" x=\"132.03125\"/>\n    </g>\n   </g>\n   <g id=\"text_16\">\n    <!-- 0.37 -->\n    <g style=\"fill: #ffffff\" transform=\"translate(216.245031 31.558062)scale(0.1 -0.1)\">\n     <use xlink:href=\"#MalgunGothic-30\"/>\n     <use xlink:href=\"#MalgunGothic-2e\" x=\"55.078125\"/>\n     <use xlink:href=\"#MalgunGothic-33\" x=\"76.953125\"/>\n     <use xlink:href=\"#MalgunGothic-37\" x=\"132.03125\"/>\n    </g>\n   </g>\n   <g id=\"text_17\">\n    <!-- 0.37 -->\n    <g style=\"fill: #ffffff\" transform=\"translate(269.813031 31.558062)scale(0.1 -0.1)\">\n     <use xlink:href=\"#MalgunGothic-30\"/>\n     <use xlink:href=\"#MalgunGothic-2e\" x=\"55.078125\"/>\n     <use xlink:href=\"#MalgunGothic-33\" x=\"76.953125\"/>\n     <use xlink:href=\"#MalgunGothic-37\" x=\"132.03125\"/>\n    </g>\n   </g>\n   <g id=\"text_18\">\n    <!-- 0.37 -->\n    <g style=\"fill: #ffffff\" transform=\"translate(55.541031 75.046062)scale(0.1 -0.1)\">\n     <use xlink:href=\"#MalgunGothic-30\"/>\n     <use xlink:href=\"#MalgunGothic-2e\" x=\"55.078125\"/>\n     <use xlink:href=\"#MalgunGothic-33\" x=\"76.953125\"/>\n     <use xlink:href=\"#MalgunGothic-37\" x=\"132.03125\"/>\n    </g>\n   </g>\n   <g id=\"text_19\">\n    <!-- 0.37 -->\n    <g style=\"fill: #ffffff\" transform=\"translate(109.109031 75.046062)scale(0.1 -0.1)\">\n     <use xlink:href=\"#MalgunGothic-30\"/>\n     <use xlink:href=\"#MalgunGothic-2e\" x=\"55.078125\"/>\n     <use xlink:href=\"#MalgunGothic-33\" x=\"76.953125\"/>\n     <use xlink:href=\"#MalgunGothic-37\" x=\"132.03125\"/>\n    </g>\n   </g>\n   <g id=\"text_20\">\n    <!-- 0.37 -->\n    <g style=\"fill: #ffffff\" transform=\"translate(162.677031 75.046062)scale(0.1 -0.1)\">\n     <use xlink:href=\"#MalgunGothic-30\"/>\n     <use xlink:href=\"#MalgunGothic-2e\" x=\"55.078125\"/>\n     <use xlink:href=\"#MalgunGothic-33\" x=\"76.953125\"/>\n     <use xlink:href=\"#MalgunGothic-37\" x=\"132.03125\"/>\n    </g>\n   </g>\n   <g id=\"text_21\">\n    <!-- 0.37 -->\n    <g style=\"fill: #ffffff\" transform=\"translate(216.245031 75.046062)scale(0.1 -0.1)\">\n     <use xlink:href=\"#MalgunGothic-30\"/>\n     <use xlink:href=\"#MalgunGothic-2e\" x=\"55.078125\"/>\n     <use xlink:href=\"#MalgunGothic-33\" x=\"76.953125\"/>\n     <use xlink:href=\"#MalgunGothic-37\" x=\"132.03125\"/>\n    </g>\n   </g>\n   <g id=\"text_22\">\n    <!-- 0.37 -->\n    <g style=\"fill: #ffffff\" transform=\"translate(269.813031 75.046062)scale(0.1 -0.1)\">\n     <use xlink:href=\"#MalgunGothic-30\"/>\n     <use xlink:href=\"#MalgunGothic-2e\" x=\"55.078125\"/>\n     <use xlink:href=\"#MalgunGothic-33\" x=\"76.953125\"/>\n     <use xlink:href=\"#MalgunGothic-37\" x=\"132.03125\"/>\n    </g>\n   </g>\n   <g id=\"text_23\">\n    <!-- 0.37 -->\n    <g style=\"fill: #ffffff\" transform=\"translate(55.541031 118.534062)scale(0.1 -0.1)\">\n     <use xlink:href=\"#MalgunGothic-30\"/>\n     <use xlink:href=\"#MalgunGothic-2e\" x=\"55.078125\"/>\n     <use xlink:href=\"#MalgunGothic-33\" x=\"76.953125\"/>\n     <use xlink:href=\"#MalgunGothic-37\" x=\"132.03125\"/>\n    </g>\n   </g>\n   <g id=\"text_24\">\n    <!-- 0.7 -->\n    <g style=\"fill: #ffffff\" transform=\"translate(111.862938 118.534062)scale(0.1 -0.1)\">\n     <use xlink:href=\"#MalgunGothic-30\"/>\n     <use xlink:href=\"#MalgunGothic-2e\" x=\"55.078125\"/>\n     <use xlink:href=\"#MalgunGothic-37\" x=\"76.953125\"/>\n    </g>\n   </g>\n   <g id=\"text_25\">\n    <!-- 0.9 -->\n    <g style=\"fill: #262626\" transform=\"translate(165.430938 118.534062)scale(0.1 -0.1)\">\n     <defs>\n      <path id=\"MalgunGothic-39\" d=\"M 556 563 \nQ 941 344 1366 344 \nQ 1994 344 2347 855 \nQ 2700 1366 2700 2313 \nQ 2694 2306 2688 2313 \nQ 2388 1713 1653 1713 \nQ 1059 1713 682 2120 \nQ 306 2528 306 3144 \nQ 306 3806 711 4240 \nQ 1116 4675 1772 4675 \nQ 2466 4675 2833 4131 \nQ 3200 3588 3200 2578 \nQ 3200 1319 2717 620 \nQ 2234 -78 1344 -78 \nQ 881 -78 556 78 \nL 556 563 \nz\nM 813 3219 \nQ 813 2741 1063 2450 \nQ 1313 2159 1759 2159 \nQ 2147 2159 2406 2417 \nQ 2666 2675 2666 3047 \nQ 2666 3556 2411 3903 \nQ 2156 4250 1725 4250 \nQ 1322 4250 1067 3948 \nQ 813 3647 813 3219 \nz\n\" transform=\"scale(0.015625)\"/>\n     </defs>\n     <use xlink:href=\"#MalgunGothic-30\"/>\n     <use xlink:href=\"#MalgunGothic-2e\" x=\"55.078125\"/>\n     <use xlink:href=\"#MalgunGothic-39\" x=\"76.953125\"/>\n    </g>\n   </g>\n   <g id=\"text_26\">\n    <!-- 0.96 -->\n    <g style=\"fill: #262626\" transform=\"translate(216.245031 118.534062)scale(0.1 -0.1)\">\n     <defs>\n      <path id=\"MalgunGothic-36\" d=\"M 2981 4069 \nQ 2619 4250 2228 4250 \nQ 1591 4250 1228 3689 \nQ 866 3128 869 2213 \nL 884 2213 \nQ 1203 2872 1938 2872 \nQ 2547 2872 2903 2478 \nQ 3259 2084 3259 1450 \nQ 3259 797 2857 359 \nQ 2456 -78 1825 -78 \nQ 1116 -78 736 478 \nQ 356 1034 356 2019 \nQ 356 3181 847 3928 \nQ 1338 4675 2222 4675 \nQ 2700 4675 2981 4544 \nL 2981 4069 \nz\nM 906 1506 \nQ 906 1022 1165 683 \nQ 1425 344 1844 344 \nQ 2247 344 2498 645 \nQ 2750 947 2750 1388 \nQ 2750 1888 2509 2167 \nQ 2269 2447 1838 2447 \nQ 1444 2447 1175 2173 \nQ 906 1900 906 1506 \nz\n\" transform=\"scale(0.015625)\"/>\n     </defs>\n     <use xlink:href=\"#MalgunGothic-30\"/>\n     <use xlink:href=\"#MalgunGothic-2e\" x=\"55.078125\"/>\n     <use xlink:href=\"#MalgunGothic-39\" x=\"76.953125\"/>\n     <use xlink:href=\"#MalgunGothic-36\" x=\"132.03125\"/>\n    </g>\n   </g>\n   <g id=\"text_27\">\n    <!-- 0.37 -->\n    <g style=\"fill: #ffffff\" transform=\"translate(269.813031 118.534062)scale(0.1 -0.1)\">\n     <use xlink:href=\"#MalgunGothic-30\"/>\n     <use xlink:href=\"#MalgunGothic-2e\" x=\"55.078125\"/>\n     <use xlink:href=\"#MalgunGothic-33\" x=\"76.953125\"/>\n     <use xlink:href=\"#MalgunGothic-37\" x=\"132.03125\"/>\n    </g>\n   </g>\n   <g id=\"text_28\">\n    <!-- 0.7 -->\n    <g style=\"fill: #ffffff\" transform=\"translate(58.294938 162.022062)scale(0.1 -0.1)\">\n     <use xlink:href=\"#MalgunGothic-30\"/>\n     <use xlink:href=\"#MalgunGothic-2e\" x=\"55.078125\"/>\n     <use xlink:href=\"#MalgunGothic-37\" x=\"76.953125\"/>\n    </g>\n   </g>\n   <g id=\"text_29\">\n    <!-- 0.94 -->\n    <g style=\"fill: #262626\" transform=\"translate(109.109031 162.022062)scale(0.1 -0.1)\">\n     <defs>\n      <path id=\"MalgunGothic-34\" d=\"M 2703 4600 \nL 2703 1563 \nL 3309 1563 \nL 3309 1113 \nL 2703 1113 \nL 2703 0 \nL 2213 0 \nL 2213 1113 \nL 50 1113 \nL 50 1534 \nQ 728 2297 1295 3109 \nQ 1863 3922 2172 4600 \nL 2703 4600 \nz\nM 625 1563 \nL 2213 1563 \nL 2213 3831 \nQ 1613 2788 959 1981 \nL 625 1563 \nz\n\" transform=\"scale(0.015625)\"/>\n     </defs>\n     <use xlink:href=\"#MalgunGothic-30\"/>\n     <use xlink:href=\"#MalgunGothic-2e\" x=\"55.078125\"/>\n     <use xlink:href=\"#MalgunGothic-39\" x=\"76.953125\"/>\n     <use xlink:href=\"#MalgunGothic-34\" x=\"132.03125\"/>\n    </g>\n   </g>\n   <g id=\"text_30\">\n    <!-- 0.96 -->\n    <g style=\"fill: #262626\" transform=\"translate(162.677031 162.022062)scale(0.1 -0.1)\">\n     <use xlink:href=\"#MalgunGothic-30\"/>\n     <use xlink:href=\"#MalgunGothic-2e\" x=\"55.078125\"/>\n     <use xlink:href=\"#MalgunGothic-39\" x=\"76.953125\"/>\n     <use xlink:href=\"#MalgunGothic-36\" x=\"132.03125\"/>\n    </g>\n   </g>\n   <g id=\"text_31\">\n    <!-- 0.95 -->\n    <g style=\"fill: #262626\" transform=\"translate(216.245031 162.022062)scale(0.1 -0.1)\">\n     <defs>\n      <path id=\"MalgunGothic-35\" d=\"M 3072 1403 \nQ 3072 722 2636 322 \nQ 2200 -78 1469 -78 \nQ 828 -78 516 113 \nL 516 650 \nQ 994 344 1475 344 \nQ 1969 344 2270 630 \nQ 2572 916 2572 1372 \nQ 2572 1838 2265 2092 \nQ 1959 2347 1381 2347 \nQ 994 2347 603 2300 \nL 759 4600 \nL 2869 4600 \nL 2869 4147 \nL 1206 4147 \nL 1106 2763 \nQ 1347 2784 1547 2784 \nQ 2263 2784 2667 2414 \nQ 3072 2044 3072 1403 \nz\n\" transform=\"scale(0.015625)\"/>\n     </defs>\n     <use xlink:href=\"#MalgunGothic-30\"/>\n     <use xlink:href=\"#MalgunGothic-2e\" x=\"55.078125\"/>\n     <use xlink:href=\"#MalgunGothic-39\" x=\"76.953125\"/>\n     <use xlink:href=\"#MalgunGothic-35\" x=\"132.03125\"/>\n    </g>\n   </g>\n   <g id=\"text_32\">\n    <!-- 0.93 -->\n    <g style=\"fill: #262626\" transform=\"translate(269.813031 162.022062)scale(0.1 -0.1)\">\n     <use xlink:href=\"#MalgunGothic-30\"/>\n     <use xlink:href=\"#MalgunGothic-2e\" x=\"55.078125\"/>\n     <use xlink:href=\"#MalgunGothic-39\" x=\"76.953125\"/>\n     <use xlink:href=\"#MalgunGothic-33\" x=\"132.03125\"/>\n    </g>\n   </g>\n   <g id=\"text_33\">\n    <!-- 0.94 -->\n    <g style=\"fill: #262626\" transform=\"translate(55.541031 205.510062)scale(0.1 -0.1)\">\n     <use xlink:href=\"#MalgunGothic-30\"/>\n     <use xlink:href=\"#MalgunGothic-2e\" x=\"55.078125\"/>\n     <use xlink:href=\"#MalgunGothic-39\" x=\"76.953125\"/>\n     <use xlink:href=\"#MalgunGothic-34\" x=\"132.03125\"/>\n    </g>\n   </g>\n   <g id=\"text_34\">\n    <!-- 0.96 -->\n    <g style=\"fill: #262626\" transform=\"translate(109.109031 205.510062)scale(0.1 -0.1)\">\n     <use xlink:href=\"#MalgunGothic-30\"/>\n     <use xlink:href=\"#MalgunGothic-2e\" x=\"55.078125\"/>\n     <use xlink:href=\"#MalgunGothic-39\" x=\"76.953125\"/>\n     <use xlink:href=\"#MalgunGothic-36\" x=\"132.03125\"/>\n    </g>\n   </g>\n   <g id=\"text_35\">\n    <!-- 0.97 -->\n    <g style=\"fill: #262626\" transform=\"translate(162.677031 205.510062)scale(0.1 -0.1)\">\n     <use xlink:href=\"#MalgunGothic-30\"/>\n     <use xlink:href=\"#MalgunGothic-2e\" x=\"55.078125\"/>\n     <use xlink:href=\"#MalgunGothic-39\" x=\"76.953125\"/>\n     <use xlink:href=\"#MalgunGothic-37\" x=\"132.03125\"/>\n    </g>\n   </g>\n   <g id=\"text_36\">\n    <!-- 0.95 -->\n    <g style=\"fill: #262626\" transform=\"translate(216.245031 205.510062)scale(0.1 -0.1)\">\n     <use xlink:href=\"#MalgunGothic-30\"/>\n     <use xlink:href=\"#MalgunGothic-2e\" x=\"55.078125\"/>\n     <use xlink:href=\"#MalgunGothic-39\" x=\"76.953125\"/>\n     <use xlink:href=\"#MalgunGothic-35\" x=\"132.03125\"/>\n    </g>\n   </g>\n   <g id=\"text_37\">\n    <!-- 0.91 -->\n    <g style=\"fill: #262626\" transform=\"translate(269.813031 205.510062)scale(0.1 -0.1)\">\n     <use xlink:href=\"#MalgunGothic-30\"/>\n     <use xlink:href=\"#MalgunGothic-2e\" x=\"55.078125\"/>\n     <use xlink:href=\"#MalgunGothic-39\" x=\"76.953125\"/>\n     <use xlink:href=\"#MalgunGothic-31\" x=\"132.03125\"/>\n    </g>\n   </g>\n  </g>\n  <g id=\"axes_2\">\n   <g id=\"patch_3\">\n    <path d=\"M 322.6925 224.64 \nL 333.5645 224.64 \nL 333.5645 7.2 \nL 322.6925 7.2 \nz\n\" style=\"fill: #ffffff\"/>\n   </g>\n   <g id=\"patch_4\">\n    <path clip-path=\"url(#p5b75a88f22)\" style=\"fill: #ffffff; stroke: #ffffff; stroke-width: 0.01; stroke-linejoin: miter\"/>\n   </g>\n   <image xlink:href=\"data:image/png;base64,\niVBORw0KGgoAAAANSUhEUgAAAAsAAADaCAYAAABwzrisAAABZklEQVR4nO3aQW7DMAxEUdJSLtH73zNdFt3xLQZggHg9ID6HI8lW0uf1867hc3uqrKrbPZeb+OlHxIJRhJFq8OQaJJ/FDRu3VD6PuBFjxsrATOMORnRHZQv/lnF/nhvW4Fiq2Tgl4c9N0KybP7jzixuEkVwpgEE+3+AEl4R/hc/BIEnl5LgBw8Ydw0hmA8TW4PhbouoewyBxbHWTeIkbghF0Q8RHmD/RDWxwrrYGg/vGG5gx/Ck3mirPC9c9scrILGKYt2GcJgwQ46uaVI4xP5BRZR5row3CZndb3Mgxw2e3YuTcMOvGWsaAykk3AKNi2XiuYFDqqMEllWGHvg0nkGGUVM5hNBz1xmwNypWFYcCbXXQoIpYbV2OOuZFjLvnxpU5u3LEGc9aZG4SxxA25ul/ihu11FP75Sb+G2TCWuJFbKV83/sTdsmCvNJiboFWWBmPjNp93ZAPdeIUw6F8W3wb/iVMr5Rdtti0nCZ1qXwAAAABJRU5ErkJggg==\" id=\"imagebd4ac6ff6c\" transform=\"scale(1 -1)translate(0 -218)\" x=\"323\" y=\"-6\" width=\"11\" height=\"218\"/>\n   <g id=\"matplotlib.axis_3\">\n    <g id=\"ytick_6\">\n     <g id=\"line2d_11\">\n      <defs>\n       <path id=\"m673302734e\" d=\"M 0 0 \nL 3.5 0 \n\" style=\"stroke: #000000; stroke-width: 0.8\"/>\n      </defs>\n      <g>\n       <use xlink:href=\"#m673302734e\" x=\"333.5645\" y=\"212.599349\" style=\"stroke: #000000; stroke-width: 0.8\"/>\n      </g>\n     </g>\n     <g id=\"text_38\">\n      <!-- 0.4 -->\n      <g transform=\"translate(340.5645 216.395442)scale(0.1 -0.1)\">\n       <use xlink:href=\"#MalgunGothic-30\"/>\n       <use xlink:href=\"#MalgunGothic-2e\" x=\"55.078125\"/>\n       <use xlink:href=\"#MalgunGothic-34\" x=\"76.953125\"/>\n      </g>\n     </g>\n    </g>\n    <g id=\"ytick_7\">\n     <g id=\"line2d_12\">\n      <g>\n       <use xlink:href=\"#m673302734e\" x=\"333.5645\" y=\"176.760704\" style=\"stroke: #000000; stroke-width: 0.8\"/>\n      </g>\n     </g>\n     <g id=\"text_39\">\n      <!-- 0.5 -->\n      <g transform=\"translate(340.5645 180.556797)scale(0.1 -0.1)\">\n       <use xlink:href=\"#MalgunGothic-30\"/>\n       <use xlink:href=\"#MalgunGothic-2e\" x=\"55.078125\"/>\n       <use xlink:href=\"#MalgunGothic-35\" x=\"76.953125\"/>\n      </g>\n     </g>\n    </g>\n    <g id=\"ytick_8\">\n     <g id=\"line2d_13\">\n      <g>\n       <use xlink:href=\"#m673302734e\" x=\"333.5645\" y=\"140.922059\" style=\"stroke: #000000; stroke-width: 0.8\"/>\n      </g>\n     </g>\n     <g id=\"text_40\">\n      <!-- 0.6 -->\n      <g transform=\"translate(340.5645 144.718152)scale(0.1 -0.1)\">\n       <use xlink:href=\"#MalgunGothic-30\"/>\n       <use xlink:href=\"#MalgunGothic-2e\" x=\"55.078125\"/>\n       <use xlink:href=\"#MalgunGothic-36\" x=\"76.953125\"/>\n      </g>\n     </g>\n    </g>\n    <g id=\"ytick_9\">\n     <g id=\"line2d_14\">\n      <g>\n       <use xlink:href=\"#m673302734e\" x=\"333.5645\" y=\"105.083414\" style=\"stroke: #000000; stroke-width: 0.8\"/>\n      </g>\n     </g>\n     <g id=\"text_41\">\n      <!-- 0.7 -->\n      <g transform=\"translate(340.5645 108.879507)scale(0.1 -0.1)\">\n       <use xlink:href=\"#MalgunGothic-30\"/>\n       <use xlink:href=\"#MalgunGothic-2e\" x=\"55.078125\"/>\n       <use xlink:href=\"#MalgunGothic-37\" x=\"76.953125\"/>\n      </g>\n     </g>\n    </g>\n    <g id=\"ytick_10\">\n     <g id=\"line2d_15\">\n      <g>\n       <use xlink:href=\"#m673302734e\" x=\"333.5645\" y=\"69.244769\" style=\"stroke: #000000; stroke-width: 0.8\"/>\n      </g>\n     </g>\n     <g id=\"text_42\">\n      <!-- 0.8 -->\n      <g transform=\"translate(340.5645 73.040862)scale(0.1 -0.1)\">\n       <defs>\n        <path id=\"MalgunGothic-38\" d=\"M 303 1281 \nQ 303 1669 539 2011 \nQ 775 2353 1153 2494 \nQ 856 2647 675 2915 \nQ 494 3184 494 3500 \nQ 494 3828 659 4098 \nQ 825 4369 1122 4522 \nQ 1419 4675 1778 4675 \nQ 2334 4675 2700 4342 \nQ 3066 4009 3066 3500 \nQ 3066 3181 2881 2914 \nQ 2697 2647 2413 2494 \nQ 2788 2350 3022 2009 \nQ 3256 1669 3256 1281 \nQ 3256 672 2843 297 \nQ 2431 -78 1778 -78 \nQ 1131 -78 717 301 \nQ 303 681 303 1281 \nz\nM 809 1328 \nQ 809 878 1081 611 \nQ 1353 344 1781 344 \nQ 2206 344 2482 619 \nQ 2759 894 2759 1328 \nQ 2759 1731 2482 2011 \nQ 2206 2291 1781 2291 \nQ 1372 2291 1090 2020 \nQ 809 1750 809 1328 \nz\nM 1003 3459 \nQ 1003 3125 1234 2900 \nQ 1466 2675 1781 2675 \nQ 2097 2675 2330 2900 \nQ 2563 3125 2563 3459 \nQ 2563 3803 2341 4026 \nQ 2119 4250 1781 4250 \nQ 1450 4250 1226 4029 \nQ 1003 3809 1003 3459 \nz\n\" transform=\"scale(0.015625)\"/>\n       </defs>\n       <use xlink:href=\"#MalgunGothic-30\"/>\n       <use xlink:href=\"#MalgunGothic-2e\" x=\"55.078125\"/>\n       <use xlink:href=\"#MalgunGothic-38\" x=\"76.953125\"/>\n      </g>\n     </g>\n    </g>\n    <g id=\"ytick_11\">\n     <g id=\"line2d_16\">\n      <g>\n       <use xlink:href=\"#m673302734e\" x=\"333.5645\" y=\"33.406124\" style=\"stroke: #000000; stroke-width: 0.8\"/>\n      </g>\n     </g>\n     <g id=\"text_43\">\n      <!-- 0.9 -->\n      <g transform=\"translate(340.5645 37.202218)scale(0.1 -0.1)\">\n       <use xlink:href=\"#MalgunGothic-30\"/>\n       <use xlink:href=\"#MalgunGothic-2e\" x=\"55.078125\"/>\n       <use xlink:href=\"#MalgunGothic-39\" x=\"76.953125\"/>\n      </g>\n     </g>\n    </g>\n   </g>\n   <g id=\"LineCollection_1\"/>\n   <g id=\"patch_5\">\n    <path d=\"M 322.6925 224.64 \nL 328.1285 224.64 \nL 333.5645 224.64 \nL 333.5645 7.2 \nL 328.1285 7.2 \nL 322.6925 7.2 \nL 322.6925 224.64 \nz\n\" style=\"fill: none\"/>\n   </g>\n  </g>\n </g>\n <defs>\n  <clipPath id=\"p00b716b820\">\n   <rect x=\"38.1125\" y=\"7.2\" width=\"267.84\" height=\"217.44\"/>\n  </clipPath>\n  <clipPath id=\"p5b75a88f22\">\n   <rect x=\"322.6925\" y=\"7.2\" width=\"10.872\" height=\"217.44\"/>\n  </clipPath>\n </defs>\n</svg>\n",
      "text/plain": [
       "<Figure size 432x288 with 2 Axes>"
      ]
     },
     "metadata": {
      "needs_background": "light"
     },
     "output_type": "display_data"
    }
   ],
   "source": [
    "sns.heatmap(scores, annot=True, xticklabels=param_grid['gamma'], yticklabels=param_grid['C'])\n",
    "plt.xlabel('gamma')\n",
    "plt.ylabel('C')"
   ]
  },
  {
   "cell_type": "code",
   "execution_count": 71,
   "metadata": {},
   "outputs": [],
   "source": [
    "param_grid = [{'kernel':['rbf'], 'C':np.logspace(-3, 1, 5), 'gamma':np.logspace(-3, 1, 5)}, {'kernel':['linear'], 'C':np.logspace(-3, 1, 5)}]"
   ]
  },
  {
   "cell_type": "code",
   "execution_count": 72,
   "metadata": {},
   "outputs": [
    {
     "data": {
      "text/plain": [
       "({'C': 10.0, 'gamma': 0.1, 'kernel': 'rbf'},\n",
       " 0.9731225296442687,\n",
       " 0.9736842105263158)"
      ]
     },
     "execution_count": 72,
     "metadata": {},
     "output_type": "execute_result"
    }
   ],
   "source": [
    "grid = GridSearchCV(SVC(), param_grid=param_grid, cv=5, return_train_score=True).fit(X_train, y_train)\n",
    "grid.best_params_, grid.best_score_, grid.score(X_test, y_test)"
   ]
  },
  {
   "cell_type": "code",
   "execution_count": 75,
   "metadata": {},
   "outputs": [],
   "source": [
    "param_dist = {'kernel':['rbf'], 'C':ss.loguniform(1, 10), 'gamma':ss.loguniform(0.01, 0.1)}"
   ]
  },
  {
   "cell_type": "code",
   "execution_count": 76,
   "metadata": {},
   "outputs": [
    {
     "data": {
      "text/plain": [
       "({'C': 3.912339767015907, 'gamma': 0.09981408412461906, 'kernel': 'rbf'},\n",
       " 0.9727272727272727,\n",
       " 0.9736842105263158)"
      ]
     },
     "execution_count": 76,
     "metadata": {},
     "output_type": "execute_result"
    }
   ],
   "source": [
    "rand = RandomizedSearchCV(SVC(), param_distributions=param_dist, cv=5, n_iter=20, n_jobs=-1).fit(X_train, y_train)\n",
    "rand.best_params_, rand.best_score_, rand.score(X_test, y_test)"
   ]
  },
  {
   "cell_type": "code",
   "execution_count": 86,
   "metadata": {},
   "outputs": [],
   "source": [
    "digits = load_digits()\n",
    "y = digits['target'] == 9\n",
    "X = digits['data']"
   ]
  },
  {
   "cell_type": "code",
   "execution_count": 87,
   "metadata": {},
   "outputs": [],
   "source": [
    "X_train, X_test, y_train, y_test = train_test_split(X, y, random_state=0)"
   ]
  },
  {
   "cell_type": "code",
   "execution_count": 88,
   "metadata": {},
   "outputs": [
    {
     "data": {
      "text/plain": [
       "0.8955555555555555"
      ]
     },
     "execution_count": 88,
     "metadata": {},
     "output_type": "execute_result"
    }
   ],
   "source": [
    "dummy = DummyClassifier(strategy='most_frequent').fit(X_train, y_train)\n",
    "dummy.score(X_test, y_test)"
   ]
  },
  {
   "cell_type": "code",
   "execution_count": 105,
   "metadata": {},
   "outputs": [],
   "source": [
    "X_resampled, y_resampled = SMOTE(sampling_strategy='minority', k_neighbors=3, random_state=0).fit_resample(X, y)"
   ]
  },
  {
   "cell_type": "code",
   "execution_count": 106,
   "metadata": {},
   "outputs": [
    {
     "data": {
      "text/plain": [
       "(3234, 1797)"
      ]
     },
     "execution_count": 106,
     "metadata": {},
     "output_type": "execute_result"
    }
   ],
   "source": [
    "len(y_resampled), len(y)"
   ]
  },
  {
   "cell_type": "code",
   "execution_count": 107,
   "metadata": {},
   "outputs": [],
   "source": [
    "X_train, X_test, y_train, y_test = train_test_split(X_resampled, y_resampled, random_state=0)"
   ]
  },
  {
   "cell_type": "code",
   "execution_count": 108,
   "metadata": {},
   "outputs": [
    {
     "data": {
      "text/plain": [
       "0.4919653893695921"
      ]
     },
     "execution_count": 108,
     "metadata": {},
     "output_type": "execute_result"
    }
   ],
   "source": [
    "dummy = DummyClassifier(strategy='most_frequent').fit(X_train, y_train)\n",
    "dummy.score(X_test, y_test)"
   ]
  },
  {
   "cell_type": "code",
   "execution_count": 109,
   "metadata": {},
   "outputs": [
    {
     "data": {
      "text/plain": [
       "0.9913473423980222"
      ]
     },
     "execution_count": 109,
     "metadata": {},
     "output_type": "execute_result"
    }
   ],
   "source": [
    "rf_clf = RandomForestClassifier(n_estimators=100, random_state=0).fit(X_train, y_train)\n",
    "rf_clf.score(X_test, y_test)"
   ]
  },
  {
   "cell_type": "code",
   "execution_count": 110,
   "metadata": {},
   "outputs": [
    {
     "data": {
      "text/plain": [
       "(array([1617,  180], dtype=int64), array([1617, 1617], dtype=int64))"
      ]
     },
     "execution_count": 110,
     "metadata": {},
     "output_type": "execute_result"
    }
   ],
   "source": [
    "np.bincount(y), np.bincount(y_resampled)"
   ]
  },
  {
   "cell_type": "code",
   "execution_count": null,
   "metadata": {},
   "outputs": [],
   "source": []
  }
 ],
 "metadata": {
  "kernelspec": {
   "display_name": "Python 3.9.12 ('base')",
   "language": "python",
   "name": "python3"
  },
  "language_info": {
   "codemirror_mode": {
    "name": "ipython",
    "version": 3
   },
   "file_extension": ".py",
   "mimetype": "text/x-python",
   "name": "python",
   "nbconvert_exporter": "python",
   "pygments_lexer": "ipython3",
   "version": "3.9.12"
  },
  "orig_nbformat": 4,
  "vscode": {
   "interpreter": {
    "hash": "610a6f344c2137faf927ea819c63f6cee33a2c04455044b28099f39fe9722347"
   }
  }
 },
 "nbformat": 4,
 "nbformat_minor": 2
}
