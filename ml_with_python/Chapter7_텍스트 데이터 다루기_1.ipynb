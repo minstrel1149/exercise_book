{
 "cells": [
  {
   "cell_type": "code",
   "execution_count": 20,
   "id": "8153218c",
   "metadata": {},
   "outputs": [],
   "source": [
    "import os\n",
    "import numpy as np\n",
    "from scipy import sparse\n",
    "%matplotlib inline\n",
    "import matplotlib.pyplot as plt\n",
    "import pandas as pd\n",
    "import mglearn\n",
    "plt.rcParams['font.family'] = 'Malgun Gothic'\n",
    "plt.rcParams['axes.unicode_minus'] = False\n",
    "%config InlineBackend.figure_format = 'svg'\n",
    "from mpl_toolkits.mplot3d import Axes3D, axes3d\n",
    "from scipy.cluster import hierarchy\n",
    "import seaborn as sns"
   ]
  },
  {
   "cell_type": "code",
   "execution_count": 21,
   "id": "ec177e35",
   "metadata": {},
   "outputs": [],
   "source": [
    "from sklearn.feature_extraction.text import CountVectorizer\n",
    "from sklearn.model_selection import cross_val_score\n",
    "from sklearn.model_selection import cross_validate\n",
    "from sklearn.model_selection import GridSearchCV\n",
    "from sklearn.linear_model import LogisticRegression\n",
    "from sklearn.pipeline import Pipeline\n",
    "from sklearn.pipeline import make_pipeline"
   ]
  },
  {
   "cell_type": "code",
   "execution_count": 22,
   "id": "96b121b2",
   "metadata": {},
   "outputs": [],
   "source": [
    "from sklearn.datasets import load_files"
   ]
  },
  {
   "cell_type": "code",
   "execution_count": 23,
   "id": "1756d3ca",
   "metadata": {},
   "outputs": [
    {
     "name": "stdout",
     "output_type": "stream",
     "text": [
      "폴더 PATH의 목록입니다.\n",
      "볼륨 일련 번호가 000000B0 0481:35AC입니다.\n",
      "C:\\USERS\\ADMIN\\EXERCISE_BOOK\\ML_WITH_PYTHON\\ACLIMDB\n",
      "├─test\n",
      "│  ├─neg\n",
      "│  └─pos\n",
      "├─train\n",
      "│  ├─neg\n",
      "│  └─pos\n",
      "└─unsup\n"
     ]
    }
   ],
   "source": [
    "!tree aclImdb"
   ]
  },
  {
   "cell_type": "code",
   "execution_count": 24,
   "id": "b61c0e44",
   "metadata": {},
   "outputs": [],
   "source": [
    "reviews_train = load_files('aclImdb/train/')"
   ]
  },
  {
   "cell_type": "code",
   "execution_count": 25,
   "id": "7fb0decb",
   "metadata": {},
   "outputs": [],
   "source": [
    "text_train, y_train = reviews_train['data'], reviews_train['target']"
   ]
  },
  {
   "cell_type": "code",
   "execution_count": 26,
   "id": "51d84116",
   "metadata": {},
   "outputs": [],
   "source": [
    "text_train = [doc.replace(b'<br />', b' ') for doc in text_train]"
   ]
  },
  {
   "cell_type": "code",
   "execution_count": 27,
   "id": "39d50e6d",
   "metadata": {},
   "outputs": [
    {
     "data": {
      "text/plain": [
       "array([12500, 12500], dtype=int64)"
      ]
     },
     "execution_count": 27,
     "metadata": {},
     "output_type": "execute_result"
    }
   ],
   "source": [
    "np.bincount(y_train)"
   ]
  },
  {
   "cell_type": "code",
   "execution_count": 28,
   "id": "41bcc369",
   "metadata": {},
   "outputs": [
    {
     "data": {
      "text/plain": [
       "25000"
      ]
     },
     "execution_count": 28,
     "metadata": {},
     "output_type": "execute_result"
    }
   ],
   "source": [
    "len(text_train)"
   ]
  },
  {
   "cell_type": "code",
   "execution_count": 29,
   "id": "98b6e9cb",
   "metadata": {},
   "outputs": [],
   "source": [
    "reviews_test = load_files('aclImdb/test/')"
   ]
  },
  {
   "cell_type": "code",
   "execution_count": 30,
   "id": "1a6c58d9",
   "metadata": {},
   "outputs": [],
   "source": [
    "text_test, y_test = reviews_test['data'], reviews_test['target']"
   ]
  },
  {
   "cell_type": "code",
   "execution_count": 31,
   "id": "19fb88f7",
   "metadata": {},
   "outputs": [],
   "source": [
    "text_test = [doc.replace(b'<br />', b' ') for doc in text_test]"
   ]
  },
  {
   "cell_type": "code",
   "execution_count": 32,
   "id": "db696365",
   "metadata": {},
   "outputs": [],
   "source": [
    "bard_words = ['The fool doth think he is wise,', 'but the wise man knows himself to be a fool']"
   ]
  },
  {
   "cell_type": "code",
   "execution_count": 33,
   "id": "8531c8f1",
   "metadata": {},
   "outputs": [
    {
     "data": {
      "text/plain": [
       "({'the': 9,\n",
       "  'fool': 3,\n",
       "  'doth': 2,\n",
       "  'think': 10,\n",
       "  'he': 4,\n",
       "  'is': 6,\n",
       "  'wise': 12,\n",
       "  'but': 1,\n",
       "  'man': 8,\n",
       "  'knows': 7,\n",
       "  'himself': 5,\n",
       "  'to': 11,\n",
       "  'be': 0},\n",
       " [('be', 0),\n",
       "  ('but', 1),\n",
       "  ('doth', 2),\n",
       "  ('fool', 3),\n",
       "  ('he', 4),\n",
       "  ('himself', 5),\n",
       "  ('is', 6),\n",
       "  ('knows', 7),\n",
       "  ('man', 8),\n",
       "  ('the', 9),\n",
       "  ('think', 10),\n",
       "  ('to', 11),\n",
       "  ('wise', 12)])"
      ]
     },
     "execution_count": 33,
     "metadata": {},
     "output_type": "execute_result"
    }
   ],
   "source": [
    "vect = CountVectorizer().fit(bard_words)\n",
    "vect.vocabulary_, sorted(vect.vocabulary_.items())"
   ]
  },
  {
   "cell_type": "code",
   "execution_count": 34,
   "id": "cc4a18da",
   "metadata": {},
   "outputs": [
    {
     "data": {
      "text/plain": [
       "array([[0, 0, 1, 1, 1, 0, 1, 0, 0, 1, 1, 0, 1],\n",
       "       [1, 1, 0, 1, 0, 1, 0, 1, 1, 1, 0, 1, 1]], dtype=int64)"
      ]
     },
     "execution_count": 34,
     "metadata": {},
     "output_type": "execute_result"
    }
   ],
   "source": [
    "vect.transform(bard_words).toarray()"
   ]
  },
  {
   "cell_type": "code",
   "execution_count": 35,
   "id": "d2314a2e",
   "metadata": {},
   "outputs": [
    {
     "data": {
      "text/plain": [
       "<25000x74849 sparse matrix of type '<class 'numpy.int64'>'\n",
       "\twith 3431196 stored elements in Compressed Sparse Row format>"
      ]
     },
     "execution_count": 35,
     "metadata": {},
     "output_type": "execute_result"
    }
   ],
   "source": [
    "vect = CountVectorizer().fit(text_train)\n",
    "X_train = vect.transform(text_train)\n",
    "X_train"
   ]
  },
  {
   "cell_type": "code",
   "execution_count": 36,
   "id": "70c94d5a",
   "metadata": {},
   "outputs": [
    {
     "data": {
      "text/plain": [
       "array(['draper', 'draperies', 'drapery', 'drapes', 'draskovic', 'drastic',\n",
       "       'drastically', 'drat', 'dratch', 'dratic', 'dratted', 'draub',\n",
       "       'draught', 'draughts', 'draughtswoman', 'draw', 'drawback',\n",
       "       'drawbacks', 'drawer', 'drawers', 'drawing', 'drawings', 'drawl',\n",
       "       'drawled', 'drawling', 'drawn', 'draws', 'draza', 'dre', 'drea',\n",
       "       'dread', 'dreadcentral', 'dreaded', 'dreadful', 'dreadfull',\n",
       "       'dreadfully', 'dreading', 'dreadlocks', 'dreads', 'dreaful',\n",
       "       'dream', 'dreama', 'dreamboat', 'dreamcast', 'dreamcatcher',\n",
       "       'dreamcatchers', 'dreamed', 'dreamer', 'dreamers', 'dreamgirl',\n",
       "       'dreamgirls', 'dreamily', 'dreamin', 'dreaming', 'dreamland',\n",
       "       'dreamless', 'dreamlike', 'dreamquest', 'dreams', 'dreamscape',\n",
       "       'dreamscapes', 'dreamstate', 'dreamt', 'dreamtime', 'dreamworks',\n",
       "       'dreamworld', 'dreamy', 'drearily', 'dreariness', 'dreary',\n",
       "       'dreck', 'drecky', 'dredd', 'dredge', 'dredged', 'dregs',\n",
       "       'dreichness', 'dreier', 'dreifuss', 'dreimaderlhaus', 'drek',\n",
       "       'drekish', 'dren', 'drenched', 'drenching', 'dresch', 'dresdel',\n",
       "       'dresden', 'dresler', 'dress', 'dressed', 'dresser', 'dressers',\n",
       "       'dresses', 'dressing', 'dressings', 'dressler', 'dreufuss', 'drew',\n",
       "       'drewbie'], dtype=object)"
      ]
     },
     "execution_count": 36,
     "metadata": {},
     "output_type": "execute_result"
    }
   ],
   "source": [
    "vect.get_feature_names_out()[20000:20100]"
   ]
  },
  {
   "cell_type": "code",
   "execution_count": 37,
   "id": "7747d1e4",
   "metadata": {},
   "outputs": [],
   "source": [
    "param_grid = {'C':[0.001, 0.01, 0.1, 1, 10]}\n",
    "grid = GridSearchCV(LogisticRegression(max_iter=5000), param_grid=param_grid, n_jobs=-1).fit(X_train, y_train)"
   ]
  },
  {
   "cell_type": "code",
   "execution_count": 38,
   "id": "2fd5ca4e",
   "metadata": {},
   "outputs": [
    {
     "data": {
      "text/plain": [
       "{'C': 0.1}"
      ]
     },
     "execution_count": 38,
     "metadata": {},
     "output_type": "execute_result"
    }
   ],
   "source": [
    "grid.best_params_"
   ]
  },
  {
   "cell_type": "code",
   "execution_count": 40,
   "id": "ad18ac37",
   "metadata": {},
   "outputs": [
    {
     "data": {
      "text/plain": [
       "0.87896"
      ]
     },
     "execution_count": 40,
     "metadata": {},
     "output_type": "execute_result"
    }
   ],
   "source": [
    "X_test = vect.transform(text_test)\n",
    "grid.score(X_test, y_test)"
   ]
  },
  {
   "cell_type": "code",
   "execution_count": 42,
   "id": "16a88ce6",
   "metadata": {},
   "outputs": [],
   "source": [
    "vect = CountVectorizer(min_df=5).fit(text_train)\n",
    "X_train = vect.transform(text_train)\n",
    "X_test = vect.transform(text_test)"
   ]
  },
  {
   "cell_type": "code",
   "execution_count": 43,
   "id": "02e57f85",
   "metadata": {},
   "outputs": [
    {
     "data": {
      "text/plain": [
       "array(['00', '000', '007', '00s', '01', '02', '03', '04', '05', '06',\n",
       "       '07', '08', '09', '10', '100', '1000', '100th', '101', '102',\n",
       "       '103', '104', '105', '107', '108', '10s', '10th', '11', '110',\n",
       "       '112', '116', '117', '11th', '12', '120', '12th', '13', '135',\n",
       "       '13th', '14', '140', '14th', '15', '150', '15th', '16', '160',\n",
       "       '1600', '16mm', '16s', '16th', '17', '17th', '18', '180', '1800',\n",
       "       '1800s', '1830', '1840', '1860', '1876', '1880', '1890', '1890s',\n",
       "       '1895', '1898', '18th', '19', '1900', '1900s', '1902', '1909',\n",
       "       '1910', '1912', '1913', '1914', '1915', '1916', '1917', '1918',\n",
       "       '1919', '1920', '1920s', '1921', '1922', '1924', '1925', '1926',\n",
       "       '1927', '1928', '1929', '1930', '1930s', '1931', '1932', '1933',\n",
       "       '1934', '1935', '1936', '1937', '1938'], dtype=object)"
      ]
     },
     "execution_count": 43,
     "metadata": {},
     "output_type": "execute_result"
    }
   ],
   "source": [
    "feature_names = vect.get_feature_names_out()\n",
    "feature_names[:100]"
   ]
  },
  {
   "cell_type": "code",
   "execution_count": 44,
   "id": "7950cbbd",
   "metadata": {},
   "outputs": [],
   "source": [
    "param_grid = {'C':[0.001, 0.01, 0.1, 1, 10]}\n",
    "grid = GridSearchCV(LogisticRegression(max_iter=5000), param_grid=param_grid, n_jobs=-1).fit(X_train, y_train)"
   ]
  },
  {
   "cell_type": "code",
   "execution_count": null,
   "id": "cc285776",
   "metadata": {},
   "outputs": [],
   "source": [
    "grid.best_score_ grid.best_params_, grid.score(X)"
   ]
  }
 ],
 "metadata": {
  "kernelspec": {
   "display_name": "Python 3 (ipykernel)",
   "language": "python",
   "name": "python3"
  },
  "language_info": {
   "codemirror_mode": {
    "name": "ipython",
    "version": 3
   },
   "file_extension": ".py",
   "mimetype": "text/x-python",
   "name": "python",
   "nbconvert_exporter": "python",
   "pygments_lexer": "ipython3",
   "version": "3.9.12"
  },
  "toc": {
   "base_numbering": 1,
   "nav_menu": {},
   "number_sections": true,
   "sideBar": true,
   "skip_h1_title": false,
   "title_cell": "Table of Contents",
   "title_sidebar": "Contents",
   "toc_cell": false,
   "toc_position": {},
   "toc_section_display": true,
   "toc_window_display": false
  },
  "vscode": {
   "interpreter": {
    "hash": "9b4d75ac280b6c7c3aa43866cb82dc88915409b55fec83a093dd0284cb58708e"
   }
  }
 },
 "nbformat": 4,
 "nbformat_minor": 5
}
