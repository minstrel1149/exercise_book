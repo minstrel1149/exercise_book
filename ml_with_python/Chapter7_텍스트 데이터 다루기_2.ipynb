{
 "cells": [
  {
   "cell_type": "code",
   "execution_count": 1,
   "id": "d7226def",
   "metadata": {},
   "outputs": [],
   "source": [
    "import os\n",
    "import sys\n",
    "import numpy as np\n",
    "from scipy import sparse\n",
    "%matplotlib inline\n",
    "import matplotlib.pyplot as plt\n",
    "import pandas as pd\n",
    "import mglearn\n",
    "plt.rcParams['font.family'] = 'Malgun Gothic'\n",
    "plt.rcParams['axes.unicode_minus'] = False\n",
    "%config InlineBackend.figure_format = 'svg'\n",
    "from mpl_toolkits.mplot3d import Axes3D, axes3d\n",
    "from scipy.cluster import hierarchy\n",
    "import seaborn as sns\n",
    "import spacy\n",
    "import nltk\n",
    "from konlpy.tag import Okt\n",
    "import graphviz\n",
    "from sklearn.utils.fixes import loguniform"
   ]
  },
  {
   "cell_type": "code",
   "execution_count": null,
   "id": "3188a65c",
   "metadata": {},
   "outputs": [],
   "source": []
  },
  {
   "cell_type": "code",
   "execution_count": 2,
   "id": "261e4d4c",
   "metadata": {},
   "outputs": [],
   "source": [
    "from sklearn.datasets import load_files"
   ]
  },
  {
   "cell_type": "code",
   "execution_count": 4,
   "id": "24f4a001",
   "metadata": {},
   "outputs": [],
   "source": [
    "reviews_train = load_files('aclImdb/train/')\n",
    "text_train, y_train = reviews_train['data'], reviews_train['target']\n",
    "text_train = [doc.replace(b'<br />', b' ') for doc in text_train]"
   ]
  },
  {
   "cell_type": "code",
   "execution_count": 6,
   "id": "48ba6e0d",
   "metadata": {},
   "outputs": [],
   "source": [
    "reviews_test = load_files('aclImdb/test/')\n",
    "text_test, y_test = reviews_test['data'], reviews_test['target']\n",
    "text_test = [doc.replace(b'<br />', b' ') for doc in text_test]"
   ]
  },
  {
   "cell_type": "code",
   "execution_count": null,
   "id": "9b09ef6e",
   "metadata": {},
   "outputs": [],
   "source": []
  }
 ],
 "metadata": {
  "kernelspec": {
   "display_name": "Python 3 (ipykernel)",
   "language": "python",
   "name": "python3"
  },
  "language_info": {
   "codemirror_mode": {
    "name": "ipython",
    "version": 3
   },
   "file_extension": ".py",
   "mimetype": "text/x-python",
   "name": "python",
   "nbconvert_exporter": "python",
   "pygments_lexer": "ipython3",
   "version": "3.9.12"
  },
  "toc": {
   "base_numbering": 1,
   "nav_menu": {},
   "number_sections": true,
   "sideBar": true,
   "skip_h1_title": false,
   "title_cell": "Table of Contents",
   "title_sidebar": "Contents",
   "toc_cell": false,
   "toc_position": {},
   "toc_section_display": true,
   "toc_window_display": false
  }
 },
 "nbformat": 4,
 "nbformat_minor": 5
}
