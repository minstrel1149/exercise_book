{
 "cells": [
  {
   "cell_type": "code",
   "execution_count": 1,
   "id": "ca69aa79",
   "metadata": {},
   "outputs": [],
   "source": [
    "import os\n",
    "import sys\n",
    "import numpy as np\n",
    "from scipy import sparse\n",
    "%matplotlib inline\n",
    "import matplotlib.pyplot as plt\n",
    "import pandas as pd\n",
    "import mglearn\n",
    "plt.rcParams['font.family'] = 'Malgun Gothic'\n",
    "plt.rcParams['axes.unicode_minus'] = False\n",
    "%config InlineBackend.figure_format = 'svg'\n",
    "from mpl_toolkits.mplot3d import Axes3D, axes3d\n",
    "from scipy.cluster import hierarchy\n",
    "import seaborn as sns\n",
    "import spacy\n",
    "import nltk\n",
    "from konlpy.tag import Okt\n",
    "import graphviz\n",
    "from sklearn.utils.fixes import loguniform"
   ]
  },
  {
   "cell_type": "code",
   "execution_count": 35,
   "id": "1ff66bac",
   "metadata": {},
   "outputs": [],
   "source": [
    "from sklearn.model_selection import train_test_split\n",
    "from sklearn.model_selection import cross_val_score, cross_validate\n",
    "from sklearn.model_selection import GridSearchCV\n",
    "from sklearn.linear_model import LogisticRegression\n",
    "from sklearn.feature_extraction.text import CountVectorizer\n",
    "from sklearn.feature_extraction.text import ENGLISH_STOP_WORDS"
   ]
  },
  {
   "cell_type": "code",
   "execution_count": 2,
   "id": "e6c63841",
   "metadata": {},
   "outputs": [],
   "source": [
    "from sklearn.datasets import load_files"
   ]
  },
  {
   "cell_type": "code",
   "execution_count": 4,
   "id": "137e861b",
   "metadata": {},
   "outputs": [],
   "source": [
    "reviews_train = load_files('aclImdb/train/')\n",
    "text_train, y_train = reviews_train['data'], reviews_train['target']\n",
    "text_train = [doc.replace(b'<br />', b' ') for doc in text_train]"
   ]
  },
  {
   "cell_type": "code",
   "execution_count": 6,
   "id": "81b15915",
   "metadata": {},
   "outputs": [],
   "source": [
    "reviews_test = load_files('aclImdb/test/')\n",
    "text_test, y_test = reviews_test['data'], reviews_test['target']\n",
    "text_test = [doc.replace(b'<br />', b' ') for doc in text_test]"
   ]
  },
  {
   "cell_type": "code",
   "execution_count": 11,
   "id": "62dbf3b6",
   "metadata": {},
   "outputs": [],
   "source": [
    "bards_words = ['The fool doth think he is wise,', 'but the wise man knows himself to be a fool']"
   ]
  },
  {
   "cell_type": "code",
   "execution_count": 14,
   "id": "9f5db3db",
   "metadata": {},
   "outputs": [
    {
     "data": {
      "text/plain": [
       "({'the': 9,\n",
       "  'fool': 3,\n",
       "  'doth': 2,\n",
       "  'think': 10,\n",
       "  'he': 4,\n",
       "  'is': 6,\n",
       "  'wise': 12,\n",
       "  'but': 1,\n",
       "  'man': 8,\n",
       "  'knows': 7,\n",
       "  'himself': 5,\n",
       "  'to': 11,\n",
       "  'be': 0},\n",
       " 13)"
      ]
     },
     "execution_count": 14,
     "metadata": {},
     "output_type": "execute_result"
    }
   ],
   "source": [
    "vect = CountVectorizer().fit(bards_words)\n",
    "vect.vocabulary_, len(vect.vocabulary_)"
   ]
  },
  {
   "cell_type": "code",
   "execution_count": 17,
   "id": "daecdcc8",
   "metadata": {},
   "outputs": [
    {
     "data": {
      "text/plain": [
       "array([[0, 0, 1, 1, 1, 0, 1, 0, 0, 1, 1, 0, 1],\n",
       "       [1, 1, 0, 1, 0, 1, 0, 1, 1, 1, 0, 1, 1]], dtype=int64)"
      ]
     },
     "execution_count": 17,
     "metadata": {},
     "output_type": "execute_result"
    }
   ],
   "source": [
    "vect.transform(bards_words).toarray()"
   ]
  },
  {
   "cell_type": "code",
   "execution_count": 18,
   "id": "9c22ee22",
   "metadata": {},
   "outputs": [
    {
     "data": {
      "text/plain": [
       "<25000x74849 sparse matrix of type '<class 'numpy.int64'>'\n",
       "\twith 3431196 stored elements in Compressed Sparse Row format>"
      ]
     },
     "execution_count": 18,
     "metadata": {},
     "output_type": "execute_result"
    }
   ],
   "source": [
    "vect = CountVectorizer().fit(text_train)\n",
    "X_train = vect.transform(text_train)\n",
    "X_train"
   ]
  },
  {
   "cell_type": "code",
   "execution_count": 19,
   "id": "c2f6eb04",
   "metadata": {},
   "outputs": [
    {
     "data": {
      "text/plain": [
       "array(['00', '000', '0000000000001', ..., 'østbye', 'über', 'üvegtigris'],\n",
       "      dtype=object)"
      ]
     },
     "execution_count": 19,
     "metadata": {},
     "output_type": "execute_result"
    }
   ],
   "source": [
    "vect.get_feature_names_out()"
   ]
  },
  {
   "cell_type": "code",
   "execution_count": 20,
   "id": "a32d130f",
   "metadata": {},
   "outputs": [
    {
     "data": {
      "text/plain": [
       "[b'\"Dutch Schultz\", AKA Arthur Fleggenheimer, was a real person and his rather nasty life is fairly well documented. This movie which purports to depict his life should have used a fictional character, because the overdramatized events are too strong a departure from the facts and the chronology. Not only that, it ignores some interesting details which other versions have included such as the public relations fiasco in upstate N.Y. and his religious conversion. It is true that he was executed by Luciano, Lansky, et. al. but that\\'s as far as it goes. The exploding plate scene which represents Luciano carrying out the execution of Bo Weinberg in his own home, assisted by his own mother is rediculous. Also, there is the scene in which Dutch approaches his own mother to pay protection to Legs Diamond. It just doesn\\'t work. The character of Mrs. Fleggenheimer doesn\\'t work either. This movie does not need a doting Jewish mother for comic relief. The lame representation of Legs Diamond was humorous enough. I\\'m sure the man is turning in his grave. And, by the way, Dutch did in fact personally kill people, but, he was not Rambo or 007. The scene in which he wipes out the brewery is absurd. I don\\'t know. Maybe it was supposed to be a comedy and I just didn\\'t get it.',\n",
       " b'First off, this is an excellent series, though we have sort of a James Bond effect. What I mean is that while the new Casino Royale takes place in 2006, it is chronologically the first adventure of 007, Dr. No (1962) being the second, while in Golden Eye, the first film with Pierce Brosnan, Judi Dench is referred to as the new replacement for the male \"M\" so how could she have been in place in the beginning before Bond became a double-0, aside from the fact that she is obviously 14 years older? This is more or less a \"poetic\" license to thrill. We need to turn our heads aside a bit if we wish to be entertained. No, the new Star Trek movie does not have any of the primitive electronics of the original series from nearly half a century ago. In the 1960\\'s communicators were fantasy. (now we call them cell phones) and there were sliding levers instead of buttons. OMG, do you think 400 years from now, they would have perfected Rogaine for Jean-Luc Picard? So, please, let\\'s give the producers some leeway.  But to try and make things a bit consistent, let us just ponder about the Cylons creation just 60 years prior to the end of Battlestar Galactica. If that is the case, where did all the Cylons that populated the original earth come from? We know that the technology exists for spontaneous jumps through space. Well, what happened if one of the Cyclon ships at war with the Caprica fleet was fired upon or there was a sunspot or whatever and one ship, loaded with human-looking Cylons, wound up not only jumping through space, but through time, back a thousand or ten thousand years with a crippled ship near Earth One. They colonized it, found out they could repopulate it and eventually destroyed themselves, but not before they themselves sent out a \"ragtag\" fleet to search for the legendary Caprica, only to find a habitable but unpopulated planet, which they colonized to become the humans, who eventually invented the Cylons. Time paradox? Of course. Which came first, the chicken or the road? Who cares? It\\'s fraking entertaining!',\n",
       " b'This game is the bomb and this is the 007 game of the year and should be on greatest hits. When I got Agent Under Fire, I thought that was a good game but then Nightfire came around and that was better, but now there is a new type of James Bond game. This time it a 3rd person shooter and there is more than 12 missions, the graphics of the game are out of this house. It even has all of the great actors and actresses in this game like Pierce Bronsan as once again James Bond, William Dafoe as the villain Nikolai Diavolo, and Judi Dench as M (forgive me all if I spell it wrong). This game would be own as the greatest James Bond game around.  I give this a 10/10',\n",
       " b'Don\\'t get me wrong. \"GoldenEye\" was revolutionary and is definitely the best FPS game to be based on the 007 franchise. But the series had fallen into a FPS rut. Enter \"Everything or Nothing\", which puts Bond in third-person. When I wrote my earlier review for \"From Russia With Love\", I had finished FRWL and just started EON and judged EON a bit harshly. Even though FRWL definitely has the edge in nostalgia and capturing the essence of the movie franchise, EON definitely is superior in terms of in-depth controls and gameplay variety. Missions range from standard running-and-gunning to driving an SUV, driving an Aston Martin, driving a limousine that is wired to explode, commandeering two different types of tanks a la \"GoldenEye\", riding a motorcycle, flying a helicopter, repelling down a shaft guarded by laser tripwires, and free falling after a plummeting damsel. Sure, vehicle controls are a little clumsy, but the issue here is the variety.  As movie adaptations, \"GoldenEye\" and FRWL were all that I could have hoped for. But EON\\'s original storyline adds to the feeling of controlling a James Bond adventure. This is helped by the impressive cast list of Willem DeFoe, Shannon Elizabeth, Heidi Klum, and Misaki Ito. Judi Dench and John Cleese reprise their movie roles of M and Q, respectively, and Pierce Brosnan, while no Sean Connery, adds credibility to the game\\'s proceedings. All characters resemble the stars, with the disappointing exception of Heidi Klum, who\\'s in-game model doesn\\'t do the real-life model justice. Mya\\'s theme song is on par with at least some of the big screen Bond title tunes.  The game also plays tribute to some of the older Bond movies. Willem DeFoe\\'s character is a former colleague of Christopher Walken\\'s baddie from \"A View to a Kill\". Richard Kiel appears as Jaws, the hulking henchman from \"The Spy Who Loved Me\" and \"Moonraker\" in three fight scenes, the first and best of which proceeds in the same fashion a fight in the movies would have.  Single-player gameplay mainly consists of standard on-foot missions as Bond. Like Bond, you will be able to choose whether to use stealth or go out with guns blazing. The game provides plenty of opportunities to utilize stealth, with plenty of wall and object cover. Unfortunately, unlike FRWL, only one button in EON controls both crouching and wall clinging, so Bond may end up crouching low when he\\'s supposed to be peeking around a corner, and vice-versa. The game also allows players to go into \"Bond reflex\" mode. While you browse your inventory, everything around you will go into super slo-mo, allowing you to analyze objects around you that can be interacted with. While this takes some getting used to, eventually this mode will allow you to perform many spectacular \"Bond moments\", such as shooting down a chandelier to take out four goons underneath, and greatly add to the Bond movie feeling.  There are 3 available difficulty levels: Operative, Agent, and Double Oh. On Operative, you can breeze through in a few hours. On Agent, a few weeks. On Double Oh, a few months. The difficulty level can be changed for each individual mission. Garnering high scores on missions will unlock gold and platinum awards and effect features such as vehicle upgrades and the skimpy outfits the Bond girls wear. Some missions can be extremely frustrating due to a scarcity of checkpoints, but when all is said and done, no mission is any longer than a single action scene in a Bond movie.  Multi-player, unfortunately, is not as thrilling. \"GoldenEye\" still has the best multi-player mode of any Bond game. EON\\'s main multi-player is a co-op campaign mode that puts players in charge of lesser MI6 agents on a less important mission than Bond\\'s. A more standard third-person death match can be unlocked from this mode. But the single-player mode is the most complete Bond experience to date. The ending, as with most Bond games, is anticlimactic. While the final mission is one of the most aggravating of the game, the final confrontation with the villain is disappointing. Also, levels that require Bond to be speedy become largely a matter of trial and error. Still, for any serious Bond fan, not playing this game is tantamount to missing one of the Bond films.',\n",
       " b'What a moving film. I have a dear friend who is in her sixties and for the past 15 years has told me that people don\\'t see her anymore, and she longs for companionship. Being in my late 40s I am beginning to see what she has been complaining about. You are no longer youthful, beautiful or touchable. When May says \"...this lump of a body...\" wow. How our bodies change and how we are told it is no longer beautiful. I love when she begins to change what she wears...the colorful scarf...no longer the frumpy wife.  It is a sad and wonderful picture at the same time. Sad in that May betrays her daughter\\'s trust...beautiful in that she finds herself through the difficulty of the affair, and chooses to move on and finally have her own life. I love the character\\'s daring to even initiate the love affair.  Mostly I love the movie because finally it is a picture that shows the intricate nature of relationships, be they familial or not. We see Paula\\'s vulnerability, yet she will have what she wants at all costs...(when she tells her mum that she will have a baby for Darren whether he wants one or not after her mother asks if Darren even wants a child). The movie hits the mark on the how relationships can change, and yet reveals what has been there all along, dormant. May has stifled her own creativity to raise a family. A family that she didn\\'t really want, but was \"something you just did when she was young\". I love the scene when Darren calls her an old tart, and she smiles and says \"I was never called that before\". It was truly a gem of a movie.  And Daniel Craig. Well, i just love him. I was pleasantly surprised. Not only is he pleasant on the eyes, he is a real talent. What a neat role. He is much more than any 007 that is for sure and I look forward to seeing him in more roles of this nature. The scene where he is pleasuring May and the look he gives her is sort of a look of wonder that he has such control over this woman, and also one of pleasure of being able to give this to her. He is actually enjoying giving her pleasure. A wonderful scene. The contrast is the love scene with Bruce. Bruce is totally absorbed with his own pleasure...two completely different men.  Alas...I wonder where is my Darren?',\n",
       " b'Shannon Lee,the daughter of Bruce Lee,delivers high kicking martial arts action in spades in this exhilarating Hong Kong movie and proves that like her late brother Brandon she is a real chip off the old block. There is high tech stuntwork to die for in this fast paced flick and the makers of the Bond movies should give it a look if they want to spice up the action quotient of the next 007 adventure as there is much innovative stuff here with some fresh and original second unit work to bolster up the already high action content of \"AND NOW,YOU\\'RE DEAD\". When you watch a movie as fast paced and entertaining as this you begin to wonder how cinema itself was able to survive before the martial arts genre was created.I genuinely believe that movies in general and action movies in particular were just marking time until the first kung fu movies made their debut. Bruce Lee was the father of modern action cinema and his legitimate surviving offspring Shannon does not let the family name down here.Although there are several pleasing performances in this movie (Michel Wong for one)it is Shannon Lee whom you will remember for a genuinely spectacular performance as Mandy the hitgirl supreme.Hell;you may well come away whistling her fights!',\n",
       " b\"When I first got my N64 when I was five or six,I fell in love with it,and my first game was Super Mario 64.And I LOVED IT!The graphics were great for it's time,a good plot,great courses and above all,the best music I heard in a Nintendo game.  I don't remember the plot completely,but I think Princess Peach was kidnapped by Bowser,and Mario has to rescue her.The object of the game is to get 120 stars from the curses in the castle.Each had about five or six challnges to get the stars.There are secert parts of the castle,where you can get more stars.But of course,you have beat Bowser.*I think there are three levels to beat Bowser on* Lets start with the characters.Mario is the main character,and gets helpful advice from Toad,so he is basically one of your only alliances.I heard that Luigi and Yoshi are in the game towards the end.The main villain is Bowser,and there are a bunch of other characters like Boo and Goomba.The characters are really great.  Next,how about the graphics?People say Gameplay is more important then the graphics,and I agree completely.But with he great plot,there are great graphics.Especially for it's time.I have a whole bunch of other Nintendo games like 007 and their graphics don't compare to Super Mario.Bright colors,great effects and awesome sound effects.I found the graphics in the water courses very very good.Next to the Bowser world ones,it has the best graphics in the game.  Now,the music.This is my favorite part of the game.Growing up,when I played this at a young age,I'd gladly leave the game on all night so the music would put me to sleep.Especially the music from Jolly Roger Bay,which was peaceful and wonderful.There are others that are great too,especially in,once again,the worlds with Bowser,are the ones that stick with me the most and are my favorites.  This game was my favorite past time as a developing gamer,and I love it.This game gets 10/10 or *****(5)/*****(5) GO PLAY THE GAME!\",\n",
       " b\"I thought the film could be a bit more complex,in a psychological sense perhaps, but the action and voice acting were top notch. The animation was heavy CG in many scenes, but very good ones at that. This is one of the Batman Returns/Forever type films, which include romances and the conflicts of Wayne and motives for dating. 007 fans would love this, and so would the females, great theme song! Wayne was portrayed very well in this film, and the Penquin was back to his true form, no mutant genes in him this time! I liked the fact Robin wasn't used too much, Tim Drake was just a good computer nerd, somewhat of an Indigo child or mind of the future.  The supporting cast was made up of some soap opera stars, decent talents and the characters were drawn to look like the voice actors too. Kelly Ripa was hilarious in this film.  I rate this below Phantasm, Return of the Joker, and Batman vs. Dracula, but liked the smarter script better than I enjoyed Subzero. 7/10\",\n",
       " b'What\\'s to like about this movie???  It is in colour!   It has some impressive underwater photography!   It has a rhythmic musical score in the background that works well at times!   So 3 out of 10!   Sometimes the music is speeded up! Especially when the shark or the baddies are about to move in!   Sometimes it is slowed! As if to convey to the audience it\\'s about to be time for sympathy!   As another one bites the dust! As if in a \"spagetti Western\" this has much similarity to!   It\\'s not that the Italians can\\'t produce quality productions! There was a series of TV movies with a heading like \"Octopus\" numbered about 1 to 7, screened on SBS TV in Australia in the 1990s about mafia-type conflicts! And they were excellent! But alas, you won\\'t find it here!!!  I assumed it was made about 1960s! Sadly it was 20 years out of date, as evidenced by a funeral scene near the end!   Then there was the razor-sharp bite of the speedy shark that makes for a red dust repeatedly emerging in the bluish waters!   Amidst it all, either in bar-room brawl or in observing the latest sea-side bloody demolition by the relentlessly hungry shark, the mate of the hero looks on through his glasses of little concern, as if he too was bored in his relentless role amidst a lack of much evidence of plot or anyone\\'s character development!   At least the hero indicates a fleeting concern belatedly, for his ex-wife!   But of course, even if the music fails to awaken our realisation, we have the sinister sound in the baddies\\' voices, as if to nudge us that another dark deed is about to emerge!   And near the end, someone thought of a twist! Just when we thought it was all totally predictable! But stay tuned, folks, for you may find another twist! If you are watching closely! To, more or less, warm your heart!   Follow the advice of the hero, and have a few beers along the way! It\\'ll make your viewing of \"Night of the Sharks\" more enjoyable!   Then you\\'ll be ready for something like a \"007\" movie to ease your way back into reality when this is over!!!',\n",
       " b\"Dark comedy? Gallows humor? How does one make a comedy out of murder? It can be risky business as the viewer is required to let go of their moral values and laugh at the antics of a man who kills people. So, the story has be rock solid with a good dash of suspended reality in order to make it work. So, Pierce Brosnan, the Irishman's answer to 007 is now cast as a chain-smoking, sex-addicted alcoholic who kills people for a living and is having a life crisis. He meets a struggling businessman, Greg Kinnear, and after a rocky beginning, he learns that he needs a friend. But, Greg's happily married to Hope Davis and Brosnan sees in him the basic things he doesn't have, love, home and a life. Add character actor, Philip Baker Hall as the hit-man's manager and we're off to the races. Brosnan is wonderfully crass and crude as the anti-hero and Kinnear delightful as his counterpart, the very human businessman. Hope Davis adds a sparkle as Kinnear's very conventional wife who is fascinated with this derelict who drifts into their lives. The ending is delightful and with some surprise to it. You should leave the theater feeling, at least, partly good-- if you're able to suspend being aghast at killing people.\",\n",
       " b'While flipping through the channels on a late Saturday night, my friends and I stumbled across this film. First of all, Irish actor Pierce Brosnan as a Native American? Seriously?! His accent was breaking through so much, although his character was apparently Scottish. Next, I was stunned to find that this film was made after he had already played James Bond/Agent 007 at least twice. This movie plays up the stereotypes, with the inspiring professor figure. The girl who played Pony should be paid to keep her mouth shut. And, this film won an award? I cannot believe it. Brosnan is an attractive man, but we seriously wanted to gauge our eyes out after watching this for just 10 seconds. We switched from \"Kicking and Screaming\" to this, and we wanted to switch back. We watched the 1995 children\\'s classic \"The Indian in the Cupboard\" earlier in the night, which also discussed the Iroquois. The following line represents our desire to run away: \"Take me outside, earth grasper.\" From \"Grey Owl\": \"If you don\\'t like it, you don\\'t have to watch.\"']"
      ]
     },
     "execution_count": 20,
     "metadata": {},
     "output_type": "execute_result"
    }
   ],
   "source": [
    "[text_train[i] for i in np.argwhere(X_train[:, 9] == 1)[:, 0]]"
   ]
  },
  {
   "cell_type": "code",
   "execution_count": 24,
   "id": "b7391ffe",
   "metadata": {},
   "outputs": [
    {
     "data": {
      "text/plain": [
       "array([  554,  6583,  7758,  9637, 10764, 15068, 16627, 17873, 22458,\n",
       "       23321, 23473])"
      ]
     },
     "execution_count": 24,
     "metadata": {},
     "output_type": "execute_result"
    }
   ],
   "source": [
    "np.argwhere(X_train[:, 9] == 1)[:, 0]"
   ]
  },
  {
   "cell_type": "code",
   "execution_count": 26,
   "id": "be603ac8",
   "metadata": {},
   "outputs": [
    {
     "data": {
      "text/plain": [
       "0.88132"
      ]
     },
     "execution_count": 26,
     "metadata": {},
     "output_type": "execute_result"
    }
   ],
   "source": [
    "scores = cross_val_score(LogisticRegression(max_iter=1000), X_train, y_train, n_jobs=-1)\n",
    "np.mean(scores)"
   ]
  },
  {
   "cell_type": "code",
   "execution_count": 30,
   "id": "ce78bfe0",
   "metadata": {},
   "outputs": [
    {
     "data": {
      "text/plain": [
       "(0.8881599999999998, {'C': 0.1})"
      ]
     },
     "execution_count": 30,
     "metadata": {},
     "output_type": "execute_result"
    }
   ],
   "source": [
    "param_grid = {'C':[0.001, 0.01, 0.1, 1, 10]}\n",
    "grid = GridSearchCV(LogisticRegression(max_iter=1000), param_grid=param_grid, cv=5, n_jobs=-1).fit(X_train, y_train)\n",
    "grid.best_score_, grid.best_params_"
   ]
  },
  {
   "cell_type": "code",
   "execution_count": 31,
   "id": "f4ee9ecb",
   "metadata": {},
   "outputs": [
    {
     "data": {
      "text/plain": [
       "0.87896"
      ]
     },
     "execution_count": 31,
     "metadata": {},
     "output_type": "execute_result"
    }
   ],
   "source": [
    "X_test = vect.transform(text_test)\n",
    "grid.score(X_test, y_test)"
   ]
  },
  {
   "cell_type": "code",
   "execution_count": 32,
   "id": "4e044b65",
   "metadata": {},
   "outputs": [
    {
     "data": {
      "text/plain": [
       "<25000x27271 sparse matrix of type '<class 'numpy.int64'>'\n",
       "\twith 3354014 stored elements in Compressed Sparse Row format>"
      ]
     },
     "execution_count": 32,
     "metadata": {},
     "output_type": "execute_result"
    }
   ],
   "source": [
    "vect = CountVectorizer(min_df=5).fit(text_train)\n",
    "X_train = vect.transform(text_train)\n",
    "X_test = vect.transform(text_test)\n",
    "X_train"
   ]
  },
  {
   "cell_type": "code",
   "execution_count": 33,
   "id": "d51787cc",
   "metadata": {},
   "outputs": [
    {
     "data": {
      "text/plain": [
       "array(['00', '000', '007', ..., 'zuniga', 'zwick', 'émigré'], dtype=object)"
      ]
     },
     "execution_count": 33,
     "metadata": {},
     "output_type": "execute_result"
    }
   ],
   "source": [
    "vect.get_feature_names_out()"
   ]
  },
  {
   "cell_type": "code",
   "execution_count": 34,
   "id": "3f570e11",
   "metadata": {},
   "outputs": [
    {
     "data": {
      "text/plain": [
       "(0.88812, {'C': 0.1})"
      ]
     },
     "execution_count": 34,
     "metadata": {},
     "output_type": "execute_result"
    }
   ],
   "source": [
    "param_grid = {'C':[0.001, 0.01, 0.1, 1, 10]}\n",
    "grid = GridSearchCV(LogisticRegression(max_iter=1000), param_grid=param_grid, cv=5, n_jobs=-1).fit(X_train, y_train)\n",
    "grid.best_score_, grid.best_params_"
   ]
  },
  {
   "cell_type": "code",
   "execution_count": 36,
   "id": "af21f34b",
   "metadata": {},
   "outputs": [
    {
     "data": {
      "text/plain": [
       "318"
      ]
     },
     "execution_count": 36,
     "metadata": {},
     "output_type": "execute_result"
    }
   ],
   "source": [
    "len(ENGLISH_STOP_WORDS)"
   ]
  },
  {
   "cell_type": "code",
   "execution_count": 37,
   "id": "366e30ec",
   "metadata": {},
   "outputs": [
    {
     "data": {
      "text/plain": [
       "<25000x26966 sparse matrix of type '<class 'numpy.int64'>'\n",
       "\twith 2149958 stored elements in Compressed Sparse Row format>"
      ]
     },
     "execution_count": 37,
     "metadata": {},
     "output_type": "execute_result"
    }
   ],
   "source": [
    "vect = CountVectorizer(min_df=5, stop_words='english').fit(text_train)\n",
    "X_train = vect.transform(text_train)\n",
    "X_test = vect.transform(text_test)\n",
    "X_train"
   ]
  },
  {
   "cell_type": "code",
   "execution_count": 38,
   "id": "4e6f1c7b",
   "metadata": {},
   "outputs": [
    {
     "data": {
      "text/plain": [
       "(0.8828400000000001, {'C': 0.1})"
      ]
     },
     "execution_count": 38,
     "metadata": {},
     "output_type": "execute_result"
    }
   ],
   "source": [
    "param_grid = {'C':[0.001, 0.01, 0.1, 1, 10]}\n",
    "grid = GridSearchCV(LogisticRegression(max_iter=1000), param_grid=param_grid, cv=5, n_jobs=-1).fit(X_train, y_train)\n",
    "grid.best_score_, grid.best_params_"
   ]
  },
  {
   "cell_type": "code",
   "execution_count": null,
   "id": "a54dc448",
   "metadata": {},
   "outputs": [],
   "source": []
  }
 ],
 "metadata": {
  "kernelspec": {
   "display_name": "Python 3 (ipykernel)",
   "language": "python",
   "name": "python3"
  },
  "language_info": {
   "codemirror_mode": {
    "name": "ipython",
    "version": 3
   },
   "file_extension": ".py",
   "mimetype": "text/x-python",
   "name": "python",
   "nbconvert_exporter": "python",
   "pygments_lexer": "ipython3",
   "version": "3.9.12"
  },
  "toc": {
   "base_numbering": 1,
   "nav_menu": {},
   "number_sections": true,
   "sideBar": true,
   "skip_h1_title": false,
   "title_cell": "Table of Contents",
   "title_sidebar": "Contents",
   "toc_cell": false,
   "toc_position": {},
   "toc_section_display": true,
   "toc_window_display": false
  }
 },
 "nbformat": 4,
 "nbformat_minor": 5
}
