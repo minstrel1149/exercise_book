{
 "cells": [
  {
   "cell_type": "code",
   "execution_count": 1,
   "metadata": {},
   "outputs": [],
   "source": [
    "import os\n",
    "import sys\n",
    "import numpy as np\n",
    "from scipy import sparse\n",
    "%matplotlib inline\n",
    "import matplotlib.pyplot as plt\n",
    "import pandas as pd\n",
    "import mglearn\n",
    "plt.rcParams['font.family'] = 'Malgun Gothic'\n",
    "plt.rcParams['axes.unicode_minus'] = False\n",
    "%config InlineBackend.figure_format = 'svg'\n",
    "from mpl_toolkits.mplot3d import Axes3D, axes3d\n",
    "import scipy.cluster.hierarchy as sch\n",
    "import seaborn as sns\n",
    "import spacy\n",
    "import nltk\n",
    "from konlpy.tag import Okt\n",
    "import graphviz"
   ]
  },
  {
   "cell_type": "code",
   "execution_count": 2,
   "metadata": {},
   "outputs": [],
   "source": [
    "from sklearn.model_selection import train_test_split\n",
    "from sklearn.linear_model import LinearRegression, LogisticRegression\n",
    "from sklearn.linear_model import Ridge, Lasso\n",
    "from sklearn.tree import DecisionTreeClassifier, DecisionTreeRegressor\n",
    "from sklearn.svm import SVR\n",
    "from sklearn.ensemble import RandomForestRegressor, RandomForestClassifier\n",
    "from sklearn.preprocessing import OneHotEncoder\n",
    "from sklearn.compose import ColumnTransformer\n",
    "from sklearn.compose import make_column_transformer\n",
    "from sklearn.preprocessing import MinMaxScaler, StandardScaler\n",
    "from sklearn.preprocessing import KBinsDiscretizer\n",
    "from sklearn.preprocessing import PolynomialFeatures\n",
    "from sklearn.pipeline import make_pipeline\n",
    "from sklearn.feature_selection import SelectKBest, SelectPercentile, f_classif, f_regression\n",
    "from sklearn.feature_selection import SelectFromModel\n",
    "from sklearn.feature_selection import RFE"
   ]
  },
  {
   "cell_type": "code",
   "execution_count": 3,
   "metadata": {},
   "outputs": [],
   "source": [
    "from sklearn.datasets import load_boston\n",
    "from sklearn.datasets import load_breast_cancer"
   ]
  },
  {
   "cell_type": "code",
   "execution_count": 4,
   "metadata": {},
   "outputs": [
    {
     "data": {
      "text/html": [
       "<div>\n",
       "<style scoped>\n",
       "    .dataframe tbody tr th:only-of-type {\n",
       "        vertical-align: middle;\n",
       "    }\n",
       "\n",
       "    .dataframe tbody tr th {\n",
       "        vertical-align: top;\n",
       "    }\n",
       "\n",
       "    .dataframe thead th {\n",
       "        text-align: right;\n",
       "    }\n",
       "</style>\n",
       "<table border=\"1\" class=\"dataframe\">\n",
       "  <thead>\n",
       "    <tr style=\"text-align: right;\">\n",
       "      <th></th>\n",
       "      <th>age</th>\n",
       "      <th>workclass</th>\n",
       "      <th>education</th>\n",
       "      <th>gender</th>\n",
       "      <th>hours-per-week</th>\n",
       "      <th>occupation</th>\n",
       "      <th>income</th>\n",
       "    </tr>\n",
       "  </thead>\n",
       "  <tbody>\n",
       "    <tr>\n",
       "      <th>0</th>\n",
       "      <td>39</td>\n",
       "      <td>State-gov</td>\n",
       "      <td>Bachelors</td>\n",
       "      <td>Male</td>\n",
       "      <td>40</td>\n",
       "      <td>Adm-clerical</td>\n",
       "      <td>&lt;=50K</td>\n",
       "    </tr>\n",
       "    <tr>\n",
       "      <th>1</th>\n",
       "      <td>50</td>\n",
       "      <td>Self-emp-not-inc</td>\n",
       "      <td>Bachelors</td>\n",
       "      <td>Male</td>\n",
       "      <td>13</td>\n",
       "      <td>Exec-managerial</td>\n",
       "      <td>&lt;=50K</td>\n",
       "    </tr>\n",
       "    <tr>\n",
       "      <th>2</th>\n",
       "      <td>38</td>\n",
       "      <td>Private</td>\n",
       "      <td>HS-grad</td>\n",
       "      <td>Male</td>\n",
       "      <td>40</td>\n",
       "      <td>Handlers-cleaners</td>\n",
       "      <td>&lt;=50K</td>\n",
       "    </tr>\n",
       "    <tr>\n",
       "      <th>3</th>\n",
       "      <td>53</td>\n",
       "      <td>Private</td>\n",
       "      <td>11th</td>\n",
       "      <td>Male</td>\n",
       "      <td>40</td>\n",
       "      <td>Handlers-cleaners</td>\n",
       "      <td>&lt;=50K</td>\n",
       "    </tr>\n",
       "    <tr>\n",
       "      <th>4</th>\n",
       "      <td>28</td>\n",
       "      <td>Private</td>\n",
       "      <td>Bachelors</td>\n",
       "      <td>Female</td>\n",
       "      <td>40</td>\n",
       "      <td>Prof-specialty</td>\n",
       "      <td>&lt;=50K</td>\n",
       "    </tr>\n",
       "  </tbody>\n",
       "</table>\n",
       "</div>"
      ],
      "text/plain": [
       "   age          workclass   education   gender  hours-per-week  \\\n",
       "0   39          State-gov   Bachelors     Male              40   \n",
       "1   50   Self-emp-not-inc   Bachelors     Male              13   \n",
       "2   38            Private     HS-grad     Male              40   \n",
       "3   53            Private        11th     Male              40   \n",
       "4   28            Private   Bachelors   Female              40   \n",
       "\n",
       "           occupation  income  \n",
       "0        Adm-clerical   <=50K  \n",
       "1     Exec-managerial   <=50K  \n",
       "2   Handlers-cleaners   <=50K  \n",
       "3   Handlers-cleaners   <=50K  \n",
       "4      Prof-specialty   <=50K  "
      ]
     },
     "execution_count": 4,
     "metadata": {},
     "output_type": "execute_result"
    }
   ],
   "source": [
    "data = pd.read_csv(os.path.join(mglearn.datasets.DATA_PATH, 'adult.data'), header=None, index_col=False,\n",
    "                  names = ['age', 'workclass', 'fnlwgt', 'education',  'education-num',\n",
    "           'marital-status', 'occupation', 'relationship', 'race', 'gender',\n",
    "           'capital-gain', 'capital-loss', 'hours-per-week', 'native-country',\n",
    "           'income'])\n",
    "data = data.loc[:, ['age', 'workclass', 'education', 'gender', 'hours-per-week', 'occupation', 'income']]\n",
    "data.head()"
   ]
  },
  {
   "cell_type": "code",
   "execution_count": 18,
   "metadata": {},
   "outputs": [],
   "source": [
    "X = pd.get_dummies(data.iloc[:, :-1])\n",
    "y = np.where(data.loc[:, 'income'] == data.loc[0, 'income'], 0, 1)"
   ]
  },
  {
   "cell_type": "code",
   "execution_count": 20,
   "metadata": {},
   "outputs": [],
   "source": [
    "X_train, X_test, y_train, y_test = train_test_split(X, y, stratify=y, random_state=0)"
   ]
  },
  {
   "cell_type": "code",
   "execution_count": 33,
   "metadata": {},
   "outputs": [
    {
     "data": {
      "text/plain": [
       "(0.8394758394758395, 0.8162387913032797)"
      ]
     },
     "execution_count": 33,
     "metadata": {},
     "output_type": "execute_result"
    }
   ],
   "source": [
    "rf_clf = RandomForestClassifier(n_estimators=100, min_samples_leaf=5, random_state=0).fit(X_train, y_train)\n",
    "rf_clf.score(X_train, y_train), rf_clf.score(X_test, y_test)"
   ]
  },
  {
   "cell_type": "code",
   "execution_count": 26,
   "metadata": {},
   "outputs": [
    {
     "data": {
      "text/plain": [
       "(0.8125307125307125, 0.8113253900012284)"
      ]
     },
     "execution_count": 26,
     "metadata": {},
     "output_type": "execute_result"
    }
   ],
   "source": [
    "logreg = LogisticRegression(max_iter=10000).fit(X_train, y_train)\n",
    "logreg.score(X_train, y_train), logreg.score(X_test, y_test)"
   ]
  },
  {
   "cell_type": "code",
   "execution_count": 37,
   "metadata": {},
   "outputs": [],
   "source": [
    "ct = make_column_transformer((StandardScaler(), ['age', 'hours-per-week']),\n",
    "(OneHotEncoder(sparse=False), ['workclass', 'education', 'gender', 'occupation']))"
   ]
  },
  {
   "cell_type": "code",
   "execution_count": 38,
   "metadata": {},
   "outputs": [],
   "source": [
    "X, y = mglearn.datasets.make_wave(n_samples=120)\n",
    "line = np.linspace(-3, 3, 1000, endpoint=False).reshape(-1, 1)"
   ]
  },
  {
   "cell_type": "code",
   "execution_count": 39,
   "metadata": {},
   "outputs": [
    {
     "data": {
      "text/plain": [
       "<matplotlib.legend.Legend at 0x2414ee95d90>"
      ]
     },
     "execution_count": 39,
     "metadata": {},
     "output_type": "execute_result"
    },
    {
     "data": {
      "image/svg+xml": "<?xml version=\"1.0\" encoding=\"utf-8\" standalone=\"no\"?>\n<!DOCTYPE svg PUBLIC \"-//W3C//DTD SVG 1.1//EN\"\n  \"http://www.w3.org/Graphics/SVG/1.1/DTD/svg11.dtd\">\n<svg xmlns:xlink=\"http://www.w3.org/1999/xlink\" width=\"373.504687pt\" height=\"248.79625pt\" viewBox=\"0 0 373.504687 248.79625\" xmlns=\"http://www.w3.org/2000/svg\" version=\"1.1\">\n <metadata>\n  <rdf:RDF xmlns:dc=\"http://purl.org/dc/elements/1.1/\" xmlns:cc=\"http://creativecommons.org/ns#\" xmlns:rdf=\"http://www.w3.org/1999/02/22-rdf-syntax-ns#\">\n   <cc:Work>\n    <dc:type rdf:resource=\"http://purl.org/dc/dcmitype/StillImage\"/>\n    <dc:date>2022-11-20T01:32:25.870265</dc:date>\n    <dc:format>image/svg+xml</dc:format>\n    <dc:creator>\n     <cc:Agent>\n      <dc:title>Matplotlib v3.5.1, https://matplotlib.org/</dc:title>\n     </cc:Agent>\n    </dc:creator>\n   </cc:Work>\n  </rdf:RDF>\n </metadata>\n <defs>\n  <style type=\"text/css\">*{stroke-linejoin: round; stroke-linecap: butt}</style>\n </defs>\n <g id=\"figure_1\">\n  <g id=\"patch_1\">\n   <path d=\"M 0 248.79625 \nL 373.504687 248.79625 \nL 373.504687 0 \nL 0 0 \nL 0 248.79625 \nz\n\" style=\"fill: none\"/>\n  </g>\n  <g id=\"axes_1\">\n   <g id=\"patch_2\">\n    <path d=\"M 31.504688 224.64 \nL 366.304688 224.64 \nL 366.304688 7.2 \nL 31.504688 7.2 \nz\n\" style=\"fill: #ffffff\"/>\n   </g>\n   <g id=\"matplotlib.axis_1\">\n    <g id=\"xtick_1\">\n     <g id=\"line2d_1\">\n      <defs>\n       <path id=\"md5acf121db\" d=\"M 0 0 \nL 0 3.5 \n\" style=\"stroke: #000000; stroke-width: 0.8\"/>\n      </defs>\n      <g>\n       <use xlink:href=\"#md5acf121db\" x=\"46.722869\" y=\"224.64\" style=\"stroke: #000000; stroke-width: 0.8\"/>\n      </g>\n     </g>\n     <g id=\"text_1\">\n      <!-- -3 -->\n      <g transform=\"translate(41.918182 239.232187)scale(0.1 -0.1)\">\n       <defs>\n        <path id=\"MalgunGothic-2d\" d=\"M 2213 1634 \nL 463 1634 \nL 463 2031 \nL 2213 2031 \nL 2213 1634 \nz\n\" transform=\"scale(0.015625)\"/>\n        <path id=\"MalgunGothic-33\" d=\"M 416 719 \nQ 891 344 1478 344 \nQ 1959 344 2254 587 \nQ 2550 831 2550 1247 \nQ 2550 2169 1253 2169 \nL 872 2169 \nL 872 2591 \nL 1234 2591 \nQ 2388 2591 2388 3453 \nQ 2388 4250 1509 4250 \nQ 1022 4250 594 3916 \nL 594 4413 \nQ 1031 4675 1634 4675 \nQ 2184 4675 2539 4372 \nQ 2894 4069 2894 3581 \nQ 2894 2678 1972 2409 \nL 1972 2400 \nQ 2469 2356 2764 2053 \nQ 3059 1750 3059 1300 \nQ 3059 672 2604 297 \nQ 2150 -78 1450 -78 \nQ 806 -78 416 169 \nL 416 719 \nz\n\" transform=\"scale(0.015625)\"/>\n       </defs>\n       <use xlink:href=\"#MalgunGothic-2d\"/>\n       <use xlink:href=\"#MalgunGothic-33\" x=\"41.015625\"/>\n      </g>\n     </g>\n    </g>\n    <g id=\"xtick_2\">\n     <g id=\"line2d_2\">\n      <g>\n       <use xlink:href=\"#md5acf121db\" x=\"97.50092\" y=\"224.64\" style=\"stroke: #000000; stroke-width: 0.8\"/>\n      </g>\n     </g>\n     <g id=\"text_2\">\n      <!-- -2 -->\n      <g transform=\"translate(92.696233 239.232187)scale(0.1 -0.1)\">\n       <defs>\n        <path id=\"MalgunGothic-32\" d=\"M 2519 3372 \nQ 2519 3784 2275 4018 \nQ 2031 4253 1628 4253 \nQ 1341 4253 1053 4104 \nQ 766 3956 534 3697 \nL 534 4234 \nQ 981 4675 1691 4675 \nQ 2281 4675 2642 4334 \nQ 3003 3994 3003 3416 \nQ 3003 2919 2772 2545 \nQ 2541 2172 1984 1775 \nQ 1459 1406 1254 1215 \nQ 1050 1025 967 854 \nQ 884 684 884 450 \nL 3116 450 \nL 3116 0 \nL 356 0 \nL 356 225 \nQ 356 603 461 870 \nQ 566 1138 811 1392 \nQ 1056 1647 1597 2022 \nQ 2091 2363 2305 2670 \nQ 2519 2978 2519 3372 \nz\n\" transform=\"scale(0.015625)\"/>\n       </defs>\n       <use xlink:href=\"#MalgunGothic-2d\"/>\n       <use xlink:href=\"#MalgunGothic-32\" x=\"41.015625\"/>\n      </g>\n     </g>\n    </g>\n    <g id=\"xtick_3\">\n     <g id=\"line2d_3\">\n      <g>\n       <use xlink:href=\"#md5acf121db\" x=\"148.278971\" y=\"224.64\" style=\"stroke: #000000; stroke-width: 0.8\"/>\n      </g>\n     </g>\n     <g id=\"text_3\">\n      <!-- -1 -->\n      <g transform=\"translate(143.474283 239.232187)scale(0.1 -0.1)\">\n       <defs>\n        <path id=\"MalgunGothic-31\" d=\"M 2231 0 \nL 1734 0 \nL 1734 3972 \nQ 1591 3828 1266 3661 \nQ 941 3494 672 3428 \nL 672 3959 \nQ 1016 4056 1409 4275 \nQ 1803 4494 2031 4700 \nL 2231 4700 \nL 2231 0 \nz\n\" transform=\"scale(0.015625)\"/>\n       </defs>\n       <use xlink:href=\"#MalgunGothic-2d\"/>\n       <use xlink:href=\"#MalgunGothic-31\" x=\"41.015625\"/>\n      </g>\n     </g>\n    </g>\n    <g id=\"xtick_4\">\n     <g id=\"line2d_4\">\n      <g>\n       <use xlink:href=\"#md5acf121db\" x=\"199.057022\" y=\"224.64\" style=\"stroke: #000000; stroke-width: 0.8\"/>\n      </g>\n     </g>\n     <g id=\"text_4\">\n      <!-- 0 -->\n      <g transform=\"translate(196.303115 239.232187)scale(0.1 -0.1)\">\n       <defs>\n        <path id=\"MalgunGothic-30\" d=\"M 278 2206 \nQ 278 3425 675 4050 \nQ 1072 4675 1819 4675 \nQ 3253 4675 3253 2319 \nQ 3253 1156 2854 539 \nQ 2456 -78 1716 -78 \nQ 1016 -78 647 520 \nQ 278 1119 278 2206 \nz\nM 784 2231 \nQ 784 344 1769 344 \nQ 2747 344 2747 2259 \nQ 2747 4250 1794 4250 \nQ 784 4250 784 2231 \nz\n\" transform=\"scale(0.015625)\"/>\n       </defs>\n       <use xlink:href=\"#MalgunGothic-30\"/>\n      </g>\n     </g>\n    </g>\n    <g id=\"xtick_5\">\n     <g id=\"line2d_5\">\n      <g>\n       <use xlink:href=\"#md5acf121db\" x=\"249.835072\" y=\"224.64\" style=\"stroke: #000000; stroke-width: 0.8\"/>\n      </g>\n     </g>\n     <g id=\"text_5\">\n      <!-- 1 -->\n      <g transform=\"translate(247.081166 239.232187)scale(0.1 -0.1)\">\n       <use xlink:href=\"#MalgunGothic-31\"/>\n      </g>\n     </g>\n    </g>\n    <g id=\"xtick_6\">\n     <g id=\"line2d_6\">\n      <g>\n       <use xlink:href=\"#md5acf121db\" x=\"300.613123\" y=\"224.64\" style=\"stroke: #000000; stroke-width: 0.8\"/>\n      </g>\n     </g>\n     <g id=\"text_6\">\n      <!-- 2 -->\n      <g transform=\"translate(297.859217 239.232187)scale(0.1 -0.1)\">\n       <use xlink:href=\"#MalgunGothic-32\"/>\n      </g>\n     </g>\n    </g>\n    <g id=\"xtick_7\">\n     <g id=\"line2d_7\">\n      <g>\n       <use xlink:href=\"#md5acf121db\" x=\"351.391174\" y=\"224.64\" style=\"stroke: #000000; stroke-width: 0.8\"/>\n      </g>\n     </g>\n     <g id=\"text_7\">\n      <!-- 3 -->\n      <g transform=\"translate(348.637268 239.232187)scale(0.1 -0.1)\">\n       <use xlink:href=\"#MalgunGothic-33\"/>\n      </g>\n     </g>\n    </g>\n   </g>\n   <g id=\"matplotlib.axis_2\">\n    <g id=\"ytick_1\">\n     <g id=\"line2d_8\">\n      <defs>\n       <path id=\"mb08f08e18e\" d=\"M 0 0 \nL -3.5 0 \n\" style=\"stroke: #000000; stroke-width: 0.8\"/>\n      </defs>\n      <g>\n       <use xlink:href=\"#mb08f08e18e\" x=\"31.504688\" y=\"213.672761\" style=\"stroke: #000000; stroke-width: 0.8\"/>\n      </g>\n     </g>\n     <g id=\"text_8\">\n      <!-- -1.5 -->\n      <g transform=\"translate(7.2 217.468855)scale(0.1 -0.1)\">\n       <defs>\n        <path id=\"MalgunGothic-2e\" d=\"M 356 275 \nQ 356 422 459 523 \nQ 563 625 700 625 \nQ 838 625 941 523 \nQ 1044 422 1044 275 \nQ 1044 138 942 33 \nQ 841 -72 700 -72 \nQ 559 -72 457 29 \nQ 356 131 356 275 \nz\n\" transform=\"scale(0.015625)\"/>\n        <path id=\"MalgunGothic-35\" d=\"M 3072 1403 \nQ 3072 722 2636 322 \nQ 2200 -78 1469 -78 \nQ 828 -78 516 113 \nL 516 650 \nQ 994 344 1475 344 \nQ 1969 344 2270 630 \nQ 2572 916 2572 1372 \nQ 2572 1838 2265 2092 \nQ 1959 2347 1381 2347 \nQ 994 2347 603 2300 \nL 759 4600 \nL 2869 4600 \nL 2869 4147 \nL 1206 4147 \nL 1106 2763 \nQ 1347 2784 1547 2784 \nQ 2263 2784 2667 2414 \nQ 3072 2044 3072 1403 \nz\n\" transform=\"scale(0.015625)\"/>\n       </defs>\n       <use xlink:href=\"#MalgunGothic-2d\"/>\n       <use xlink:href=\"#MalgunGothic-31\" x=\"41.015625\"/>\n       <use xlink:href=\"#MalgunGothic-2e\" x=\"96.09375\"/>\n       <use xlink:href=\"#MalgunGothic-35\" x=\"117.96875\"/>\n      </g>\n     </g>\n    </g>\n    <g id=\"ytick_2\">\n     <g id=\"line2d_9\">\n      <g>\n       <use xlink:href=\"#mb08f08e18e\" x=\"31.504688\" y=\"180.908407\" style=\"stroke: #000000; stroke-width: 0.8\"/>\n      </g>\n     </g>\n     <g id=\"text_9\">\n      <!-- -1.0 -->\n      <g transform=\"translate(7.2 184.704501)scale(0.1 -0.1)\">\n       <use xlink:href=\"#MalgunGothic-2d\"/>\n       <use xlink:href=\"#MalgunGothic-31\" x=\"41.015625\"/>\n       <use xlink:href=\"#MalgunGothic-2e\" x=\"96.09375\"/>\n       <use xlink:href=\"#MalgunGothic-30\" x=\"117.96875\"/>\n      </g>\n     </g>\n    </g>\n    <g id=\"ytick_3\">\n     <g id=\"line2d_10\">\n      <g>\n       <use xlink:href=\"#mb08f08e18e\" x=\"31.504688\" y=\"148.144054\" style=\"stroke: #000000; stroke-width: 0.8\"/>\n      </g>\n     </g>\n     <g id=\"text_10\">\n      <!-- -0.5 -->\n      <g transform=\"translate(7.2 151.940147)scale(0.1 -0.1)\">\n       <use xlink:href=\"#MalgunGothic-2d\"/>\n       <use xlink:href=\"#MalgunGothic-30\" x=\"41.015625\"/>\n       <use xlink:href=\"#MalgunGothic-2e\" x=\"96.09375\"/>\n       <use xlink:href=\"#MalgunGothic-35\" x=\"117.96875\"/>\n      </g>\n     </g>\n    </g>\n    <g id=\"ytick_4\">\n     <g id=\"line2d_11\">\n      <g>\n       <use xlink:href=\"#mb08f08e18e\" x=\"31.504688\" y=\"115.3797\" style=\"stroke: #000000; stroke-width: 0.8\"/>\n      </g>\n     </g>\n     <g id=\"text_11\">\n      <!-- 0.0 -->\n      <g transform=\"translate(11.301563 119.175793)scale(0.1 -0.1)\">\n       <use xlink:href=\"#MalgunGothic-30\"/>\n       <use xlink:href=\"#MalgunGothic-2e\" x=\"55.078125\"/>\n       <use xlink:href=\"#MalgunGothic-30\" x=\"76.953125\"/>\n      </g>\n     </g>\n    </g>\n    <g id=\"ytick_5\">\n     <g id=\"line2d_12\">\n      <g>\n       <use xlink:href=\"#mb08f08e18e\" x=\"31.504688\" y=\"82.615346\" style=\"stroke: #000000; stroke-width: 0.8\"/>\n      </g>\n     </g>\n     <g id=\"text_12\">\n      <!-- 0.5 -->\n      <g transform=\"translate(11.301563 86.41144)scale(0.1 -0.1)\">\n       <use xlink:href=\"#MalgunGothic-30\"/>\n       <use xlink:href=\"#MalgunGothic-2e\" x=\"55.078125\"/>\n       <use xlink:href=\"#MalgunGothic-35\" x=\"76.953125\"/>\n      </g>\n     </g>\n    </g>\n    <g id=\"ytick_6\">\n     <g id=\"line2d_13\">\n      <g>\n       <use xlink:href=\"#mb08f08e18e\" x=\"31.504688\" y=\"49.850992\" style=\"stroke: #000000; stroke-width: 0.8\"/>\n      </g>\n     </g>\n     <g id=\"text_13\">\n      <!-- 1.0 -->\n      <g transform=\"translate(11.301563 53.647086)scale(0.1 -0.1)\">\n       <use xlink:href=\"#MalgunGothic-31\"/>\n       <use xlink:href=\"#MalgunGothic-2e\" x=\"55.078125\"/>\n       <use xlink:href=\"#MalgunGothic-30\" x=\"76.953125\"/>\n      </g>\n     </g>\n    </g>\n    <g id=\"ytick_7\">\n     <g id=\"line2d_14\">\n      <g>\n       <use xlink:href=\"#mb08f08e18e\" x=\"31.504688\" y=\"17.086638\" style=\"stroke: #000000; stroke-width: 0.8\"/>\n      </g>\n     </g>\n     <g id=\"text_14\">\n      <!-- 1.5 -->\n      <g transform=\"translate(11.301563 20.882732)scale(0.1 -0.1)\">\n       <use xlink:href=\"#MalgunGothic-31\"/>\n       <use xlink:href=\"#MalgunGothic-2e\" x=\"55.078125\"/>\n       <use xlink:href=\"#MalgunGothic-35\" x=\"76.953125\"/>\n      </g>\n     </g>\n    </g>\n   </g>\n   <g id=\"line2d_15\">\n    <path d=\"M 46.722869 182.732657 \nL 55.253582 182.732657 \nL 55.55825 181.840313 \nL 55.862918 182.033955 \nL 56.472255 182.033955 \nL 56.776923 183.273745 \nL 57.38626 183.273745 \nL 57.690928 183.146281 \nL 58.300265 183.146281 \nL 58.604933 183.26961 \nL 58.909602 177.046325 \nL 60.128275 177.046325 \nL 60.432943 176.554674 \nL 60.737611 177.115175 \nL 61.04228 175.953047 \nL 61.346948 175.953047 \nL 61.651616 175.631927 \nL 62.565621 175.433804 \nL 62.870289 168.780371 \nL 63.479626 168.780371 \nL 63.784294 167.114113 \nL 65.002968 167.114113 \nL 65.612304 166.803717 \nL 66.221641 166.803717 \nL 66.526309 167.070427 \nL 66.830977 167.070427 \nL 67.135646 167.257061 \nL 67.440314 167.257061 \nL 67.744982 168.857447 \nL 68.049651 182.252533 \nL 69.268324 182.290848 \nL 69.572992 183.05852 \nL 69.87766 181.856468 \nL 71.401002 181.856468 \nL 71.70567 181.301222 \nL 73.229012 181.274104 \nL 73.53368 182.414888 \nL 74.447685 182.414888 \nL 74.752353 182.272734 \nL 75.057022 182.374986 \nL 75.36169 187.27821 \nL 75.971027 187.27821 \nL 76.275695 188.035774 \nL 77.799036 188.035774 \nL 78.103705 188.583383 \nL 79.01771 188.583383 \nL 79.322378 189.178924 \nL 79.627046 189.178924 \nL 79.931715 189.475269 \nL 80.541051 189.475269 \nL 80.845719 207.575008 \nL 81.150388 207.575008 \nL 81.455056 210.173111 \nL 81.759724 210.810115 \nL 82.369061 210.810115 \nL 82.673729 211.455058 \nL 83.283066 211.455058 \nL 83.587734 211.749303 \nL 84.501739 211.749303 \nL 84.806407 212.074735 \nL 86.025081 212.074735 \nL 86.329749 211.785264 \nL 86.634417 204.04421 \nL 86.939086 203.864724 \nL 89.071764 203.864724 \nL 89.376432 203.477115 \nL 89.6811 214.756364 \nL 91.50911 214.756364 \nL 91.813778 214.50716 \nL 92.118447 211.38853 \nL 92.727783 211.38853 \nL 93.032452 210.934112 \nL 93.33712 210.934112 \nL 93.641788 210.047015 \nL 94.251125 210.047015 \nL 94.555793 210.692959 \nL 94.860461 210.692959 \nL 95.16513 206.707217 \nL 96.079135 206.707217 \nL 96.383803 206.0817 \nL 96.99314 206.134046 \nL 97.297808 207.107241 \nL 97.907145 207.107241 \nL 98.211813 205.19157 \nL 98.516481 205.19157 \nL 99.125818 202.064966 \nL 100.344491 202.064966 \nL 100.649159 176.679503 \nL 101.258496 173.140675 \nL 102.781837 173.140675 \nL 103.086506 162.726503 \nL 103.391174 161.168482 \nL 104.305179 161.168482 \nL 104.609847 160.920049 \nL 104.914516 161.267736 \nL 105.219184 171.899771 \nL 105.523852 172.892212 \nL 105.82852 173.182313 \nL 106.742525 173.182313 \nL 107.047194 174.147182 \nL 107.351862 174.147182 \nL 107.65653 171.013803 \nL 109.179872 171.013803 \nL 109.48454 171.204101 \nL 109.789208 171.832717 \nL 111.921887 171.817516 \nL 112.226555 171.417484 \nL 113.749896 171.417484 \nL 114.054565 169.241276 \nL 114.96857 169.241276 \nL 115.273238 168.444588 \nL 116.796579 168.444588 \nL 117.101248 164.204341 \nL 119.538594 164.204341 \nL 119.843262 160.797393 \nL 120.147931 160.797393 \nL 120.452599 160.259892 \nL 121.671272 160.259892 \nL 121.975941 159.985868 \nL 122.889945 159.985868 \nL 123.194614 158.240306 \nL 125.63196 158.240306 \nL 125.936629 157.69534 \nL 126.241297 156.393786 \nL 127.45997 156.393786 \nL 127.764638 131.765094 \nL 128.678643 131.765094 \nL 128.983312 119.581937 \nL 130.201985 119.581937 \nL 130.506653 117.093127 \nL 130.811321 115.717627 \nL 131.11599 110.95138 \nL 132.029995 110.95138 \nL 132.334663 109.194459 \nL 132.639331 108.335173 \nL 133.553336 108.335173 \nL 133.858004 107.824993 \nL 135.076678 107.824993 \nL 135.686014 112.728416 \nL 135.990683 112.5334 \nL 136.904688 112.5334 \nL 137.514024 113.533622 \nL 137.818692 113.166458 \nL 139.342034 113.128398 \nL 139.646702 113.610517 \nL 140.256039 113.610517 \nL 140.560707 113.06555 \nL 140.865375 111.795767 \nL 141.170044 111.033017 \nL 141.474712 111.033017 \nL 141.77938 107.010639 \nL 142.388717 106.169716 \nL 142.693385 105.963803 \nL 143.60739 105.963803 \nL 143.912059 105.734931 \nL 144.216727 105.272587 \nL 144.826063 105.272587 \nL 145.130732 105.573296 \nL 145.740068 105.573296 \nL 146.044737 106.741679 \nL 146.654073 106.741679 \nL 146.958742 107.941494 \nL 148.786751 107.941494 \nL 149.09142 108.385695 \nL 150.310093 108.385695 \nL 150.614761 112.127374 \nL 150.91943 125.295394 \nL 151.224098 125.295394 \nL 151.528766 140.859481 \nL 151.833434 148.587693 \nL 152.747439 148.587693 \nL 153.356776 149.613409 \nL 153.966113 149.613409 \nL 154.270781 151.144246 \nL 156.098791 151.144246 \nL 156.403459 151.827175 \nL 157.926801 151.827175 \nL 158.231469 152.471799 \nL 158.536137 152.471799 \nL 158.840805 152.904799 \nL 159.450142 152.904799 \nL 159.75481 166.386055 \nL 161.58282 166.386055 \nL 161.887488 168.100276 \nL 162.801493 168.100276 \nL 163.106162 171.38071 \nL 164.934172 171.38071 \nL 165.23884 172.368492 \nL 166.152845 172.368492 \nL 166.457513 172.846376 \nL 167.371518 172.846376 \nL 167.676186 173.408427 \nL 168.285523 173.408427 \nL 168.590191 173.995156 \nL 168.894859 173.995156 \nL 169.199528 175.662592 \nL 169.504196 175.662592 \nL 169.808864 176.185283 \nL 171.027538 176.097987 \nL 171.332206 176.53716 \nL 174.074221 176.456431 \nL 174.378889 180.351923 \nL 174.988226 180.351923 \nL 175.292894 180.515238 \nL 176.206899 180.515238 \nL 176.511567 180.341359 \nL 177.425572 180.341359 \nL 177.73024 180.027855 \nL 178.644245 180.027855 \nL 178.948914 179.051067 \nL 179.55825 179.051067 \nL 179.862918 172.086924 \nL 181.081592 172.086924 \nL 181.38626 171.500378 \nL 181.995597 171.500378 \nL 182.300265 169.892206 \nL 183.21427 169.892206 \nL 183.518938 168.935533 \nL 184.432943 168.935533 \nL 184.737611 167.747443 \nL 187.479626 167.747443 \nL 187.784294 166.245686 \nL 188.088963 165.526826 \nL 188.698299 165.526826 \nL 189.307636 160.863572 \nL 189.916973 160.863572 \nL 190.221641 160.140948 \nL 191.135646 160.140948 \nL 191.744982 154.69679 \nL 192.049651 154.69679 \nL 192.354319 154.004614 \nL 193.572992 154.004614 \nL 193.87766 151.650994 \nL 194.182329 134.080865 \nL 194.486997 134.080865 \nL 194.791665 132.275377 \nL 196.010339 132.275377 \nL 196.315007 129.66136 \nL 196.924344 129.66136 \nL 197.229012 128.989291 \nL 197.53368 114.926206 \nL 199.36169 114.926206 \nL 199.666358 105.368771 \nL 200.275695 105.368771 \nL 200.580363 104.263644 \nL 204.236383 104.263644 \nL 204.541051 105.209393 \nL 205.150388 105.277938 \nL 205.759724 105.277938 \nL 206.064393 101.601337 \nL 206.369061 94.097323 \nL 207.892402 94.097323 \nL 208.197071 92.087686 \nL 208.501739 92.087686 \nL 209.111076 71.407842 \nL 209.415744 68.268976 \nL 209.720412 67.854592 \nL 210.025081 66.284723 \nL 211.548422 66.284723 \nL 211.85309 65.224167 \nL 212.157759 65.224167 \nL 212.462427 64.496764 \nL 212.767095 64.810796 \nL 215.204442 64.810796 \nL 215.50911 64.252816 \nL 216.727783 64.252816 \nL 217.032452 63.706827 \nL 219.469798 63.706827 \nL 220.688471 64.900947 \nL 220.99314 64.900947 \nL 221.297808 66.48024 \nL 222.211813 66.48024 \nL 222.516481 67.735835 \nL 223.125818 67.735835 \nL 223.430486 72.034619 \nL 223.735154 72.034619 \nL 224.039823 72.263927 \nL 228.000511 72.263927 \nL 228.305179 89.475875 \nL 228.609847 89.808733 \nL 229.219184 89.917643 \nL 230.133189 89.941779 \nL 230.437857 89.801766 \nL 230.742525 86.896701 \nL 231.047194 75.566198 \nL 231.351862 75.566198 \nL 231.65653 73.158547 \nL 232.265867 73.158547 \nL 232.570535 73.76436 \nL 233.179872 73.76436 \nL 233.48454 72.633943 \nL 234.093877 72.633943 \nL 234.398545 72.827518 \nL 236.226555 72.776514 \nL 236.531223 72.260184 \nL 236.835891 72.260184 \nL 237.14056 72.999607 \nL 238.359233 73.052318 \nL 238.663901 75.341884 \nL 239.882574 75.341884 \nL 240.187243 81.658242 \nL 240.491911 81.585562 \nL 240.796579 77.194154 \nL 243.843262 77.194154 \nL 244.147931 81.420293 \nL 244.757267 81.420293 \nL 245.061936 98.508549 \nL 247.194614 98.508549 \nL 247.499282 99.437328 \nL 247.80395 99.437328 \nL 248.108619 107.720867 \nL 251.155302 107.720867 \nL 251.45997 107.44092 \nL 251.764638 108.099688 \nL 255.11599 108.099688 \nL 255.420658 107.90042 \nL 258.467341 107.90042 \nL 258.772009 106.046774 \nL 259.076678 105.564867 \nL 259.381346 105.564867 \nL 259.686014 104.67305 \nL 261.818692 104.67305 \nL 262.123361 104.824007 \nL 262.428029 105.27985 \nL 263.037366 105.27985 \nL 263.342034 97.36739 \nL 265.170044 97.36739 \nL 265.474712 96.853681 \nL 265.77938 90.731559 \nL 266.388717 90.731559 \nL 266.693385 84.886472 \nL 266.998054 84.436829 \nL 268.826063 84.436829 \nL 269.130732 87.186793 \nL 269.4354 88.487342 \nL 273.09142 88.42576 \nL 273.700756 88.349258 \nL 274.310093 87.321753 \nL 275.528766 87.321753 \nL 275.833434 85.595679 \nL 277.661444 85.595679 \nL 277.966113 82.039953 \nL 279.184786 82.039953 \nL 279.489454 72.241699 \nL 279.794122 72.241699 \nL 280.098791 58.026078 \nL 280.403459 52.91921 \nL 281.622132 52.91921 \nL 281.926801 50.125375 \nL 282.231469 50.125375 \nL 282.536137 49.455182 \nL 284.364147 49.561977 \nL 284.668815 50.279975 \nL 286.192157 50.279975 \nL 286.496825 49.092525 \nL 286.801493 48.759568 \nL 287.106162 46.839633 \nL 287.41083 46.056096 \nL 288.324835 46.056096 \nL 288.629503 35.780355 \nL 288.934172 32.129154 \nL 289.23884 32.129154 \nL 289.543508 31.645148 \nL 290.457513 31.645148 \nL 290.762181 31.344799 \nL 291.06685 31.344799 \nL 291.371518 31.687507 \nL 293.808864 31.60773 \nL 294.113533 24.367122 \nL 295.941543 24.367122 \nL 296.246211 19.358036 \nL 296.550879 19.358036 \nL 296.855547 18.936583 \nL 297.160216 18.936583 \nL 297.464884 18.794848 \nL 298.074221 18.882339 \nL 299.597562 18.882339 \nL 299.90223 19.382977 \nL 301.120904 19.382977 \nL 301.425572 19.249204 \nL 302.339577 19.249204 \nL 302.644245 19.468121 \nL 303.55825 19.468121 \nL 303.862918 19.230355 \nL 304.167587 19.230355 \nL 304.472255 19.666518 \nL 304.776923 19.666518 \nL 305.081592 20.050947 \nL 305.38626 20.050947 \nL 305.690928 20.212846 \nL 305.995597 20.212846 \nL 306.604933 20.097505 \nL 310.870289 20.035488 \nL 311.174958 19.291506 \nL 311.479626 17.272434 \nL 314.526309 17.192809 \nL 315.135646 17.083636 \nL 315.440314 17.083636 \nL 315.744982 17.348297 \nL 316.354319 17.428024 \nL 317.572992 17.428024 \nL 317.87766 18.422153 \nL 318.182329 18.422153 \nL 318.486997 18.776128 \nL 318.791665 18.776128 \nL 319.096334 20.26931 \nL 320.010339 20.26931 \nL 320.315007 21.389982 \nL 320.924344 21.389982 \nL 321.229012 25.106761 \nL 321.53368 32.518086 \nL 323.057022 32.750146 \nL 323.36169 34.793964 \nL 323.666358 37.861128 \nL 324.275695 37.861128 \nL 324.580363 38.519295 \nL 324.885031 41.076469 \nL 325.494368 41.076469 \nL 325.799036 57.441169 \nL 326.713041 57.441169 \nL 327.01771 64.976394 \nL 328.236383 64.976394 \nL 328.541051 65.192638 \nL 328.845719 64.711945 \nL 329.759724 64.711945 \nL 330.064393 64.896695 \nL 331.283066 64.896695 \nL 331.587734 60.543751 \nL 332.197071 60.543751 \nL 332.501739 60.768463 \nL 334.329749 60.768463 \nL 334.634417 57.869444 \nL 334.939086 58.649736 \nL 335.85309 58.649736 \nL 336.157759 64.462316 \nL 338.290437 64.405133 \nL 338.595105 67.116882 \nL 338.899773 67.384275 \nL 339.204442 67.384275 \nL 339.50911 67.155689 \nL 341.33712 67.155689 \nL 341.641788 66.184326 \nL 351.086506 66.184326 \nL 351.086506 66.184326 \n\" clip-path=\"url(#pca13457081)\" style=\"fill: none; stroke: #1f77b4; stroke-width: 1.5; stroke-linecap: square\"/>\n   </g>\n   <g id=\"line2d_16\">\n    <path d=\"M 46.722869 198.535673 \nL 351.086506 24.204433 \nL 351.086506 24.204433 \n\" clip-path=\"url(#pca13457081)\" style=\"fill: none; stroke: #ff7f0e; stroke-width: 1.5; stroke-linecap: square\"/>\n   </g>\n   <g id=\"patch_3\">\n    <path d=\"M 31.504688 224.64 \nL 31.504688 7.2 \n\" style=\"fill: none; stroke: #000000; stroke-width: 0.8; stroke-linejoin: miter; stroke-linecap: square\"/>\n   </g>\n   <g id=\"patch_4\">\n    <path d=\"M 366.304688 224.64 \nL 366.304688 7.2 \n\" style=\"fill: none; stroke: #000000; stroke-width: 0.8; stroke-linejoin: miter; stroke-linecap: square\"/>\n   </g>\n   <g id=\"patch_5\">\n    <path d=\"M 31.504688 224.64 \nL 366.304688 224.64 \n\" style=\"fill: none; stroke: #000000; stroke-width: 0.8; stroke-linejoin: miter; stroke-linecap: square\"/>\n   </g>\n   <g id=\"patch_6\">\n    <path d=\"M 31.504688 7.2 \nL 366.304688 7.2 \n\" style=\"fill: none; stroke: #000000; stroke-width: 0.8; stroke-linejoin: miter; stroke-linecap: square\"/>\n   </g>\n   <g id=\"legend_1\">\n    <g id=\"patch_7\">\n     <path d=\"M 38.504688 45.1125 \nL 130.504687 45.1125 \nQ 132.504687 45.1125 132.504687 43.1125 \nL 132.504687 14.2 \nQ 132.504687 12.2 130.504687 12.2 \nL 38.504688 12.2 \nQ 36.504688 12.2 36.504688 14.2 \nL 36.504688 43.1125 \nQ 36.504688 45.1125 38.504688 45.1125 \nz\n\" style=\"fill: #ffffff; opacity: 0.8; stroke: #cccccc; stroke-linejoin: miter\"/>\n    </g>\n    <g id=\"line2d_17\">\n     <path d=\"M 40.504688 20.292187 \nL 50.504688 20.292187 \nL 60.504688 20.292187 \n\" style=\"fill: none; stroke: #1f77b4; stroke-width: 1.5; stroke-linecap: square\"/>\n    </g>\n    <g id=\"text_15\">\n     <!-- 랜덤포레스트 -->\n     <g transform=\"translate(68.504688 23.792187)scale(0.1 -0.1)\">\n      <defs>\n       <path id=\"MalgunGothic-b79c\" d=\"M 5063 1166 \nL 5063 3041 \nL 4353 3041 \nL 4353 1288 \nL 3897 1288 \nL 3897 5344 \nL 4353 5344 \nL 4353 3450 \nL 5063 3450 \nL 5063 5466 \nL 5522 5466 \nL 5522 1166 \nL 5063 1166 \nz\nM 3481 2119 \nQ 2981 2053 2557 2040 \nQ 2134 2028 825 2028 \nL 825 3816 \nL 2644 3816 \nL 2644 4709 \nL 825 4709 \nL 825 5125 \nL 3109 5125 \nL 3109 3413 \nL 1294 3413 \nL 1294 2438 \nL 1984 2438 \nQ 2875 2438 3438 2522 \nL 3481 2119 \nz\nM 1722 -366 \nL 1722 1516 \nL 2188 1516 \nL 2188 56 \nL 5703 56 \nL 5703 -366 \nL 1722 -366 \nz\n\" transform=\"scale(0.015625)\"/>\n       <path id=\"MalgunGothic-b364\" d=\"M 4947 2069 \nL 4947 3616 \nL 3225 3616 \nL 3225 4031 \nL 4947 4031 \nL 4947 5466 \nL 5416 5466 \nL 5416 2069 \nL 4947 2069 \nz\nM 4206 2400 \nQ 3078 2328 1100 2328 \nL 1100 5209 \nL 3963 5209 \nL 3963 4794 \nL 1569 4794 \nL 1569 2747 \nQ 3397 2747 4172 2797 \nL 4206 2400 \nz\nM 1734 -422 \nL 1734 1734 \nL 5416 1734 \nL 5416 -422 \nL 1734 -422 \nz\nM 4953 1325 \nL 2194 1325 \nL 2194 -6 \nL 4953 -6 \nL 4953 1325 \nz\n\" transform=\"scale(0.015625)\"/>\n       <path id=\"MalgunGothic-d3ec\" d=\"M 997 4897 \nL 5403 4897 \nL 5403 4488 \nL 997 4488 \nL 997 4897 \nz\nM 4494 2478 \nL 5478 2478 \nL 5478 2059 \nL 3438 2059 \nL 3438 756 \nL 5997 756 \nL 5997 341 \nL 403 341 \nL 403 756 \nL 2963 756 \nL 2963 2059 \nL 922 2059 \nL 922 2478 \nL 1906 2478 \nL 1831 4172 \nL 2291 4172 \nL 2375 2478 \nL 4025 2478 \nL 4109 4172 \nL 4569 4172 \nL 4494 2478 \nz\n\" transform=\"scale(0.015625)\"/>\n       <path id=\"MalgunGothic-b808\" d=\"M 5088 -563 \nL 5088 5466 \nL 5563 5466 \nL 5563 -563 \nL 5088 -563 \nz\nM 4000 -403 \nL 4000 2509 \nL 3144 2509 \nL 3144 2925 \nL 4000 2925 \nL 4000 5344 \nL 4459 5344 \nL 4459 -403 \nL 4000 -403 \nz\nM 769 722 \nL 769 3144 \nL 2438 3144 \nL 2438 4506 \nL 769 4506 \nL 769 4922 \nL 2906 4922 \nL 2906 2741 \nL 1234 2741 \nL 1234 1141 \nQ 2822 1141 3284 1222 \nL 3334 825 \nQ 2728 722 769 722 \nz\n\" transform=\"scale(0.015625)\"/>\n       <path id=\"MalgunGothic-c2a4\" d=\"M 3194 3897 \nQ 2969 3416 2328 2930 \nQ 1688 2444 959 2247 \nL 641 2619 \nQ 1703 2841 2329 3472 \nQ 2956 4103 2956 4659 \nL 2956 4978 \nL 3438 4978 \nL 3438 4659 \nQ 3438 4094 4073 3476 \nQ 4709 2859 5759 2625 \nL 5428 2253 \nQ 4694 2481 4058 2956 \nQ 3422 3431 3194 3897 \nz\nM 5997 447 \nL 403 447 \nL 403 863 \nL 5997 863 \nL 5997 447 \nz\n\" transform=\"scale(0.015625)\"/>\n       <path id=\"MalgunGothic-d2b8\" d=\"M 5131 4469 \nL 1766 4469 \nL 1766 3597 \nL 4959 3597 \nL 4959 3181 \nL 1766 3181 \nL 1766 2356 \nL 5228 2356 \nL 5228 1941 \nL 1306 1941 \nL 1306 4878 \nL 5131 4878 \nL 5131 4469 \nz\nM 403 384 \nL 403 800 \nL 5997 800 \nL 5997 384 \nL 403 384 \nz\n\" transform=\"scale(0.015625)\"/>\n      </defs>\n      <use xlink:href=\"#MalgunGothic-b79c\"/>\n      <use xlink:href=\"#MalgunGothic-b364\" x=\"100\"/>\n      <use xlink:href=\"#MalgunGothic-d3ec\" x=\"200\"/>\n      <use xlink:href=\"#MalgunGothic-b808\" x=\"300\"/>\n      <use xlink:href=\"#MalgunGothic-c2a4\" x=\"400\"/>\n      <use xlink:href=\"#MalgunGothic-d2b8\" x=\"500\"/>\n     </g>\n    </g>\n    <g id=\"line2d_18\">\n     <path d=\"M 40.504688 35.248437 \nL 50.504688 35.248437 \nL 60.504688 35.248437 \n\" style=\"fill: none; stroke: #ff7f0e; stroke-width: 1.5; stroke-linecap: square\"/>\n    </g>\n    <g id=\"text_16\">\n     <!-- 선형회귀 -->\n     <g transform=\"translate(68.504688 38.748437)scale(0.1 -0.1)\">\n      <defs>\n       <path id=\"MalgunGothic-c120\" d=\"M 4878 1063 \nL 4878 3653 \nL 3469 3653 \nL 3469 4072 \nL 4878 4072 \nL 4878 5466 \nL 5344 5466 \nL 5344 1063 \nL 4878 1063 \nz\nM 3675 2069 \nQ 3228 2344 2829 2776 \nQ 2431 3209 2266 3566 \nQ 2091 3150 1662 2648 \nQ 1234 2147 819 1913 \nL 481 2234 \nQ 1125 2559 1573 3198 \nQ 2022 3838 2022 4494 \nL 2022 5269 \nL 2478 5269 \nL 2478 4494 \nQ 2478 3894 2943 3286 \nQ 3409 2678 3988 2406 \nL 3675 2069 \nz\nM 1631 -366 \nL 1631 1550 \nL 2100 1550 \nL 2100 44 \nL 5503 44 \nL 5503 -366 \nL 1631 -366 \nz\n\" transform=\"scale(0.015625)\"/>\n       <path id=\"MalgunGothic-d615\" d=\"M 494 4306 \nL 494 4716 \nL 2028 4716 \nL 2028 5497 \nL 2491 5497 \nL 2491 4716 \nL 4025 4716 \nL 4025 4306 \nL 494 4306 \nz\nM 3950 2463 \nL 3950 2875 \nL 4947 2875 \nL 4947 3541 \nL 3950 3541 \nL 3950 3944 \nL 4947 3944 \nL 4947 5466 \nL 5416 5466 \nL 5416 1778 \nL 4947 1778 \nL 4947 2463 \nL 3950 2463 \nz\nM 2253 1959 \nQ 1584 1959 1192 2257 \nQ 800 2556 800 3009 \nQ 800 3459 1189 3754 \nQ 1578 4050 2259 4050 \nQ 2934 4050 3323 3754 \nQ 3713 3459 3713 3009 \nQ 3713 2556 3320 2257 \nQ 2928 1959 2253 1959 \nz\nM 2259 3653 \nQ 1797 3653 1533 3475 \nQ 1269 3297 1269 3009 \nQ 1269 2722 1534 2539 \nQ 1800 2356 2259 2356 \nQ 2719 2356 2981 2539 \nQ 3244 2722 3244 3009 \nQ 3244 3294 2983 3473 \nQ 2722 3653 2259 3653 \nz\nM 3481 -519 \nQ 2519 -519 2001 -226 \nQ 1484 66 1484 563 \nQ 1484 1059 2000 1348 \nQ 2516 1638 3481 1638 \nQ 4456 1638 4967 1347 \nQ 5478 1056 5478 563 \nQ 5478 66 4964 -226 \nQ 4450 -519 3481 -519 \nz\nM 3481 1241 \nQ 2753 1241 2368 1062 \nQ 1984 884 1984 563 \nQ 1984 241 2364 59 \nQ 2744 -122 3481 -122 \nQ 4222 -122 4603 61 \nQ 4984 244 4984 563 \nQ 4984 884 4598 1062 \nQ 4213 1241 3481 1241 \nz\n\" transform=\"scale(0.015625)\"/>\n       <path id=\"MalgunGothic-d68c\" d=\"M 4997 -563 \nL 4997 5466 \nL 5466 5466 \nL 5466 -563 \nL 4997 -563 \nz\nM 2247 5453 \nL 2713 5453 \nL 2713 4666 \nL 4275 4666 \nL 4275 4250 \nL 672 4250 \nL 672 4666 \nL 2247 4666 \nL 2247 5453 \nz\nM 2706 1728 \nL 2706 863 \nL 3838 900 \nQ 4341 916 4531 934 \nL 4556 531 \nQ 4063 491 2667 459 \nQ 1272 428 513 428 \nL 469 838 \nQ 1413 838 2247 856 \nL 2247 1728 \nQ 1628 1784 1293 2082 \nQ 959 2381 959 2816 \nQ 959 3313 1368 3620 \nQ 1778 3928 2484 3928 \nQ 3184 3928 3589 3622 \nQ 3994 3316 3994 2853 \nQ 3994 2400 3656 2092 \nQ 3319 1784 2706 1728 \nz\nM 2484 3534 \nQ 2003 3534 1718 3332 \nQ 1434 3131 1434 2816 \nQ 1434 2506 1711 2312 \nQ 1988 2119 2484 2119 \nQ 2978 2119 3251 2314 \nQ 3525 2509 3525 2816 \nQ 3525 3128 3245 3331 \nQ 2966 3534 2484 3534 \nz\n\" transform=\"scale(0.015625)\"/>\n       <path id=\"MalgunGothic-adc0\" d=\"M 4997 -563 \nL 4997 5466 \nL 5466 5466 \nL 5466 -563 \nL 4997 -563 \nz\nM 2266 -391 \nL 2266 2303 \nQ 1122 2278 469 2278 \nL 422 2694 \nQ 1606 2694 3353 2734 \nQ 3419 3353 3419 4744 \nL 1113 4744 \nL 1113 5159 \nL 3878 5159 \nQ 3878 3675 3809 2747 \nL 4616 2784 \nL 4641 2381 \nQ 3913 2338 2731 2309 \nL 2731 -391 \nL 2266 -391 \nz\n\" transform=\"scale(0.015625)\"/>\n      </defs>\n      <use xlink:href=\"#MalgunGothic-c120\"/>\n      <use xlink:href=\"#MalgunGothic-d615\" x=\"100\"/>\n      <use xlink:href=\"#MalgunGothic-d68c\" x=\"200\"/>\n      <use xlink:href=\"#MalgunGothic-adc0\" x=\"300\"/>\n     </g>\n    </g>\n   </g>\n  </g>\n </g>\n <defs>\n  <clipPath id=\"pca13457081\">\n   <rect x=\"31.504688\" y=\"7.2\" width=\"334.8\" height=\"217.44\"/>\n  </clipPath>\n </defs>\n</svg>\n",
      "text/plain": [
       "<Figure size 432x288 with 1 Axes>"
      ]
     },
     "metadata": {
      "needs_background": "light"
     },
     "output_type": "display_data"
    }
   ],
   "source": [
    "reg = RandomForestRegressor(n_estimators=100, min_samples_leaf=3).fit(X, y)\n",
    "plt.plot(line, reg.predict(line), label='랜덤포레스트')\n",
    "reg = LinearRegression().fit(X, y)\n",
    "plt.plot(line, reg.predict(line), label='선형회귀')\n",
    "plt.legend()"
   ]
  },
  {
   "cell_type": "code",
   "execution_count": 40,
   "metadata": {},
   "outputs": [
    {
     "data": {
      "text/plain": [
       "array([array([-2.9668673 , -2.37804841, -1.78922951, -1.20041062, -0.61159173,\n",
       "              -0.02277284,  0.56604605,  1.15486494,  1.74368384,  2.33250273,\n",
       "               2.92132162])                                                   ],\n",
       "      dtype=object)"
      ]
     },
     "execution_count": 40,
     "metadata": {},
     "output_type": "execute_result"
    }
   ],
   "source": [
    "kb = KBinsDiscretizer(n_bins=10, strategy='uniform').fit(X)\n",
    "kb.bin_edges_"
   ]
  },
  {
   "cell_type": "code",
   "execution_count": 42,
   "metadata": {},
   "outputs": [
    {
     "data": {
      "text/plain": [
       "array([[0., 0., 0., ..., 0., 0., 0.],\n",
       "       [0., 0., 0., ..., 0., 0., 1.],\n",
       "       [0., 0., 0., ..., 1., 0., 0.],\n",
       "       ...,\n",
       "       [0., 1., 0., ..., 0., 0., 0.],\n",
       "       [0., 0., 0., ..., 0., 0., 1.],\n",
       "       [0., 0., 0., ..., 0., 0., 0.]])"
      ]
     },
     "execution_count": 42,
     "metadata": {},
     "output_type": "execute_result"
    }
   ],
   "source": [
    "X_binned = kb.transform(X)\n",
    "X_binned.toarray()"
   ]
  },
  {
   "cell_type": "code",
   "execution_count": 46,
   "metadata": {},
   "outputs": [
    {
     "data": {
      "text/plain": [
       "array([[0., 0., 0., ..., 0., 0., 0.],\n",
       "       [0., 0., 0., ..., 0., 0., 1.],\n",
       "       [0., 0., 0., ..., 1., 0., 0.],\n",
       "       ...,\n",
       "       [0., 1., 0., ..., 0., 0., 0.],\n",
       "       [0., 0., 0., ..., 0., 0., 1.],\n",
       "       [0., 0., 0., ..., 0., 0., 0.]])"
      ]
     },
     "execution_count": 46,
     "metadata": {},
     "output_type": "execute_result"
    }
   ],
   "source": [
    "kb = KBinsDiscretizer(n_bins=10, strategy='uniform', encode='onehot-dense').fit(X)\n",
    "X_binned = kb.transform(X)\n",
    "line_binned = kb.transform(line)\n",
    "X_binned"
   ]
  },
  {
   "cell_type": "code",
   "execution_count": 47,
   "metadata": {},
   "outputs": [
    {
     "data": {
      "text/plain": [
       "[<matplotlib.lines.Line2D at 0x2414f5f04c0>]"
      ]
     },
     "execution_count": 47,
     "metadata": {},
     "output_type": "execute_result"
    },
    {
     "data": {
      "image/svg+xml": "<?xml version=\"1.0\" encoding=\"utf-8\" standalone=\"no\"?>\n<!DOCTYPE svg PUBLIC \"-//W3C//DTD SVG 1.1//EN\"\n  \"http://www.w3.org/Graphics/SVG/1.1/DTD/svg11.dtd\">\n<svg xmlns:xlink=\"http://www.w3.org/1999/xlink\" width=\"373.504687pt\" height=\"248.79625pt\" viewBox=\"0 0 373.504687 248.79625\" xmlns=\"http://www.w3.org/2000/svg\" version=\"1.1\">\n <metadata>\n  <rdf:RDF xmlns:dc=\"http://purl.org/dc/elements/1.1/\" xmlns:cc=\"http://creativecommons.org/ns#\" xmlns:rdf=\"http://www.w3.org/1999/02/22-rdf-syntax-ns#\">\n   <cc:Work>\n    <dc:type rdf:resource=\"http://purl.org/dc/dcmitype/StillImage\"/>\n    <dc:date>2022-11-20T01:41:08.816651</dc:date>\n    <dc:format>image/svg+xml</dc:format>\n    <dc:creator>\n     <cc:Agent>\n      <dc:title>Matplotlib v3.5.1, https://matplotlib.org/</dc:title>\n     </cc:Agent>\n    </dc:creator>\n   </cc:Work>\n  </rdf:RDF>\n </metadata>\n <defs>\n  <style type=\"text/css\">*{stroke-linejoin: round; stroke-linecap: butt}</style>\n </defs>\n <g id=\"figure_1\">\n  <g id=\"patch_1\">\n   <path d=\"M 0 248.79625 \nL 373.504687 248.79625 \nL 373.504687 0 \nL 0 0 \nL 0 248.79625 \nz\n\" style=\"fill: none\"/>\n  </g>\n  <g id=\"axes_1\">\n   <g id=\"patch_2\">\n    <path d=\"M 31.504688 224.64 \nL 366.304688 224.64 \nL 366.304688 7.2 \nL 31.504688 7.2 \nz\n\" style=\"fill: #ffffff\"/>\n   </g>\n   <g id=\"matplotlib.axis_1\">\n    <g id=\"xtick_1\">\n     <g id=\"line2d_1\">\n      <defs>\n       <path id=\"m28d3c15b5f\" d=\"M 0 0 \nL 0 3.5 \n\" style=\"stroke: #000000; stroke-width: 0.8\"/>\n      </defs>\n      <g>\n       <use xlink:href=\"#m28d3c15b5f\" x=\"46.722869\" y=\"224.64\" style=\"stroke: #000000; stroke-width: 0.8\"/>\n      </g>\n     </g>\n     <g id=\"text_1\">\n      <!-- -3 -->\n      <g transform=\"translate(41.918182 239.232187)scale(0.1 -0.1)\">\n       <defs>\n        <path id=\"MalgunGothic-2d\" d=\"M 2213 1634 \nL 463 1634 \nL 463 2031 \nL 2213 2031 \nL 2213 1634 \nz\n\" transform=\"scale(0.015625)\"/>\n        <path id=\"MalgunGothic-33\" d=\"M 416 719 \nQ 891 344 1478 344 \nQ 1959 344 2254 587 \nQ 2550 831 2550 1247 \nQ 2550 2169 1253 2169 \nL 872 2169 \nL 872 2591 \nL 1234 2591 \nQ 2388 2591 2388 3453 \nQ 2388 4250 1509 4250 \nQ 1022 4250 594 3916 \nL 594 4413 \nQ 1031 4675 1634 4675 \nQ 2184 4675 2539 4372 \nQ 2894 4069 2894 3581 \nQ 2894 2678 1972 2409 \nL 1972 2400 \nQ 2469 2356 2764 2053 \nQ 3059 1750 3059 1300 \nQ 3059 672 2604 297 \nQ 2150 -78 1450 -78 \nQ 806 -78 416 169 \nL 416 719 \nz\n\" transform=\"scale(0.015625)\"/>\n       </defs>\n       <use xlink:href=\"#MalgunGothic-2d\"/>\n       <use xlink:href=\"#MalgunGothic-33\" x=\"41.015625\"/>\n      </g>\n     </g>\n    </g>\n    <g id=\"xtick_2\">\n     <g id=\"line2d_2\">\n      <g>\n       <use xlink:href=\"#m28d3c15b5f\" x=\"97.50092\" y=\"224.64\" style=\"stroke: #000000; stroke-width: 0.8\"/>\n      </g>\n     </g>\n     <g id=\"text_2\">\n      <!-- -2 -->\n      <g transform=\"translate(92.696233 239.232187)scale(0.1 -0.1)\">\n       <defs>\n        <path id=\"MalgunGothic-32\" d=\"M 2519 3372 \nQ 2519 3784 2275 4018 \nQ 2031 4253 1628 4253 \nQ 1341 4253 1053 4104 \nQ 766 3956 534 3697 \nL 534 4234 \nQ 981 4675 1691 4675 \nQ 2281 4675 2642 4334 \nQ 3003 3994 3003 3416 \nQ 3003 2919 2772 2545 \nQ 2541 2172 1984 1775 \nQ 1459 1406 1254 1215 \nQ 1050 1025 967 854 \nQ 884 684 884 450 \nL 3116 450 \nL 3116 0 \nL 356 0 \nL 356 225 \nQ 356 603 461 870 \nQ 566 1138 811 1392 \nQ 1056 1647 1597 2022 \nQ 2091 2363 2305 2670 \nQ 2519 2978 2519 3372 \nz\n\" transform=\"scale(0.015625)\"/>\n       </defs>\n       <use xlink:href=\"#MalgunGothic-2d\"/>\n       <use xlink:href=\"#MalgunGothic-32\" x=\"41.015625\"/>\n      </g>\n     </g>\n    </g>\n    <g id=\"xtick_3\">\n     <g id=\"line2d_3\">\n      <g>\n       <use xlink:href=\"#m28d3c15b5f\" x=\"148.278971\" y=\"224.64\" style=\"stroke: #000000; stroke-width: 0.8\"/>\n      </g>\n     </g>\n     <g id=\"text_3\">\n      <!-- -1 -->\n      <g transform=\"translate(143.474283 239.232187)scale(0.1 -0.1)\">\n       <defs>\n        <path id=\"MalgunGothic-31\" d=\"M 2231 0 \nL 1734 0 \nL 1734 3972 \nQ 1591 3828 1266 3661 \nQ 941 3494 672 3428 \nL 672 3959 \nQ 1016 4056 1409 4275 \nQ 1803 4494 2031 4700 \nL 2231 4700 \nL 2231 0 \nz\n\" transform=\"scale(0.015625)\"/>\n       </defs>\n       <use xlink:href=\"#MalgunGothic-2d\"/>\n       <use xlink:href=\"#MalgunGothic-31\" x=\"41.015625\"/>\n      </g>\n     </g>\n    </g>\n    <g id=\"xtick_4\">\n     <g id=\"line2d_4\">\n      <g>\n       <use xlink:href=\"#m28d3c15b5f\" x=\"199.057022\" y=\"224.64\" style=\"stroke: #000000; stroke-width: 0.8\"/>\n      </g>\n     </g>\n     <g id=\"text_4\">\n      <!-- 0 -->\n      <g transform=\"translate(196.303115 239.232187)scale(0.1 -0.1)\">\n       <defs>\n        <path id=\"MalgunGothic-30\" d=\"M 278 2206 \nQ 278 3425 675 4050 \nQ 1072 4675 1819 4675 \nQ 3253 4675 3253 2319 \nQ 3253 1156 2854 539 \nQ 2456 -78 1716 -78 \nQ 1016 -78 647 520 \nQ 278 1119 278 2206 \nz\nM 784 2231 \nQ 784 344 1769 344 \nQ 2747 344 2747 2259 \nQ 2747 4250 1794 4250 \nQ 784 4250 784 2231 \nz\n\" transform=\"scale(0.015625)\"/>\n       </defs>\n       <use xlink:href=\"#MalgunGothic-30\"/>\n      </g>\n     </g>\n    </g>\n    <g id=\"xtick_5\">\n     <g id=\"line2d_5\">\n      <g>\n       <use xlink:href=\"#m28d3c15b5f\" x=\"249.835072\" y=\"224.64\" style=\"stroke: #000000; stroke-width: 0.8\"/>\n      </g>\n     </g>\n     <g id=\"text_5\">\n      <!-- 1 -->\n      <g transform=\"translate(247.081166 239.232187)scale(0.1 -0.1)\">\n       <use xlink:href=\"#MalgunGothic-31\"/>\n      </g>\n     </g>\n    </g>\n    <g id=\"xtick_6\">\n     <g id=\"line2d_6\">\n      <g>\n       <use xlink:href=\"#m28d3c15b5f\" x=\"300.613123\" y=\"224.64\" style=\"stroke: #000000; stroke-width: 0.8\"/>\n      </g>\n     </g>\n     <g id=\"text_6\">\n      <!-- 2 -->\n      <g transform=\"translate(297.859217 239.232187)scale(0.1 -0.1)\">\n       <use xlink:href=\"#MalgunGothic-32\"/>\n      </g>\n     </g>\n    </g>\n    <g id=\"xtick_7\">\n     <g id=\"line2d_7\">\n      <g>\n       <use xlink:href=\"#m28d3c15b5f\" x=\"351.391174\" y=\"224.64\" style=\"stroke: #000000; stroke-width: 0.8\"/>\n      </g>\n     </g>\n     <g id=\"text_7\">\n      <!-- 3 -->\n      <g transform=\"translate(348.637268 239.232187)scale(0.1 -0.1)\">\n       <use xlink:href=\"#MalgunGothic-33\"/>\n      </g>\n     </g>\n    </g>\n   </g>\n   <g id=\"matplotlib.axis_2\">\n    <g id=\"ytick_1\">\n     <g id=\"line2d_8\">\n      <defs>\n       <path id=\"m172c500bb7\" d=\"M 0 0 \nL -3.5 0 \n\" style=\"stroke: #000000; stroke-width: 0.8\"/>\n      </defs>\n      <g>\n       <use xlink:href=\"#m172c500bb7\" x=\"31.504688\" y=\"194.011598\" style=\"stroke: #000000; stroke-width: 0.8\"/>\n      </g>\n     </g>\n     <g id=\"text_8\">\n      <!-- -1.0 -->\n      <g transform=\"translate(7.2 197.807691)scale(0.1 -0.1)\">\n       <defs>\n        <path id=\"MalgunGothic-2e\" d=\"M 356 275 \nQ 356 422 459 523 \nQ 563 625 700 625 \nQ 838 625 941 523 \nQ 1044 422 1044 275 \nQ 1044 138 942 33 \nQ 841 -72 700 -72 \nQ 559 -72 457 29 \nQ 356 131 356 275 \nz\n\" transform=\"scale(0.015625)\"/>\n       </defs>\n       <use xlink:href=\"#MalgunGothic-2d\"/>\n       <use xlink:href=\"#MalgunGothic-31\" x=\"41.015625\"/>\n       <use xlink:href=\"#MalgunGothic-2e\" x=\"96.09375\"/>\n       <use xlink:href=\"#MalgunGothic-30\" x=\"117.96875\"/>\n      </g>\n     </g>\n    </g>\n    <g id=\"ytick_2\">\n     <g id=\"line2d_9\">\n      <g>\n       <use xlink:href=\"#m172c500bb7\" x=\"31.504688\" y=\"159.310998\" style=\"stroke: #000000; stroke-width: 0.8\"/>\n      </g>\n     </g>\n     <g id=\"text_9\">\n      <!-- -0.5 -->\n      <g transform=\"translate(7.2 163.107092)scale(0.1 -0.1)\">\n       <defs>\n        <path id=\"MalgunGothic-35\" d=\"M 3072 1403 \nQ 3072 722 2636 322 \nQ 2200 -78 1469 -78 \nQ 828 -78 516 113 \nL 516 650 \nQ 994 344 1475 344 \nQ 1969 344 2270 630 \nQ 2572 916 2572 1372 \nQ 2572 1838 2265 2092 \nQ 1959 2347 1381 2347 \nQ 994 2347 603 2300 \nL 759 4600 \nL 2869 4600 \nL 2869 4147 \nL 1206 4147 \nL 1106 2763 \nQ 1347 2784 1547 2784 \nQ 2263 2784 2667 2414 \nQ 3072 2044 3072 1403 \nz\n\" transform=\"scale(0.015625)\"/>\n       </defs>\n       <use xlink:href=\"#MalgunGothic-2d\"/>\n       <use xlink:href=\"#MalgunGothic-30\" x=\"41.015625\"/>\n       <use xlink:href=\"#MalgunGothic-2e\" x=\"96.09375\"/>\n       <use xlink:href=\"#MalgunGothic-35\" x=\"117.96875\"/>\n      </g>\n     </g>\n    </g>\n    <g id=\"ytick_3\">\n     <g id=\"line2d_10\">\n      <g>\n       <use xlink:href=\"#m172c500bb7\" x=\"31.504688\" y=\"124.610399\" style=\"stroke: #000000; stroke-width: 0.8\"/>\n      </g>\n     </g>\n     <g id=\"text_10\">\n      <!-- 0.0 -->\n      <g transform=\"translate(11.301563 128.406493)scale(0.1 -0.1)\">\n       <use xlink:href=\"#MalgunGothic-30\"/>\n       <use xlink:href=\"#MalgunGothic-2e\" x=\"55.078125\"/>\n       <use xlink:href=\"#MalgunGothic-30\" x=\"76.953125\"/>\n      </g>\n     </g>\n    </g>\n    <g id=\"ytick_4\">\n     <g id=\"line2d_11\">\n      <g>\n       <use xlink:href=\"#m172c500bb7\" x=\"31.504688\" y=\"89.9098\" style=\"stroke: #000000; stroke-width: 0.8\"/>\n      </g>\n     </g>\n     <g id=\"text_11\">\n      <!-- 0.5 -->\n      <g transform=\"translate(11.301563 93.705894)scale(0.1 -0.1)\">\n       <use xlink:href=\"#MalgunGothic-30\"/>\n       <use xlink:href=\"#MalgunGothic-2e\" x=\"55.078125\"/>\n       <use xlink:href=\"#MalgunGothic-35\" x=\"76.953125\"/>\n      </g>\n     </g>\n    </g>\n    <g id=\"ytick_5\">\n     <g id=\"line2d_12\">\n      <g>\n       <use xlink:href=\"#m172c500bb7\" x=\"31.504688\" y=\"55.209201\" style=\"stroke: #000000; stroke-width: 0.8\"/>\n      </g>\n     </g>\n     <g id=\"text_12\">\n      <!-- 1.0 -->\n      <g transform=\"translate(11.301563 59.005295)scale(0.1 -0.1)\">\n       <use xlink:href=\"#MalgunGothic-31\"/>\n       <use xlink:href=\"#MalgunGothic-2e\" x=\"55.078125\"/>\n       <use xlink:href=\"#MalgunGothic-30\" x=\"76.953125\"/>\n      </g>\n     </g>\n    </g>\n    <g id=\"ytick_6\">\n     <g id=\"line2d_13\">\n      <g>\n       <use xlink:href=\"#m172c500bb7\" x=\"31.504688\" y=\"20.508602\" style=\"stroke: #000000; stroke-width: 0.8\"/>\n      </g>\n     </g>\n     <g id=\"text_13\">\n      <!-- 1.5 -->\n      <g transform=\"translate(11.301563 24.304695)scale(0.1 -0.1)\">\n       <use xlink:href=\"#MalgunGothic-31\"/>\n       <use xlink:href=\"#MalgunGothic-2e\" x=\"55.078125\"/>\n       <use xlink:href=\"#MalgunGothic-35\" x=\"76.953125\"/>\n      </g>\n     </g>\n    </g>\n   </g>\n   <g id=\"line2d_14\">\n    <path d=\"M 46.722869 200.8794 \nL 78.103705 184.627956 \nL 78.408373 214.756364 \nL 107.961199 199.451606 \nL 108.265867 154.779493 \nL 137.818692 139.474735 \nL 138.123361 142.425447 \nL 167.980855 126.962908 \nL 168.285523 183.500542 \nL 197.838348 168.195784 \nL 198.143017 92.784704 \nL 227.695842 77.479946 \nL 228.000511 106.294068 \nL 257.553336 90.98931 \nL 257.858004 88.076461 \nL 287.41083 72.771703 \nL 287.715498 32.388394 \nL 317.268324 17.083636 \nL 317.572992 67.641115 \nL 351.086506 50.285204 \nL 351.086506 50.285204 \n\" clip-path=\"url(#pc835de87c6)\" style=\"fill: none; stroke: #1f77b4; stroke-width: 1.5; stroke-linecap: square\"/>\n   </g>\n   <g id=\"patch_3\">\n    <path d=\"M 31.504688 224.64 \nL 31.504688 7.2 \n\" style=\"fill: none; stroke: #000000; stroke-width: 0.8; stroke-linejoin: miter; stroke-linecap: square\"/>\n   </g>\n   <g id=\"patch_4\">\n    <path d=\"M 366.304688 224.64 \nL 366.304688 7.2 \n\" style=\"fill: none; stroke: #000000; stroke-width: 0.8; stroke-linejoin: miter; stroke-linecap: square\"/>\n   </g>\n   <g id=\"patch_5\">\n    <path d=\"M 31.504688 224.64 \nL 366.304688 224.64 \n\" style=\"fill: none; stroke: #000000; stroke-width: 0.8; stroke-linejoin: miter; stroke-linecap: square\"/>\n   </g>\n   <g id=\"patch_6\">\n    <path d=\"M 31.504688 7.2 \nL 366.304688 7.2 \n\" style=\"fill: none; stroke: #000000; stroke-width: 0.8; stroke-linejoin: miter; stroke-linecap: square\"/>\n   </g>\n  </g>\n </g>\n <defs>\n  <clipPath id=\"pc835de87c6\">\n   <rect x=\"31.504688\" y=\"7.2\" width=\"334.8\" height=\"217.44\"/>\n  </clipPath>\n </defs>\n</svg>\n",
      "text/plain": [
       "<Figure size 432x288 with 1 Axes>"
      ]
     },
     "metadata": {
      "needs_background": "light"
     },
     "output_type": "display_data"
    }
   ],
   "source": [
    "X_combined = np.hstack([X, X_binned])\n",
    "reg = LinearRegression().fit(X_combined, y)\n",
    "line_combined = np.hstack([line, line_binned])\n",
    "plt.plot(line, reg.predict(line_combined))"
   ]
  },
  {
   "cell_type": "code",
   "execution_count": null,
   "metadata": {},
   "outputs": [],
   "source": []
  }
 ],
 "metadata": {
  "kernelspec": {
   "display_name": "Python 3.9.12 ('base')",
   "language": "python",
   "name": "python3"
  },
  "language_info": {
   "codemirror_mode": {
    "name": "ipython",
    "version": 3
   },
   "file_extension": ".py",
   "mimetype": "text/x-python",
   "name": "python",
   "nbconvert_exporter": "python",
   "pygments_lexer": "ipython3",
   "version": "3.9.12"
  },
  "orig_nbformat": 4,
  "vscode": {
   "interpreter": {
    "hash": "610a6f344c2137faf927ea819c63f6cee33a2c04455044b28099f39fe9722347"
   }
  }
 },
 "nbformat": 4,
 "nbformat_minor": 2
}
