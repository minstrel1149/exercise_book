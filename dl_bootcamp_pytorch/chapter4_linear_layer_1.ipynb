{
 "cells": [
  {
   "cell_type": "code",
   "execution_count": 1,
   "metadata": {},
   "outputs": [],
   "source": [
    "import torch\n",
    "import numpy as np"
   ]
  },
  {
   "cell_type": "code",
   "execution_count": 3,
   "metadata": {},
   "outputs": [
    {
     "data": {
      "text/plain": [
       "(tensor([[1., 2.],\n",
       "         [3., 4.],\n",
       "         [5., 6.]]),\n",
       " tensor([[1., 2.],\n",
       "         [1., 2.]]))"
      ]
     },
     "execution_count": 3,
     "metadata": {},
     "output_type": "execute_result"
    }
   ],
   "source": [
    "x = torch.FloatTensor([i + 1 for i in range(6)]).reshape(3, -1)\n",
    "y = torch.FloatTensor([1, 2]).expand(2, 2)\n",
    "x, y"
   ]
  },
  {
   "cell_type": "code",
   "execution_count": 4,
   "metadata": {},
   "outputs": [
    {
     "data": {
      "text/plain": [
       "tensor([[ 3.,  6.],\n",
       "        [ 7., 14.],\n",
       "        [11., 22.]])"
      ]
     },
     "execution_count": 4,
     "metadata": {},
     "output_type": "execute_result"
    }
   ],
   "source": [
    "x.matmul(y)"
   ]
  },
  {
   "cell_type": "code",
   "execution_count": 7,
   "metadata": {},
   "outputs": [
    {
     "data": {
      "text/plain": [
       "(tensor([[[11, 15],\n",
       "          [ 5, 14],\n",
       "          [ 2,  3]],\n",
       " \n",
       "         [[17,  6],\n",
       "          [ 9,  8],\n",
       "          [10,  4]],\n",
       " \n",
       "         [[16,  0],\n",
       "          [ 7, 13],\n",
       "          [12,  1]]]),\n",
       " tensor([[[ 1,  9, 12],\n",
       "          [10,  8,  5]],\n",
       " \n",
       "         [[ 2, 17, 14],\n",
       "          [13,  3,  0]],\n",
       " \n",
       "         [[15,  6,  7],\n",
       "          [16,  4, 11]]]))"
      ]
     },
     "execution_count": 7,
     "metadata": {},
     "output_type": "execute_result"
    }
   ],
   "source": [
    "x = torch.randperm(3 * 3 * 2).reshape(3, 3, 2)\n",
    "y = torch.randperm(3 * 2 * 3).reshape(3, 2, 3)\n",
    "x, y"
   ]
  },
  {
   "cell_type": "code",
   "execution_count": 8,
   "metadata": {},
   "outputs": [
    {
     "data": {
      "text/plain": [
       "tensor([[[161, 219, 207],\n",
       "         [145, 157, 130],\n",
       "         [ 32,  42,  39]],\n",
       "\n",
       "        [[112, 307, 238],\n",
       "         [122, 177, 126],\n",
       "         [ 72, 182, 140]],\n",
       "\n",
       "        [[240,  96, 112],\n",
       "         [313,  94, 192],\n",
       "         [196,  76,  95]]])"
      ]
     },
     "execution_count": 8,
     "metadata": {},
     "output_type": "execute_result"
    }
   ],
   "source": [
    "x.bmm(y)"
   ]
  },
  {
   "cell_type": "code",
   "execution_count": null,
   "metadata": {},
   "outputs": [],
   "source": []
  }
 ],
 "metadata": {
  "kernelspec": {
   "display_name": "base",
   "language": "python",
   "name": "python3"
  },
  "language_info": {
   "codemirror_mode": {
    "name": "ipython",
    "version": 3
   },
   "file_extension": ".py",
   "mimetype": "text/x-python",
   "name": "python",
   "nbconvert_exporter": "python",
   "pygments_lexer": "ipython3",
   "version": "3.9.12"
  },
  "orig_nbformat": 4
 },
 "nbformat": 4,
 "nbformat_minor": 2
}
